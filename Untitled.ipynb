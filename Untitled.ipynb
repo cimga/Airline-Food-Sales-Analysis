{
 "cells": [
  {
   "cell_type": "code",
   "execution_count": null,
   "metadata": {},
   "outputs": [],
   "source": [
    "t=df.groupby(by=df.columns[0]).mean()\n",
    "t=t[['Cheese Platters Sold']]\n",
    "\n",
    "plt.figure(figsize=(15,7))\n",
    "\n",
    "x=t.index\n",
    "y=t['Cheese Platters Sold']\n",
    "plt.scatter(x,y)\n",
    "plt.title('Average Cheese Platters Sold by '+df.columns[0])\n",
    "plt.xlabel(df.columns[0])\n",
    "plt.ylabel('Cheese Platters Sold')\n",
    "\n",
    "x1=t.index[:8]\n",
    "y1=t['Cheese Platters Sold'][:8]\n",
    "z = np.polyfit(x1, y1, 1)\n",
    "p = np.poly1d(z)\n",
    "plt.plot(x1,p(x1),\"r--\")\n",
    "\n",
    "x2=t.index[8:20]\n",
    "y2=t['Cheese Platters Sold'][8:20]\n",
    "z = np.polyfit(x2, y2, 1)\n",
    "p = np.poly1d(z)\n",
    "plt.plot(x2,p(x2),\"r--\")\n",
    "\n",
    "x3=t.index[20:]\n",
    "y3=t['Cheese Platters Sold'][20:]\n",
    "z = np.polyfit(x3, y3, 1)\n",
    "p = np.poly1d(z)\n",
    "plt.plot(x3,p(x3),\"r--\")\n",
    "\n",
    "plt.show()"
   ]
  },
  {
   "cell_type": "code",
   "execution_count": null,
   "metadata": {},
   "outputs": [],
   "source": [
    "t=df.groupby(by=df.columns[2]).mean()\n",
    "t=t[['Cheese Platters Sold']]\n",
    "title='Average Cheese Platters Sold for '+df.columns[2]\n",
    "# t.plot(kind='bar', figsize=(15,7),title=title,grid=True)\n",
    "sns.countplot(x=t.index, data=t,order=['Monday','Tuesday','Wednesday','Thursday','Friday','Saturday','Sunday'], color='b')\n",
    "plt.show()"
   ]
  }
 ],
 "metadata": {
  "kernelspec": {
   "display_name": "Python 3",
   "language": "python",
   "name": "python3"
  },
  "language_info": {
   "codemirror_mode": {
    "name": "ipython",
    "version": 3
   },
   "file_extension": ".py",
   "mimetype": "text/x-python",
   "name": "python",
   "nbconvert_exporter": "python",
   "pygments_lexer": "ipython3",
   "version": "3.7.4"
  }
 },
 "nbformat": 4,
 "nbformat_minor": 2
}
