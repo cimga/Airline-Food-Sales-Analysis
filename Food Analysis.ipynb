{
 "cells": [
  {
   "cell_type": "code",
   "execution_count": 8,
   "metadata": {},
   "outputs": [],
   "source": [
    "import pandas as pd\n",
    "import numpy as np\n",
    "import seaborn as sns\n",
    "import matplotlib.pyplot as plt\n",
    "\n",
    "import statistics\n",
    "from scipy import stats\n",
    "\n",
    "# Disable warnings!\n",
    "import warnings\n",
    "warnings.filterwarnings(\"ignore\")"
   ]
  },
  {
   "cell_type": "code",
   "execution_count": 10,
   "metadata": {},
   "outputs": [
    {
     "data": {
      "text/plain": [
       "(5000, 6)"
      ]
     },
     "execution_count": 10,
     "metadata": {},
     "output_type": "execute_result"
    }
   ],
   "source": [
    "df=pd.read_csv('/Users/ee/Documents/GITHUB/Project_12 Alaska Airlines/Cheeseplate Demand Data.csv')\n",
    "df.shape"
   ]
  },
  {
   "cell_type": "code",
   "execution_count": 11,
   "metadata": {},
   "outputs": [
    {
     "data": {
      "text/plain": [
       "0"
      ]
     },
     "execution_count": 11,
     "metadata": {},
     "output_type": "execute_result"
    }
   ],
   "source": [
    "df.isnull().sum().sum() # no any null cell in the data!"
   ]
  },
  {
   "cell_type": "code",
   "execution_count": 12,
   "metadata": {},
   "outputs": [
    {
     "data": {
      "text/html": [
       "<div>\n",
       "<style scoped>\n",
       "    .dataframe tbody tr th:only-of-type {\n",
       "        vertical-align: middle;\n",
       "    }\n",
       "\n",
       "    .dataframe tbody tr th {\n",
       "        vertical-align: top;\n",
       "    }\n",
       "\n",
       "    .dataframe thead th {\n",
       "        text-align: right;\n",
       "    }\n",
       "</style>\n",
       "<table border=\"1\" class=\"dataframe\">\n",
       "  <thead>\n",
       "    <tr style=\"text-align: right;\">\n",
       "      <th></th>\n",
       "      <th>Dptr Hour</th>\n",
       "      <th>Length of Flight (Hrs)</th>\n",
       "      <th>Day of Week</th>\n",
       "      <th>Passengers Boarded</th>\n",
       "      <th>Stock Out Occurred</th>\n",
       "      <th>Cheese Platters Sold</th>\n",
       "    </tr>\n",
       "  </thead>\n",
       "  <tbody>\n",
       "    <tr>\n",
       "      <td>0</td>\n",
       "      <td>8</td>\n",
       "      <td>1</td>\n",
       "      <td>Tuesday</td>\n",
       "      <td>144</td>\n",
       "      <td>0</td>\n",
       "      <td>18</td>\n",
       "    </tr>\n",
       "    <tr>\n",
       "      <td>1</td>\n",
       "      <td>5</td>\n",
       "      <td>3</td>\n",
       "      <td>Monday</td>\n",
       "      <td>152</td>\n",
       "      <td>0</td>\n",
       "      <td>15</td>\n",
       "    </tr>\n",
       "    <tr>\n",
       "      <td>2</td>\n",
       "      <td>4</td>\n",
       "      <td>2</td>\n",
       "      <td>Thursday</td>\n",
       "      <td>150</td>\n",
       "      <td>0</td>\n",
       "      <td>16</td>\n",
       "    </tr>\n",
       "    <tr>\n",
       "      <td>3</td>\n",
       "      <td>6</td>\n",
       "      <td>2</td>\n",
       "      <td>Thursday</td>\n",
       "      <td>131</td>\n",
       "      <td>0</td>\n",
       "      <td>13</td>\n",
       "    </tr>\n",
       "    <tr>\n",
       "      <td>4</td>\n",
       "      <td>5</td>\n",
       "      <td>6</td>\n",
       "      <td>Thursday</td>\n",
       "      <td>164</td>\n",
       "      <td>0</td>\n",
       "      <td>18</td>\n",
       "    </tr>\n",
       "  </tbody>\n",
       "</table>\n",
       "</div>"
      ],
      "text/plain": [
       "   Dptr Hour  Length of Flight (Hrs) Day of Week  Passengers Boarded  \\\n",
       "0          8                       1     Tuesday                 144   \n",
       "1          5                       3      Monday                 152   \n",
       "2          4                       2    Thursday                 150   \n",
       "3          6                       2    Thursday                 131   \n",
       "4          5                       6    Thursday                 164   \n",
       "\n",
       "   Stock Out Occurred  Cheese Platters Sold  \n",
       "0                   0                    18  \n",
       "1                   0                    15  \n",
       "2                   0                    16  \n",
       "3                   0                    13  \n",
       "4                   0                    18  "
      ]
     },
     "execution_count": 12,
     "metadata": {},
     "output_type": "execute_result"
    }
   ],
   "source": [
    "df.head()"
   ]
  },
  {
   "cell_type": "code",
   "execution_count": 13,
   "metadata": {},
   "outputs": [
    {
     "data": {
      "text/plain": [
       "(5000, 6)"
      ]
     },
     "execution_count": 13,
     "metadata": {},
     "output_type": "execute_result"
    }
   ],
   "source": [
    "#Converting day in number to order easily on the graphs\n",
    "d={'Monday':1,'Tuesday':2,'Wednesday':3,'Thursday':4,'Friday':5,'Saturday':6,'Sunday':7}\n",
    "\n",
    "df['Day of Week']=df['Day of Week'].map(d)\n",
    "df.shape"
   ]
  },
  {
   "cell_type": "code",
   "execution_count": 14,
   "metadata": {},
   "outputs": [
    {
     "data": {
      "text/html": [
       "<div>\n",
       "<style scoped>\n",
       "    .dataframe tbody tr th:only-of-type {\n",
       "        vertical-align: middle;\n",
       "    }\n",
       "\n",
       "    .dataframe tbody tr th {\n",
       "        vertical-align: top;\n",
       "    }\n",
       "\n",
       "    .dataframe thead th {\n",
       "        text-align: right;\n",
       "    }\n",
       "</style>\n",
       "<table border=\"1\" class=\"dataframe\">\n",
       "  <thead>\n",
       "    <tr style=\"text-align: right;\">\n",
       "      <th></th>\n",
       "      <th>Dptr Hour</th>\n",
       "      <th>Length of Flight (Hrs)</th>\n",
       "      <th>Day of Week</th>\n",
       "      <th>Passengers Boarded</th>\n",
       "      <th>Stock Out Occurred</th>\n",
       "      <th>Cheese Platters Sold</th>\n",
       "    </tr>\n",
       "  </thead>\n",
       "  <tbody>\n",
       "    <tr>\n",
       "      <td>0</td>\n",
       "      <td>8</td>\n",
       "      <td>1</td>\n",
       "      <td>2</td>\n",
       "      <td>144</td>\n",
       "      <td>0</td>\n",
       "      <td>18</td>\n",
       "    </tr>\n",
       "    <tr>\n",
       "      <td>1</td>\n",
       "      <td>5</td>\n",
       "      <td>3</td>\n",
       "      <td>1</td>\n",
       "      <td>152</td>\n",
       "      <td>0</td>\n",
       "      <td>15</td>\n",
       "    </tr>\n",
       "    <tr>\n",
       "      <td>2</td>\n",
       "      <td>4</td>\n",
       "      <td>2</td>\n",
       "      <td>4</td>\n",
       "      <td>150</td>\n",
       "      <td>0</td>\n",
       "      <td>16</td>\n",
       "    </tr>\n",
       "    <tr>\n",
       "      <td>3</td>\n",
       "      <td>6</td>\n",
       "      <td>2</td>\n",
       "      <td>4</td>\n",
       "      <td>131</td>\n",
       "      <td>0</td>\n",
       "      <td>13</td>\n",
       "    </tr>\n",
       "    <tr>\n",
       "      <td>4</td>\n",
       "      <td>5</td>\n",
       "      <td>6</td>\n",
       "      <td>4</td>\n",
       "      <td>164</td>\n",
       "      <td>0</td>\n",
       "      <td>18</td>\n",
       "    </tr>\n",
       "  </tbody>\n",
       "</table>\n",
       "</div>"
      ],
      "text/plain": [
       "   Dptr Hour  Length of Flight (Hrs)  Day of Week  Passengers Boarded  \\\n",
       "0          8                       1            2                 144   \n",
       "1          5                       3            1                 152   \n",
       "2          4                       2            4                 150   \n",
       "3          6                       2            4                 131   \n",
       "4          5                       6            4                 164   \n",
       "\n",
       "   Stock Out Occurred  Cheese Platters Sold  \n",
       "0                   0                    18  \n",
       "1                   0                    15  \n",
       "2                   0                    16  \n",
       "3                   0                    13  \n",
       "4                   0                    18  "
      ]
     },
     "execution_count": 14,
     "metadata": {},
     "output_type": "execute_result"
    }
   ],
   "source": [
    "df.head()"
   ]
  },
  {
   "cell_type": "markdown",
   "metadata": {},
   "source": [
    " # 1. INVESTIGATE THE DATA"
   ]
  },
  {
   "cell_type": "markdown",
   "metadata": {},
   "source": [
    "## 1A. Relation Between Variables and Number of Cheese Platters Sold"
   ]
  },
  {
   "cell_type": "code",
   "execution_count": 15,
   "metadata": {},
   "outputs": [],
   "source": [
    "# Set the font dictionaries (for plot title and axis titles)\n",
    "title_font = {'fontname':'Arial', 'size':'15', 'color':'black', 'weight':'bold',\n",
    "              'verticalalignment':'bottom'} # Bottom vertical alignment for more space\n",
    "axis_font = {'fontname':'Arial', 'size':'11', 'weight':'bold'}\n",
    "\n",
    "def relation_s(a):\n",
    "    t=df.groupby(by=df.columns[a]).mean()\n",
    "    t=t[['Cheese Platters Sold']]\n",
    "\n",
    "    plt.figure(figsize=(15,7))\n",
    "    \n",
    "    if df.columns[a]!='Dptr Hour':\n",
    "        plt.scatter(x=t.index, y=t['Cheese Platters Sold'])\n",
    "        plt.title('Average Cheese Platters Sold by '+df.columns[a],**title_font)\n",
    "        plt.xlabel(df.columns[a],**axis_font, labelpad=10)\n",
    "        plt.ylabel('Cheese Platters Sold',**axis_font)\n",
    "        plt.show()\n",
    "    else: # this section works only for \"Dptr Hour\"\n",
    "        x=t.index\n",
    "        y=t['Cheese Platters Sold']\n",
    "        plt.scatter(x,y)\n",
    "        plt.title('Average Cheese Platters Sold by '+df.columns[0],**title_font)\n",
    "        plt.xlabel(df.columns[0],**axis_font, labelpad=10)\n",
    "        plt.ylabel('Cheese Platters Sold',**axis_font)\n",
    "\n",
    "        x1=t.index[:8]\n",
    "        y1=t['Cheese Platters Sold'][:8]\n",
    "        z = np.polyfit(x1, y1, 1)\n",
    "        p = np.poly1d(z)\n",
    "        plt.plot(x1,p(x1),\"r--\")\n",
    "\n",
    "        x2=t.index[8:20]\n",
    "        y2=t['Cheese Platters Sold'][8:20]\n",
    "        z = np.polyfit(x2, y2, 1)\n",
    "        p = np.poly1d(z)\n",
    "        plt.plot(x2,p(x2),\"r--\")\n",
    "\n",
    "        x3=t.index[20:]\n",
    "        y3=t['Cheese Platters Sold'][20:]\n",
    "        z = np.polyfit(x3, y3, 1)\n",
    "        p = np.poly1d(z)\n",
    "        plt.plot(x3,p(x3),\"r--\")\n",
    "\n",
    "        plt.show()"
   ]
  },
  {
   "cell_type": "code",
   "execution_count": 16,
   "metadata": {},
   "outputs": [],
   "source": [
    "# Bar chart graph function\n",
    "def relation_b(a):\n",
    "    t=df.groupby(by=df.columns[a]).mean()\n",
    "    t=t[['Cheese Platters Sold']]\n",
    "    t.plot(kind='bar', figsize=(15,7)).grid(axis='y')\n",
    "    plt.title('Average Cheese Platters Sold by '+df.columns[a],**title_font)\n",
    "    plt.xlabel(df.columns[a],**axis_font, labelpad=10)\n",
    "    plt.ylabel('Cheese Platters Sold',**axis_font)\n",
    "    plt.legend('')\n",
    "    plt.show()"
   ]
  },
  {
   "cell_type": "code",
   "execution_count": 17,
   "metadata": {
    "scrolled": false
   },
   "outputs": [
    {
     "data": {
      "image/png": "[encoded data removed]",
      "text/plain": [
       "<Figure size 1080x504 with 1 Axes>"
      ]
     },
     "metadata": {
      "needs_background": "light"
     },
     "output_type": "display_data"
    },
    {
     "name": "stdout",
     "output_type": "stream",
     "text": [
      "None\n"
     ]
    },
    {
     "data": {
      "image/png": "[encoded data removed]",
      "text/plain": [
       "<Figure size 1080x504 with 1 Axes>"
      ]
     },
     "metadata": {
      "needs_background": "light"
     },
     "output_type": "display_data"
    },
    {
     "name": "stdout",
     "output_type": "stream",
     "text": [
      "None\n"
     ]
    },
    {
     "data": {
      "image/png": "[encoded data removed]",
      "text/plain": [
       "<Figure size 1080x504 with 1 Axes>"
      ]
     },
     "metadata": {
      "needs_background": "light"
     },
     "output_type": "display_data"
    },
    {
     "name": "stdout",
     "output_type": "stream",
     "text": [
      "None\n"
     ]
    },
    {
     "data": {
      "image/png": "[encoded data removed]",
      "text/plain": [
       "<Figure size 1080x504 with 1 Axes>"
      ]
     },
     "metadata": {
      "needs_background": "light"
     },
     "output_type": "display_data"
    },
    {
     "name": "stdout",
     "output_type": "stream",
     "text": [
      "None\n"
     ]
    },
    {
     "data": {
      "image/png": "[encoded data removed]",
      "text/plain": [
       "<Figure size 1080x504 with 1 Axes>"
      ]
     },
     "metadata": {
      "needs_background": "light"
     },
     "output_type": "display_data"
    },
    {
     "name": "stdout",
     "output_type": "stream",
     "text": [
      "None\n"
     ]
    }
   ],
   "source": [
    "for i in range(5):\n",
    "    if i==4:\n",
    "        print(relation_b(i))\n",
    "    else:\n",
    "        print(relation_s(i))"
   ]
  },
  {
   "cell_type": "code",
   "execution_count": 18,
   "metadata": {},
   "outputs": [
    {
     "data": {
      "text/html": [
       "<div>\n",
       "<style scoped>\n",
       "    .dataframe tbody tr th:only-of-type {\n",
       "        vertical-align: middle;\n",
       "    }\n",
       "\n",
       "    .dataframe tbody tr th {\n",
       "        vertical-align: top;\n",
       "    }\n",
       "\n",
       "    .dataframe thead th {\n",
       "        text-align: right;\n",
       "    }\n",
       "</style>\n",
       "<table border=\"1\" class=\"dataframe\">\n",
       "  <thead>\n",
       "    <tr style=\"text-align: right;\">\n",
       "      <th></th>\n",
       "      <th>Non Stock Out Cheese Platters Sold</th>\n",
       "    </tr>\n",
       "  </thead>\n",
       "  <tbody>\n",
       "    <tr>\n",
       "      <td>count</td>\n",
       "      <td>4137.0</td>\n",
       "    </tr>\n",
       "    <tr>\n",
       "      <td>mean</td>\n",
       "      <td>15.0</td>\n",
       "    </tr>\n",
       "    <tr>\n",
       "      <td>std</td>\n",
       "      <td>3.0</td>\n",
       "    </tr>\n",
       "    <tr>\n",
       "      <td>min</td>\n",
       "      <td>5.0</td>\n",
       "    </tr>\n",
       "    <tr>\n",
       "      <td>5%</td>\n",
       "      <td>11.0</td>\n",
       "    </tr>\n",
       "    <tr>\n",
       "      <td>50%</td>\n",
       "      <td>15.0</td>\n",
       "    </tr>\n",
       "    <tr>\n",
       "      <td>95%</td>\n",
       "      <td>19.0</td>\n",
       "    </tr>\n",
       "    <tr>\n",
       "      <td>max</td>\n",
       "      <td>19.0</td>\n",
       "    </tr>\n",
       "  </tbody>\n",
       "</table>\n",
       "</div>"
      ],
      "text/plain": [
       "       Non Stock Out Cheese Platters Sold\n",
       "count                              4137.0\n",
       "mean                                 15.0\n",
       "std                                   3.0\n",
       "min                                   5.0\n",
       "5%                                   11.0\n",
       "50%                                  15.0\n",
       "95%                                  19.0\n",
       "max                                  19.0"
      ]
     },
     "execution_count": 18,
     "metadata": {},
     "output_type": "execute_result"
    }
   ],
   "source": [
    "# Confidence Interval of Non Stock Out Cheese Platters\n",
    "nso=df[df['Stock Out Occurred']==0][['Cheese Platters Sold']]\n",
    "nso=nso.describe(percentiles=[.05, .5, .95]) \n",
    "nso.rename(columns={'Cheese Platters Sold':'Non Stock Out Cheese Platters Sold'}).round(decimals=0)"
   ]
  },
  {
   "cell_type": "markdown",
   "metadata": {},
   "source": [
    "### Graph of Cheese Platters Sold by Dept Hour & Week Days"
   ]
  },
  {
   "cell_type": "code",
   "execution_count": 19,
   "metadata": {},
   "outputs": [
    {
     "data": {
      "text/plain": [
       "(5000, 7)"
      ]
     },
     "execution_count": 19,
     "metadata": {},
     "output_type": "execute_result"
    }
   ],
   "source": [
    "df2=df\n",
    "# classify the day of week as weekday and weekend\n",
    "d={1:'Weekday',2:'Weekday',3:'Weekday',4:'Weekday',5:'Weekday',6:'Weekend',7:'Weekend'}\n",
    "\n",
    "df2['Week Part']=df2['Day of Week'].map(d)\n",
    "df2.shape"
   ]
  },
  {
   "cell_type": "code",
   "execution_count": 20,
   "metadata": {},
   "outputs": [
    {
     "data": {
      "text/html": [
       "<div>\n",
       "<style scoped>\n",
       "    .dataframe tbody tr th:only-of-type {\n",
       "        vertical-align: middle;\n",
       "    }\n",
       "\n",
       "    .dataframe tbody tr th {\n",
       "        vertical-align: top;\n",
       "    }\n",
       "\n",
       "    .dataframe thead th {\n",
       "        text-align: right;\n",
       "    }\n",
       "</style>\n",
       "<table border=\"1\" class=\"dataframe\">\n",
       "  <thead>\n",
       "    <tr style=\"text-align: right;\">\n",
       "      <th></th>\n",
       "      <th>Dptr Hour</th>\n",
       "      <th>Length of Flight (Hrs)</th>\n",
       "      <th>Day of Week</th>\n",
       "      <th>Passengers Boarded</th>\n",
       "      <th>Stock Out Occurred</th>\n",
       "      <th>Cheese Platters Sold</th>\n",
       "      <th>Week Part</th>\n",
       "    </tr>\n",
       "  </thead>\n",
       "  <tbody>\n",
       "    <tr>\n",
       "      <td>0</td>\n",
       "      <td>8</td>\n",
       "      <td>1</td>\n",
       "      <td>2</td>\n",
       "      <td>144</td>\n",
       "      <td>0</td>\n",
       "      <td>18</td>\n",
       "      <td>Weekday</td>\n",
       "    </tr>\n",
       "    <tr>\n",
       "      <td>1</td>\n",
       "      <td>5</td>\n",
       "      <td>3</td>\n",
       "      <td>1</td>\n",
       "      <td>152</td>\n",
       "      <td>0</td>\n",
       "      <td>15</td>\n",
       "      <td>Weekday</td>\n",
       "    </tr>\n",
       "    <tr>\n",
       "      <td>2</td>\n",
       "      <td>4</td>\n",
       "      <td>2</td>\n",
       "      <td>4</td>\n",
       "      <td>150</td>\n",
       "      <td>0</td>\n",
       "      <td>16</td>\n",
       "      <td>Weekday</td>\n",
       "    </tr>\n",
       "    <tr>\n",
       "      <td>3</td>\n",
       "      <td>6</td>\n",
       "      <td>2</td>\n",
       "      <td>4</td>\n",
       "      <td>131</td>\n",
       "      <td>0</td>\n",
       "      <td>13</td>\n",
       "      <td>Weekday</td>\n",
       "    </tr>\n",
       "    <tr>\n",
       "      <td>4</td>\n",
       "      <td>5</td>\n",
       "      <td>6</td>\n",
       "      <td>4</td>\n",
       "      <td>164</td>\n",
       "      <td>0</td>\n",
       "      <td>18</td>\n",
       "      <td>Weekday</td>\n",
       "    </tr>\n",
       "  </tbody>\n",
       "</table>\n",
       "</div>"
      ],
      "text/plain": [
       "   Dptr Hour  Length of Flight (Hrs)  Day of Week  Passengers Boarded  \\\n",
       "0          8                       1            2                 144   \n",
       "1          5                       3            1                 152   \n",
       "2          4                       2            4                 150   \n",
       "3          6                       2            4                 131   \n",
       "4          5                       6            4                 164   \n",
       "\n",
       "   Stock Out Occurred  Cheese Platters Sold Week Part  \n",
       "0                   0                    18   Weekday  \n",
       "1                   0                    15   Weekday  \n",
       "2                   0                    16   Weekday  \n",
       "3                   0                    13   Weekday  \n",
       "4                   0                    18   Weekday  "
      ]
     },
     "execution_count": 20,
     "metadata": {},
     "output_type": "execute_result"
    }
   ],
   "source": [
    "df2.head()"
   ]
  },
  {
   "cell_type": "code",
   "execution_count": 21,
   "metadata": {},
   "outputs": [
    {
     "data": {
      "image/png": "[encoded data removed]",
      "text/plain": [
       "<Figure size 1080x504 with 1 Axes>"
      ]
     },
     "metadata": {
      "needs_background": "light"
     },
     "output_type": "display_data"
    }
   ],
   "source": [
    "p=df2.groupby(['Week Part','Dptr Hour']).mean()[['Cheese Platters Sold']].unstack().T\n",
    "p.index=p.index.droplevel(level=0)\n",
    "x=p.index\n",
    "y1=p['Weekday']\n",
    "y2=p['Weekend']\n",
    "\n",
    "plt.figure(figsize=(15,7))\n",
    "plt.scatter(x,y1,color='red', label='Weekday')\n",
    "plt.scatter(x,y2,color='blue', label='Weekend')\n",
    "plt.title('Average Cheese Platters Sold by Dptr Hour & Week Status',**title_font)\n",
    "plt.xlabel('Dptr Hour',**axis_font, labelpad=10)\n",
    "plt.ylabel('Cheese Platters Sold',**axis_font)\n",
    "plt.legend()\n",
    "plt.show()"
   ]
  },
  {
   "cell_type": "markdown",
   "metadata": {},
   "source": [
    "### Statistics of the Cheese Platters Sold"
   ]
  },
  {
   "cell_type": "code",
   "execution_count": 199,
   "metadata": {},
   "outputs": [],
   "source": [
    "def percentile_right(df,column,alpha):\n",
    "    upper=np.percentile(df[column], alpha*100)\n",
    "    return upper"
   ]
  },
  {
   "cell_type": "code",
   "execution_count": 22,
   "metadata": {},
   "outputs": [
    {
     "data": {
      "text/html": [
       "<div>\n",
       "<style scoped>\n",
       "    .dataframe tbody tr th:only-of-type {\n",
       "        vertical-align: middle;\n",
       "    }\n",
       "\n",
       "    .dataframe tbody tr th {\n",
       "        vertical-align: top;\n",
       "    }\n",
       "\n",
       "    .dataframe thead th {\n",
       "        text-align: right;\n",
       "    }\n",
       "</style>\n",
       "<table border=\"1\" class=\"dataframe\">\n",
       "  <thead>\n",
       "    <tr style=\"text-align: right;\">\n",
       "      <th></th>\n",
       "      <th>Cheese Platters Sold</th>\n",
       "    </tr>\n",
       "  </thead>\n",
       "  <tbody>\n",
       "    <tr>\n",
       "      <td>count</td>\n",
       "      <td>5000.0</td>\n",
       "    </tr>\n",
       "    <tr>\n",
       "      <td>mean</td>\n",
       "      <td>15.8</td>\n",
       "    </tr>\n",
       "    <tr>\n",
       "      <td>std</td>\n",
       "      <td>3.0</td>\n",
       "    </tr>\n",
       "    <tr>\n",
       "      <td>min</td>\n",
       "      <td>5.0</td>\n",
       "    </tr>\n",
       "    <tr>\n",
       "      <td>5%</td>\n",
       "      <td>11.0</td>\n",
       "    </tr>\n",
       "    <tr>\n",
       "      <td>50%</td>\n",
       "      <td>16.0</td>\n",
       "    </tr>\n",
       "    <tr>\n",
       "      <td>95%</td>\n",
       "      <td>20.0</td>\n",
       "    </tr>\n",
       "    <tr>\n",
       "      <td>max</td>\n",
       "      <td>20.0</td>\n",
       "    </tr>\n",
       "  </tbody>\n",
       "</table>\n",
       "</div>"
      ],
      "text/plain": [
       "       Cheese Platters Sold\n",
       "count                5000.0\n",
       "mean                   15.8\n",
       "std                     3.0\n",
       "min                     5.0\n",
       "5%                     11.0\n",
       "50%                    16.0\n",
       "95%                    20.0\n",
       "max                    20.0"
      ]
     },
     "execution_count": 22,
     "metadata": {},
     "output_type": "execute_result"
    }
   ],
   "source": [
    "# %95 confidence level values\n",
    "nso=df2[['Cheese Platters Sold']].describe(percentiles=[.05, .5, .95]) \n",
    "nso.round(decimals=1)"
   ]
  },
  {
   "cell_type": "code",
   "execution_count": 23,
   "metadata": {
    "scrolled": true
   },
   "outputs": [
    {
     "data": {
      "text/html": [
       "<div>\n",
       "<style scoped>\n",
       "    .dataframe tbody tr th:only-of-type {\n",
       "        vertical-align: middle;\n",
       "    }\n",
       "\n",
       "    .dataframe tbody tr th {\n",
       "        vertical-align: top;\n",
       "    }\n",
       "\n",
       "    .dataframe thead th {\n",
       "        text-align: right;\n",
       "    }\n",
       "</style>\n",
       "<table border=\"1\" class=\"dataframe\">\n",
       "  <thead>\n",
       "    <tr style=\"text-align: right;\">\n",
       "      <th></th>\n",
       "      <th>Cheese Platters Sold</th>\n",
       "    </tr>\n",
       "  </thead>\n",
       "  <tbody>\n",
       "    <tr>\n",
       "      <td>count</td>\n",
       "      <td>5000.0</td>\n",
       "    </tr>\n",
       "    <tr>\n",
       "      <td>mean</td>\n",
       "      <td>15.8</td>\n",
       "    </tr>\n",
       "    <tr>\n",
       "      <td>std</td>\n",
       "      <td>3.0</td>\n",
       "    </tr>\n",
       "    <tr>\n",
       "      <td>min</td>\n",
       "      <td>5.0</td>\n",
       "    </tr>\n",
       "    <tr>\n",
       "      <td>18%</td>\n",
       "      <td>13.0</td>\n",
       "    </tr>\n",
       "    <tr>\n",
       "      <td>50%</td>\n",
       "      <td>16.0</td>\n",
       "    </tr>\n",
       "    <tr>\n",
       "      <td>82%</td>\n",
       "      <td>19.0</td>\n",
       "    </tr>\n",
       "    <tr>\n",
       "      <td>max</td>\n",
       "      <td>20.0</td>\n",
       "    </tr>\n",
       "  </tbody>\n",
       "</table>\n",
       "</div>"
      ],
      "text/plain": [
       "       Cheese Platters Sold\n",
       "count                5000.0\n",
       "mean                   15.8\n",
       "std                     3.0\n",
       "min                     5.0\n",
       "18%                    13.0\n",
       "50%                    16.0\n",
       "82%                    19.0\n",
       "max                    20.0"
      ]
     },
     "execution_count": 23,
     "metadata": {},
     "output_type": "execute_result"
    }
   ],
   "source": [
    "nso=df2[['Cheese Platters Sold']].describe(percentiles=[.18, .5, .82]) \n",
    "nso.round(decimals=1)"
   ]
  },
  {
   "cell_type": "markdown",
   "metadata": {},
   "source": [
    "## 1B. Distribution of Variables"
   ]
  },
  {
   "cell_type": "code",
   "execution_count": 24,
   "metadata": {},
   "outputs": [],
   "source": [
    "def dist_graph(a,b,c):\n",
    "    if b=='y':\n",
    "        t=df.groupby(by=df.columns[a]).count()[:c]\n",
    "    else:\n",
    "        t=df.groupby(by=df.columns[a]).count()\n",
    "    \n",
    "    t=t[[t.columns[0]]]\n",
    "    title='Number of Flights by '+df.columns[a]\n",
    "    if df.columns[a]=='Passengers Boarded':\n",
    "        graph=t.plot(kind='bar', figsize=(13,6)).grid(axis='y') \n",
    "        plt.title(title,**title_font)\n",
    "        plt.legend('')\n",
    "    else:\n",
    "        t.plot(kind='bar', figsize=(13,6)).grid(axis='y') \n",
    "        plt.title(title,**title_font)\n",
    "    plt.ylabel('Number of Flights',**axis_font)\n",
    "    plt.xlabel(df.columns[a],**axis_font, labelpad=10)\n",
    "    plt.legend('')\n",
    "#     plt.show()"
   ]
  },
  {
   "cell_type": "code",
   "execution_count": 25,
   "metadata": {
    "scrolled": false
   },
   "outputs": [
    {
     "data": {
      "image/png": "[encoded data removed]",
      "text/plain": [
       "<Figure size 936x432 with 1 Axes>"
      ]
     },
     "metadata": {
      "needs_background": "light"
     },
     "output_type": "display_data"
    },
    {
     "data": {
      "image/png": "[encoded data removed]",
      "text/plain": [
       "<Figure size 936x432 with 1 Axes>"
      ]
     },
     "metadata": {
      "needs_background": "light"
     },
     "output_type": "display_data"
    },
    {
     "data": {
      "image/png": "[encoded data removed]",
      "text/plain": [
       "<Figure size 936x432 with 1 Axes>"
      ]
     },
     "metadata": {
      "needs_background": "light"
     },
     "output_type": "display_data"
    },
    {
     "data": {
      "image/png": "[encoded data removed]",
      "text/plain": [
       "<Figure size 936x432 with 1 Axes>"
      ]
     },
     "metadata": {
      "needs_background": "light"
     },
     "output_type": "display_data"
    },
    {
     "data": {
      "image/png": "[encoded data removed]",
      "text/plain": [
       "<Figure size 936x432 with 1 Axes>"
      ]
     },
     "metadata": {
      "needs_background": "light"
     },
     "output_type": "display_data"
    },
    {
     "data": {
      "image/png": "[encoded data removed]",
      "text/plain": [
       "<Figure size 936x432 with 1 Axes>"
      ]
     },
     "metadata": {
      "needs_background": "light"
     },
     "output_type": "display_data"
    }
   ],
   "source": [
    "for i in range(6):\n",
    "    dist_graph(i,'n',-1)"
   ]
  },
  {
   "cell_type": "code",
   "execution_count": 26,
   "metadata": {},
   "outputs": [
    {
     "data": {
      "text/html": [
       "<div>\n",
       "<style scoped>\n",
       "    .dataframe tbody tr th:only-of-type {\n",
       "        vertical-align: middle;\n",
       "    }\n",
       "\n",
       "    .dataframe tbody tr th {\n",
       "        vertical-align: top;\n",
       "    }\n",
       "\n",
       "    .dataframe thead th {\n",
       "        text-align: right;\n",
       "    }\n",
       "</style>\n",
       "<table border=\"1\" class=\"dataframe\">\n",
       "  <thead>\n",
       "    <tr style=\"text-align: right;\">\n",
       "      <th></th>\n",
       "      <th>Passengers Boarded</th>\n",
       "    </tr>\n",
       "  </thead>\n",
       "  <tbody>\n",
       "    <tr>\n",
       "      <td>count</td>\n",
       "      <td>4137.0</td>\n",
       "    </tr>\n",
       "    <tr>\n",
       "      <td>mean</td>\n",
       "      <td>134.0</td>\n",
       "    </tr>\n",
       "    <tr>\n",
       "      <td>std</td>\n",
       "      <td>21.0</td>\n",
       "    </tr>\n",
       "    <tr>\n",
       "      <td>min</td>\n",
       "      <td>49.0</td>\n",
       "    </tr>\n",
       "    <tr>\n",
       "      <td>5%</td>\n",
       "      <td>97.0</td>\n",
       "    </tr>\n",
       "    <tr>\n",
       "      <td>50%</td>\n",
       "      <td>135.0</td>\n",
       "    </tr>\n",
       "    <tr>\n",
       "      <td>95%</td>\n",
       "      <td>165.0</td>\n",
       "    </tr>\n",
       "    <tr>\n",
       "      <td>max</td>\n",
       "      <td>165.0</td>\n",
       "    </tr>\n",
       "  </tbody>\n",
       "</table>\n",
       "</div>"
      ],
      "text/plain": [
       "       Passengers Boarded\n",
       "count              4137.0\n",
       "mean                134.0\n",
       "std                  21.0\n",
       "min                  49.0\n",
       "5%                   97.0\n",
       "50%                 135.0\n",
       "95%                 165.0\n",
       "max                 165.0"
      ]
     },
     "execution_count": 26,
     "metadata": {},
     "output_type": "execute_result"
    }
   ],
   "source": [
    "# 95% Confidence Interval of Non Stock Out Passengers Boarded\n",
    "nso=df2[df2['Stock Out Occurred']==0][['Passengers Boarded']]\n",
    "nso=nso.describe(percentiles=[.05, .5, .95]) \n",
    "nso.round(decimals=0)"
   ]
  },
  {
   "cell_type": "code",
   "execution_count": 27,
   "metadata": {},
   "outputs": [
    {
     "data": {
      "text/html": [
       "<div>\n",
       "<style scoped>\n",
       "    .dataframe tbody tr th:only-of-type {\n",
       "        vertical-align: middle;\n",
       "    }\n",
       "\n",
       "    .dataframe tbody tr th {\n",
       "        vertical-align: top;\n",
       "    }\n",
       "\n",
       "    .dataframe thead th {\n",
       "        text-align: right;\n",
       "    }\n",
       "</style>\n",
       "<table border=\"1\" class=\"dataframe\">\n",
       "  <thead>\n",
       "    <tr style=\"text-align: right;\">\n",
       "      <th></th>\n",
       "      <th>Passengers Boarded</th>\n",
       "    </tr>\n",
       "  </thead>\n",
       "  <tbody>\n",
       "    <tr>\n",
       "      <td>count</td>\n",
       "      <td>5000.0</td>\n",
       "    </tr>\n",
       "    <tr>\n",
       "      <td>mean</td>\n",
       "      <td>138.0</td>\n",
       "    </tr>\n",
       "    <tr>\n",
       "      <td>std</td>\n",
       "      <td>21.0</td>\n",
       "    </tr>\n",
       "    <tr>\n",
       "      <td>min</td>\n",
       "      <td>49.0</td>\n",
       "    </tr>\n",
       "    <tr>\n",
       "      <td>5%</td>\n",
       "      <td>99.0</td>\n",
       "    </tr>\n",
       "    <tr>\n",
       "      <td>50%</td>\n",
       "      <td>140.0</td>\n",
       "    </tr>\n",
       "    <tr>\n",
       "      <td>95%</td>\n",
       "      <td>165.0</td>\n",
       "    </tr>\n",
       "    <tr>\n",
       "      <td>max</td>\n",
       "      <td>165.0</td>\n",
       "    </tr>\n",
       "  </tbody>\n",
       "</table>\n",
       "</div>"
      ],
      "text/plain": [
       "       Passengers Boarded\n",
       "count              5000.0\n",
       "mean                138.0\n",
       "std                  21.0\n",
       "min                  49.0\n",
       "5%                   99.0\n",
       "50%                 140.0\n",
       "95%                 165.0\n",
       "max                 165.0"
      ]
     },
     "execution_count": 27,
     "metadata": {},
     "output_type": "execute_result"
    }
   ],
   "source": [
    "# 95% Confidence Interval of Passengers Boarded\n",
    "nso=df2[['Passengers Boarded']]\n",
    "nso=nso.describe(percentiles=[.05, .5, .95]) \n",
    "nso.round(decimals=0)"
   ]
  },
  {
   "cell_type": "code",
   "execution_count": 28,
   "metadata": {},
   "outputs": [
    {
     "data": {
      "text/html": [
       "<div>\n",
       "<style scoped>\n",
       "    .dataframe tbody tr th:only-of-type {\n",
       "        vertical-align: middle;\n",
       "    }\n",
       "\n",
       "    .dataframe tbody tr th {\n",
       "        vertical-align: top;\n",
       "    }\n",
       "\n",
       "    .dataframe thead th {\n",
       "        text-align: right;\n",
       "    }\n",
       "</style>\n",
       "<table border=\"1\" class=\"dataframe\">\n",
       "  <thead>\n",
       "    <tr style=\"text-align: right;\">\n",
       "      <th></th>\n",
       "      <th>Passengers Boarded</th>\n",
       "    </tr>\n",
       "  </thead>\n",
       "  <tbody>\n",
       "    <tr>\n",
       "      <td>count</td>\n",
       "      <td>5000.0</td>\n",
       "    </tr>\n",
       "    <tr>\n",
       "      <td>mean</td>\n",
       "      <td>138.0</td>\n",
       "    </tr>\n",
       "    <tr>\n",
       "      <td>std</td>\n",
       "      <td>21.0</td>\n",
       "    </tr>\n",
       "    <tr>\n",
       "      <td>min</td>\n",
       "      <td>49.0</td>\n",
       "    </tr>\n",
       "    <tr>\n",
       "      <td>17%</td>\n",
       "      <td>117.0</td>\n",
       "    </tr>\n",
       "    <tr>\n",
       "      <td>50%</td>\n",
       "      <td>140.0</td>\n",
       "    </tr>\n",
       "    <tr>\n",
       "      <td>83%</td>\n",
       "      <td>164.0</td>\n",
       "    </tr>\n",
       "    <tr>\n",
       "      <td>max</td>\n",
       "      <td>165.0</td>\n",
       "    </tr>\n",
       "  </tbody>\n",
       "</table>\n",
       "</div>"
      ],
      "text/plain": [
       "       Passengers Boarded\n",
       "count              5000.0\n",
       "mean                138.0\n",
       "std                  21.0\n",
       "min                  49.0\n",
       "17%                 117.0\n",
       "50%                 140.0\n",
       "83%                 164.0\n",
       "max                 165.0"
      ]
     },
     "execution_count": 28,
     "metadata": {},
     "output_type": "execute_result"
    }
   ],
   "source": [
    "nso=df2[['Passengers Boarded']]\n",
    "nso=nso.describe(percentiles=[.17, .5, .83]) \n",
    "nso.round(decimals=0)"
   ]
  },
  {
   "cell_type": "markdown",
   "metadata": {},
   "source": [
    "# 3.ESTIMATING DEMAND"
   ]
  },
  {
   "cell_type": "markdown",
   "metadata": {},
   "source": [
    "## Model Poisson Regression "
   ]
  },
  {
   "cell_type": "code",
   "execution_count": 29,
   "metadata": {},
   "outputs": [],
   "source": [
    "import statsmodels.api as sm\n",
    "from sklearn.model_selection import train_test_split,cross_val_score, KFold\n",
    "from sklearn.preprocessing import StandardScaler"
   ]
  },
  {
   "cell_type": "code",
   "execution_count": 30,
   "metadata": {},
   "outputs": [],
   "source": [
    "# the functin which classify departure hour by three class\n",
    "time_class_dict={ 'early':[0, 7], 'midday':[8, 19],'night':[20,24]}\n",
    "\n",
    "def time_class_maker(value, time_class_dict=time_class_dict):\n",
    "        for k, v in time_class_dict.items():\n",
    "            if (value>=v[0] and value<=v[1]):\n",
    "                return(k)\n",
    "            elif value=='NaN':\n",
    "                return('unknown')# if time is null so it will return to string as 'unknown'"
   ]
  },
  {
   "cell_type": "code",
   "execution_count": 31,
   "metadata": {},
   "outputs": [
    {
     "data": {
      "text/html": [
       "<div>\n",
       "<style scoped>\n",
       "    .dataframe tbody tr th:only-of-type {\n",
       "        vertical-align: middle;\n",
       "    }\n",
       "\n",
       "    .dataframe tbody tr th {\n",
       "        vertical-align: top;\n",
       "    }\n",
       "\n",
       "    .dataframe thead th {\n",
       "        text-align: right;\n",
       "    }\n",
       "</style>\n",
       "<table border=\"1\" class=\"dataframe\">\n",
       "  <thead>\n",
       "    <tr style=\"text-align: right;\">\n",
       "      <th></th>\n",
       "      <th>Dptr Hour</th>\n",
       "      <th>Length of Flight (Hrs)</th>\n",
       "      <th>Day of Week</th>\n",
       "      <th>Passengers Boarded</th>\n",
       "      <th>Stock Out Occurred</th>\n",
       "      <th>Cheese Platters Sold</th>\n",
       "      <th>Week Part</th>\n",
       "    </tr>\n",
       "  </thead>\n",
       "  <tbody>\n",
       "    <tr>\n",
       "      <td>0</td>\n",
       "      <td>8</td>\n",
       "      <td>1</td>\n",
       "      <td>2</td>\n",
       "      <td>144</td>\n",
       "      <td>0</td>\n",
       "      <td>18</td>\n",
       "      <td>Weekday</td>\n",
       "    </tr>\n",
       "    <tr>\n",
       "      <td>1</td>\n",
       "      <td>5</td>\n",
       "      <td>3</td>\n",
       "      <td>1</td>\n",
       "      <td>152</td>\n",
       "      <td>0</td>\n",
       "      <td>15</td>\n",
       "      <td>Weekday</td>\n",
       "    </tr>\n",
       "    <tr>\n",
       "      <td>2</td>\n",
       "      <td>4</td>\n",
       "      <td>2</td>\n",
       "      <td>4</td>\n",
       "      <td>150</td>\n",
       "      <td>0</td>\n",
       "      <td>16</td>\n",
       "      <td>Weekday</td>\n",
       "    </tr>\n",
       "    <tr>\n",
       "      <td>3</td>\n",
       "      <td>6</td>\n",
       "      <td>2</td>\n",
       "      <td>4</td>\n",
       "      <td>131</td>\n",
       "      <td>0</td>\n",
       "      <td>13</td>\n",
       "      <td>Weekday</td>\n",
       "    </tr>\n",
       "    <tr>\n",
       "      <td>4</td>\n",
       "      <td>5</td>\n",
       "      <td>6</td>\n",
       "      <td>4</td>\n",
       "      <td>164</td>\n",
       "      <td>0</td>\n",
       "      <td>18</td>\n",
       "      <td>Weekday</td>\n",
       "    </tr>\n",
       "  </tbody>\n",
       "</table>\n",
       "</div>"
      ],
      "text/plain": [
       "   Dptr Hour  Length of Flight (Hrs)  Day of Week  Passengers Boarded  \\\n",
       "0          8                       1            2                 144   \n",
       "1          5                       3            1                 152   \n",
       "2          4                       2            4                 150   \n",
       "3          6                       2            4                 131   \n",
       "4          5                       6            4                 164   \n",
       "\n",
       "   Stock Out Occurred  Cheese Platters Sold Week Part  \n",
       "0                   0                    18   Weekday  \n",
       "1                   0                    15   Weekday  \n",
       "2                   0                    16   Weekday  \n",
       "3                   0                    13   Weekday  \n",
       "4                   0                    18   Weekday  "
      ]
     },
     "execution_count": 31,
     "metadata": {},
     "output_type": "execute_result"
    }
   ],
   "source": [
    "df3=df2\n",
    "df3.head()"
   ]
  },
  {
   "cell_type": "code",
   "execution_count": 32,
   "metadata": {},
   "outputs": [],
   "source": [
    "df3['Hour Class']=df3['Dptr Hour'].map(lambda x: time_class_maker(x))\n",
    "\n",
    "# convert numeric features to string format\n",
    "df3['Dptr Hour']=df3['Dptr Hour'].astype(str) # convert to categorical feature\n",
    "df3['Day of Week']=df3['Day of Week'].astype(str) # convert to categorical feature"
   ]
  },
  {
   "cell_type": "code",
   "execution_count": 33,
   "metadata": {},
   "outputs": [
    {
     "data": {
      "text/html": [
       "<div>\n",
       "<style scoped>\n",
       "    .dataframe tbody tr th:only-of-type {\n",
       "        vertical-align: middle;\n",
       "    }\n",
       "\n",
       "    .dataframe tbody tr th {\n",
       "        vertical-align: top;\n",
       "    }\n",
       "\n",
       "    .dataframe thead th {\n",
       "        text-align: right;\n",
       "    }\n",
       "</style>\n",
       "<table border=\"1\" class=\"dataframe\">\n",
       "  <thead>\n",
       "    <tr style=\"text-align: right;\">\n",
       "      <th></th>\n",
       "      <th>Dptr Hour</th>\n",
       "      <th>Length of Flight (Hrs)</th>\n",
       "      <th>Day of Week</th>\n",
       "      <th>Passengers Boarded</th>\n",
       "      <th>Stock Out Occurred</th>\n",
       "      <th>Cheese Platters Sold</th>\n",
       "      <th>Week Part</th>\n",
       "      <th>Hour Class</th>\n",
       "    </tr>\n",
       "  </thead>\n",
       "  <tbody>\n",
       "    <tr>\n",
       "      <td>0</td>\n",
       "      <td>8</td>\n",
       "      <td>1</td>\n",
       "      <td>2</td>\n",
       "      <td>144</td>\n",
       "      <td>0</td>\n",
       "      <td>18</td>\n",
       "      <td>Weekday</td>\n",
       "      <td>midday</td>\n",
       "    </tr>\n",
       "    <tr>\n",
       "      <td>1</td>\n",
       "      <td>5</td>\n",
       "      <td>3</td>\n",
       "      <td>1</td>\n",
       "      <td>152</td>\n",
       "      <td>0</td>\n",
       "      <td>15</td>\n",
       "      <td>Weekday</td>\n",
       "      <td>early</td>\n",
       "    </tr>\n",
       "    <tr>\n",
       "      <td>2</td>\n",
       "      <td>4</td>\n",
       "      <td>2</td>\n",
       "      <td>4</td>\n",
       "      <td>150</td>\n",
       "      <td>0</td>\n",
       "      <td>16</td>\n",
       "      <td>Weekday</td>\n",
       "      <td>early</td>\n",
       "    </tr>\n",
       "    <tr>\n",
       "      <td>3</td>\n",
       "      <td>6</td>\n",
       "      <td>2</td>\n",
       "      <td>4</td>\n",
       "      <td>131</td>\n",
       "      <td>0</td>\n",
       "      <td>13</td>\n",
       "      <td>Weekday</td>\n",
       "      <td>early</td>\n",
       "    </tr>\n",
       "    <tr>\n",
       "      <td>4</td>\n",
       "      <td>5</td>\n",
       "      <td>6</td>\n",
       "      <td>4</td>\n",
       "      <td>164</td>\n",
       "      <td>0</td>\n",
       "      <td>18</td>\n",
       "      <td>Weekday</td>\n",
       "      <td>early</td>\n",
       "    </tr>\n",
       "  </tbody>\n",
       "</table>\n",
       "</div>"
      ],
      "text/plain": [
       "  Dptr Hour  Length of Flight (Hrs) Day of Week  Passengers Boarded  \\\n",
       "0         8                       1           2                 144   \n",
       "1         5                       3           1                 152   \n",
       "2         4                       2           4                 150   \n",
       "3         6                       2           4                 131   \n",
       "4         5                       6           4                 164   \n",
       "\n",
       "   Stock Out Occurred  Cheese Platters Sold Week Part Hour Class  \n",
       "0                   0                    18   Weekday     midday  \n",
       "1                   0                    15   Weekday      early  \n",
       "2                   0                    16   Weekday      early  \n",
       "3                   0                    13   Weekday      early  \n",
       "4                   0                    18   Weekday      early  "
      ]
     },
     "execution_count": 33,
     "metadata": {},
     "output_type": "execute_result"
    }
   ],
   "source": [
    "df3.head()"
   ]
  },
  {
   "cell_type": "code",
   "execution_count": 34,
   "metadata": {},
   "outputs": [
    {
     "data": {
      "text/html": [
       "<div>\n",
       "<style scoped>\n",
       "    .dataframe tbody tr th:only-of-type {\n",
       "        vertical-align: middle;\n",
       "    }\n",
       "\n",
       "    .dataframe tbody tr th {\n",
       "        vertical-align: top;\n",
       "    }\n",
       "\n",
       "    .dataframe thead th {\n",
       "        text-align: right;\n",
       "    }\n",
       "</style>\n",
       "<table border=\"1\" class=\"dataframe\">\n",
       "  <thead>\n",
       "    <tr style=\"text-align: right;\">\n",
       "      <th></th>\n",
       "      <th>Length of Flight (Hrs)</th>\n",
       "      <th>Passengers Boarded</th>\n",
       "      <th>Cheese Platters Sold</th>\n",
       "      <th>Week Part_Weekday</th>\n",
       "      <th>Week Part_Weekend</th>\n",
       "      <th>Hour Class_early</th>\n",
       "      <th>Hour Class_midday</th>\n",
       "      <th>Hour Class_night</th>\n",
       "    </tr>\n",
       "  </thead>\n",
       "  <tbody>\n",
       "    <tr>\n",
       "      <td>0</td>\n",
       "      <td>1</td>\n",
       "      <td>144</td>\n",
       "      <td>18</td>\n",
       "      <td>1</td>\n",
       "      <td>0</td>\n",
       "      <td>0</td>\n",
       "      <td>1</td>\n",
       "      <td>0</td>\n",
       "    </tr>\n",
       "    <tr>\n",
       "      <td>1</td>\n",
       "      <td>3</td>\n",
       "      <td>152</td>\n",
       "      <td>15</td>\n",
       "      <td>1</td>\n",
       "      <td>0</td>\n",
       "      <td>1</td>\n",
       "      <td>0</td>\n",
       "      <td>0</td>\n",
       "    </tr>\n",
       "    <tr>\n",
       "      <td>2</td>\n",
       "      <td>2</td>\n",
       "      <td>150</td>\n",
       "      <td>16</td>\n",
       "      <td>1</td>\n",
       "      <td>0</td>\n",
       "      <td>1</td>\n",
       "      <td>0</td>\n",
       "      <td>0</td>\n",
       "    </tr>\n",
       "    <tr>\n",
       "      <td>3</td>\n",
       "      <td>2</td>\n",
       "      <td>131</td>\n",
       "      <td>13</td>\n",
       "      <td>1</td>\n",
       "      <td>0</td>\n",
       "      <td>1</td>\n",
       "      <td>0</td>\n",
       "      <td>0</td>\n",
       "    </tr>\n",
       "    <tr>\n",
       "      <td>4</td>\n",
       "      <td>6</td>\n",
       "      <td>164</td>\n",
       "      <td>18</td>\n",
       "      <td>1</td>\n",
       "      <td>0</td>\n",
       "      <td>1</td>\n",
       "      <td>0</td>\n",
       "      <td>0</td>\n",
       "    </tr>\n",
       "  </tbody>\n",
       "</table>\n",
       "</div>"
      ],
      "text/plain": [
       "   Length of Flight (Hrs)  Passengers Boarded  Cheese Platters Sold  \\\n",
       "0                       1                 144                    18   \n",
       "1                       3                 152                    15   \n",
       "2                       2                 150                    16   \n",
       "3                       2                 131                    13   \n",
       "4                       6                 164                    18   \n",
       "\n",
       "   Week Part_Weekday  Week Part_Weekend  Hour Class_early  Hour Class_midday  \\\n",
       "0                  1                  0                 0                  1   \n",
       "1                  1                  0                 1                  0   \n",
       "2                  1                  0                 1                  0   \n",
       "3                  1                  0                 1                  0   \n",
       "4                  1                  0                 1                  0   \n",
       "\n",
       "   Hour Class_night  \n",
       "0                 0  \n",
       "1                 0  \n",
       "2                 0  \n",
       "3                 0  \n",
       "4                 0  "
      ]
     },
     "execution_count": 34,
     "metadata": {},
     "output_type": "execute_result"
    }
   ],
   "source": [
    "df3=df3[['Week Part','Hour Class','Length of Flight (Hrs)',\n",
    "       'Passengers Boarded', 'Cheese Platters Sold']] \n",
    "df3=pd.get_dummies(df3)\n",
    "df3.head()"
   ]
  },
  {
   "cell_type": "code",
   "execution_count": 35,
   "metadata": {},
   "outputs": [
    {
     "name": "stdout",
     "output_type": "stream",
     "text": [
      "                  Generalized Linear Model Regression Results                   \n",
      "================================================================================\n",
      "Dep. Variable:     Cheese Platters Sold   No. Observations:                 3750\n",
      "Model:                              GLM   Df Residuals:                     3744\n",
      "Model Family:                   Poisson   Df Model:                            5\n",
      "Link Function:                      log   Scale:                          1.0000\n",
      "Method:                            IRLS   Log-Likelihood:                -8698.6\n",
      "Date:                  Tue, 24 Mar 2020   Deviance:                       182.64\n",
      "Time:                          17:51:54   Pearson chi2:                     182.\n",
      "No. Iterations:                       4                                         \n",
      "Covariance Type:              nonrobust                                         \n",
      "==========================================================================================\n",
      "                             coef    std err          z      P>|z|      [0.025      0.975]\n",
      "------------------------------------------------------------------------------------------\n",
      "const                      1.5827      0.031     50.891      0.000       1.522       1.644\n",
      "Length of Flight (Hrs)     0.0138      0.002      5.769      0.000       0.009       0.018\n",
      "Passengers Boarded         0.0069      0.000     34.671      0.000       0.006       0.007\n",
      "Week Part_Weekday          0.0727      0.009      7.867      0.000       0.055       0.091\n",
      "Hour Class_night           0.0036      0.012      0.292      0.770      -0.020       0.028\n",
      "Hour Class_midday          0.2323      0.009     24.503      0.000       0.214       0.251\n",
      "==========================================================================================\n"
     ]
    }
   ],
   "source": [
    "features=['Length of Flight (Hrs)','Passengers Boarded','Week Part_Weekday',\n",
    "          'Hour Class_night','Hour Class_midday']#,'Week Part_Weekend','Hour Class_early'--the base-line dummy variables for categorical features\n",
    "X=df3[features]\n",
    "y=df3['Cheese Platters Sold']\n",
    "X=sm.add_constant(X) # add coefficient to teh model\n",
    "X_train,X_test, y_train, y_test=train_test_split(X,y, test_size=0.25, random_state=42)\n",
    "\n",
    "#Using the statsmodels GLM class, train the Poisson regression model on the training data set.\n",
    "poisson_training_results = sm.GLM(y_train, X_train, family=sm.families.Poisson()).fit()\n",
    "#Print the training summary.\n",
    "print(poisson_training_results.summary())"
   ]
  },
  {
   "cell_type": "code",
   "execution_count": 36,
   "metadata": {},
   "outputs": [
    {
     "name": "stdout",
     "output_type": "stream",
     "text": [
      "                  Generalized Linear Model Regression Results                   \n",
      "================================================================================\n",
      "Dep. Variable:     Cheese Platters Sold   No. Observations:                 3750\n",
      "Model:                              GLM   Df Residuals:                     3745\n",
      "Model Family:                   Poisson   Df Model:                            4\n",
      "Link Function:                      log   Scale:                          1.0000\n",
      "Method:                            IRLS   Log-Likelihood:                -8698.6\n",
      "Date:                  Tue, 24 Mar 2020   Deviance:                       182.73\n",
      "Time:                          17:51:56   Pearson chi2:                     182.\n",
      "No. Iterations:                       4                                         \n",
      "Covariance Type:              nonrobust                                         \n",
      "==========================================================================================\n",
      "                             coef    std err          z      P>|z|      [0.025      0.975]\n",
      "------------------------------------------------------------------------------------------\n",
      "const                      1.5839      0.031     51.380      0.000       1.524       1.644\n",
      "Length of Flight (Hrs)     0.0138      0.002      5.768      0.000       0.009       0.018\n",
      "Passengers Boarded         0.0069      0.000     34.679      0.000       0.006       0.007\n",
      "Week Part_Weekday          0.0728      0.009      7.880      0.000       0.055       0.091\n",
      "Hour Class_midday          0.2310      0.008     28.071      0.000       0.215       0.247\n",
      "==========================================================================================\n"
     ]
    }
   ],
   "source": [
    "# dropped the \"Hour Class_night\" feature from the features table\n",
    "features=['Length of Flight (Hrs)','Passengers Boarded',\n",
    "          'Week Part_Weekday','Hour Class_midday']#,'Week Part_Weekend','Hour Class_early','Hour Class_night'\n",
    "X=df3[features]\n",
    "y=df3['Cheese Platters Sold']\n",
    "X=sm.add_constant(X)\n",
    "X_train,X_test, y_train, y_test=train_test_split(X,y, test_size=0.25, random_state=42)\n",
    "\n",
    "#Using the statsmodels GLM class, train the Poisson regression model on the training data set.\n",
    "poisson_training_results = sm.GLM(y_train, X_train, family=sm.families.Poisson()).fit() #Poisson\n",
    "#Print the training summary.\n",
    "print(poisson_training_results.summary())"
   ]
  },
  {
   "cell_type": "code",
   "execution_count": 37,
   "metadata": {},
   "outputs": [
    {
     "name": "stdout",
     "output_type": "stream",
     "text": [
      "intercept              : 4.87\n",
      "Length of Flight (Hrs) : 1.01\n",
      "Passengers Boarded     : 1.01\n",
      "Week Part_Weekday      : 1.08\n",
      "Hour Class_midday      : 1.26\n"
     ]
    }
   ],
   "source": [
    "print(f'intercept              : {np.exp(1.5827).round(2)}')\n",
    "print(f'Length of Flight (Hrs) : {np.exp(0.0138).round(2)}')\n",
    "print(f'Passengers Boarded     : {np.exp(0.0069).round(2)}')\n",
    "print(f'Week Part_Weekday      : {np.exp(0.0728).round(2)}')\n",
    "print(f'Hour Class_midday      : {np.exp(0.2310).round(2)}')"
   ]
  },
  {
   "cell_type": "code",
   "execution_count": 38,
   "metadata": {},
   "outputs": [
    {
     "name": "stdout",
     "output_type": "stream",
     "text": [
      "           mean   mean_se  mean_ci_lower  mean_ci_upper\n",
      "1501  10.804432  0.126720      10.558898      11.055676\n",
      "2586  17.205096  0.148489      16.916510      17.498605\n",
      "2653  13.013480  0.094606      12.829371      13.200231\n",
      "1055  16.621995  0.112892      16.402197      16.844738\n",
      "705   16.902611  0.148667      16.613726      17.196518\n",
      "...         ...       ...            ...            ...\n",
      "4141  21.447101  0.166509      21.123220      21.775947\n",
      "3168  18.687774  0.163911      18.369259      19.011812\n",
      "2478  19.610642  0.150157      19.318537      19.907164\n",
      "4214  21.447481  0.171453      21.114058      21.786170\n",
      "4180  18.815616  0.135297      18.552299      19.082671\n",
      "\n",
      "[1250 rows x 4 columns]\n"
     ]
    }
   ],
   "source": [
    "poisson_train_predictions = poisson_training_results.get_prediction(X_train)\n",
    "predictions_summary_frame = poisson_train_predictions.summary_frame()\n",
    "y_train_pred_poisson=predictions_summary_frame['mean']\n",
    "\n",
    "#Make some predictions on the test data set.\n",
    "poisson_test_predictions = poisson_training_results.get_prediction(X_test)\n",
    "predictions_summary_frame2 = poisson_test_predictions.summary_frame()\n",
    "y_test_pred_poisson=predictions_summary_frame2['mean']\n",
    "print(predictions_summary_frame2)"
   ]
  },
  {
   "cell_type": "code",
   "execution_count": 39,
   "metadata": {
    "scrolled": false
   },
   "outputs": [
    {
     "name": "stdout",
     "output_type": "stream",
     "text": [
      "min predict value: 9.0\n",
      "max predict value: 22.0\n"
     ]
    },
    {
     "data": {
      "image/png": "[encoded data removed]",
      "text/plain": [
       "<Figure size 648x648 with 1 Axes>"
      ]
     },
     "metadata": {
      "needs_background": "light"
     },
     "output_type": "display_data"
    }
   ],
   "source": [
    "#Predictin vs Actual Sales Graph\n",
    "plt.figure(figsize=(9,9))\n",
    "plt.scatter(y_test_pred_poisson,y_test, c='k')\n",
    "plt.xlabel('predicted sales',**axis_font, labelpad=10)\n",
    "plt.ylabel('actual sales',**axis_font)\n",
    "plt.title(' Q-Q PLOT (Actual versus Predicted Sales)',**title_font)\n",
    "plt.plot( [0, np.max(y_test_pred_poisson)], [0, np.max(y_test_pred_poisson)], c = 'r')\n",
    "print('min predict value:', np.round(y_test_pred_poisson.min()))\n",
    "print('max predict value:', np.round( y_test_pred_poisson.max()))"
   ]
  },
  {
   "cell_type": "code",
   "execution_count": 40,
   "metadata": {},
   "outputs": [
    {
     "data": {
      "text/plain": [
       "[<matplotlib.lines.Line2D at 0x1a178f4450>]"
      ]
     },
     "execution_count": 40,
     "metadata": {},
     "output_type": "execute_result"
    },
    {
     "data": {
      "image/png": "[encoded data removed]",
      "text/plain": [
       "<Figure size 648x648 with 1 Axes>"
      ]
     },
     "metadata": {
      "needs_background": "light"
     },
     "output_type": "display_data"
    }
   ],
   "source": [
    "# Take average of the predict values by groupping actual sold values\n",
    "x=pd.DataFrame(data=[y_test.values,y_test_pred_poisson.values]).T\n",
    "x=x.rename(columns={0:'actual', 1:'predictions'})\n",
    "x2=x.groupby(['actual']).mean().round()\n",
    "plt.figure(figsize=(9,9))\n",
    "plt.scatter(x2['predictions'],x2.index, c='k')\n",
    "plt.xlabel('average of predicted sales',**axis_font)\n",
    "plt.ylabel('actual sales',**axis_font)\n",
    "plt.title(' Q-Q PLOT (Actual versus Average of Predicted Sales)',**title_font)\n",
    "plt.plot( [0, np.max(y_test_pred_poisson)], [0, np.max(y_test_pred_poisson)], c = 'r')"
   ]
  },
  {
   "cell_type": "code",
   "execution_count": null,
   "metadata": {},
   "outputs": [],
   "source": []
  }
 ],
 "metadata": {
  "kernelspec": {
   "display_name": "Python 3",
   "language": "python",
   "name": "python3"
  },
  "language_info": {
   "codemirror_mode": {
    "name": "ipython",
    "version": 3
   },
   "file_extension": ".py",
   "mimetype": "text/x-python",
   "name": "python",
   "nbconvert_exporter": "python",
   "pygments_lexer": "ipython3",
   "version": "3.7.4"
  }
 },
 "nbformat": 4,
 "nbformat_minor": 2
}
