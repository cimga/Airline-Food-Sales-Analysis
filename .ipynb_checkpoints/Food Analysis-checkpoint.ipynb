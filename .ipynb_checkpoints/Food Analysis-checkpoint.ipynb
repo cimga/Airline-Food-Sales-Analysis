{
 "cells": [
  {
   "cell_type": "code",
   "execution_count": 282,
   "metadata": {},
   "outputs": [],
   "source": [
    "import pandas as pd\n",
    "import numpy as np\n",
    "import seaborn as sns\n",
    "import matplotlib.pyplot as plt\n",
    "\n",
    "import statistics\n",
    "from scipy import stats\n",
    "\n",
    "# Disable warnings!\n",
    "import warnings\n",
    "warnings.filterwarnings(\"ignore\")"
   ]
  },
  {
   "cell_type": "code",
   "execution_count": 283,
   "metadata": {},
   "outputs": [
    {
     "data": {
      "text/plain": [
       "(5000, 6)"
      ]
     },
     "execution_count": 283,
     "metadata": {},
     "output_type": "execute_result"
    }
   ],
   "source": [
    "df=pd.read_csv('/Users/ee/Documents/GITHUB/Project-12 Alaska Airlines/Cheeseplate Demand Data.csv') # contains betwen 2016-March to 2019-February\n",
    "df.shape"
   ]
  },
  {
   "cell_type": "code",
   "execution_count": 284,
   "metadata": {},
   "outputs": [
    {
     "data": {
      "text/plain": [
       "Dptr Hour                 0\n",
       "Length of Flight (Hrs)    0\n",
       "Day of Week               0\n",
       "Passengers Boarded        0\n",
       "Stock Out Occurred        0\n",
       "Cheese Platters Sold      0\n",
       "dtype: int64"
      ]
     },
     "execution_count": 284,
     "metadata": {},
     "output_type": "execute_result"
    }
   ],
   "source": [
    "df.isnull().sum()"
   ]
  },
  {
   "cell_type": "code",
   "execution_count": 285,
   "metadata": {},
   "outputs": [
    {
     "data": {
      "text/html": [
       "<div>\n",
       "<style scoped>\n",
       "    .dataframe tbody tr th:only-of-type {\n",
       "        vertical-align: middle;\n",
       "    }\n",
       "\n",
       "    .dataframe tbody tr th {\n",
       "        vertical-align: top;\n",
       "    }\n",
       "\n",
       "    .dataframe thead th {\n",
       "        text-align: right;\n",
       "    }\n",
       "</style>\n",
       "<table border=\"1\" class=\"dataframe\">\n",
       "  <thead>\n",
       "    <tr style=\"text-align: right;\">\n",
       "      <th></th>\n",
       "      <th>Dptr Hour</th>\n",
       "      <th>Length of Flight (Hrs)</th>\n",
       "      <th>Day of Week</th>\n",
       "      <th>Passengers Boarded</th>\n",
       "      <th>Stock Out Occurred</th>\n",
       "      <th>Cheese Platters Sold</th>\n",
       "    </tr>\n",
       "  </thead>\n",
       "  <tbody>\n",
       "    <tr>\n",
       "      <td>0</td>\n",
       "      <td>8</td>\n",
       "      <td>1</td>\n",
       "      <td>Tuesday</td>\n",
       "      <td>144</td>\n",
       "      <td>0</td>\n",
       "      <td>18</td>\n",
       "    </tr>\n",
       "    <tr>\n",
       "      <td>1</td>\n",
       "      <td>5</td>\n",
       "      <td>3</td>\n",
       "      <td>Monday</td>\n",
       "      <td>152</td>\n",
       "      <td>0</td>\n",
       "      <td>15</td>\n",
       "    </tr>\n",
       "    <tr>\n",
       "      <td>2</td>\n",
       "      <td>4</td>\n",
       "      <td>2</td>\n",
       "      <td>Thursday</td>\n",
       "      <td>150</td>\n",
       "      <td>0</td>\n",
       "      <td>16</td>\n",
       "    </tr>\n",
       "    <tr>\n",
       "      <td>3</td>\n",
       "      <td>6</td>\n",
       "      <td>2</td>\n",
       "      <td>Thursday</td>\n",
       "      <td>131</td>\n",
       "      <td>0</td>\n",
       "      <td>13</td>\n",
       "    </tr>\n",
       "    <tr>\n",
       "      <td>4</td>\n",
       "      <td>5</td>\n",
       "      <td>6</td>\n",
       "      <td>Thursday</td>\n",
       "      <td>164</td>\n",
       "      <td>0</td>\n",
       "      <td>18</td>\n",
       "    </tr>\n",
       "  </tbody>\n",
       "</table>\n",
       "</div>"
      ],
      "text/plain": [
       "   Dptr Hour  Length of Flight (Hrs) Day of Week  Passengers Boarded  \\\n",
       "0          8                       1     Tuesday                 144   \n",
       "1          5                       3      Monday                 152   \n",
       "2          4                       2    Thursday                 150   \n",
       "3          6                       2    Thursday                 131   \n",
       "4          5                       6    Thursday                 164   \n",
       "\n",
       "   Stock Out Occurred  Cheese Platters Sold  \n",
       "0                   0                    18  \n",
       "1                   0                    15  \n",
       "2                   0                    16  \n",
       "3                   0                    13  \n",
       "4                   0                    18  "
      ]
     },
     "execution_count": 285,
     "metadata": {},
     "output_type": "execute_result"
    }
   ],
   "source": [
    "df.head()"
   ]
  },
  {
   "cell_type": "code",
   "execution_count": 286,
   "metadata": {},
   "outputs": [
    {
     "data": {
      "text/plain": [
       "(5000, 6)"
      ]
     },
     "execution_count": 286,
     "metadata": {},
     "output_type": "execute_result"
    }
   ],
   "source": [
    "#Converting day in number to order easily on the graphs\n",
    "d={'Monday':1,'Tuesday':2,'Wednesday':3,'Thursday':4,'Friday':5,'Saturday':6,'Sunday':7}\n",
    "\n",
    "df['Day of Week']=df['Day of Week'].map(d)\n",
    "df.shape"
   ]
  },
  {
   "cell_type": "code",
   "execution_count": 287,
   "metadata": {},
   "outputs": [
    {
     "data": {
      "text/html": [
       "<div>\n",
       "<style scoped>\n",
       "    .dataframe tbody tr th:only-of-type {\n",
       "        vertical-align: middle;\n",
       "    }\n",
       "\n",
       "    .dataframe tbody tr th {\n",
       "        vertical-align: top;\n",
       "    }\n",
       "\n",
       "    .dataframe thead th {\n",
       "        text-align: right;\n",
       "    }\n",
       "</style>\n",
       "<table border=\"1\" class=\"dataframe\">\n",
       "  <thead>\n",
       "    <tr style=\"text-align: right;\">\n",
       "      <th></th>\n",
       "      <th>Dptr Hour</th>\n",
       "      <th>Length of Flight (Hrs)</th>\n",
       "      <th>Day of Week</th>\n",
       "      <th>Passengers Boarded</th>\n",
       "      <th>Stock Out Occurred</th>\n",
       "      <th>Cheese Platters Sold</th>\n",
       "    </tr>\n",
       "  </thead>\n",
       "  <tbody>\n",
       "    <tr>\n",
       "      <td>0</td>\n",
       "      <td>8</td>\n",
       "      <td>1</td>\n",
       "      <td>2</td>\n",
       "      <td>144</td>\n",
       "      <td>0</td>\n",
       "      <td>18</td>\n",
       "    </tr>\n",
       "    <tr>\n",
       "      <td>1</td>\n",
       "      <td>5</td>\n",
       "      <td>3</td>\n",
       "      <td>1</td>\n",
       "      <td>152</td>\n",
       "      <td>0</td>\n",
       "      <td>15</td>\n",
       "    </tr>\n",
       "    <tr>\n",
       "      <td>2</td>\n",
       "      <td>4</td>\n",
       "      <td>2</td>\n",
       "      <td>4</td>\n",
       "      <td>150</td>\n",
       "      <td>0</td>\n",
       "      <td>16</td>\n",
       "    </tr>\n",
       "    <tr>\n",
       "      <td>3</td>\n",
       "      <td>6</td>\n",
       "      <td>2</td>\n",
       "      <td>4</td>\n",
       "      <td>131</td>\n",
       "      <td>0</td>\n",
       "      <td>13</td>\n",
       "    </tr>\n",
       "    <tr>\n",
       "      <td>4</td>\n",
       "      <td>5</td>\n",
       "      <td>6</td>\n",
       "      <td>4</td>\n",
       "      <td>164</td>\n",
       "      <td>0</td>\n",
       "      <td>18</td>\n",
       "    </tr>\n",
       "  </tbody>\n",
       "</table>\n",
       "</div>"
      ],
      "text/plain": [
       "   Dptr Hour  Length of Flight (Hrs)  Day of Week  Passengers Boarded  \\\n",
       "0          8                       1            2                 144   \n",
       "1          5                       3            1                 152   \n",
       "2          4                       2            4                 150   \n",
       "3          6                       2            4                 131   \n",
       "4          5                       6            4                 164   \n",
       "\n",
       "   Stock Out Occurred  Cheese Platters Sold  \n",
       "0                   0                    18  \n",
       "1                   0                    15  \n",
       "2                   0                    16  \n",
       "3                   0                    13  \n",
       "4                   0                    18  "
      ]
     },
     "execution_count": 287,
     "metadata": {},
     "output_type": "execute_result"
    }
   ],
   "source": [
    "df.head()"
   ]
  },
  {
   "cell_type": "markdown",
   "metadata": {},
   "source": [
    " # 1. INVESTIGATE THE DATA"
   ]
  },
  {
   "cell_type": "markdown",
   "metadata": {},
   "source": [
    "## 1A. Relation Between Variables and Number of Cheese Platters Sold"
   ]
  },
  {
   "cell_type": "code",
   "execution_count": 292,
   "metadata": {},
   "outputs": [],
   "source": [
    "# #Scatter Plot Function\n",
    "# font = {'family' : 'normal',\n",
    "#         'weight' : 'bold',\n",
    "#         'size'   : 22}\n",
    "\n",
    "# ff= plt.rcParams.update('font', **font)\n",
    "\n",
    "# Set the font dictionaries (for plot title and axis titles)\n",
    "title_font = {'fontname':'Arial', 'size':'15', 'color':'black', 'weight':'bold',\n",
    "              'verticalalignment':'bottom'} # Bottom vertical alignment for more space\n",
    "axis_font = {'fontname':'Arial', 'size':'11', 'weight':'bold'}\n",
    "\n",
    "def relation_s(a):\n",
    "    t=df.groupby(by=df.columns[a]).mean()\n",
    "    t=t[['Cheese Platters Sold']]\n",
    "\n",
    "    plt.figure(figsize=(15,7))\n",
    "    \n",
    "    if df.columns[a]!='Dptr Hour':\n",
    "        plt.scatter(x=t.index, y=t['Cheese Platters Sold'])\n",
    "        plt.title('Average Cheese Platters Sold by '+df.columns[a],**title_font)\n",
    "        plt.xlabel(df.columns[a],**axis_font, labelpad=10)\n",
    "        plt.ylabel('Cheese Platters Sold',**axis_font)\n",
    "        plt.show()\n",
    "    else: # this section works only for \"Dptr Hour\"\n",
    "        x=t.index\n",
    "        y=t['Cheese Platters Sold']\n",
    "        plt.scatter(x,y)\n",
    "        plt.title('Average Cheese Platters Sold by '+df.columns[0],**title_font)\n",
    "        plt.xlabel(df.columns[0],**axis_font, labelpad=10)\n",
    "        plt.ylabel('Cheese Platters Sold',**axis_font)\n",
    "\n",
    "        x1=t.index[:8]\n",
    "        y1=t['Cheese Platters Sold'][:8]\n",
    "        z = np.polyfit(x1, y1, 1)\n",
    "        p = np.poly1d(z)\n",
    "        plt.plot(x1,p(x1),\"r--\")\n",
    "\n",
    "        x2=t.index[8:20]\n",
    "        y2=t['Cheese Platters Sold'][8:20]\n",
    "        z = np.polyfit(x2, y2, 1)\n",
    "        p = np.poly1d(z)\n",
    "        plt.plot(x2,p(x2),\"r--\")\n",
    "\n",
    "        x3=t.index[20:]\n",
    "        y3=t['Cheese Platters Sold'][20:]\n",
    "        z = np.polyfit(x3, y3, 1)\n",
    "        p = np.poly1d(z)\n",
    "        plt.plot(x3,p(x3),\"r--\")\n",
    "\n",
    "        plt.show()"
   ]
  },
  {
   "cell_type": "code",
   "execution_count": 293,
   "metadata": {},
   "outputs": [],
   "source": [
    "# Bar chart graph function\n",
    "def relation_b(a):\n",
    "    t=df.groupby(by=df.columns[a]).mean()\n",
    "    t=t[['Cheese Platters Sold']]\n",
    "#     title='Average Cheese Platters Sold by '+df.columns[a]\n",
    "#     t.plot(kind='bar', figsize=(15,7),title=title).grid(axis='y')\n",
    "    t.plot(kind='bar', figsize=(15,7)).grid(axis='y')\n",
    "    plt.title('Average Cheese Platters Sold by '+df.columns[a],**title_font)\n",
    "    plt.xlabel(df.columns[a],**axis_font, labelpad=10)\n",
    "    plt.ylabel('Cheese Platters Sold',**axis_font)\n",
    "    plt.legend('')\n",
    "    plt.show()"
   ]
  },
  {
   "cell_type": "code",
   "execution_count": 294,
   "metadata": {
    "scrolled": false
   },
   "outputs": [
    {
     "data": {
      "image/png": "[encoded data removed]",
      "text/plain": [
       "<Figure size 1080x504 with 1 Axes>"
      ]
     },
     "metadata": {
      "needs_background": "light"
     },
     "output_type": "display_data"
    },
    {
     "name": "stdout",
     "output_type": "stream",
     "text": [
      "None\n"
     ]
    },
    {
     "data": {
      "image/png": "[encoded data removed]",
      "text/plain": [
       "<Figure size 1080x504 with 1 Axes>"
      ]
     },
     "metadata": {
      "needs_background": "light"
     },
     "output_type": "display_data"
    },
    {
     "name": "stdout",
     "output_type": "stream",
     "text": [
      "None\n"
     ]
    },
    {
     "data": {
      "image/png": "[encoded data removed]",
      "text/plain": [
       "<Figure size 1080x504 with 1 Axes>"
      ]
     },
     "metadata": {
      "needs_background": "light"
     },
     "output_type": "display_data"
    },
    {
     "name": "stdout",
     "output_type": "stream",
     "text": [
      "None\n"
     ]
    },
    {
     "data": {
      "image/png": "[encoded data removed]",
      "text/plain": [
       "<Figure size 1080x504 with 1 Axes>"
      ]
     },
     "metadata": {
      "needs_background": "light"
     },
     "output_type": "display_data"
    },
    {
     "name": "stdout",
     "output_type": "stream",
     "text": [
      "None\n"
     ]
    },
    {
     "data": {
      "image/png": "[encoded data removed]",
      "text/plain": [
       "<Figure size 1080x504 with 1 Axes>"
      ]
     },
     "metadata": {
      "needs_background": "light"
     },
     "output_type": "display_data"
    },
    {
     "name": "stdout",
     "output_type": "stream",
     "text": [
      "None\n"
     ]
    }
   ],
   "source": [
    "for i in range(5):\n",
    "    if i==4:\n",
    "        print(relation_b(i))\n",
    "    else:\n",
    "        print(relation_s(i))"
   ]
  },
  {
   "cell_type": "code",
   "execution_count": 239,
   "metadata": {},
   "outputs": [
    {
     "data": {
      "text/html": [
       "<div>\n",
       "<style scoped>\n",
       "    .dataframe tbody tr th:only-of-type {\n",
       "        vertical-align: middle;\n",
       "    }\n",
       "\n",
       "    .dataframe tbody tr th {\n",
       "        vertical-align: top;\n",
       "    }\n",
       "\n",
       "    .dataframe thead th {\n",
       "        text-align: right;\n",
       "    }\n",
       "</style>\n",
       "<table border=\"1\" class=\"dataframe\">\n",
       "  <thead>\n",
       "    <tr style=\"text-align: right;\">\n",
       "      <th></th>\n",
       "      <th>Cheese Platters Sold</th>\n",
       "    </tr>\n",
       "  </thead>\n",
       "  <tbody>\n",
       "    <tr>\n",
       "      <td>count</td>\n",
       "      <td>4137.0</td>\n",
       "    </tr>\n",
       "    <tr>\n",
       "      <td>mean</td>\n",
       "      <td>15.0</td>\n",
       "    </tr>\n",
       "    <tr>\n",
       "      <td>std</td>\n",
       "      <td>2.6</td>\n",
       "    </tr>\n",
       "    <tr>\n",
       "      <td>min</td>\n",
       "      <td>5.0</td>\n",
       "    </tr>\n",
       "    <tr>\n",
       "      <td>5%</td>\n",
       "      <td>10.8</td>\n",
       "    </tr>\n",
       "    <tr>\n",
       "      <td>50%</td>\n",
       "      <td>15.0</td>\n",
       "    </tr>\n",
       "    <tr>\n",
       "      <td>95%</td>\n",
       "      <td>19.0</td>\n",
       "    </tr>\n",
       "    <tr>\n",
       "      <td>max</td>\n",
       "      <td>19.0</td>\n",
       "    </tr>\n",
       "  </tbody>\n",
       "</table>\n",
       "</div>"
      ],
      "text/plain": [
       "       Cheese Platters Sold\n",
       "count                4137.0\n",
       "mean                   15.0\n",
       "std                     2.6\n",
       "min                     5.0\n",
       "5%                     10.8\n",
       "50%                    15.0\n",
       "95%                    19.0\n",
       "max                    19.0"
      ]
     },
     "execution_count": 239,
     "metadata": {},
     "output_type": "execute_result"
    }
   ],
   "source": [
    "# Confidence Interval of Non Stock Out Cheese Platters\n",
    "nso=df2[df2['Stock Out Occurred']==0][['Cheese Platters Sold']]\n",
    "nso=nso.describe(percentiles=[.05, .5, .95]) \n",
    "nso.round(decimals=1)"
   ]
  },
  {
   "cell_type": "code",
   "execution_count": 196,
   "metadata": {
    "scrolled": true
   },
   "outputs": [
    {
     "ename": "SyntaxError",
     "evalue": "invalid syntax (<ipython-input-196-6af237cd1ca4>, line 1)",
     "output_type": "error",
     "traceback": [
      "\u001b[0;36m  File \u001b[0;32m\"<ipython-input-196-6af237cd1ca4>\"\u001b[0;36m, line \u001b[0;32m1\u001b[0m\n\u001b[0;31m    her ucusta minimum 11 tane tutmam lazim:\u001b[0m\n\u001b[0m             ^\u001b[0m\n\u001b[0;31mSyntaxError\u001b[0m\u001b[0;31m:\u001b[0m invalid syntax\n"
     ]
    }
   ],
   "source": [
    "her 100 ucusun 95 inde  minimum 11 tane satilmis:\n",
    "minimum stock level for %95 confidence level = 11"
   ]
  },
  {
   "cell_type": "markdown",
   "metadata": {},
   "source": [
    "### Graph of Cheese Platters Sold by Dept Hour & Week Days"
   ]
  },
  {
   "cell_type": "code",
   "execution_count": 170,
   "metadata": {},
   "outputs": [
    {
     "data": {
      "text/plain": [
       "(5000, 7)"
      ]
     },
     "execution_count": 170,
     "metadata": {},
     "output_type": "execute_result"
    }
   ],
   "source": [
    "df2=df\n",
    "# classify the day of week as weekday and weekend\n",
    "d={1:'Weekday',2:'Weekday',3:'Weekday',4:'Weekday',5:'Weekday',6:'Weekend',7:'Weekend'}\n",
    "\n",
    "df2['Week Part']=df2['Day of Week'].map(d)\n",
    "df2.shape"
   ]
  },
  {
   "cell_type": "code",
   "execution_count": 171,
   "metadata": {},
   "outputs": [
    {
     "data": {
      "text/html": [
       "<div>\n",
       "<style scoped>\n",
       "    .dataframe tbody tr th:only-of-type {\n",
       "        vertical-align: middle;\n",
       "    }\n",
       "\n",
       "    .dataframe tbody tr th {\n",
       "        vertical-align: top;\n",
       "    }\n",
       "\n",
       "    .dataframe thead th {\n",
       "        text-align: right;\n",
       "    }\n",
       "</style>\n",
       "<table border=\"1\" class=\"dataframe\">\n",
       "  <thead>\n",
       "    <tr style=\"text-align: right;\">\n",
       "      <th></th>\n",
       "      <th>Dptr Hour</th>\n",
       "      <th>Length of Flight (Hrs)</th>\n",
       "      <th>Day of Week</th>\n",
       "      <th>Passengers Boarded</th>\n",
       "      <th>Stock Out Occurred</th>\n",
       "      <th>Cheese Platters Sold</th>\n",
       "      <th>Week Part</th>\n",
       "    </tr>\n",
       "  </thead>\n",
       "  <tbody>\n",
       "    <tr>\n",
       "      <td>0</td>\n",
       "      <td>8</td>\n",
       "      <td>1</td>\n",
       "      <td>2</td>\n",
       "      <td>144</td>\n",
       "      <td>0</td>\n",
       "      <td>18</td>\n",
       "      <td>Weekday</td>\n",
       "    </tr>\n",
       "    <tr>\n",
       "      <td>1</td>\n",
       "      <td>5</td>\n",
       "      <td>3</td>\n",
       "      <td>1</td>\n",
       "      <td>152</td>\n",
       "      <td>0</td>\n",
       "      <td>15</td>\n",
       "      <td>Weekday</td>\n",
       "    </tr>\n",
       "    <tr>\n",
       "      <td>2</td>\n",
       "      <td>4</td>\n",
       "      <td>2</td>\n",
       "      <td>4</td>\n",
       "      <td>150</td>\n",
       "      <td>0</td>\n",
       "      <td>16</td>\n",
       "      <td>Weekday</td>\n",
       "    </tr>\n",
       "    <tr>\n",
       "      <td>3</td>\n",
       "      <td>6</td>\n",
       "      <td>2</td>\n",
       "      <td>4</td>\n",
       "      <td>131</td>\n",
       "      <td>0</td>\n",
       "      <td>13</td>\n",
       "      <td>Weekday</td>\n",
       "    </tr>\n",
       "    <tr>\n",
       "      <td>4</td>\n",
       "      <td>5</td>\n",
       "      <td>6</td>\n",
       "      <td>4</td>\n",
       "      <td>164</td>\n",
       "      <td>0</td>\n",
       "      <td>18</td>\n",
       "      <td>Weekday</td>\n",
       "    </tr>\n",
       "  </tbody>\n",
       "</table>\n",
       "</div>"
      ],
      "text/plain": [
       "   Dptr Hour  Length of Flight (Hrs)  Day of Week  Passengers Boarded  \\\n",
       "0          8                       1            2                 144   \n",
       "1          5                       3            1                 152   \n",
       "2          4                       2            4                 150   \n",
       "3          6                       2            4                 131   \n",
       "4          5                       6            4                 164   \n",
       "\n",
       "   Stock Out Occurred  Cheese Platters Sold Week Part  \n",
       "0                   0                    18   Weekday  \n",
       "1                   0                    15   Weekday  \n",
       "2                   0                    16   Weekday  \n",
       "3                   0                    13   Weekday  \n",
       "4                   0                    18   Weekday  "
      ]
     },
     "execution_count": 171,
     "metadata": {},
     "output_type": "execute_result"
    }
   ],
   "source": [
    "df2.head()"
   ]
  },
  {
   "cell_type": "code",
   "execution_count": 172,
   "metadata": {},
   "outputs": [
    {
     "data": {
      "image/png": "[encoded data removed]",
      "text/plain": [
       "<Figure size 1080x504 with 1 Axes>"
      ]
     },
     "metadata": {
      "needs_background": "light"
     },
     "output_type": "display_data"
    }
   ],
   "source": [
    "p=df2.groupby(['Week Part','Dptr Hour']).mean()[['Cheese Platters Sold']].unstack().T\n",
    "p.index=p.index.droplevel(level=0)\n",
    "x=p.index\n",
    "y1=p['Weekday']\n",
    "y2=p['Weekend']\n",
    "\n",
    "plt.figure(figsize=(15,7))\n",
    "plt.scatter(x,y1,color='red', label='Weekday')\n",
    "plt.scatter(x,y2,color='blue', label='Weekend')\n",
    "plt.title('Average Cheese Platters Sold by Dptr Hour & Week Status',**title_font)\n",
    "plt.xlabel('Dptr Hour',**axis_font, labelpad=10)\n",
    "plt.ylabel('Cheese Platters Sold',**axis_font)\n",
    "plt.legend()\n",
    "plt.show()"
   ]
  },
  {
   "cell_type": "markdown",
   "metadata": {},
   "source": [
    "### Statistics of the Cheese Platters Sold"
   ]
  },
  {
   "cell_type": "code",
   "execution_count": 212,
   "metadata": {},
   "outputs": [],
   "source": [
    "def percentile_right(df,column,alpha):\n",
    "    upper=np.percentile(df[column], alpha*100)\n",
    "    return upper"
   ]
  },
  {
   "cell_type": "code",
   "execution_count": 233,
   "metadata": {
    "scrolled": true
   },
   "outputs": [
    {
     "data": {
      "text/html": [
       "<div>\n",
       "<style scoped>\n",
       "    .dataframe tbody tr th:only-of-type {\n",
       "        vertical-align: middle;\n",
       "    }\n",
       "\n",
       "    .dataframe tbody tr th {\n",
       "        vertical-align: top;\n",
       "    }\n",
       "\n",
       "    .dataframe thead th {\n",
       "        text-align: right;\n",
       "    }\n",
       "</style>\n",
       "<table border=\"1\" class=\"dataframe\">\n",
       "  <thead>\n",
       "    <tr style=\"text-align: right;\">\n",
       "      <th></th>\n",
       "      <th>Cheese Platters Sold</th>\n",
       "    </tr>\n",
       "  </thead>\n",
       "  <tbody>\n",
       "    <tr>\n",
       "      <td>count</td>\n",
       "      <td>5000.0</td>\n",
       "    </tr>\n",
       "    <tr>\n",
       "      <td>mean</td>\n",
       "      <td>15.8</td>\n",
       "    </tr>\n",
       "    <tr>\n",
       "      <td>std</td>\n",
       "      <td>3.0</td>\n",
       "    </tr>\n",
       "    <tr>\n",
       "      <td>min</td>\n",
       "      <td>5.0</td>\n",
       "    </tr>\n",
       "    <tr>\n",
       "      <td>18%</td>\n",
       "      <td>13.0</td>\n",
       "    </tr>\n",
       "    <tr>\n",
       "      <td>50%</td>\n",
       "      <td>16.0</td>\n",
       "    </tr>\n",
       "    <tr>\n",
       "      <td>82%</td>\n",
       "      <td>19.0</td>\n",
       "    </tr>\n",
       "    <tr>\n",
       "      <td>max</td>\n",
       "      <td>20.0</td>\n",
       "    </tr>\n",
       "  </tbody>\n",
       "</table>\n",
       "</div>"
      ],
      "text/plain": [
       "       Cheese Platters Sold\n",
       "count                5000.0\n",
       "mean                   15.8\n",
       "std                     3.0\n",
       "min                     5.0\n",
       "18%                    13.0\n",
       "50%                    16.0\n",
       "82%                    19.0\n",
       "max                    20.0"
      ]
     },
     "execution_count": 233,
     "metadata": {},
     "output_type": "execute_result"
    }
   ],
   "source": [
    "# %95 confidence level values\n",
    "nso=df2[['Cheese Platters Sold']].describe(percentiles=[.18, .5, .82]) \n",
    "nso.round(decimals=1)"
   ]
  },
  {
   "cell_type": "code",
   "execution_count": 234,
   "metadata": {},
   "outputs": [
    {
     "data": {
      "text/html": [
       "<div>\n",
       "<style scoped>\n",
       "    .dataframe tbody tr th:only-of-type {\n",
       "        vertical-align: middle;\n",
       "    }\n",
       "\n",
       "    .dataframe tbody tr th {\n",
       "        vertical-align: top;\n",
       "    }\n",
       "\n",
       "    .dataframe thead th {\n",
       "        text-align: right;\n",
       "    }\n",
       "</style>\n",
       "<table border=\"1\" class=\"dataframe\">\n",
       "  <thead>\n",
       "    <tr style=\"text-align: right;\">\n",
       "      <th></th>\n",
       "      <th>Cheese Platters Sold</th>\n",
       "    </tr>\n",
       "  </thead>\n",
       "  <tbody>\n",
       "    <tr>\n",
       "      <td>count</td>\n",
       "      <td>5000.0</td>\n",
       "    </tr>\n",
       "    <tr>\n",
       "      <td>mean</td>\n",
       "      <td>15.8</td>\n",
       "    </tr>\n",
       "    <tr>\n",
       "      <td>std</td>\n",
       "      <td>3.0</td>\n",
       "    </tr>\n",
       "    <tr>\n",
       "      <td>min</td>\n",
       "      <td>5.0</td>\n",
       "    </tr>\n",
       "    <tr>\n",
       "      <td>5%</td>\n",
       "      <td>11.0</td>\n",
       "    </tr>\n",
       "    <tr>\n",
       "      <td>50%</td>\n",
       "      <td>16.0</td>\n",
       "    </tr>\n",
       "    <tr>\n",
       "      <td>95%</td>\n",
       "      <td>20.0</td>\n",
       "    </tr>\n",
       "    <tr>\n",
       "      <td>max</td>\n",
       "      <td>20.0</td>\n",
       "    </tr>\n",
       "  </tbody>\n",
       "</table>\n",
       "</div>"
      ],
      "text/plain": [
       "       Cheese Platters Sold\n",
       "count                5000.0\n",
       "mean                   15.8\n",
       "std                     3.0\n",
       "min                     5.0\n",
       "5%                     11.0\n",
       "50%                    16.0\n",
       "95%                    20.0\n",
       "max                    20.0"
      ]
     },
     "execution_count": 234,
     "metadata": {},
     "output_type": "execute_result"
    }
   ],
   "source": [
    "nso=df2[['Cheese Platters Sold']].describe(percentiles=[.05, .5, .95]) \n",
    "nso.round(decimals=1)"
   ]
  },
  {
   "cell_type": "code",
   "execution_count": 174,
   "metadata": {
    "scrolled": true
   },
   "outputs": [],
   "source": [
    "# sns.distplot(df2[['Cheese Platters Sold']], kde=False)"
   ]
  },
  {
   "cell_type": "raw",
   "metadata": {},
   "source": [
    "I should keep min 11 platters at each flight if I want to cover 95 percent confidence at all flights!\n",
    "in other words, if I keep 11 platter at each flight then 95 out of 100 flights "
   ]
  },
  {
   "cell_type": "markdown",
   "metadata": {},
   "source": [
    "## 1B. Distribution of Variables"
   ]
  },
  {
   "cell_type": "code",
   "execution_count": 175,
   "metadata": {},
   "outputs": [],
   "source": [
    "def graphs(table,main_title):\n",
    "\n",
    "    plt.subplots(3,2, figsize=(20,15))\n",
    "    plt.suptitle(main_title, size=20) # add above a Main Title\n",
    "\n",
    "    plt.subplot(3,2,1, title='distribution of Dptr Hour')\n",
    "    sns.distplot(table['Dptr Hour'], bins=25, kde=False, color='c') # alternative colors are k, g, b, and m\n",
    "\n",
    "    plt.subplot(3,2,2, title='distribution of Length of Flight (Hrs)')\n",
    "    sns.distplot(table['Length of Flight (Hrs)'], bins=25, kde=False)\n",
    "\n",
    "    plt.subplot(3,2,3, title='distribution of Day of Week')\n",
    "    sns.distplot(table['Day of Week'], kde=False)\n",
    "\n",
    "    plt.subplot(3,2,4, title='distribution of Passengers Boarded')\n",
    "    sns.distplot(table['Passengers Boarded'], bins=50, kde=False)\n",
    "    \n",
    "    plt.subplot(3,2,5, title='distribution of Stock Out Occurred')\n",
    "    sns.distplot(table['Stock Out Occurred'],kde=False)\n",
    "    \n",
    "    plt.subplot(3,2,6, title='distribution of Cheese Platters Sold')\n",
    "    sns.distplot(table['Cheese Platters Sold'], bins=25, kde=False)"
   ]
  },
  {
   "cell_type": "code",
   "execution_count": 176,
   "metadata": {},
   "outputs": [
    {
     "data": {
      "text/plain": [
       "array([  0,   5,  10,  15,  20,  25,  30,  35,  40,  45,  50,  55,  60,\n",
       "        65,  70,  75,  80,  85,  90,  95, 100, 105, 110, 115, 120, 125,\n",
       "       130, 135, 140, 145, 150, 155, 160, 165])"
      ]
     },
     "execution_count": 176,
     "metadata": {},
     "output_type": "execute_result"
    }
   ],
   "source": [
    "np.arange(0,166,5)"
   ]
  },
  {
   "cell_type": "code",
   "execution_count": 177,
   "metadata": {},
   "outputs": [],
   "source": [
    "def dist_graph(a,b,c):\n",
    "    if b=='y':\n",
    "        t=df.groupby(by=df.columns[a]).count()[:c]\n",
    "    else:\n",
    "        t=df.groupby(by=df.columns[a]).count()\n",
    "    \n",
    "    t=t[[t.columns[0]]]\n",
    "    title='Number of Flights by '+df.columns[a]\n",
    "#     plt.title(title,**title_font)\n",
    "    if df.columns[a]=='Passengers Boarded':\n",
    "#         plt.hist(t, bins=23, range(49,165,5))\n",
    "        graph=t.plot(kind='bar', figsize=(13,6)).grid(axis='y') #,title=title\n",
    "        plt.title(title,**title_font)\n",
    "#         plt.xticks([])\n",
    "#         l=list(range(0,166,5))\n",
    "        plt.xticks(np.arange(33), list(range(0,166,5)))  # Set label locations\n",
    "        plt.xticks(np.arange(33), list(range(0,166,5)))  # Set text labels.\n",
    "#         graph.set_xticks(list(range(0,166,5))\n",
    "#         graph.set_xticklabels(list(range(0,166,5))\n",
    "#         plt.xticks(np.arange(0, 165,5))\n",
    "        plt.legend('')\n",
    "    else:\n",
    "        t.plot(kind='bar', figsize=(13,6)).grid(axis='y') #,title=title\n",
    "        plt.title(title,**title_font)\n",
    "    plt.ylabel('Number of Flights',**axis_font)\n",
    "    plt.xlabel(df.columns[a],**axis_font, labelpad=10)\n",
    "    plt.legend('')\n",
    "#     plt.show()"
   ]
  },
  {
   "cell_type": "code",
   "execution_count": 178,
   "metadata": {
    "scrolled": false
   },
   "outputs": [
    {
     "data": {
      "image/png": "[encoded data removed]",
      "text/plain": [
       "<Figure size 936x432 with 1 Axes>"
      ]
     },
     "metadata": {
      "needs_background": "light"
     },
     "output_type": "display_data"
    },
    {
     "data": {
      "image/png": "[encoded data removed]",
      "text/plain": [
       "<Figure size 936x432 with 1 Axes>"
      ]
     },
     "metadata": {
      "needs_background": "light"
     },
     "output_type": "display_data"
    },
    {
     "data": {
      "image/png": "[encoded data removed]",
      "text/plain": [
       "<Figure size 936x432 with 1 Axes>"
      ]
     },
     "metadata": {
      "needs_background": "light"
     },
     "output_type": "display_data"
    },
    {
     "data": {
      "image/png": "[encoded data removed]",
      "text/plain": [
       "<Figure size 936x432 with 1 Axes>"
      ]
     },
     "metadata": {
      "needs_background": "light"
     },
     "output_type": "display_data"
    },
    {
     "data": {
      "image/png": "[encoded data removed]",
      "text/plain": [
       "<Figure size 936x432 with 1 Axes>"
      ]
     },
     "metadata": {
      "needs_background": "light"
     },
     "output_type": "display_data"
    },
    {
     "data": {
      "image/png": "[encoded data removed]",
      "text/plain": [
       "<Figure size 936x432 with 1 Axes>"
      ]
     },
     "metadata": {
      "needs_background": "light"
     },
     "output_type": "display_data"
    }
   ],
   "source": [
    "for i in range(6):\n",
    "    dist_graph(i,'n',-1)"
   ]
  },
  {
   "cell_type": "code",
   "execution_count": 202,
   "metadata": {},
   "outputs": [
    {
     "data": {
      "text/html": [
       "<div>\n",
       "<style scoped>\n",
       "    .dataframe tbody tr th:only-of-type {\n",
       "        vertical-align: middle;\n",
       "    }\n",
       "\n",
       "    .dataframe tbody tr th {\n",
       "        vertical-align: top;\n",
       "    }\n",
       "\n",
       "    .dataframe thead th {\n",
       "        text-align: right;\n",
       "    }\n",
       "</style>\n",
       "<table border=\"1\" class=\"dataframe\">\n",
       "  <thead>\n",
       "    <tr style=\"text-align: right;\">\n",
       "      <th></th>\n",
       "      <th>Passengers Boarded</th>\n",
       "    </tr>\n",
       "  </thead>\n",
       "  <tbody>\n",
       "    <tr>\n",
       "      <td>count</td>\n",
       "      <td>4137.0</td>\n",
       "    </tr>\n",
       "    <tr>\n",
       "      <td>mean</td>\n",
       "      <td>134.0</td>\n",
       "    </tr>\n",
       "    <tr>\n",
       "      <td>std</td>\n",
       "      <td>21.0</td>\n",
       "    </tr>\n",
       "    <tr>\n",
       "      <td>min</td>\n",
       "      <td>49.0</td>\n",
       "    </tr>\n",
       "    <tr>\n",
       "      <td>5%</td>\n",
       "      <td>97.0</td>\n",
       "    </tr>\n",
       "    <tr>\n",
       "      <td>50%</td>\n",
       "      <td>135.0</td>\n",
       "    </tr>\n",
       "    <tr>\n",
       "      <td>95%</td>\n",
       "      <td>165.0</td>\n",
       "    </tr>\n",
       "    <tr>\n",
       "      <td>max</td>\n",
       "      <td>165.0</td>\n",
       "    </tr>\n",
       "  </tbody>\n",
       "</table>\n",
       "</div>"
      ],
      "text/plain": [
       "       Passengers Boarded\n",
       "count              4137.0\n",
       "mean                134.0\n",
       "std                  21.0\n",
       "min                  49.0\n",
       "5%                   97.0\n",
       "50%                 135.0\n",
       "95%                 165.0\n",
       "max                 165.0"
      ]
     },
     "execution_count": 202,
     "metadata": {},
     "output_type": "execute_result"
    }
   ],
   "source": [
    "# Confidence Interval of Non Stock Out Passengers Boarded\n",
    "nso=df2[df2['Stock Out Occurred']==0][['Passengers Boarded']]\n",
    "nso=nso.describe(percentiles=[.05, .5, .95]) \n",
    "nso.round(decimals=0)"
   ]
  },
  {
   "cell_type": "code",
   "execution_count": 199,
   "metadata": {},
   "outputs": [
    {
     "data": {
      "text/html": [
       "<div>\n",
       "<style scoped>\n",
       "    .dataframe tbody tr th:only-of-type {\n",
       "        vertical-align: middle;\n",
       "    }\n",
       "\n",
       "    .dataframe tbody tr th {\n",
       "        vertical-align: top;\n",
       "    }\n",
       "\n",
       "    .dataframe thead th {\n",
       "        text-align: right;\n",
       "    }\n",
       "</style>\n",
       "<table border=\"1\" class=\"dataframe\">\n",
       "  <thead>\n",
       "    <tr style=\"text-align: right;\">\n",
       "      <th></th>\n",
       "      <th>Passengers Boarded</th>\n",
       "    </tr>\n",
       "  </thead>\n",
       "  <tbody>\n",
       "    <tr>\n",
       "      <td>count</td>\n",
       "      <td>4137.0</td>\n",
       "    </tr>\n",
       "    <tr>\n",
       "      <td>mean</td>\n",
       "      <td>134.0</td>\n",
       "    </tr>\n",
       "    <tr>\n",
       "      <td>std</td>\n",
       "      <td>21.0</td>\n",
       "    </tr>\n",
       "    <tr>\n",
       "      <td>min</td>\n",
       "      <td>49.0</td>\n",
       "    </tr>\n",
       "    <tr>\n",
       "      <td>25%</td>\n",
       "      <td>120.0</td>\n",
       "    </tr>\n",
       "    <tr>\n",
       "      <td>50%</td>\n",
       "      <td>135.0</td>\n",
       "    </tr>\n",
       "    <tr>\n",
       "      <td>75%</td>\n",
       "      <td>150.0</td>\n",
       "    </tr>\n",
       "    <tr>\n",
       "      <td>max</td>\n",
       "      <td>165.0</td>\n",
       "    </tr>\n",
       "  </tbody>\n",
       "</table>\n",
       "</div>"
      ],
      "text/plain": [
       "       Passengers Boarded\n",
       "count              4137.0\n",
       "mean                134.0\n",
       "std                  21.0\n",
       "min                  49.0\n",
       "25%                 120.0\n",
       "50%                 135.0\n",
       "75%                 150.0\n",
       "max                 165.0"
      ]
     },
     "execution_count": 199,
     "metadata": {},
     "output_type": "execute_result"
    }
   ],
   "source": [
    "# Confidence Interval of Non Stock Out Passengers Boarded\n",
    "nso=df2[df2['Stock Out Occurred']==0][['Passengers Boarded']]\n",
    "nso=nso.describe(percentiles=[.25, .5, .75]) \n",
    "nso.round(decimals=0)"
   ]
  },
  {
   "cell_type": "code",
   "execution_count": 179,
   "metadata": {},
   "outputs": [
    {
     "data": {
      "image/png": "[encoded data removed]",
      "text/plain": [
       "<Figure size 1440x1080 with 6 Axes>"
      ]
     },
     "metadata": {
      "needs_background": "light"
     },
     "output_type": "display_data"
    }
   ],
   "source": [
    "graphs(df,'ALL DISTRBUTIONS')"
   ]
  },
  {
   "cell_type": "markdown",
   "metadata": {},
   "source": [
    "# 3.ESTIMATING DEMAND"
   ]
  },
  {
   "cell_type": "markdown",
   "metadata": {},
   "source": [
    "## Model Poisson Regression "
   ]
  },
  {
   "cell_type": "code",
   "execution_count": 180,
   "metadata": {},
   "outputs": [],
   "source": [
    "import statsmodels.api as sm\n",
    "from sklearn.model_selection import train_test_split,cross_val_score, KFold\n",
    "from sklearn.preprocessing import StandardScaler\n",
    "from scipy.stats import skew\n",
    "from sklearn.metrics import r2_score\n",
    "# from sklearn.linear_model import LogisticRegression,LinearRegression\n",
    "# from sklearn.metrics import accuracy_score, confusion_matrix"
   ]
  },
  {
   "cell_type": "code",
   "execution_count": 181,
   "metadata": {},
   "outputs": [],
   "source": [
    "# the functin which classify departure hour by three class\n",
    "time_class_dict={ 'early':[0, 7], 'midday':[8, 19],'night':[20,24]}\n",
    "\n",
    "def time_class_maker(value, time_class_dict=time_class_dict):\n",
    "        for k, v in time_class_dict.items():\n",
    "            if (value>=v[0] and value<=v[1]):\n",
    "                return(k)\n",
    "            elif value=='NaN':\n",
    "                return('unknown')# if time is null so it will return to string as 'unknown'"
   ]
  },
  {
   "cell_type": "code",
   "execution_count": 182,
   "metadata": {},
   "outputs": [
    {
     "data": {
      "text/html": [
       "<div>\n",
       "<style scoped>\n",
       "    .dataframe tbody tr th:only-of-type {\n",
       "        vertical-align: middle;\n",
       "    }\n",
       "\n",
       "    .dataframe tbody tr th {\n",
       "        vertical-align: top;\n",
       "    }\n",
       "\n",
       "    .dataframe thead th {\n",
       "        text-align: right;\n",
       "    }\n",
       "</style>\n",
       "<table border=\"1\" class=\"dataframe\">\n",
       "  <thead>\n",
       "    <tr style=\"text-align: right;\">\n",
       "      <th></th>\n",
       "      <th>Dptr Hour</th>\n",
       "      <th>Length of Flight (Hrs)</th>\n",
       "      <th>Day of Week</th>\n",
       "      <th>Passengers Boarded</th>\n",
       "      <th>Stock Out Occurred</th>\n",
       "      <th>Cheese Platters Sold</th>\n",
       "      <th>Week Part</th>\n",
       "    </tr>\n",
       "  </thead>\n",
       "  <tbody>\n",
       "    <tr>\n",
       "      <td>0</td>\n",
       "      <td>8</td>\n",
       "      <td>1</td>\n",
       "      <td>2</td>\n",
       "      <td>144</td>\n",
       "      <td>0</td>\n",
       "      <td>18</td>\n",
       "      <td>Weekday</td>\n",
       "    </tr>\n",
       "    <tr>\n",
       "      <td>1</td>\n",
       "      <td>5</td>\n",
       "      <td>3</td>\n",
       "      <td>1</td>\n",
       "      <td>152</td>\n",
       "      <td>0</td>\n",
       "      <td>15</td>\n",
       "      <td>Weekday</td>\n",
       "    </tr>\n",
       "    <tr>\n",
       "      <td>2</td>\n",
       "      <td>4</td>\n",
       "      <td>2</td>\n",
       "      <td>4</td>\n",
       "      <td>150</td>\n",
       "      <td>0</td>\n",
       "      <td>16</td>\n",
       "      <td>Weekday</td>\n",
       "    </tr>\n",
       "    <tr>\n",
       "      <td>3</td>\n",
       "      <td>6</td>\n",
       "      <td>2</td>\n",
       "      <td>4</td>\n",
       "      <td>131</td>\n",
       "      <td>0</td>\n",
       "      <td>13</td>\n",
       "      <td>Weekday</td>\n",
       "    </tr>\n",
       "    <tr>\n",
       "      <td>4</td>\n",
       "      <td>5</td>\n",
       "      <td>6</td>\n",
       "      <td>4</td>\n",
       "      <td>164</td>\n",
       "      <td>0</td>\n",
       "      <td>18</td>\n",
       "      <td>Weekday</td>\n",
       "    </tr>\n",
       "  </tbody>\n",
       "</table>\n",
       "</div>"
      ],
      "text/plain": [
       "   Dptr Hour  Length of Flight (Hrs)  Day of Week  Passengers Boarded  \\\n",
       "0          8                       1            2                 144   \n",
       "1          5                       3            1                 152   \n",
       "2          4                       2            4                 150   \n",
       "3          6                       2            4                 131   \n",
       "4          5                       6            4                 164   \n",
       "\n",
       "   Stock Out Occurred  Cheese Platters Sold Week Part  \n",
       "0                   0                    18   Weekday  \n",
       "1                   0                    15   Weekday  \n",
       "2                   0                    16   Weekday  \n",
       "3                   0                    13   Weekday  \n",
       "4                   0                    18   Weekday  "
      ]
     },
     "execution_count": 182,
     "metadata": {},
     "output_type": "execute_result"
    }
   ],
   "source": [
    "df3=df2\n",
    "df3.head()"
   ]
  },
  {
   "cell_type": "code",
   "execution_count": 183,
   "metadata": {},
   "outputs": [],
   "source": [
    "df3['Hour Class']=df3['Dptr Hour'].map(lambda x: time_class_maker(x))\n",
    "\n",
    "# convert numeric features to string format\n",
    "df3['Dptr Hour']=df3['Dptr Hour'].astype(str) # convert to categorical feature\n",
    "df3['Day of Week']=df3['Day of Week'].astype(str) # convert to categorical feature"
   ]
  },
  {
   "cell_type": "code",
   "execution_count": 184,
   "metadata": {},
   "outputs": [
    {
     "data": {
      "text/html": [
       "<div>\n",
       "<style scoped>\n",
       "    .dataframe tbody tr th:only-of-type {\n",
       "        vertical-align: middle;\n",
       "    }\n",
       "\n",
       "    .dataframe tbody tr th {\n",
       "        vertical-align: top;\n",
       "    }\n",
       "\n",
       "    .dataframe thead th {\n",
       "        text-align: right;\n",
       "    }\n",
       "</style>\n",
       "<table border=\"1\" class=\"dataframe\">\n",
       "  <thead>\n",
       "    <tr style=\"text-align: right;\">\n",
       "      <th></th>\n",
       "      <th>Dptr Hour</th>\n",
       "      <th>Length of Flight (Hrs)</th>\n",
       "      <th>Day of Week</th>\n",
       "      <th>Passengers Boarded</th>\n",
       "      <th>Stock Out Occurred</th>\n",
       "      <th>Cheese Platters Sold</th>\n",
       "      <th>Week Part</th>\n",
       "      <th>Hour Class</th>\n",
       "    </tr>\n",
       "  </thead>\n",
       "  <tbody>\n",
       "    <tr>\n",
       "      <td>0</td>\n",
       "      <td>8</td>\n",
       "      <td>1</td>\n",
       "      <td>2</td>\n",
       "      <td>144</td>\n",
       "      <td>0</td>\n",
       "      <td>18</td>\n",
       "      <td>Weekday</td>\n",
       "      <td>midday</td>\n",
       "    </tr>\n",
       "    <tr>\n",
       "      <td>1</td>\n",
       "      <td>5</td>\n",
       "      <td>3</td>\n",
       "      <td>1</td>\n",
       "      <td>152</td>\n",
       "      <td>0</td>\n",
       "      <td>15</td>\n",
       "      <td>Weekday</td>\n",
       "      <td>early</td>\n",
       "    </tr>\n",
       "    <tr>\n",
       "      <td>2</td>\n",
       "      <td>4</td>\n",
       "      <td>2</td>\n",
       "      <td>4</td>\n",
       "      <td>150</td>\n",
       "      <td>0</td>\n",
       "      <td>16</td>\n",
       "      <td>Weekday</td>\n",
       "      <td>early</td>\n",
       "    </tr>\n",
       "    <tr>\n",
       "      <td>3</td>\n",
       "      <td>6</td>\n",
       "      <td>2</td>\n",
       "      <td>4</td>\n",
       "      <td>131</td>\n",
       "      <td>0</td>\n",
       "      <td>13</td>\n",
       "      <td>Weekday</td>\n",
       "      <td>early</td>\n",
       "    </tr>\n",
       "    <tr>\n",
       "      <td>4</td>\n",
       "      <td>5</td>\n",
       "      <td>6</td>\n",
       "      <td>4</td>\n",
       "      <td>164</td>\n",
       "      <td>0</td>\n",
       "      <td>18</td>\n",
       "      <td>Weekday</td>\n",
       "      <td>early</td>\n",
       "    </tr>\n",
       "  </tbody>\n",
       "</table>\n",
       "</div>"
      ],
      "text/plain": [
       "  Dptr Hour  Length of Flight (Hrs) Day of Week  Passengers Boarded  \\\n",
       "0         8                       1           2                 144   \n",
       "1         5                       3           1                 152   \n",
       "2         4                       2           4                 150   \n",
       "3         6                       2           4                 131   \n",
       "4         5                       6           4                 164   \n",
       "\n",
       "   Stock Out Occurred  Cheese Platters Sold Week Part Hour Class  \n",
       "0                   0                    18   Weekday     midday  \n",
       "1                   0                    15   Weekday      early  \n",
       "2                   0                    16   Weekday      early  \n",
       "3                   0                    13   Weekday      early  \n",
       "4                   0                    18   Weekday      early  "
      ]
     },
     "execution_count": 184,
     "metadata": {},
     "output_type": "execute_result"
    }
   ],
   "source": [
    "df3.head()"
   ]
  },
  {
   "cell_type": "code",
   "execution_count": 185,
   "metadata": {},
   "outputs": [
    {
     "data": {
      "text/plain": [
       "Dptr Hour                 object\n",
       "Length of Flight (Hrs)     int64\n",
       "Day of Week               object\n",
       "Passengers Boarded         int64\n",
       "Stock Out Occurred         int64\n",
       "Cheese Platters Sold       int64\n",
       "Week Part                 object\n",
       "Hour Class                object\n",
       "dtype: object"
      ]
     },
     "execution_count": 185,
     "metadata": {},
     "output_type": "execute_result"
    }
   ],
   "source": [
    "df3.dtypes"
   ]
  },
  {
   "cell_type": "code",
   "execution_count": 186,
   "metadata": {},
   "outputs": [
    {
     "data": {
      "text/html": [
       "<div>\n",
       "<style scoped>\n",
       "    .dataframe tbody tr th:only-of-type {\n",
       "        vertical-align: middle;\n",
       "    }\n",
       "\n",
       "    .dataframe tbody tr th {\n",
       "        vertical-align: top;\n",
       "    }\n",
       "\n",
       "    .dataframe thead th {\n",
       "        text-align: right;\n",
       "    }\n",
       "</style>\n",
       "<table border=\"1\" class=\"dataframe\">\n",
       "  <thead>\n",
       "    <tr style=\"text-align: right;\">\n",
       "      <th></th>\n",
       "      <th>Length of Flight (Hrs)</th>\n",
       "      <th>Passengers Boarded</th>\n",
       "      <th>Cheese Platters Sold</th>\n",
       "      <th>Week Part_Weekday</th>\n",
       "      <th>Week Part_Weekend</th>\n",
       "      <th>Hour Class_early</th>\n",
       "      <th>Hour Class_midday</th>\n",
       "      <th>Hour Class_night</th>\n",
       "    </tr>\n",
       "  </thead>\n",
       "  <tbody>\n",
       "    <tr>\n",
       "      <td>0</td>\n",
       "      <td>1</td>\n",
       "      <td>144</td>\n",
       "      <td>18</td>\n",
       "      <td>1</td>\n",
       "      <td>0</td>\n",
       "      <td>0</td>\n",
       "      <td>1</td>\n",
       "      <td>0</td>\n",
       "    </tr>\n",
       "    <tr>\n",
       "      <td>1</td>\n",
       "      <td>3</td>\n",
       "      <td>152</td>\n",
       "      <td>15</td>\n",
       "      <td>1</td>\n",
       "      <td>0</td>\n",
       "      <td>1</td>\n",
       "      <td>0</td>\n",
       "      <td>0</td>\n",
       "    </tr>\n",
       "    <tr>\n",
       "      <td>2</td>\n",
       "      <td>2</td>\n",
       "      <td>150</td>\n",
       "      <td>16</td>\n",
       "      <td>1</td>\n",
       "      <td>0</td>\n",
       "      <td>1</td>\n",
       "      <td>0</td>\n",
       "      <td>0</td>\n",
       "    </tr>\n",
       "    <tr>\n",
       "      <td>3</td>\n",
       "      <td>2</td>\n",
       "      <td>131</td>\n",
       "      <td>13</td>\n",
       "      <td>1</td>\n",
       "      <td>0</td>\n",
       "      <td>1</td>\n",
       "      <td>0</td>\n",
       "      <td>0</td>\n",
       "    </tr>\n",
       "    <tr>\n",
       "      <td>4</td>\n",
       "      <td>6</td>\n",
       "      <td>164</td>\n",
       "      <td>18</td>\n",
       "      <td>1</td>\n",
       "      <td>0</td>\n",
       "      <td>1</td>\n",
       "      <td>0</td>\n",
       "      <td>0</td>\n",
       "    </tr>\n",
       "  </tbody>\n",
       "</table>\n",
       "</div>"
      ],
      "text/plain": [
       "   Length of Flight (Hrs)  Passengers Boarded  Cheese Platters Sold  \\\n",
       "0                       1                 144                    18   \n",
       "1                       3                 152                    15   \n",
       "2                       2                 150                    16   \n",
       "3                       2                 131                    13   \n",
       "4                       6                 164                    18   \n",
       "\n",
       "   Week Part_Weekday  Week Part_Weekend  Hour Class_early  Hour Class_midday  \\\n",
       "0                  1                  0                 0                  1   \n",
       "1                  1                  0                 1                  0   \n",
       "2                  1                  0                 1                  0   \n",
       "3                  1                  0                 1                  0   \n",
       "4                  1                  0                 1                  0   \n",
       "\n",
       "   Hour Class_night  \n",
       "0                 0  \n",
       "1                 0  \n",
       "2                 0  \n",
       "3                 0  \n",
       "4                 0  "
      ]
     },
     "execution_count": 186,
     "metadata": {},
     "output_type": "execute_result"
    }
   ],
   "source": [
    "df3=df3[['Week Part','Hour Class','Length of Flight (Hrs)',\n",
    "       'Passengers Boarded', 'Cheese Platters Sold']] \n",
    "df3=pd.get_dummies(df3)\n",
    "df3.head()"
   ]
  },
  {
   "cell_type": "code",
   "execution_count": 187,
   "metadata": {},
   "outputs": [
    {
     "name": "stdout",
     "output_type": "stream",
     "text": [
      "                  Generalized Linear Model Regression Results                   \n",
      "================================================================================\n",
      "Dep. Variable:     Cheese Platters Sold   No. Observations:                 3750\n",
      "Model:                              GLM   Df Residuals:                     3744\n",
      "Model Family:                   Poisson   Df Model:                            5\n",
      "Link Function:                      log   Scale:                          1.0000\n",
      "Method:                            IRLS   Log-Likelihood:                -8698.6\n",
      "Date:                  Sun, 22 Mar 2020   Deviance:                       182.64\n",
      "Time:                          18:44:18   Pearson chi2:                     182.\n",
      "No. Iterations:                       4                                         \n",
      "Covariance Type:              nonrobust                                         \n",
      "==========================================================================================\n",
      "                             coef    std err          z      P>|z|      [0.025      0.975]\n",
      "------------------------------------------------------------------------------------------\n",
      "const                      1.5827      0.031     50.891      0.000       1.522       1.644\n",
      "Length of Flight (Hrs)     0.0138      0.002      5.769      0.000       0.009       0.018\n",
      "Passengers Boarded         0.0069      0.000     34.671      0.000       0.006       0.007\n",
      "Week Part_Weekday          0.0727      0.009      7.867      0.000       0.055       0.091\n",
      "Hour Class_night           0.0036      0.012      0.292      0.770      -0.020       0.028\n",
      "Hour Class_midday          0.2323      0.009     24.503      0.000       0.214       0.251\n",
      "==========================================================================================\n"
     ]
    }
   ],
   "source": [
    "features=['Length of Flight (Hrs)','Passengers Boarded','Week Part_Weekday',\n",
    "          'Hour Class_night','Hour Class_midday']#,'Week Part_Weekend','Hour Class_early'--the base features for categories\n",
    "X=df3[features]\n",
    "y=df3['Cheese Platters Sold']\n",
    "X=sm.add_constant(X)\n",
    "X_train,X_test, y_train, y_test=train_test_split(X,y, test_size=0.25, random_state=42)\n",
    "\n",
    "#Using the statsmodels GLM class, train the Poisson regression model on the training data set.\n",
    "poisson_training_results = sm.GLM(y_train, X_train, family=sm.families.Poisson()).fit()\n",
    "#Print the training summary.\n",
    "print(poisson_training_results.summary())"
   ]
  },
  {
   "cell_type": "code",
   "execution_count": 188,
   "metadata": {},
   "outputs": [],
   "source": [
    "poisson_train_predictions = poisson_training_results.get_prediction(X_train)\n",
    "predictions_summary_frame = poisson_train_predictions.summary_frame()\n",
    "y_train_pred_poisson=predictions_summary_frame['mean']\n",
    "\n",
    "#Make some predictions on the test data set.\n",
    "poisson_test_predictions = poisson_training_results.get_prediction(X_test)\n",
    "predictions_summary_frame2 = poisson_test_predictions.summary_frame()\n",
    "y_test_pred_poisson=predictions_summary_frame2['mean']\n",
    "# print(predictions_summary_frame)"
   ]
  },
  {
   "cell_type": "code",
   "execution_count": 189,
   "metadata": {},
   "outputs": [
    {
     "name": "stdout",
     "output_type": "stream",
     "text": [
      "                  Generalized Linear Model Regression Results                   \n",
      "================================================================================\n",
      "Dep. Variable:     Cheese Platters Sold   No. Observations:                 3750\n",
      "Model:                              GLM   Df Residuals:                     3745\n",
      "Model Family:                   Poisson   Df Model:                            4\n",
      "Link Function:                      log   Scale:                          1.0000\n",
      "Method:                            IRLS   Log-Likelihood:                -8698.6\n",
      "Date:                  Sun, 22 Mar 2020   Deviance:                       182.73\n",
      "Time:                          18:44:20   Pearson chi2:                     182.\n",
      "No. Iterations:                       4                                         \n",
      "Covariance Type:              nonrobust                                         \n",
      "==========================================================================================\n",
      "                             coef    std err          z      P>|z|      [0.025      0.975]\n",
      "------------------------------------------------------------------------------------------\n",
      "const                      1.5839      0.031     51.380      0.000       1.524       1.644\n",
      "Length of Flight (Hrs)     0.0138      0.002      5.768      0.000       0.009       0.018\n",
      "Passengers Boarded         0.0069      0.000     34.679      0.000       0.006       0.007\n",
      "Week Part_Weekday          0.0728      0.009      7.880      0.000       0.055       0.091\n",
      "Hour Class_midday          0.2310      0.008     28.071      0.000       0.215       0.247\n",
      "==========================================================================================\n"
     ]
    }
   ],
   "source": [
    "# drop the \"Hour Class_night\" feature from the features table\n",
    "features=['Length of Flight (Hrs)','Passengers Boarded',\n",
    "          'Week Part_Weekday','Hour Class_midday']#,'Week Part_Weekend','Hour Class_early','Hour Class_night'\n",
    "X=df3[features]\n",
    "y=df3['Cheese Platters Sold']\n",
    "X=sm.add_constant(X)\n",
    "X_train,X_test, y_train, y_test=train_test_split(X,y, test_size=0.25, random_state=42)\n",
    "\n",
    "#Using the statsmodels GLM class, train the Poisson regression model on the training data set.\n",
    "poisson_training_results = sm.GLM(y_train, X_train, family=sm.families.Poisson()).fit() #Poisson\n",
    "#Print the training summary.\n",
    "print(poisson_training_results.summary())"
   ]
  },
  {
   "cell_type": "code",
   "execution_count": 190,
   "metadata": {
    "scrolled": false
   },
   "outputs": [
    {
     "name": "stdout",
     "output_type": "stream",
     "text": [
      "min predict value: 9.0\n",
      "max predict value: 22.0\n"
     ]
    },
    {
     "data": {
      "image/png": "[encoded data removed]",
      "text/plain": [
       "<Figure size 648x648 with 1 Axes>"
      ]
     },
     "metadata": {
      "needs_background": "light"
     },
     "output_type": "display_data"
    }
   ],
   "source": [
    "#Predictin vs Actual Sales Graph\n",
    "plt.figure(figsize=(9,9))\n",
    "plt.scatter(y_test_pred_poisson,y_test, c='k')\n",
    "plt.xlabel('predicted sales',**axis_font, labelpad=10)\n",
    "plt.ylabel('actual sales',**axis_font)\n",
    "plt.title(' Q-Q PLOT (Actual versus Predicted Sales)',**title_font)\n",
    "plt.plot( [0, np.max(y_test_pred_poisson)], [0, np.max(y_test_pred_poisson)], c = 'r')\n",
    "print('min predict value:', np.round(y_test_pred_poisson.min()))\n",
    "print('max predict value:', np.round( y_test_pred_poisson.max()))"
   ]
  },
  {
   "cell_type": "code",
   "execution_count": 191,
   "metadata": {},
   "outputs": [
    {
     "data": {
      "text/plain": [
       "[<matplotlib.lines.Line2D at 0x1a277fb150>]"
      ]
     },
     "execution_count": 191,
     "metadata": {},
     "output_type": "execute_result"
    },
    {
     "data": {
      "image/png": "[encoded data removed]",
      "text/plain": [
       "<Figure size 648x648 with 1 Axes>"
      ]
     },
     "metadata": {
      "needs_background": "light"
     },
     "output_type": "display_data"
    }
   ],
   "source": [
    "# Take average of the predict values by grouping actual sold values\n",
    "x=pd.DataFrame(data=[y_test.values,y_test_pred_poisson.values]).T\n",
    "x=x.rename(columns={0:'actual', 1:'predictions'})\n",
    "x2=x.groupby(['actual']).mean().round()\n",
    "plt.figure(figsize=(9,9))\n",
    "plt.scatter(x2['predictions'],x2.index, c='k')\n",
    "plt.xlabel('average of predicted sales')\n",
    "plt.ylabel('actual sales')\n",
    "plt.title(' Q-Q PLOT (Actual versus Average of Predicted Sales)')\n",
    "plt.plot( [0, np.max(y_test_pred_poisson)], [0, np.max(y_test_pred_poisson)], c = 'r')"
   ]
  },
  {
   "cell_type": "code",
   "execution_count": 192,
   "metadata": {},
   "outputs": [],
   "source": [
    "# plt.figure(figsize=(9,9))\n",
    "\n",
    "# plt.bar(x2['predictions'],x2.index, c='k')\n",
    "# plt.xlabel('average of predicted sales')\n",
    "# plt.ylabel('actual sales')\n",
    "# plt.title(' Q-Q PLOT (Actual versus Average of Predicted Sales)')\n",
    "\n",
    "# plt.plot( [0, np.max(y_test_pred_poisson)], [0, np.max(y_test_pred_poisson)], c = 'r')"
   ]
  },
  {
   "cell_type": "code",
   "execution_count": 193,
   "metadata": {},
   "outputs": [],
   "source": [
    "# list(range(5,31))"
   ]
  },
  {
   "cell_type": "code",
   "execution_count": 194,
   "metadata": {},
   "outputs": [],
   "source": [
    "# x2"
   ]
  },
  {
   "cell_type": "code",
   "execution_count": null,
   "metadata": {},
   "outputs": [],
   "source": []
  },
  {
   "cell_type": "code",
   "execution_count": null,
   "metadata": {},
   "outputs": [],
   "source": []
  },
  {
   "cell_type": "markdown",
   "metadata": {},
   "source": [
    "### Model 2- Unsold"
   ]
  },
  {
   "cell_type": "code",
   "execution_count": 269,
   "metadata": {},
   "outputs": [
    {
     "data": {
      "text/html": [
       "<div>\n",
       "<style scoped>\n",
       "    .dataframe tbody tr th:only-of-type {\n",
       "        vertical-align: middle;\n",
       "    }\n",
       "\n",
       "    .dataframe tbody tr th {\n",
       "        vertical-align: top;\n",
       "    }\n",
       "\n",
       "    .dataframe thead th {\n",
       "        text-align: right;\n",
       "    }\n",
       "</style>\n",
       "<table border=\"1\" class=\"dataframe\">\n",
       "  <thead>\n",
       "    <tr style=\"text-align: right;\">\n",
       "      <th></th>\n",
       "      <th>Dptr Hour</th>\n",
       "      <th>Length of Flight (Hrs)</th>\n",
       "      <th>Day of Week</th>\n",
       "      <th>Passengers Boarded</th>\n",
       "      <th>Stock Out Occurred</th>\n",
       "      <th>Cheese Platters Sold</th>\n",
       "      <th>Week Part</th>\n",
       "      <th>Hour Class</th>\n",
       "      <th>Unsold Cheese Platters</th>\n",
       "    </tr>\n",
       "  </thead>\n",
       "  <tbody>\n",
       "    <tr>\n",
       "      <td>0</td>\n",
       "      <td>8</td>\n",
       "      <td>1</td>\n",
       "      <td>2</td>\n",
       "      <td>144</td>\n",
       "      <td>0</td>\n",
       "      <td>18</td>\n",
       "      <td>Weekday</td>\n",
       "      <td>midday</td>\n",
       "      <td>2</td>\n",
       "    </tr>\n",
       "    <tr>\n",
       "      <td>1</td>\n",
       "      <td>5</td>\n",
       "      <td>3</td>\n",
       "      <td>1</td>\n",
       "      <td>152</td>\n",
       "      <td>0</td>\n",
       "      <td>15</td>\n",
       "      <td>Weekday</td>\n",
       "      <td>early</td>\n",
       "      <td>5</td>\n",
       "    </tr>\n",
       "    <tr>\n",
       "      <td>2</td>\n",
       "      <td>4</td>\n",
       "      <td>2</td>\n",
       "      <td>4</td>\n",
       "      <td>150</td>\n",
       "      <td>0</td>\n",
       "      <td>16</td>\n",
       "      <td>Weekday</td>\n",
       "      <td>early</td>\n",
       "      <td>4</td>\n",
       "    </tr>\n",
       "    <tr>\n",
       "      <td>3</td>\n",
       "      <td>6</td>\n",
       "      <td>2</td>\n",
       "      <td>4</td>\n",
       "      <td>131</td>\n",
       "      <td>0</td>\n",
       "      <td>13</td>\n",
       "      <td>Weekday</td>\n",
       "      <td>early</td>\n",
       "      <td>7</td>\n",
       "    </tr>\n",
       "    <tr>\n",
       "      <td>4</td>\n",
       "      <td>5</td>\n",
       "      <td>6</td>\n",
       "      <td>4</td>\n",
       "      <td>164</td>\n",
       "      <td>0</td>\n",
       "      <td>18</td>\n",
       "      <td>Weekday</td>\n",
       "      <td>early</td>\n",
       "      <td>2</td>\n",
       "    </tr>\n",
       "  </tbody>\n",
       "</table>\n",
       "</div>"
      ],
      "text/plain": [
       "  Dptr Hour  Length of Flight (Hrs) Day of Week  Passengers Boarded  \\\n",
       "0         8                       1           2                 144   \n",
       "1         5                       3           1                 152   \n",
       "2         4                       2           4                 150   \n",
       "3         6                       2           4                 131   \n",
       "4         5                       6           4                 164   \n",
       "\n",
       "   Stock Out Occurred  Cheese Platters Sold Week Part Hour Class  \\\n",
       "0                   0                    18   Weekday     midday   \n",
       "1                   0                    15   Weekday      early   \n",
       "2                   0                    16   Weekday      early   \n",
       "3                   0                    13   Weekday      early   \n",
       "4                   0                    18   Weekday      early   \n",
       "\n",
       "   Unsold Cheese Platters  \n",
       "0                       2  \n",
       "1                       5  \n",
       "2                       4  \n",
       "3                       7  \n",
       "4                       2  "
      ]
     },
     "execution_count": 269,
     "metadata": {},
     "output_type": "execute_result"
    }
   ],
   "source": [
    "df7=df2\n",
    "df7['Unsold Cheese Platters']=20-df7['Cheese Platters Sold']\n",
    "df7.head()"
   ]
  },
  {
   "cell_type": "code",
   "execution_count": 270,
   "metadata": {},
   "outputs": [
    {
     "data": {
      "text/html": [
       "<div>\n",
       "<style scoped>\n",
       "    .dataframe tbody tr th:only-of-type {\n",
       "        vertical-align: middle;\n",
       "    }\n",
       "\n",
       "    .dataframe tbody tr th {\n",
       "        vertical-align: top;\n",
       "    }\n",
       "\n",
       "    .dataframe thead th {\n",
       "        text-align: right;\n",
       "    }\n",
       "</style>\n",
       "<table border=\"1\" class=\"dataframe\">\n",
       "  <thead>\n",
       "    <tr style=\"text-align: right;\">\n",
       "      <th></th>\n",
       "      <th>Length of Flight (Hrs)</th>\n",
       "      <th>Passengers Boarded</th>\n",
       "      <th>Unsold Cheese Platters</th>\n",
       "      <th>Week Part_Weekday</th>\n",
       "      <th>Week Part_Weekend</th>\n",
       "      <th>Hour Class_early</th>\n",
       "      <th>Hour Class_midday</th>\n",
       "      <th>Hour Class_night</th>\n",
       "    </tr>\n",
       "  </thead>\n",
       "  <tbody>\n",
       "    <tr>\n",
       "      <td>0</td>\n",
       "      <td>1</td>\n",
       "      <td>144</td>\n",
       "      <td>2</td>\n",
       "      <td>1</td>\n",
       "      <td>0</td>\n",
       "      <td>0</td>\n",
       "      <td>1</td>\n",
       "      <td>0</td>\n",
       "    </tr>\n",
       "    <tr>\n",
       "      <td>1</td>\n",
       "      <td>3</td>\n",
       "      <td>152</td>\n",
       "      <td>5</td>\n",
       "      <td>1</td>\n",
       "      <td>0</td>\n",
       "      <td>1</td>\n",
       "      <td>0</td>\n",
       "      <td>0</td>\n",
       "    </tr>\n",
       "    <tr>\n",
       "      <td>2</td>\n",
       "      <td>2</td>\n",
       "      <td>150</td>\n",
       "      <td>4</td>\n",
       "      <td>1</td>\n",
       "      <td>0</td>\n",
       "      <td>1</td>\n",
       "      <td>0</td>\n",
       "      <td>0</td>\n",
       "    </tr>\n",
       "    <tr>\n",
       "      <td>3</td>\n",
       "      <td>2</td>\n",
       "      <td>131</td>\n",
       "      <td>7</td>\n",
       "      <td>1</td>\n",
       "      <td>0</td>\n",
       "      <td>1</td>\n",
       "      <td>0</td>\n",
       "      <td>0</td>\n",
       "    </tr>\n",
       "    <tr>\n",
       "      <td>4</td>\n",
       "      <td>6</td>\n",
       "      <td>164</td>\n",
       "      <td>2</td>\n",
       "      <td>1</td>\n",
       "      <td>0</td>\n",
       "      <td>1</td>\n",
       "      <td>0</td>\n",
       "      <td>0</td>\n",
       "    </tr>\n",
       "  </tbody>\n",
       "</table>\n",
       "</div>"
      ],
      "text/plain": [
       "   Length of Flight (Hrs)  Passengers Boarded  Unsold Cheese Platters  \\\n",
       "0                       1                 144                       2   \n",
       "1                       3                 152                       5   \n",
       "2                       2                 150                       4   \n",
       "3                       2                 131                       7   \n",
       "4                       6                 164                       2   \n",
       "\n",
       "   Week Part_Weekday  Week Part_Weekend  Hour Class_early  Hour Class_midday  \\\n",
       "0                  1                  0                 0                  1   \n",
       "1                  1                  0                 1                  0   \n",
       "2                  1                  0                 1                  0   \n",
       "3                  1                  0                 1                  0   \n",
       "4                  1                  0                 1                  0   \n",
       "\n",
       "   Hour Class_night  \n",
       "0                 0  \n",
       "1                 0  \n",
       "2                 0  \n",
       "3                 0  \n",
       "4                 0  "
      ]
     },
     "execution_count": 270,
     "metadata": {},
     "output_type": "execute_result"
    }
   ],
   "source": [
    "df7=df7[['Week Part','Hour Class','Length of Flight (Hrs)',\n",
    "       'Passengers Boarded', 'Unsold Cheese Platters']] \n",
    "df7=pd.get_dummies(df7)\n",
    "df7.head()"
   ]
  },
  {
   "cell_type": "code",
   "execution_count": 271,
   "metadata": {},
   "outputs": [],
   "source": [
    "features=['Length of Flight (Hrs)','Passengers Boarded','Week Part_Weekday','Hour Class_night','Hour Class_midday']#,'Week Part_Weekend','Hour Class_early'\n",
    "X=df7[features]\n",
    "y=df7['Unsold Cheese Platters']\n",
    "\n",
    "X=sm.add_constant(X)\n",
    "\n",
    "X_train,X_test, y_train, y_test=train_test_split(X,y, test_size=0.25, random_state=42)"
   ]
  },
  {
   "cell_type": "code",
   "execution_count": 272,
   "metadata": {},
   "outputs": [
    {
     "name": "stdout",
     "output_type": "stream",
     "text": [
      "                   Generalized Linear Model Regression Results                    \n",
      "==================================================================================\n",
      "Dep. Variable:     Unsold Cheese Platters   No. Observations:                 3750\n",
      "Model:                                GLM   Df Residuals:                     3744\n",
      "Model Family:                     Poisson   Df Model:                            5\n",
      "Link Function:                        log   Scale:                          1.0000\n",
      "Method:                              IRLS   Log-Likelihood:                -6549.1\n",
      "Date:                    Sun, 22 Mar 2020   Deviance:                       2734.9\n",
      "Time:                            22:14:11   Pearson chi2:                 1.97e+03\n",
      "No. Iterations:                         5                                         \n",
      "Covariance Type:                nonrobust                                         \n",
      "==========================================================================================\n",
      "                             coef    std err          z      P>|z|      [0.025      0.975]\n",
      "------------------------------------------------------------------------------------------\n",
      "const                      5.1143      0.048    105.791      0.000       5.020       5.209\n",
      "Length of Flight (Hrs)    -0.0554      0.005    -11.827      0.000      -0.065      -0.046\n",
      "Passengers Boarded        -0.0223      0.000    -67.234      0.000      -0.023      -0.022\n",
      "Week Part_Weekday         -0.2680      0.017    -15.785      0.000      -0.301      -0.235\n",
      "Hour Class_night          -0.0010      0.019     -0.051      0.959      -0.039       0.037\n",
      "Hour Class_midday         -0.9631      0.020    -49.165      0.000      -1.001      -0.925\n",
      "==========================================================================================\n"
     ]
    }
   ],
   "source": [
    "#Using the statsmodels GLM class, train the Poisson regression model on the training data set.\n",
    "poisson_training_results = sm.GLM(y_train, X_train, family=sm.families.Poisson()).fit() #Poisson\n",
    "\n",
    "#Print the training summary.\n",
    "print(poisson_training_results.summary())"
   ]
  },
  {
   "cell_type": "code",
   "execution_count": 273,
   "metadata": {},
   "outputs": [
    {
     "name": "stdout",
     "output_type": "stream",
     "text": [
      "                   Generalized Linear Model Regression Results                    \n",
      "==================================================================================\n",
      "Dep. Variable:     Unsold Cheese Platters   No. Observations:                 3750\n",
      "Model:                                GLM   Df Residuals:                     3745\n",
      "Model Family:                     Poisson   Df Model:                            4\n",
      "Link Function:                        log   Scale:                          1.0000\n",
      "Method:                              IRLS   Log-Likelihood:                -6549.1\n",
      "Date:                    Sun, 22 Mar 2020   Deviance:                       2734.9\n",
      "Time:                            22:14:12   Pearson chi2:                 1.97e+03\n",
      "No. Iterations:                         5                                         \n",
      "Covariance Type:                nonrobust                                         \n",
      "==========================================================================================\n",
      "                             coef    std err          z      P>|z|      [0.025      0.975]\n",
      "------------------------------------------------------------------------------------------\n",
      "const                      5.1140      0.048    106.668      0.000       5.020       5.208\n",
      "Length of Flight (Hrs)    -0.0554      0.005    -11.828      0.000      -0.065      -0.046\n",
      "Passengers Boarded        -0.0223      0.000    -67.241      0.000      -0.023      -0.022\n",
      "Week Part_Weekday         -0.2681      0.017    -15.789      0.000      -0.301      -0.235\n",
      "Hour Class_midday         -0.9627      0.018    -52.821      0.000      -0.998      -0.927\n",
      "==========================================================================================\n"
     ]
    }
   ],
   "source": [
    "features=['Length of Flight (Hrs)','Passengers Boarded','Week Part_Weekday','Hour Class_midday']#,'Week Part_Weekend','Hour Class_early','Hour Class_night'\n",
    "X=df7[features]\n",
    "y=df7['Unsold Cheese Platters']\n",
    "\n",
    "X=sm.add_constant(X)\n",
    "\n",
    "X_train,X_test, y_train, y_test=train_test_split(X,y, test_size=0.25, random_state=42)\n",
    "\n",
    "#Using the statsmodels GLM class, train the Poisson regression model on the training data set.\n",
    "poisson_training_results = sm.GLM(y_train, X_train, family=sm.families.Poisson()).fit() #Poisson\n",
    "\n",
    "#Print the training summary.\n",
    "print(poisson_training_results.summary())"
   ]
  },
  {
   "cell_type": "code",
   "execution_count": 274,
   "metadata": {},
   "outputs": [],
   "source": [
    "#Make some predictions on the test data set.\n",
    "poisson_test_predictions = poisson_training_results.get_prediction(X_test)\n",
    "predictions_summary_frame2 = poisson_test_predictions.summary_frame()\n",
    "y_test_pred_poisson=predictions_summary_frame2['mean']\n",
    "# print(predictions_summary_frame)"
   ]
  },
  {
   "cell_type": "code",
   "execution_count": 275,
   "metadata": {},
   "outputs": [
    {
     "name": "stdout",
     "output_type": "stream",
     "text": [
      "min predict value: 1.0\n",
      "max predict value: 23.0\n"
     ]
    },
    {
     "data": {
      "image/png": "[encoded data removed]",
      "text/plain": [
       "<Figure size 648x648 with 1 Axes>"
      ]
     },
     "metadata": {
      "needs_background": "light"
     },
     "output_type": "display_data"
    }
   ],
   "source": [
    "plt.figure(figsize=(9,9))\n",
    "\n",
    "plt.scatter(y_test_pred_poisson,y_test, c='k')\n",
    "plt.xlabel('predicted Unsold Platters')\n",
    "plt.ylabel('actual Unsold Platters')\n",
    "plt.title(' Q-Q PLOT (Actual Unsold versus Predicted Unsold Platters)')\n",
    "\n",
    "plt.plot( [0, np.max(y_test_pred_poisson)], [0, np.max(y_test_pred_poisson)], c = 'r')\n",
    "\n",
    "print('min predict value:', np.round(y_test_pred_poisson.min()))\n",
    "print('max predict value:', np.round( y_test_pred_poisson.max()))"
   ]
  },
  {
   "cell_type": "code",
   "execution_count": 276,
   "metadata": {},
   "outputs": [],
   "source": [
    "y_test_pred_poisson=20-y_test_pred_poisson\n",
    "y_test=20-y_test"
   ]
  },
  {
   "cell_type": "code",
   "execution_count": 277,
   "metadata": {},
   "outputs": [
    {
     "name": "stdout",
     "output_type": "stream",
     "text": [
      "min predict value: -3.0\n",
      "max predict value: 19.0\n"
     ]
    },
    {
     "data": {
      "image/png": "[encoded data removed]",
      "text/plain": [
       "<Figure size 648x648 with 1 Axes>"
      ]
     },
     "metadata": {
      "needs_background": "light"
     },
     "output_type": "display_data"
    }
   ],
   "source": [
    "plt.figure(figsize=(9,9))\n",
    "\n",
    "plt.scatter(y_test_pred_poisson,y_test, c='k')\n",
    "plt.xlabel('predicted sales')\n",
    "plt.ylabel('actual sales')\n",
    "plt.title(' Q-Q PLOT (Actual versus Predicted Sales)')\n",
    "\n",
    "plt.plot( [0, np.max(y_test_pred_poisson)], [0, np.max(y_test_pred_poisson)], c = 'r')\n",
    "\n",
    "print('min predict value:', np.round(y_test_pred_poisson.min()))\n",
    "print('max predict value:', np.round( y_test_pred_poisson.max()))"
   ]
  },
  {
   "cell_type": "code",
   "execution_count": 278,
   "metadata": {},
   "outputs": [
    {
     "data": {
      "text/plain": [
       "[<matplotlib.lines.Line2D at 0x1c2de24310>]"
      ]
     },
     "execution_count": 278,
     "metadata": {},
     "output_type": "execute_result"
    },
    {
     "data": {
      "image/png": "[encoded data removed]",
      "text/plain": [
       "<Figure size 648x648 with 1 Axes>"
      ]
     },
     "metadata": {
      "needs_background": "light"
     },
     "output_type": "display_data"
    }
   ],
   "source": [
    "x=pd.DataFrame(data=[y_test.values,y_test_pred_poisson.values]).T\n",
    "x=x.rename(columns={0:'actual', 1:'predictions'})\n",
    "x2=x.groupby(['actual']).mean().round()\n",
    "\n",
    "plt.figure(figsize=(9,9))\n",
    "\n",
    "plt.scatter(x2['predictions'],x2.index, c='k')\n",
    "plt.xlabel('average of predicted sales')\n",
    "plt.ylabel('actual sales')\n",
    "plt.title(' Q-Q PLOT (Actual versus Average of Predicted Sales)')\n",
    "\n",
    "plt.plot( [0, np.max(y_test_pred_poisson)], [0, np.max(y_test_pred_poisson)], c = 'r')"
   ]
  },
  {
   "cell_type": "markdown",
   "metadata": {},
   "source": [
    "### Model 3- ZeroInflatedPoisson Regression"
   ]
  },
  {
   "cell_type": "code",
   "execution_count": 254,
   "metadata": {},
   "outputs": [],
   "source": [
    "from statsmodels.discrete.count_model import ZeroInflatedPoisson"
   ]
  },
  {
   "cell_type": "code",
   "execution_count": 255,
   "metadata": {},
   "outputs": [
    {
     "data": {
      "text/html": [
       "<div>\n",
       "<style scoped>\n",
       "    .dataframe tbody tr th:only-of-type {\n",
       "        vertical-align: middle;\n",
       "    }\n",
       "\n",
       "    .dataframe tbody tr th {\n",
       "        vertical-align: top;\n",
       "    }\n",
       "\n",
       "    .dataframe thead th {\n",
       "        text-align: right;\n",
       "    }\n",
       "</style>\n",
       "<table border=\"1\" class=\"dataframe\">\n",
       "  <thead>\n",
       "    <tr style=\"text-align: right;\">\n",
       "      <th></th>\n",
       "      <th>Dptr Hour</th>\n",
       "      <th>Length of Flight (Hrs)</th>\n",
       "      <th>Day of Week</th>\n",
       "      <th>Passengers Boarded</th>\n",
       "      <th>Stock Out Occurred</th>\n",
       "      <th>Cheese Platters Sold</th>\n",
       "      <th>Week Part</th>\n",
       "      <th>Hour Class</th>\n",
       "      <th>Unsold Cheese Platters</th>\n",
       "    </tr>\n",
       "  </thead>\n",
       "  <tbody>\n",
       "    <tr>\n",
       "      <td>0</td>\n",
       "      <td>8</td>\n",
       "      <td>1</td>\n",
       "      <td>2</td>\n",
       "      <td>144</td>\n",
       "      <td>0</td>\n",
       "      <td>18</td>\n",
       "      <td>Weekday</td>\n",
       "      <td>midday</td>\n",
       "      <td>2</td>\n",
       "    </tr>\n",
       "    <tr>\n",
       "      <td>1</td>\n",
       "      <td>5</td>\n",
       "      <td>3</td>\n",
       "      <td>1</td>\n",
       "      <td>152</td>\n",
       "      <td>0</td>\n",
       "      <td>15</td>\n",
       "      <td>Weekday</td>\n",
       "      <td>early</td>\n",
       "      <td>5</td>\n",
       "    </tr>\n",
       "    <tr>\n",
       "      <td>2</td>\n",
       "      <td>4</td>\n",
       "      <td>2</td>\n",
       "      <td>4</td>\n",
       "      <td>150</td>\n",
       "      <td>0</td>\n",
       "      <td>16</td>\n",
       "      <td>Weekday</td>\n",
       "      <td>early</td>\n",
       "      <td>4</td>\n",
       "    </tr>\n",
       "    <tr>\n",
       "      <td>3</td>\n",
       "      <td>6</td>\n",
       "      <td>2</td>\n",
       "      <td>4</td>\n",
       "      <td>131</td>\n",
       "      <td>0</td>\n",
       "      <td>13</td>\n",
       "      <td>Weekday</td>\n",
       "      <td>early</td>\n",
       "      <td>7</td>\n",
       "    </tr>\n",
       "    <tr>\n",
       "      <td>4</td>\n",
       "      <td>5</td>\n",
       "      <td>6</td>\n",
       "      <td>4</td>\n",
       "      <td>164</td>\n",
       "      <td>0</td>\n",
       "      <td>18</td>\n",
       "      <td>Weekday</td>\n",
       "      <td>early</td>\n",
       "      <td>2</td>\n",
       "    </tr>\n",
       "  </tbody>\n",
       "</table>\n",
       "</div>"
      ],
      "text/plain": [
       "  Dptr Hour  Length of Flight (Hrs) Day of Week  Passengers Boarded  \\\n",
       "0         8                       1           2                 144   \n",
       "1         5                       3           1                 152   \n",
       "2         4                       2           4                 150   \n",
       "3         6                       2           4                 131   \n",
       "4         5                       6           4                 164   \n",
       "\n",
       "   Stock Out Occurred  Cheese Platters Sold Week Part Hour Class  \\\n",
       "0                   0                    18   Weekday     midday   \n",
       "1                   0                    15   Weekday      early   \n",
       "2                   0                    16   Weekday      early   \n",
       "3                   0                    13   Weekday      early   \n",
       "4                   0                    18   Weekday      early   \n",
       "\n",
       "   Unsold Cheese Platters  \n",
       "0                       2  \n",
       "1                       5  \n",
       "2                       4  \n",
       "3                       7  \n",
       "4                       2  "
      ]
     },
     "execution_count": 255,
     "metadata": {},
     "output_type": "execute_result"
    }
   ],
   "source": [
    "df8=df2\n",
    "df8['Unsold Cheese Platters']=20-df8['Cheese Platters Sold']\n",
    "df8.head()"
   ]
  },
  {
   "cell_type": "code",
   "execution_count": 256,
   "metadata": {},
   "outputs": [
    {
     "data": {
      "text/html": [
       "<div>\n",
       "<style scoped>\n",
       "    .dataframe tbody tr th:only-of-type {\n",
       "        vertical-align: middle;\n",
       "    }\n",
       "\n",
       "    .dataframe tbody tr th {\n",
       "        vertical-align: top;\n",
       "    }\n",
       "\n",
       "    .dataframe thead th {\n",
       "        text-align: right;\n",
       "    }\n",
       "</style>\n",
       "<table border=\"1\" class=\"dataframe\">\n",
       "  <thead>\n",
       "    <tr style=\"text-align: right;\">\n",
       "      <th></th>\n",
       "      <th>Length of Flight (Hrs)</th>\n",
       "      <th>Passengers Boarded</th>\n",
       "      <th>Unsold Cheese Platters</th>\n",
       "      <th>Week Part_Weekday</th>\n",
       "      <th>Week Part_Weekend</th>\n",
       "      <th>Hour Class_early</th>\n",
       "      <th>Hour Class_midday</th>\n",
       "      <th>Hour Class_night</th>\n",
       "    </tr>\n",
       "  </thead>\n",
       "  <tbody>\n",
       "    <tr>\n",
       "      <td>0</td>\n",
       "      <td>1</td>\n",
       "      <td>144</td>\n",
       "      <td>2</td>\n",
       "      <td>1</td>\n",
       "      <td>0</td>\n",
       "      <td>0</td>\n",
       "      <td>1</td>\n",
       "      <td>0</td>\n",
       "    </tr>\n",
       "    <tr>\n",
       "      <td>1</td>\n",
       "      <td>3</td>\n",
       "      <td>152</td>\n",
       "      <td>5</td>\n",
       "      <td>1</td>\n",
       "      <td>0</td>\n",
       "      <td>1</td>\n",
       "      <td>0</td>\n",
       "      <td>0</td>\n",
       "    </tr>\n",
       "    <tr>\n",
       "      <td>2</td>\n",
       "      <td>2</td>\n",
       "      <td>150</td>\n",
       "      <td>4</td>\n",
       "      <td>1</td>\n",
       "      <td>0</td>\n",
       "      <td>1</td>\n",
       "      <td>0</td>\n",
       "      <td>0</td>\n",
       "    </tr>\n",
       "    <tr>\n",
       "      <td>3</td>\n",
       "      <td>2</td>\n",
       "      <td>131</td>\n",
       "      <td>7</td>\n",
       "      <td>1</td>\n",
       "      <td>0</td>\n",
       "      <td>1</td>\n",
       "      <td>0</td>\n",
       "      <td>0</td>\n",
       "    </tr>\n",
       "    <tr>\n",
       "      <td>4</td>\n",
       "      <td>6</td>\n",
       "      <td>164</td>\n",
       "      <td>2</td>\n",
       "      <td>1</td>\n",
       "      <td>0</td>\n",
       "      <td>1</td>\n",
       "      <td>0</td>\n",
       "      <td>0</td>\n",
       "    </tr>\n",
       "  </tbody>\n",
       "</table>\n",
       "</div>"
      ],
      "text/plain": [
       "   Length of Flight (Hrs)  Passengers Boarded  Unsold Cheese Platters  \\\n",
       "0                       1                 144                       2   \n",
       "1                       3                 152                       5   \n",
       "2                       2                 150                       4   \n",
       "3                       2                 131                       7   \n",
       "4                       6                 164                       2   \n",
       "\n",
       "   Week Part_Weekday  Week Part_Weekend  Hour Class_early  Hour Class_midday  \\\n",
       "0                  1                  0                 0                  1   \n",
       "1                  1                  0                 1                  0   \n",
       "2                  1                  0                 1                  0   \n",
       "3                  1                  0                 1                  0   \n",
       "4                  1                  0                 1                  0   \n",
       "\n",
       "   Hour Class_night  \n",
       "0                 0  \n",
       "1                 0  \n",
       "2                 0  \n",
       "3                 0  \n",
       "4                 0  "
      ]
     },
     "execution_count": 256,
     "metadata": {},
     "output_type": "execute_result"
    }
   ],
   "source": [
    "df8=df8[['Week Part','Hour Class','Length of Flight (Hrs)',\n",
    "       'Passengers Boarded', 'Unsold Cheese Platters']] #\n",
    "df8=pd.get_dummies(df8)\n",
    "df8.head()"
   ]
  },
  {
   "cell_type": "code",
   "execution_count": 257,
   "metadata": {},
   "outputs": [
    {
     "name": "stdout",
     "output_type": "stream",
     "text": [
      "Optimization terminated successfully.\n",
      "         Current function value: 2.810909\n",
      "         Iterations: 14\n",
      "         Function evaluations: 21\n",
      "         Gradient evaluations: 21\n"
     ]
    }
   ],
   "source": [
    "features=['Length of Flight (Hrs)','Passengers Boarded','Week Part_Weekday','Hour Class_night','Hour Class_midday']#,'Week Part_Weekend','Hour Class_early'\n",
    "X=df8[features]\n",
    "y=df8['Unsold Cheese Platters']\n",
    "\n",
    "X_train,X_test, y_train, y_test=train_test_split(X,y, test_size=0.20, random_state=42)\n",
    "\n",
    "clf = ZeroInflatedPoisson(endog = y_train,exog = X_train).fit()\n",
    "clf_predict=clf.predict(X_test, exog_infl=len(X_test))"
   ]
  },
  {
   "cell_type": "code",
   "execution_count": 258,
   "metadata": {},
   "outputs": [
    {
     "data": {
      "text/html": [
       "<table class=\"simpletable\">\n",
       "<caption>ZeroInflatedPoisson Regression Results</caption>\n",
       "<tr>\n",
       "  <th>Dep. Variable:</th>   <td>Unsold Cheese Platters</td> <th>  No. Observations:  </th>  <td>  4000</td> \n",
       "</tr>\n",
       "<tr>\n",
       "  <th>Model:</th>             <td>ZeroInflatedPoisson</td>  <th>  Df Residuals:      </th>  <td>  3995</td> \n",
       "</tr>\n",
       "<tr>\n",
       "  <th>Method:</th>                    <td>MLE</td>          <th>  Df Model:          </th>  <td>     4</td> \n",
       "</tr>\n",
       "<tr>\n",
       "  <th>Date:</th>               <td>Sun, 22 Mar 2020</td>    <th>  Pseudo R-squ.:     </th>  <td>-0.1698</td>\n",
       "</tr>\n",
       "<tr>\n",
       "  <th>Time:</th>                   <td>22:06:47</td>        <th>  Log-Likelihood:    </th> <td> -11244.</td>\n",
       "</tr>\n",
       "<tr>\n",
       "  <th>converged:</th>                <td>True</td>          <th>  LL-Null:           </th> <td> -9611.7</td>\n",
       "</tr>\n",
       "<tr>\n",
       "  <th>Covariance Type:</th>        <td>nonrobust</td>       <th>  LLR p-value:       </th>  <td> 1.000</td> \n",
       "</tr>\n",
       "</table>\n",
       "<table class=\"simpletable\">\n",
       "<tr>\n",
       "             <td></td>               <th>coef</th>     <th>std err</th>      <th>z</th>      <th>P>|z|</th>  <th>[0.025</th>    <th>0.975]</th>  \n",
       "</tr>\n",
       "<tr>\n",
       "  <th>inflate_const</th>          <td>   -1.6072</td> <td>    0.043</td> <td>  -36.993</td> <td> 0.000</td> <td>   -1.692</td> <td>   -1.522</td>\n",
       "</tr>\n",
       "<tr>\n",
       "  <th>Length of Flight (Hrs)</th> <td>    0.0682</td> <td>    0.005</td> <td>   14.681</td> <td> 0.000</td> <td>    0.059</td> <td>    0.077</td>\n",
       "</tr>\n",
       "<tr>\n",
       "  <th>Passengers Boarded</th>     <td>    0.0087</td> <td>    0.000</td> <td>   53.089</td> <td> 0.000</td> <td>    0.008</td> <td>    0.009</td>\n",
       "</tr>\n",
       "<tr>\n",
       "  <th>Week Part_Weekday</th>      <td>    0.1323</td> <td>    0.018</td> <td>    7.358</td> <td> 0.000</td> <td>    0.097</td> <td>    0.167</td>\n",
       "</tr>\n",
       "<tr>\n",
       "  <th>Hour Class_night</th>       <td>    0.1687</td> <td>    0.019</td> <td>    8.730</td> <td> 0.000</td> <td>    0.131</td> <td>    0.207</td>\n",
       "</tr>\n",
       "<tr>\n",
       "  <th>Hour Class_midday</th>      <td>   -0.1432</td> <td>    0.020</td> <td>   -7.319</td> <td> 0.000</td> <td>   -0.182</td> <td>   -0.105</td>\n",
       "</tr>\n",
       "</table>"
      ],
      "text/plain": [
       "<class 'statsmodels.iolib.summary.Summary'>\n",
       "\"\"\"\n",
       "                      ZeroInflatedPoisson Regression Results                      \n",
       "==================================================================================\n",
       "Dep. Variable:     Unsold Cheese Platters   No. Observations:                 4000\n",
       "Model:                ZeroInflatedPoisson   Df Residuals:                     3995\n",
       "Method:                               MLE   Df Model:                            4\n",
       "Date:                    Sun, 22 Mar 2020   Pseudo R-squ.:                 -0.1698\n",
       "Time:                            22:06:47   Log-Likelihood:                -11244.\n",
       "converged:                           True   LL-Null:                       -9611.7\n",
       "Covariance Type:                nonrobust   LLR p-value:                     1.000\n",
       "==========================================================================================\n",
       "                             coef    std err          z      P>|z|      [0.025      0.975]\n",
       "------------------------------------------------------------------------------------------\n",
       "inflate_const             -1.6072      0.043    -36.993      0.000      -1.692      -1.522\n",
       "Length of Flight (Hrs)     0.0682      0.005     14.681      0.000       0.059       0.077\n",
       "Passengers Boarded         0.0087      0.000     53.089      0.000       0.008       0.009\n",
       "Week Part_Weekday          0.1323      0.018      7.358      0.000       0.097       0.167\n",
       "Hour Class_night           0.1687      0.019      8.730      0.000       0.131       0.207\n",
       "Hour Class_midday         -0.1432      0.020     -7.319      0.000      -0.182      -0.105\n",
       "==========================================================================================\n",
       "\"\"\""
      ]
     },
     "execution_count": 258,
     "metadata": {},
     "output_type": "execute_result"
    }
   ],
   "source": [
    "clf.summary()"
   ]
  },
  {
   "cell_type": "code",
   "execution_count": 259,
   "metadata": {},
   "outputs": [
    {
     "name": "stdout",
     "output_type": "stream",
     "text": [
      "min predict value: 2.0\n",
      "max predict value: 9.0\n"
     ]
    },
    {
     "data": {
      "image/png": "[encoded data removed]",
      "text/plain": [
       "<Figure size 648x648 with 1 Axes>"
      ]
     },
     "metadata": {
      "needs_background": "light"
     },
     "output_type": "display_data"
    }
   ],
   "source": [
    "plt.figure(figsize=(9,9))\n",
    "\n",
    "plt.scatter(clf_predict,y_test, c='k')\n",
    "plt.xlabel('predicted Unsold Platters')\n",
    "plt.ylabel('actual Unsold Platters')\n",
    "plt.title(' Q-Q PLOT (Actual Unsold versus Predicted Unsold Platters)')\n",
    "\n",
    "plt.plot( [0, 9], [0, 14], c = 'r')\n",
    "\n",
    "print('min predict value:', np.round(clf_predict.min()))\n",
    "print('max predict value:', np.round(clf_predict.max()))"
   ]
  },
  {
   "cell_type": "code",
   "execution_count": 260,
   "metadata": {},
   "outputs": [],
   "source": [
    "clf_predict=20-clf_predict\n",
    "y_test=20-y_test"
   ]
  },
  {
   "cell_type": "code",
   "execution_count": 261,
   "metadata": {},
   "outputs": [
    {
     "name": "stdout",
     "output_type": "stream",
     "text": [
      "min predict value: 11.0\n",
      "max predict value: 18.0\n"
     ]
    },
    {
     "data": {
      "image/png": "[encoded data removed]",
      "text/plain": [
       "<Figure size 648x648 with 1 Axes>"
      ]
     },
     "metadata": {
      "needs_background": "light"
     },
     "output_type": "display_data"
    }
   ],
   "source": [
    "plt.figure(figsize=(9,9))\n",
    "\n",
    "plt.scatter(clf_predict,y_test, c='k')\n",
    "plt.xlabel('predicted Sales')\n",
    "plt.ylabel('actual Sales')\n",
    "plt.title(' Q-Q PLOT (Actual versus Predicted Sales)')\n",
    "\n",
    "plt.plot( [0, 18], [0, 20], c = 'r')\n",
    "\n",
    "print('min predict value:', np.round(clf_predict.min()))\n",
    "print('max predict value:', np.round(clf_predict.max()))"
   ]
  },
  {
   "cell_type": "code",
   "execution_count": null,
   "metadata": {},
   "outputs": [],
   "source": []
  }
 ],
 "metadata": {
  "kernelspec": {
   "display_name": "Python 3",
   "language": "python",
   "name": "python3"
  },
  "language_info": {
   "codemirror_mode": {
    "name": "ipython",
    "version": 3
   },
   "file_extension": ".py",
   "mimetype": "text/x-python",
   "name": "python",
   "nbconvert_exporter": "python",
   "pygments_lexer": "ipython3",
   "version": "3.7.4"
  }
 },
 "nbformat": 4,
 "nbformat_minor": 2
}
