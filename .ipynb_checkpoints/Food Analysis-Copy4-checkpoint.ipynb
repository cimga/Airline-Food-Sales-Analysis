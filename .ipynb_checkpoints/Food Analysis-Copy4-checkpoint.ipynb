{
 "cells": [
  {
   "cell_type": "code",
   "execution_count": 108,
   "metadata": {},
   "outputs": [],
   "source": [
    "import pandas as pd\n",
    "import numpy as np\n",
    "import seaborn as sns\n",
    "import matplotlib.pyplot as plt\n",
    "\n",
    "import statistics\n",
    "from scipy import stats\n",
    "\n",
    "# Disable warnings!\n",
    "import warnings\n",
    "warnings.filterwarnings(\"ignore\")"
   ]
  },
  {
   "cell_type": "code",
   "execution_count": 190,
   "metadata": {},
   "outputs": [
    {
     "data": {
      "text/plain": [
       "(5000, 6)"
      ]
     },
     "execution_count": 190,
     "metadata": {},
     "output_type": "execute_result"
    }
   ],
   "source": [
    "df=pd.read_csv('/Users/ee/Documents/GITHUB/Project-12 Alaska Airlines/Cheeseplate Demand Data.csv') # contains betwen 2016-March to 2019-February\n",
    "df.shape"
   ]
  },
  {
   "cell_type": "code",
   "execution_count": 191,
   "metadata": {},
   "outputs": [
    {
     "data": {
      "text/plain": [
       "Dptr Hour                  int64\n",
       "Length of Flight (Hrs)     int64\n",
       "Day of Week               object\n",
       "Passengers Boarded         int64\n",
       "Stock Out Occurred         int64\n",
       "Cheese Platters Sold       int64\n",
       "dtype: object"
      ]
     },
     "execution_count": 191,
     "metadata": {},
     "output_type": "execute_result"
    }
   ],
   "source": [
    "df.dtypes"
   ]
  },
  {
   "cell_type": "code",
   "execution_count": 192,
   "metadata": {},
   "outputs": [
    {
     "data": {
      "text/plain": [
       "Dptr Hour                 0\n",
       "Length of Flight (Hrs)    0\n",
       "Day of Week               0\n",
       "Passengers Boarded        0\n",
       "Stock Out Occurred        0\n",
       "Cheese Platters Sold      0\n",
       "dtype: int64"
      ]
     },
     "execution_count": 192,
     "metadata": {},
     "output_type": "execute_result"
    }
   ],
   "source": [
    "df.isnull().sum()"
   ]
  },
  {
   "cell_type": "code",
   "execution_count": 193,
   "metadata": {},
   "outputs": [
    {
     "data": {
      "text/plain": [
       "(5000, 6)"
      ]
     },
     "execution_count": 193,
     "metadata": {},
     "output_type": "execute_result"
    }
   ],
   "source": [
    "d={'Monday':1,'Tuesday':2,'Wednesday':3,'Thursday':4,'Friday':5,'Saturday':6,'Sunday':7}\n",
    "\n",
    "df['Day of Week']=df['Day of Week'].map(d)\n",
    "df.shape"
   ]
  },
  {
   "cell_type": "code",
   "execution_count": 194,
   "metadata": {},
   "outputs": [
    {
     "data": {
      "text/html": [
       "<div>\n",
       "<style scoped>\n",
       "    .dataframe tbody tr th:only-of-type {\n",
       "        vertical-align: middle;\n",
       "    }\n",
       "\n",
       "    .dataframe tbody tr th {\n",
       "        vertical-align: top;\n",
       "    }\n",
       "\n",
       "    .dataframe thead th {\n",
       "        text-align: right;\n",
       "    }\n",
       "</style>\n",
       "<table border=\"1\" class=\"dataframe\">\n",
       "  <thead>\n",
       "    <tr style=\"text-align: right;\">\n",
       "      <th></th>\n",
       "      <th>Dptr Hour</th>\n",
       "      <th>Length of Flight (Hrs)</th>\n",
       "      <th>Day of Week</th>\n",
       "      <th>Passengers Boarded</th>\n",
       "      <th>Stock Out Occurred</th>\n",
       "      <th>Cheese Platters Sold</th>\n",
       "    </tr>\n",
       "  </thead>\n",
       "  <tbody>\n",
       "    <tr>\n",
       "      <td>0</td>\n",
       "      <td>8</td>\n",
       "      <td>1</td>\n",
       "      <td>2</td>\n",
       "      <td>144</td>\n",
       "      <td>0</td>\n",
       "      <td>18</td>\n",
       "    </tr>\n",
       "    <tr>\n",
       "      <td>1</td>\n",
       "      <td>5</td>\n",
       "      <td>3</td>\n",
       "      <td>1</td>\n",
       "      <td>152</td>\n",
       "      <td>0</td>\n",
       "      <td>15</td>\n",
       "    </tr>\n",
       "    <tr>\n",
       "      <td>2</td>\n",
       "      <td>4</td>\n",
       "      <td>2</td>\n",
       "      <td>4</td>\n",
       "      <td>150</td>\n",
       "      <td>0</td>\n",
       "      <td>16</td>\n",
       "    </tr>\n",
       "    <tr>\n",
       "      <td>3</td>\n",
       "      <td>6</td>\n",
       "      <td>2</td>\n",
       "      <td>4</td>\n",
       "      <td>131</td>\n",
       "      <td>0</td>\n",
       "      <td>13</td>\n",
       "    </tr>\n",
       "    <tr>\n",
       "      <td>4</td>\n",
       "      <td>5</td>\n",
       "      <td>6</td>\n",
       "      <td>4</td>\n",
       "      <td>164</td>\n",
       "      <td>0</td>\n",
       "      <td>18</td>\n",
       "    </tr>\n",
       "  </tbody>\n",
       "</table>\n",
       "</div>"
      ],
      "text/plain": [
       "   Dptr Hour  Length of Flight (Hrs)  Day of Week  Passengers Boarded  \\\n",
       "0          8                       1            2                 144   \n",
       "1          5                       3            1                 152   \n",
       "2          4                       2            4                 150   \n",
       "3          6                       2            4                 131   \n",
       "4          5                       6            4                 164   \n",
       "\n",
       "   Stock Out Occurred  Cheese Platters Sold  \n",
       "0                   0                    18  \n",
       "1                   0                    15  \n",
       "2                   0                    16  \n",
       "3                   0                    13  \n",
       "4                   0                    18  "
      ]
     },
     "execution_count": 194,
     "metadata": {},
     "output_type": "execute_result"
    }
   ],
   "source": [
    "df.head()"
   ]
  },
  {
   "cell_type": "markdown",
   "metadata": {},
   "source": [
    " # 1.EXPLORE DATA"
   ]
  },
  {
   "cell_type": "markdown",
   "metadata": {},
   "source": [
    "## Relation Between # of Sold Platters"
   ]
  },
  {
   "cell_type": "code",
   "execution_count": 114,
   "metadata": {
    "scrolled": false
   },
   "outputs": [
    {
     "data": {
      "text/plain": [
       "Index(['Dptr Hour', 'Length of Flight (Hrs)', 'Day of Week',\n",
       "       'Passengers Boarded', 'Stock Out Occurred', 'Cheese Platters Sold'],\n",
       "      dtype='object')"
      ]
     },
     "execution_count": 114,
     "metadata": {},
     "output_type": "execute_result"
    }
   ],
   "source": [
    "df.columns"
   ]
  },
  {
   "cell_type": "code",
   "execution_count": 115,
   "metadata": {
    "scrolled": true
   },
   "outputs": [
    {
     "data": {
      "text/html": [
       "<div>\n",
       "<style scoped>\n",
       "    .dataframe tbody tr th:only-of-type {\n",
       "        vertical-align: middle;\n",
       "    }\n",
       "\n",
       "    .dataframe tbody tr th {\n",
       "        vertical-align: top;\n",
       "    }\n",
       "\n",
       "    .dataframe thead th {\n",
       "        text-align: right;\n",
       "    }\n",
       "</style>\n",
       "<table border=\"1\" class=\"dataframe\">\n",
       "  <thead>\n",
       "    <tr style=\"text-align: right;\">\n",
       "      <th></th>\n",
       "      <th>Cheese Platters Sold</th>\n",
       "    </tr>\n",
       "    <tr>\n",
       "      <th>Day of Week</th>\n",
       "      <th></th>\n",
       "    </tr>\n",
       "  </thead>\n",
       "  <tbody>\n",
       "    <tr>\n",
       "      <td>1</td>\n",
       "      <td>16.158114</td>\n",
       "    </tr>\n",
       "    <tr>\n",
       "      <td>2</td>\n",
       "      <td>16.103208</td>\n",
       "    </tr>\n",
       "    <tr>\n",
       "      <td>3</td>\n",
       "      <td>16.338527</td>\n",
       "    </tr>\n",
       "    <tr>\n",
       "      <td>4</td>\n",
       "      <td>16.033149</td>\n",
       "    </tr>\n",
       "    <tr>\n",
       "      <td>5</td>\n",
       "      <td>16.089510</td>\n",
       "    </tr>\n",
       "    <tr>\n",
       "      <td>6</td>\n",
       "      <td>15.027360</td>\n",
       "    </tr>\n",
       "    <tr>\n",
       "      <td>7</td>\n",
       "      <td>15.173469</td>\n",
       "    </tr>\n",
       "  </tbody>\n",
       "</table>\n",
       "</div>"
      ],
      "text/plain": [
       "             Cheese Platters Sold\n",
       "Day of Week                      \n",
       "1                       16.158114\n",
       "2                       16.103208\n",
       "3                       16.338527\n",
       "4                       16.033149\n",
       "5                       16.089510\n",
       "6                       15.027360\n",
       "7                       15.173469"
      ]
     },
     "execution_count": 115,
     "metadata": {},
     "output_type": "execute_result"
    }
   ],
   "source": [
    "t=df.groupby(by=df.columns[2]).mean()\n",
    "t[['Cheese Platters Sold']]"
   ]
  },
  {
   "cell_type": "code",
   "execution_count": 116,
   "metadata": {},
   "outputs": [],
   "source": [
    "def relation_s(a):\n",
    "    t=df.groupby(by=df.columns[a]).mean()\n",
    "    t=t[['Cheese Platters Sold']]\n",
    "\n",
    "    plt.figure(figsize=(15,7))\n",
    "    \n",
    "    if df.columns[a]!='Dptr Hour':\n",
    "        plt.scatter(x=t.index, y=t['Cheese Platters Sold'])\n",
    "        plt.title('Average Cheese Platters Sold by '+df.columns[a])\n",
    "        plt.xlabel(df.columns[a])\n",
    "        plt.ylabel('Cheese Platters Sold')\n",
    "        plt.show()\n",
    "    else: # this section works only for \"Dptr Hour\"\n",
    "        x=t.index\n",
    "        y=t['Cheese Platters Sold']\n",
    "        plt.scatter(x,y)\n",
    "        plt.title('Average Cheese Platters Sold by '+df.columns[0])\n",
    "        plt.xlabel(df.columns[0])\n",
    "        plt.ylabel('Cheese Platters Sold')\n",
    "\n",
    "        x1=t.index[:8]\n",
    "        y1=t['Cheese Platters Sold'][:8]\n",
    "        z = np.polyfit(x1, y1, 1)\n",
    "        p = np.poly1d(z)\n",
    "        plt.plot(x1,p(x1),\"r--\")\n",
    "\n",
    "        x2=t.index[8:20]\n",
    "        y2=t['Cheese Platters Sold'][8:20]\n",
    "        z = np.polyfit(x2, y2, 1)\n",
    "        p = np.poly1d(z)\n",
    "        plt.plot(x2,p(x2),\"r--\")\n",
    "\n",
    "        x3=t.index[20:]\n",
    "        y3=t['Cheese Platters Sold'][20:]\n",
    "        z = np.polyfit(x3, y3, 1)\n",
    "        p = np.poly1d(z)\n",
    "        plt.plot(x3,p(x3),\"r--\")\n",
    "\n",
    "        plt.show()"
   ]
  },
  {
   "cell_type": "code",
   "execution_count": 117,
   "metadata": {},
   "outputs": [],
   "source": [
    "def relation_b(a):\n",
    "    t=df.groupby(by=df.columns[a]).mean()\n",
    "    t=t[['Cheese Platters Sold']]\n",
    "    title='Average Cheese Platters Sold by '+df.columns[a]\n",
    "    t.plot(kind='bar', figsize=(15,7),title=title).grid(axis='y')\n",
    "    plt.ylabel('Cheese Platters Sold')\n",
    "    plt.show()"
   ]
  },
  {
   "cell_type": "code",
   "execution_count": 118,
   "metadata": {
    "scrolled": false
   },
   "outputs": [
    {
     "data": {
      "image/png": "[encoded data removed]",
      "text/plain": [
       "<Figure size 1080x504 with 1 Axes>"
      ]
     },
     "metadata": {
      "needs_background": "light"
     },
     "output_type": "display_data"
    },
    {
     "name": "stdout",
     "output_type": "stream",
     "text": [
      "None\n"
     ]
    },
    {
     "data": {
      "image/png": "[encoded data removed]",
      "text/plain": [
       "<Figure size 1080x504 with 1 Axes>"
      ]
     },
     "metadata": {
      "needs_background": "light"
     },
     "output_type": "display_data"
    },
    {
     "name": "stdout",
     "output_type": "stream",
     "text": [
      "None\n"
     ]
    },
    {
     "data": {
      "image/png": "[encoded data removed]",
      "text/plain": [
       "<Figure size 1080x504 with 1 Axes>"
      ]
     },
     "metadata": {
      "needs_background": "light"
     },
     "output_type": "display_data"
    },
    {
     "name": "stdout",
     "output_type": "stream",
     "text": [
      "None\n"
     ]
    },
    {
     "data": {
      "image/png": "[encoded data removed]",
      "text/plain": [
       "<Figure size 1080x504 with 1 Axes>"
      ]
     },
     "metadata": {
      "needs_background": "light"
     },
     "output_type": "display_data"
    },
    {
     "name": "stdout",
     "output_type": "stream",
     "text": [
      "None\n"
     ]
    },
    {
     "data": {
      "image/png": "[encoded data removed]",
      "text/plain": [
       "<Figure size 1080x504 with 1 Axes>"
      ]
     },
     "metadata": {
      "needs_background": "light"
     },
     "output_type": "display_data"
    },
    {
     "name": "stdout",
     "output_type": "stream",
     "text": [
      "None\n"
     ]
    }
   ],
   "source": [
    "for i in range(5):\n",
    "    if i==4:\n",
    "        print(relation_b(i))\n",
    "    else:\n",
    "        print(relation_s(i))"
   ]
  },
  {
   "cell_type": "markdown",
   "metadata": {},
   "source": [
    "## by Dept Hour & Week Days"
   ]
  },
  {
   "cell_type": "code",
   "execution_count": 195,
   "metadata": {},
   "outputs": [],
   "source": [
    "df2=df"
   ]
  },
  {
   "cell_type": "code",
   "execution_count": 196,
   "metadata": {},
   "outputs": [
    {
     "data": {
      "text/plain": [
       "(5000, 7)"
      ]
     },
     "execution_count": 196,
     "metadata": {},
     "output_type": "execute_result"
    }
   ],
   "source": [
    "d={1:'Weekday',2:'Weekday',3:'Weekday',4:'Weekday',5:'Weekday',6:'Weekend',7:'Weekend'}\n",
    "\n",
    "df2['Week Part']=df2['Day of Week'].map(d)\n",
    "df2.shape"
   ]
  },
  {
   "cell_type": "code",
   "execution_count": 197,
   "metadata": {},
   "outputs": [
    {
     "data": {
      "text/html": [
       "<div>\n",
       "<style scoped>\n",
       "    .dataframe tbody tr th:only-of-type {\n",
       "        vertical-align: middle;\n",
       "    }\n",
       "\n",
       "    .dataframe tbody tr th {\n",
       "        vertical-align: top;\n",
       "    }\n",
       "\n",
       "    .dataframe thead th {\n",
       "        text-align: right;\n",
       "    }\n",
       "</style>\n",
       "<table border=\"1\" class=\"dataframe\">\n",
       "  <thead>\n",
       "    <tr style=\"text-align: right;\">\n",
       "      <th></th>\n",
       "      <th>Dptr Hour</th>\n",
       "      <th>Length of Flight (Hrs)</th>\n",
       "      <th>Day of Week</th>\n",
       "      <th>Passengers Boarded</th>\n",
       "      <th>Stock Out Occurred</th>\n",
       "      <th>Cheese Platters Sold</th>\n",
       "      <th>Week Part</th>\n",
       "    </tr>\n",
       "  </thead>\n",
       "  <tbody>\n",
       "    <tr>\n",
       "      <td>0</td>\n",
       "      <td>8</td>\n",
       "      <td>1</td>\n",
       "      <td>2</td>\n",
       "      <td>144</td>\n",
       "      <td>0</td>\n",
       "      <td>18</td>\n",
       "      <td>Weekday</td>\n",
       "    </tr>\n",
       "    <tr>\n",
       "      <td>1</td>\n",
       "      <td>5</td>\n",
       "      <td>3</td>\n",
       "      <td>1</td>\n",
       "      <td>152</td>\n",
       "      <td>0</td>\n",
       "      <td>15</td>\n",
       "      <td>Weekday</td>\n",
       "    </tr>\n",
       "    <tr>\n",
       "      <td>2</td>\n",
       "      <td>4</td>\n",
       "      <td>2</td>\n",
       "      <td>4</td>\n",
       "      <td>150</td>\n",
       "      <td>0</td>\n",
       "      <td>16</td>\n",
       "      <td>Weekday</td>\n",
       "    </tr>\n",
       "    <tr>\n",
       "      <td>3</td>\n",
       "      <td>6</td>\n",
       "      <td>2</td>\n",
       "      <td>4</td>\n",
       "      <td>131</td>\n",
       "      <td>0</td>\n",
       "      <td>13</td>\n",
       "      <td>Weekday</td>\n",
       "    </tr>\n",
       "    <tr>\n",
       "      <td>4</td>\n",
       "      <td>5</td>\n",
       "      <td>6</td>\n",
       "      <td>4</td>\n",
       "      <td>164</td>\n",
       "      <td>0</td>\n",
       "      <td>18</td>\n",
       "      <td>Weekday</td>\n",
       "    </tr>\n",
       "  </tbody>\n",
       "</table>\n",
       "</div>"
      ],
      "text/plain": [
       "   Dptr Hour  Length of Flight (Hrs)  Day of Week  Passengers Boarded  \\\n",
       "0          8                       1            2                 144   \n",
       "1          5                       3            1                 152   \n",
       "2          4                       2            4                 150   \n",
       "3          6                       2            4                 131   \n",
       "4          5                       6            4                 164   \n",
       "\n",
       "   Stock Out Occurred  Cheese Platters Sold Week Part  \n",
       "0                   0                    18   Weekday  \n",
       "1                   0                    15   Weekday  \n",
       "2                   0                    16   Weekday  \n",
       "3                   0                    13   Weekday  \n",
       "4                   0                    18   Weekday  "
      ]
     },
     "execution_count": 197,
     "metadata": {},
     "output_type": "execute_result"
    }
   ],
   "source": [
    "df2.head()"
   ]
  },
  {
   "cell_type": "code",
   "execution_count": 122,
   "metadata": {},
   "outputs": [
    {
     "data": {
      "image/png": "[encoded data removed]",
      "text/plain": [
       "<Figure size 1080x504 with 1 Axes>"
      ]
     },
     "metadata": {
      "needs_background": "light"
     },
     "output_type": "display_data"
    }
   ],
   "source": [
    "p=df2.groupby(['Week Part','Dptr Hour']).mean()[['Cheese Platters Sold']].unstack().T\n",
    "p.index=p.index.droplevel(level=0)\n",
    "\n",
    "x=p.index\n",
    "y1=p['Weekday']\n",
    "y2=p['Weekend']\n",
    "\n",
    "\n",
    "plt.figure(figsize=(15,7))\n",
    "plt.scatter(x,y1,color='red', label='Weekday')\n",
    "plt.scatter(x,y2,color='blue', label='Weekend')\n",
    "plt.title('Average Cheese Platters Sold by Dptr Hour & Week Status')\n",
    "plt.xlabel('Dptr Hour')\n",
    "plt.ylabel('Cheese Platters Sold')\n",
    "plt.legend()\n",
    "plt.show()"
   ]
  },
  {
   "cell_type": "markdown",
   "metadata": {},
   "source": [
    "### describe Non Stock Out - Cheese Platters Sold"
   ]
  },
  {
   "cell_type": "code",
   "execution_count": 123,
   "metadata": {},
   "outputs": [
    {
     "data": {
      "text/html": [
       "<div>\n",
       "<style scoped>\n",
       "    .dataframe tbody tr th:only-of-type {\n",
       "        vertical-align: middle;\n",
       "    }\n",
       "\n",
       "    .dataframe tbody tr th {\n",
       "        vertical-align: top;\n",
       "    }\n",
       "\n",
       "    .dataframe thead th {\n",
       "        text-align: right;\n",
       "    }\n",
       "</style>\n",
       "<table border=\"1\" class=\"dataframe\">\n",
       "  <thead>\n",
       "    <tr style=\"text-align: right;\">\n",
       "      <th></th>\n",
       "      <th>Dptr Hour</th>\n",
       "      <th>Length of Flight (Hrs)</th>\n",
       "      <th>Day of Week</th>\n",
       "      <th>Passengers Boarded</th>\n",
       "      <th>Stock Out Occurred</th>\n",
       "      <th>Week Part</th>\n",
       "    </tr>\n",
       "    <tr>\n",
       "      <th>Cheese Platters Sold</th>\n",
       "      <th></th>\n",
       "      <th></th>\n",
       "      <th></th>\n",
       "      <th></th>\n",
       "      <th></th>\n",
       "      <th></th>\n",
       "    </tr>\n",
       "  </thead>\n",
       "  <tbody>\n",
       "    <tr>\n",
       "      <td>5</td>\n",
       "      <td>1</td>\n",
       "      <td>1</td>\n",
       "      <td>1</td>\n",
       "      <td>1</td>\n",
       "      <td>1</td>\n",
       "      <td>1</td>\n",
       "    </tr>\n",
       "    <tr>\n",
       "      <td>6</td>\n",
       "      <td>2</td>\n",
       "      <td>2</td>\n",
       "      <td>2</td>\n",
       "      <td>2</td>\n",
       "      <td>2</td>\n",
       "      <td>2</td>\n",
       "    </tr>\n",
       "    <tr>\n",
       "      <td>7</td>\n",
       "      <td>9</td>\n",
       "      <td>9</td>\n",
       "      <td>9</td>\n",
       "      <td>9</td>\n",
       "      <td>9</td>\n",
       "      <td>9</td>\n",
       "    </tr>\n",
       "    <tr>\n",
       "      <td>8</td>\n",
       "      <td>16</td>\n",
       "      <td>16</td>\n",
       "      <td>16</td>\n",
       "      <td>16</td>\n",
       "      <td>16</td>\n",
       "      <td>16</td>\n",
       "    </tr>\n",
       "    <tr>\n",
       "      <td>9</td>\n",
       "      <td>63</td>\n",
       "      <td>63</td>\n",
       "      <td>63</td>\n",
       "      <td>63</td>\n",
       "      <td>63</td>\n",
       "      <td>63</td>\n",
       "    </tr>\n",
       "    <tr>\n",
       "      <td>10</td>\n",
       "      <td>116</td>\n",
       "      <td>116</td>\n",
       "      <td>116</td>\n",
       "      <td>116</td>\n",
       "      <td>116</td>\n",
       "      <td>116</td>\n",
       "    </tr>\n",
       "    <tr>\n",
       "      <td>11</td>\n",
       "      <td>205</td>\n",
       "      <td>205</td>\n",
       "      <td>205</td>\n",
       "      <td>205</td>\n",
       "      <td>205</td>\n",
       "      <td>205</td>\n",
       "    </tr>\n",
       "    <tr>\n",
       "      <td>12</td>\n",
       "      <td>305</td>\n",
       "      <td>305</td>\n",
       "      <td>305</td>\n",
       "      <td>305</td>\n",
       "      <td>305</td>\n",
       "      <td>305</td>\n",
       "    </tr>\n",
       "    <tr>\n",
       "      <td>13</td>\n",
       "      <td>450</td>\n",
       "      <td>450</td>\n",
       "      <td>450</td>\n",
       "      <td>450</td>\n",
       "      <td>450</td>\n",
       "      <td>450</td>\n",
       "    </tr>\n",
       "    <tr>\n",
       "      <td>14</td>\n",
       "      <td>521</td>\n",
       "      <td>521</td>\n",
       "      <td>521</td>\n",
       "      <td>521</td>\n",
       "      <td>521</td>\n",
       "      <td>521</td>\n",
       "    </tr>\n",
       "    <tr>\n",
       "      <td>15</td>\n",
       "      <td>582</td>\n",
       "      <td>582</td>\n",
       "      <td>582</td>\n",
       "      <td>582</td>\n",
       "      <td>582</td>\n",
       "      <td>582</td>\n",
       "    </tr>\n",
       "    <tr>\n",
       "      <td>16</td>\n",
       "      <td>590</td>\n",
       "      <td>590</td>\n",
       "      <td>590</td>\n",
       "      <td>590</td>\n",
       "      <td>590</td>\n",
       "      <td>590</td>\n",
       "    </tr>\n",
       "    <tr>\n",
       "      <td>17</td>\n",
       "      <td>515</td>\n",
       "      <td>515</td>\n",
       "      <td>515</td>\n",
       "      <td>515</td>\n",
       "      <td>515</td>\n",
       "      <td>515</td>\n",
       "    </tr>\n",
       "    <tr>\n",
       "      <td>18</td>\n",
       "      <td>420</td>\n",
       "      <td>420</td>\n",
       "      <td>420</td>\n",
       "      <td>420</td>\n",
       "      <td>420</td>\n",
       "      <td>420</td>\n",
       "    </tr>\n",
       "    <tr>\n",
       "      <td>19</td>\n",
       "      <td>342</td>\n",
       "      <td>342</td>\n",
       "      <td>342</td>\n",
       "      <td>342</td>\n",
       "      <td>342</td>\n",
       "      <td>342</td>\n",
       "    </tr>\n",
       "  </tbody>\n",
       "</table>\n",
       "</div>"
      ],
      "text/plain": [
       "                      Dptr Hour  Length of Flight (Hrs)  Day of Week  \\\n",
       "Cheese Platters Sold                                                   \n",
       "5                             1                       1            1   \n",
       "6                             2                       2            2   \n",
       "7                             9                       9            9   \n",
       "8                            16                      16           16   \n",
       "9                            63                      63           63   \n",
       "10                          116                     116          116   \n",
       "11                          205                     205          205   \n",
       "12                          305                     305          305   \n",
       "13                          450                     450          450   \n",
       "14                          521                     521          521   \n",
       "15                          582                     582          582   \n",
       "16                          590                     590          590   \n",
       "17                          515                     515          515   \n",
       "18                          420                     420          420   \n",
       "19                          342                     342          342   \n",
       "\n",
       "                      Passengers Boarded  Stock Out Occurred  Week Part  \n",
       "Cheese Platters Sold                                                     \n",
       "5                                      1                   1          1  \n",
       "6                                      2                   2          2  \n",
       "7                                      9                   9          9  \n",
       "8                                     16                  16         16  \n",
       "9                                     63                  63         63  \n",
       "10                                   116                 116        116  \n",
       "11                                   205                 205        205  \n",
       "12                                   305                 305        305  \n",
       "13                                   450                 450        450  \n",
       "14                                   521                 521        521  \n",
       "15                                   582                 582        582  \n",
       "16                                   590                 590        590  \n",
       "17                                   515                 515        515  \n",
       "18                                   420                 420        420  \n",
       "19                                   342                 342        342  "
      ]
     },
     "execution_count": 123,
     "metadata": {},
     "output_type": "execute_result"
    }
   ],
   "source": [
    "df2[df2['Stock Out Occurred']==0].groupby(['Cheese Platters Sold']).count()"
   ]
  },
  {
   "cell_type": "code",
   "execution_count": 124,
   "metadata": {
    "scrolled": true
   },
   "outputs": [
    {
     "data": {
      "text/html": [
       "<div>\n",
       "<style scoped>\n",
       "    .dataframe tbody tr th:only-of-type {\n",
       "        vertical-align: middle;\n",
       "    }\n",
       "\n",
       "    .dataframe tbody tr th {\n",
       "        vertical-align: top;\n",
       "    }\n",
       "\n",
       "    .dataframe thead th {\n",
       "        text-align: right;\n",
       "    }\n",
       "</style>\n",
       "<table border=\"1\" class=\"dataframe\">\n",
       "  <thead>\n",
       "    <tr style=\"text-align: right;\">\n",
       "      <th></th>\n",
       "      <th>Cheese Platters Sold</th>\n",
       "    </tr>\n",
       "  </thead>\n",
       "  <tbody>\n",
       "    <tr>\n",
       "      <td>count</td>\n",
       "      <td>4137.000000</td>\n",
       "    </tr>\n",
       "    <tr>\n",
       "      <td>mean</td>\n",
       "      <td>14.981146</td>\n",
       "    </tr>\n",
       "    <tr>\n",
       "      <td>std</td>\n",
       "      <td>2.556732</td>\n",
       "    </tr>\n",
       "    <tr>\n",
       "      <td>min</td>\n",
       "      <td>5.000000</td>\n",
       "    </tr>\n",
       "    <tr>\n",
       "      <td>5%</td>\n",
       "      <td>10.800000</td>\n",
       "    </tr>\n",
       "    <tr>\n",
       "      <td>50%</td>\n",
       "      <td>15.000000</td>\n",
       "    </tr>\n",
       "    <tr>\n",
       "      <td>95%</td>\n",
       "      <td>19.000000</td>\n",
       "    </tr>\n",
       "    <tr>\n",
       "      <td>max</td>\n",
       "      <td>19.000000</td>\n",
       "    </tr>\n",
       "  </tbody>\n",
       "</table>\n",
       "</div>"
      ],
      "text/plain": [
       "       Cheese Platters Sold\n",
       "count           4137.000000\n",
       "mean              14.981146\n",
       "std                2.556732\n",
       "min                5.000000\n",
       "5%                10.800000\n",
       "50%               15.000000\n",
       "95%               19.000000\n",
       "max               19.000000"
      ]
     },
     "execution_count": 124,
     "metadata": {},
     "output_type": "execute_result"
    }
   ],
   "source": [
    "nso=df2[df2['Stock Out Occurred']==0][['Cheese Platters Sold']]\n",
    "nso.describe(percentiles=[.05, .5, .95])"
   ]
  },
  {
   "cell_type": "code",
   "execution_count": 125,
   "metadata": {
    "scrolled": true
   },
   "outputs": [
    {
     "data": {
      "text/plain": [
       "<matplotlib.axes._subplots.AxesSubplot at 0x1c29877710>"
      ]
     },
     "execution_count": 125,
     "metadata": {},
     "output_type": "execute_result"
    },
    {
     "data": {
      "image/png": "[encoded data removed]",
      "text/plain": [
       "<Figure size 432x288 with 1 Axes>"
      ]
     },
     "metadata": {
      "needs_background": "light"
     },
     "output_type": "display_data"
    }
   ],
   "source": [
    "sns.distplot(nso, kde=False)"
   ]
  },
  {
   "cell_type": "raw",
   "metadata": {},
   "source": [
    "I should keep min 11 platters at each flight if I want to cover 95 percent confidence at all flights!\n",
    "in other words, if I keep 11 platter at each flight then 95 out of 100 flights "
   ]
  },
  {
   "cell_type": "markdown",
   "metadata": {},
   "source": [
    "## Distribution"
   ]
  },
  {
   "cell_type": "code",
   "execution_count": 126,
   "metadata": {},
   "outputs": [],
   "source": [
    "def graphs(table,main_title):\n",
    "\n",
    "    plt.subplots(3,2, figsize=(20,15))\n",
    "    plt.suptitle(main_title, size=20) # add above a Main Title\n",
    "\n",
    "    plt.subplot(3,2,1, title='distribution of Dptr Hour')\n",
    "    sns.distplot(table['Dptr Hour'], bins=25, kde=False, color='c') # alternative colors are k, g, b, and m\n",
    "\n",
    "    plt.subplot(3,2,2, title='distribution of Length of Flight (Hrs)')\n",
    "    sns.distplot(table['Length of Flight (Hrs)'], bins=25, kde=False)\n",
    "\n",
    "    plt.subplot(3,2,3, title='distribution of Day of Week')\n",
    "    sns.distplot(table['Day of Week'], kde=False)\n",
    "\n",
    "    plt.subplot(3,2,4, title='distribution of Passengers Boarded')\n",
    "    sns.distplot(table['Passengers Boarded'], bins=50, kde=False)\n",
    "    \n",
    "    plt.subplot(3,2,5, title='distribution of Stock Out Occurred')\n",
    "    sns.distplot(table['Stock Out Occurred'],kde=False)\n",
    "    \n",
    "    plt.subplot(3,2,6, title='distribution of Cheese Platters Sold')\n",
    "    sns.distplot(table['Cheese Platters Sold'], bins=25, kde=False)"
   ]
  },
  {
   "cell_type": "code",
   "execution_count": 127,
   "metadata": {},
   "outputs": [],
   "source": [
    "def dist_graph(a,b,c):\n",
    "    if b=='y':\n",
    "        t=df.groupby(by=df.columns[a]).count()[:c]\n",
    "    else:\n",
    "        t=df.groupby(by=df.columns[a]).count()\n",
    "    \n",
    "    t=t[[t.columns[0]]]\n",
    "    title='Number of Flights by '+df.columns[a]\n",
    "    if df.columns[a]=='Passengers Boarded':\n",
    "        t.plot(kind='bar', figsize=(15,6),title=title).grid(axis='y')\n",
    "    else:\n",
    "        t.plot(kind='bar', figsize=(15,6),title=title).grid(axis='y')\n",
    "    plt.ylabel('Number of Flights')\n",
    "#     plt.show()"
   ]
  },
  {
   "cell_type": "code",
   "execution_count": 128,
   "metadata": {},
   "outputs": [
    {
     "data": {
      "image/png": "[encoded data removed]",
      "text/plain": [
       "<Figure size 1440x1080 with 6 Axes>"
      ]
     },
     "metadata": {
      "needs_background": "light"
     },
     "output_type": "display_data"
    }
   ],
   "source": [
    "graphs(df,'ALL DISTRBUTIONS')"
   ]
  },
  {
   "cell_type": "code",
   "execution_count": 129,
   "metadata": {
    "scrolled": false
   },
   "outputs": [
    {
     "data": {
      "image/png": "[encoded data removed]",
      "text/plain": [
       "<Figure size 1080x432 with 1 Axes>"
      ]
     },
     "metadata": {
      "needs_background": "light"
     },
     "output_type": "display_data"
    },
    {
     "data": {
      "image/png": "[encoded data removed]",
      "text/plain": [
       "<Figure size 1080x432 with 1 Axes>"
      ]
     },
     "metadata": {
      "needs_background": "light"
     },
     "output_type": "display_data"
    },
    {
     "data": {
      "image/png": "[encoded data removed]",
      "text/plain": [
       "<Figure size 1080x432 with 1 Axes>"
      ]
     },
     "metadata": {
      "needs_background": "light"
     },
     "output_type": "display_data"
    },
    {
     "data": {
      "image/png": "[encoded data removed]",
      "text/plain": [
       "<Figure size 1080x432 with 1 Axes>"
      ]
     },
     "metadata": {
      "needs_background": "light"
     },
     "output_type": "display_data"
    },
    {
     "data": {
      "image/png": "[encoded data removed]",
      "text/plain": [
       "<Figure size 1080x432 with 1 Axes>"
      ]
     },
     "metadata": {
      "needs_background": "light"
     },
     "output_type": "display_data"
    },
    {
     "data": {
      "image/png": "[encoded data removed]",
      "text/plain": [
       "<Figure size 1080x432 with 1 Axes>"
      ]
     },
     "metadata": {
      "needs_background": "light"
     },
     "output_type": "display_data"
    }
   ],
   "source": [
    "for i in range(6):\n",
    "    dist_graph(i,'n',-1)"
   ]
  },
  {
   "cell_type": "markdown",
   "metadata": {},
   "source": [
    "### describe Non Stock Out - Passengers Boarded"
   ]
  },
  {
   "cell_type": "code",
   "execution_count": 130,
   "metadata": {},
   "outputs": [
    {
     "data": {
      "text/html": [
       "<div>\n",
       "<style scoped>\n",
       "    .dataframe tbody tr th:only-of-type {\n",
       "        vertical-align: middle;\n",
       "    }\n",
       "\n",
       "    .dataframe tbody tr th {\n",
       "        vertical-align: top;\n",
       "    }\n",
       "\n",
       "    .dataframe thead th {\n",
       "        text-align: right;\n",
       "    }\n",
       "</style>\n",
       "<table border=\"1\" class=\"dataframe\">\n",
       "  <thead>\n",
       "    <tr style=\"text-align: right;\">\n",
       "      <th></th>\n",
       "      <th>Passengers Boarded</th>\n",
       "    </tr>\n",
       "  </thead>\n",
       "  <tbody>\n",
       "    <tr>\n",
       "      <td>count</td>\n",
       "      <td>4137.000000</td>\n",
       "    </tr>\n",
       "    <tr>\n",
       "      <td>mean</td>\n",
       "      <td>133.998308</td>\n",
       "    </tr>\n",
       "    <tr>\n",
       "      <td>std</td>\n",
       "      <td>20.979076</td>\n",
       "    </tr>\n",
       "    <tr>\n",
       "      <td>min</td>\n",
       "      <td>49.000000</td>\n",
       "    </tr>\n",
       "    <tr>\n",
       "      <td>5%</td>\n",
       "      <td>97.000000</td>\n",
       "    </tr>\n",
       "    <tr>\n",
       "      <td>50%</td>\n",
       "      <td>135.000000</td>\n",
       "    </tr>\n",
       "    <tr>\n",
       "      <td>95%</td>\n",
       "      <td>165.000000</td>\n",
       "    </tr>\n",
       "    <tr>\n",
       "      <td>max</td>\n",
       "      <td>165.000000</td>\n",
       "    </tr>\n",
       "  </tbody>\n",
       "</table>\n",
       "</div>"
      ],
      "text/plain": [
       "       Passengers Boarded\n",
       "count         4137.000000\n",
       "mean           133.998308\n",
       "std             20.979076\n",
       "min             49.000000\n",
       "5%              97.000000\n",
       "50%            135.000000\n",
       "95%            165.000000\n",
       "max            165.000000"
      ]
     },
     "execution_count": 130,
     "metadata": {},
     "output_type": "execute_result"
    }
   ],
   "source": [
    "nso_passenger=df2[df2['Stock Out Occurred']==0][['Passengers Boarded']]\n",
    "nso_passenger.describe(percentiles=[.05, .5, .95])"
   ]
  },
  {
   "cell_type": "code",
   "execution_count": 131,
   "metadata": {},
   "outputs": [
    {
     "data": {
      "text/plain": [
       "<matplotlib.axes._subplots.AxesSubplot at 0x1c2a364bd0>"
      ]
     },
     "execution_count": 131,
     "metadata": {},
     "output_type": "execute_result"
    },
    {
     "data": {
      "image/png": "[encoded data removed]",
      "text/plain": [
       "<Figure size 432x288 with 1 Axes>"
      ]
     },
     "metadata": {
      "needs_background": "light"
     },
     "output_type": "display_data"
    }
   ],
   "source": [
    "sns.distplot(nso_passenger, kde=False)"
   ]
  },
  {
   "cell_type": "markdown",
   "metadata": {},
   "source": [
    "# 3.ESTIMATING DEMAND"
   ]
  },
  {
   "cell_type": "markdown",
   "metadata": {},
   "source": [
    "## Model 1- Predict \"Stock Out Sales\""
   ]
  },
  {
   "cell_type": "code",
   "execution_count": 132,
   "metadata": {},
   "outputs": [],
   "source": [
    "from sklearn.linear_model import LogisticRegression\n",
    "from sklearn.model_selection import train_test_split,cross_val_score, KFold\n",
    "from sklearn.preprocessing import StandardScaler\n",
    "from sklearn.metrics import accuracy_score, confusion_matrix\n",
    "import statsmodels.api as sm"
   ]
  },
  {
   "cell_type": "code",
   "execution_count": 133,
   "metadata": {},
   "outputs": [],
   "source": [
    "def process_train(model,X):\n",
    "    ss=StandardScaler()\n",
    "    X_sc=ss.fit_transform(X)\n",
    "#     print(X_sc)\n",
    "    model.fit(X_sc,y_train)\n",
    "    crv=cross_val_score(model,X_sc,y_train).mean().round(4)\n",
    "    return(crv)"
   ]
  },
  {
   "cell_type": "code",
   "execution_count": 134,
   "metadata": {},
   "outputs": [],
   "source": [
    "def process_test(model,X_test):\n",
    "    ss=StandardScaler()\n",
    "    X_test_sc=ss.fit_transform(X_test)\n",
    "    ms=model.score(X_test_sc,y_test).round(4)\n",
    "    return ms"
   ]
  },
  {
   "cell_type": "code",
   "execution_count": 135,
   "metadata": {},
   "outputs": [],
   "source": [
    "def coefficients(model,X_train):\n",
    "    x=pd.DataFrame(model.coef_.round(4),columns=X_train.columns).T\n",
    "    x=x.rename(columns={0:'coefficient'})\n",
    "    return x"
   ]
  },
  {
   "cell_type": "code",
   "execution_count": 136,
   "metadata": {},
   "outputs": [],
   "source": [
    "def summary(model):\n",
    "    model=sm.Logit(y_train,X_train)\n",
    "    result=model.fit()\n",
    "    print(result.summary())"
   ]
  },
  {
   "cell_type": "code",
   "execution_count": 201,
   "metadata": {},
   "outputs": [
    {
     "data": {
      "text/html": [
       "<div>\n",
       "<style scoped>\n",
       "    .dataframe tbody tr th:only-of-type {\n",
       "        vertical-align: middle;\n",
       "    }\n",
       "\n",
       "    .dataframe tbody tr th {\n",
       "        vertical-align: top;\n",
       "    }\n",
       "\n",
       "    .dataframe thead th {\n",
       "        text-align: right;\n",
       "    }\n",
       "</style>\n",
       "<table border=\"1\" class=\"dataframe\">\n",
       "  <thead>\n",
       "    <tr style=\"text-align: right;\">\n",
       "      <th></th>\n",
       "      <th>Dptr Hour</th>\n",
       "      <th>Length of Flight (Hrs)</th>\n",
       "      <th>Day of Week</th>\n",
       "      <th>Passengers Boarded</th>\n",
       "      <th>Stock Out Occurred</th>\n",
       "      <th>Cheese Platters Sold</th>\n",
       "      <th>Week Part</th>\n",
       "    </tr>\n",
       "  </thead>\n",
       "  <tbody>\n",
       "    <tr>\n",
       "      <td>0</td>\n",
       "      <td>8</td>\n",
       "      <td>1</td>\n",
       "      <td>2</td>\n",
       "      <td>144</td>\n",
       "      <td>0</td>\n",
       "      <td>18</td>\n",
       "      <td>Weekday</td>\n",
       "    </tr>\n",
       "    <tr>\n",
       "      <td>1</td>\n",
       "      <td>5</td>\n",
       "      <td>3</td>\n",
       "      <td>1</td>\n",
       "      <td>152</td>\n",
       "      <td>0</td>\n",
       "      <td>15</td>\n",
       "      <td>Weekday</td>\n",
       "    </tr>\n",
       "    <tr>\n",
       "      <td>2</td>\n",
       "      <td>4</td>\n",
       "      <td>2</td>\n",
       "      <td>4</td>\n",
       "      <td>150</td>\n",
       "      <td>0</td>\n",
       "      <td>16</td>\n",
       "      <td>Weekday</td>\n",
       "    </tr>\n",
       "    <tr>\n",
       "      <td>3</td>\n",
       "      <td>6</td>\n",
       "      <td>2</td>\n",
       "      <td>4</td>\n",
       "      <td>131</td>\n",
       "      <td>0</td>\n",
       "      <td>13</td>\n",
       "      <td>Weekday</td>\n",
       "    </tr>\n",
       "    <tr>\n",
       "      <td>4</td>\n",
       "      <td>5</td>\n",
       "      <td>6</td>\n",
       "      <td>4</td>\n",
       "      <td>164</td>\n",
       "      <td>0</td>\n",
       "      <td>18</td>\n",
       "      <td>Weekday</td>\n",
       "    </tr>\n",
       "  </tbody>\n",
       "</table>\n",
       "</div>"
      ],
      "text/plain": [
       "   Dptr Hour  Length of Flight (Hrs)  Day of Week  Passengers Boarded  \\\n",
       "0          8                       1            2                 144   \n",
       "1          5                       3            1                 152   \n",
       "2          4                       2            4                 150   \n",
       "3          6                       2            4                 131   \n",
       "4          5                       6            4                 164   \n",
       "\n",
       "   Stock Out Occurred  Cheese Platters Sold Week Part  \n",
       "0                   0                    18   Weekday  \n",
       "1                   0                    15   Weekday  \n",
       "2                   0                    16   Weekday  \n",
       "3                   0                    13   Weekday  \n",
       "4                   0                    18   Weekday  "
      ]
     },
     "execution_count": 201,
     "metadata": {},
     "output_type": "execute_result"
    }
   ],
   "source": [
    "df4=df2\n",
    "df4.head()"
   ]
  },
  {
   "cell_type": "code",
   "execution_count": 202,
   "metadata": {},
   "outputs": [],
   "source": [
    "time_class_dict={ 'early':[0, 7], 'midday':[8, 19],'night':[20,24]}\n",
    "\n",
    "def time_class_maker(value, time_class_dict=time_class_dict):\n",
    "        for k, v in time_class_dict.items():\n",
    "            if (value>=v[0] and value<=v[1]):\n",
    "                return(k)\n",
    "            elif value=='NaN':\n",
    "                return('unknown')# if time is null so it will return to string as 'unknown'"
   ]
  },
  {
   "cell_type": "code",
   "execution_count": 203,
   "metadata": {},
   "outputs": [],
   "source": [
    "df4['Hour Class']=df4['Dptr Hour'].map(lambda x: time_class_maker(x))"
   ]
  },
  {
   "cell_type": "code",
   "execution_count": 204,
   "metadata": {},
   "outputs": [],
   "source": [
    "# convert numeric features to string format\n",
    "df4['Dptr Hour']=df4['Dptr Hour'].astype(str)\n",
    "df4['Day of Week']=df4['Day of Week'].astype(str)"
   ]
  },
  {
   "cell_type": "code",
   "execution_count": 205,
   "metadata": {},
   "outputs": [
    {
     "data": {
      "text/html": [
       "<div>\n",
       "<style scoped>\n",
       "    .dataframe tbody tr th:only-of-type {\n",
       "        vertical-align: middle;\n",
       "    }\n",
       "\n",
       "    .dataframe tbody tr th {\n",
       "        vertical-align: top;\n",
       "    }\n",
       "\n",
       "    .dataframe thead th {\n",
       "        text-align: right;\n",
       "    }\n",
       "</style>\n",
       "<table border=\"1\" class=\"dataframe\">\n",
       "  <thead>\n",
       "    <tr style=\"text-align: right;\">\n",
       "      <th></th>\n",
       "      <th>Dptr Hour</th>\n",
       "      <th>Length of Flight (Hrs)</th>\n",
       "      <th>Day of Week</th>\n",
       "      <th>Passengers Boarded</th>\n",
       "      <th>Stock Out Occurred</th>\n",
       "      <th>Cheese Platters Sold</th>\n",
       "      <th>Week Part</th>\n",
       "      <th>Hour Class</th>\n",
       "    </tr>\n",
       "  </thead>\n",
       "  <tbody>\n",
       "    <tr>\n",
       "      <td>0</td>\n",
       "      <td>8</td>\n",
       "      <td>1</td>\n",
       "      <td>2</td>\n",
       "      <td>144</td>\n",
       "      <td>0</td>\n",
       "      <td>18</td>\n",
       "      <td>Weekday</td>\n",
       "      <td>midday</td>\n",
       "    </tr>\n",
       "    <tr>\n",
       "      <td>1</td>\n",
       "      <td>5</td>\n",
       "      <td>3</td>\n",
       "      <td>1</td>\n",
       "      <td>152</td>\n",
       "      <td>0</td>\n",
       "      <td>15</td>\n",
       "      <td>Weekday</td>\n",
       "      <td>early</td>\n",
       "    </tr>\n",
       "    <tr>\n",
       "      <td>2</td>\n",
       "      <td>4</td>\n",
       "      <td>2</td>\n",
       "      <td>4</td>\n",
       "      <td>150</td>\n",
       "      <td>0</td>\n",
       "      <td>16</td>\n",
       "      <td>Weekday</td>\n",
       "      <td>early</td>\n",
       "    </tr>\n",
       "    <tr>\n",
       "      <td>3</td>\n",
       "      <td>6</td>\n",
       "      <td>2</td>\n",
       "      <td>4</td>\n",
       "      <td>131</td>\n",
       "      <td>0</td>\n",
       "      <td>13</td>\n",
       "      <td>Weekday</td>\n",
       "      <td>early</td>\n",
       "    </tr>\n",
       "    <tr>\n",
       "      <td>4</td>\n",
       "      <td>5</td>\n",
       "      <td>6</td>\n",
       "      <td>4</td>\n",
       "      <td>164</td>\n",
       "      <td>0</td>\n",
       "      <td>18</td>\n",
       "      <td>Weekday</td>\n",
       "      <td>early</td>\n",
       "    </tr>\n",
       "  </tbody>\n",
       "</table>\n",
       "</div>"
      ],
      "text/plain": [
       "  Dptr Hour  Length of Flight (Hrs) Day of Week  Passengers Boarded  \\\n",
       "0         8                       1           2                 144   \n",
       "1         5                       3           1                 152   \n",
       "2         4                       2           4                 150   \n",
       "3         6                       2           4                 131   \n",
       "4         5                       6           4                 164   \n",
       "\n",
       "   Stock Out Occurred  Cheese Platters Sold Week Part Hour Class  \n",
       "0                   0                    18   Weekday     midday  \n",
       "1                   0                    15   Weekday      early  \n",
       "2                   0                    16   Weekday      early  \n",
       "3                   0                    13   Weekday      early  \n",
       "4                   0                    18   Weekday      early  "
      ]
     },
     "execution_count": 205,
     "metadata": {},
     "output_type": "execute_result"
    }
   ],
   "source": [
    "df4.head()"
   ]
  },
  {
   "cell_type": "code",
   "execution_count": 206,
   "metadata": {},
   "outputs": [
    {
     "data": {
      "text/plain": [
       "Dptr Hour                 object\n",
       "Length of Flight (Hrs)     int64\n",
       "Day of Week               object\n",
       "Passengers Boarded         int64\n",
       "Stock Out Occurred         int64\n",
       "Cheese Platters Sold       int64\n",
       "Week Part                 object\n",
       "Hour Class                object\n",
       "dtype: object"
      ]
     },
     "execution_count": 206,
     "metadata": {},
     "output_type": "execute_result"
    }
   ],
   "source": [
    "df4.dtypes"
   ]
  },
  {
   "cell_type": "raw",
   "metadata": {},
   "source": [
    "target: 'Stock Out Occurred'\n",
    "categoric features:  'Week Part','Hour Class '\n",
    "numeric fetaures: 'Length of Flight (Hrs)','Passengers Boarded'\n",
    "    \n",
    "??? :'Cheese Platters Sold',\n",
    "not used: 'Dptr Hour',  'Day of Week',"
   ]
  },
  {
   "cell_type": "code",
   "execution_count": 207,
   "metadata": {},
   "outputs": [
    {
     "data": {
      "text/html": [
       "<div>\n",
       "<style scoped>\n",
       "    .dataframe tbody tr th:only-of-type {\n",
       "        vertical-align: middle;\n",
       "    }\n",
       "\n",
       "    .dataframe tbody tr th {\n",
       "        vertical-align: top;\n",
       "    }\n",
       "\n",
       "    .dataframe thead th {\n",
       "        text-align: right;\n",
       "    }\n",
       "</style>\n",
       "<table border=\"1\" class=\"dataframe\">\n",
       "  <thead>\n",
       "    <tr style=\"text-align: right;\">\n",
       "      <th></th>\n",
       "      <th>Length of Flight (Hrs)</th>\n",
       "      <th>Passengers Boarded</th>\n",
       "      <th>Stock Out Occurred</th>\n",
       "      <th>Week Part_Weekday</th>\n",
       "      <th>Week Part_Weekend</th>\n",
       "      <th>Hour Class_early</th>\n",
       "      <th>Hour Class_midday</th>\n",
       "      <th>Hour Class_night</th>\n",
       "    </tr>\n",
       "  </thead>\n",
       "  <tbody>\n",
       "    <tr>\n",
       "      <td>0</td>\n",
       "      <td>1</td>\n",
       "      <td>144</td>\n",
       "      <td>0</td>\n",
       "      <td>1</td>\n",
       "      <td>0</td>\n",
       "      <td>0</td>\n",
       "      <td>1</td>\n",
       "      <td>0</td>\n",
       "    </tr>\n",
       "    <tr>\n",
       "      <td>1</td>\n",
       "      <td>3</td>\n",
       "      <td>152</td>\n",
       "      <td>0</td>\n",
       "      <td>1</td>\n",
       "      <td>0</td>\n",
       "      <td>1</td>\n",
       "      <td>0</td>\n",
       "      <td>0</td>\n",
       "    </tr>\n",
       "    <tr>\n",
       "      <td>2</td>\n",
       "      <td>2</td>\n",
       "      <td>150</td>\n",
       "      <td>0</td>\n",
       "      <td>1</td>\n",
       "      <td>0</td>\n",
       "      <td>1</td>\n",
       "      <td>0</td>\n",
       "      <td>0</td>\n",
       "    </tr>\n",
       "    <tr>\n",
       "      <td>3</td>\n",
       "      <td>2</td>\n",
       "      <td>131</td>\n",
       "      <td>0</td>\n",
       "      <td>1</td>\n",
       "      <td>0</td>\n",
       "      <td>1</td>\n",
       "      <td>0</td>\n",
       "      <td>0</td>\n",
       "    </tr>\n",
       "    <tr>\n",
       "      <td>4</td>\n",
       "      <td>6</td>\n",
       "      <td>164</td>\n",
       "      <td>0</td>\n",
       "      <td>1</td>\n",
       "      <td>0</td>\n",
       "      <td>1</td>\n",
       "      <td>0</td>\n",
       "      <td>0</td>\n",
       "    </tr>\n",
       "  </tbody>\n",
       "</table>\n",
       "</div>"
      ],
      "text/plain": [
       "   Length of Flight (Hrs)  Passengers Boarded  Stock Out Occurred  \\\n",
       "0                       1                 144                   0   \n",
       "1                       3                 152                   0   \n",
       "2                       2                 150                   0   \n",
       "3                       2                 131                   0   \n",
       "4                       6                 164                   0   \n",
       "\n",
       "   Week Part_Weekday  Week Part_Weekend  Hour Class_early  Hour Class_midday  \\\n",
       "0                  1                  0                 0                  1   \n",
       "1                  1                  0                 1                  0   \n",
       "2                  1                  0                 1                  0   \n",
       "3                  1                  0                 1                  0   \n",
       "4                  1                  0                 1                  0   \n",
       "\n",
       "   Hour Class_night  \n",
       "0                 0  \n",
       "1                 0  \n",
       "2                 0  \n",
       "3                 0  \n",
       "4                 0  "
      ]
     },
     "execution_count": 207,
     "metadata": {},
     "output_type": "execute_result"
    }
   ],
   "source": [
    "df4=df4[['Week Part','Hour Class','Length of Flight (Hrs)',\n",
    "       'Passengers Boarded', 'Stock Out Occurred',]] \n",
    "df4=pd.get_dummies(df4)\n",
    "df4.head()"
   ]
  },
  {
   "cell_type": "code",
   "execution_count": 208,
   "metadata": {},
   "outputs": [],
   "source": [
    "features=['Length of Flight (Hrs)','Passengers Boarded','Week Part_Weekday','Hour Class_night','Hour Class_midday']\n",
    "X=df4[features]\n",
    "y=df4['Stock Out Occurred']"
   ]
  },
  {
   "cell_type": "code",
   "execution_count": 209,
   "metadata": {},
   "outputs": [
    {
     "name": "stdout",
     "output_type": "stream",
     "text": [
      "Warning: Maximum number of iterations has been exceeded.\n",
      "         Current function value: 0.402311\n",
      "         Iterations: 35\n",
      "                           Logit Regression Results                           \n",
      "==============================================================================\n",
      "Dep. Variable:     Stock Out Occurred   No. Observations:                 3750\n",
      "Model:                          Logit   Df Residuals:                     3745\n",
      "Method:                           MLE   Df Model:                            4\n",
      "Date:                Fri, 20 Mar 2020   Pseudo R-squ.:                  0.1252\n",
      "Time:                        19:56:49   Log-Likelihood:                -1508.7\n",
      "converged:                      False   LL-Null:                       -1724.6\n",
      "Covariance Type:            nonrobust   LLR p-value:                 3.784e-92\n",
      "==========================================================================================\n",
      "                             coef    std err          z      P>|z|      [0.025      0.975]\n",
      "------------------------------------------------------------------------------------------\n",
      "Length of Flight (Hrs)    -0.1657      0.025     -6.557      0.000      -0.215      -0.116\n",
      "Passengers Boarded        -0.0116      0.001    -12.536      0.000      -0.013      -0.010\n",
      "Week Part_Weekday         -0.1834      0.095     -1.925      0.054      -0.370       0.003\n",
      "Hour Class_night         -35.5072   5.82e+06   -6.1e-06      1.000   -1.14e+07    1.14e+07\n",
      "Hour Class_midday          1.7256      0.108     16.043      0.000       1.515       1.936\n",
      "==========================================================================================\n",
      "\n",
      "Possibly complete quasi-separation: A fraction 0.20 of observations can be\n",
      "perfectly predicted. This might indicate that there is complete\n",
      "quasi-separation. In this case some parameters will not be identified.\n"
     ]
    }
   ],
   "source": [
    "X_train,X_test, y_train, y_test=train_test_split(X,y, test_size=0.25, random_state=42, stratify=y)\n",
    "\n",
    "model=sm.Logit(y_train,X_train)\n",
    "result=model.fit()\n",
    "print(result.summary())"
   ]
  },
  {
   "cell_type": "code",
   "execution_count": 210,
   "metadata": {
    "scrolled": true
   },
   "outputs": [
    {
     "name": "stdout",
     "output_type": "stream",
     "text": [
      "Optimization terminated successfully.\n",
      "         Current function value: 0.417824\n",
      "         Iterations 7\n",
      "                           Logit Regression Results                           \n",
      "==============================================================================\n",
      "Dep. Variable:     Stock Out Occurred   No. Observations:                 3750\n",
      "Model:                          Logit   Df Residuals:                     3746\n",
      "Method:                           MLE   Df Model:                            3\n",
      "Date:                Fri, 20 Mar 2020   Pseudo R-squ.:                 0.09145\n",
      "Time:                        19:56:51   Log-Likelihood:                -1566.8\n",
      "converged:                       True   LL-Null:                       -1724.6\n",
      "Covariance Type:            nonrobust   LLR p-value:                 4.563e-68\n",
      "==========================================================================================\n",
      "                             coef    std err          z      P>|z|      [0.025      0.975]\n",
      "------------------------------------------------------------------------------------------\n",
      "Length of Flight (Hrs)    -0.1790      0.025     -7.121      0.000      -0.228      -0.130\n",
      "Passengers Boarded        -0.0146      0.001    -15.976      0.000      -0.016      -0.013\n",
      "Week Part_Weekday         -0.2248      0.095     -2.379      0.017      -0.410      -0.040\n",
      "Hour Class_midday          2.2022      0.105     20.912      0.000       1.996       2.409\n",
      "==========================================================================================\n"
     ]
    }
   ],
   "source": [
    "features=['Length of Flight (Hrs)','Passengers Boarded','Week Part_Weekday','Hour Class_midday']#,'Hour Class_night'\n",
    "X=df4[features]\n",
    "y=df4['Stock Out Occurred']\n",
    "\n",
    "X_train,X_test, y_train, y_test=train_test_split(X,y, test_size=0.25, random_state=42, stratify=y)\n",
    "\n",
    "logit_model=sm.Logit(y_train,X_train)\n",
    "result=logit_model.fit()\n",
    "print(result.summary())"
   ]
  },
  {
   "cell_type": "code",
   "execution_count": 211,
   "metadata": {},
   "outputs": [
    {
     "name": "stdout",
     "output_type": "stream",
     "text": [
      "Optimization terminated successfully.\n",
      "         Current function value: 0.425554\n",
      "         Iterations 7\n"
     ]
    }
   ],
   "source": [
    "logit_model=sm.Logit(y_test,X_test)\n",
    "result2=logit_model.fit()\n",
    "# print(result2.summary())"
   ]
  },
  {
   "cell_type": "code",
   "execution_count": 212,
   "metadata": {},
   "outputs": [
    {
     "name": "stdout",
     "output_type": "stream",
     "text": [
      "Length of Flight (Hrs)  0.8392\n",
      "Passengers Boarded  0.9862\n",
      "Week Part_Weekday  0.7578\n",
      "Hour Class_midday  7.947\n"
     ]
    }
   ],
   "source": [
    "print('Length of Flight (Hrs) ',np.exp(-0.1753).round(4)) \n",
    "print('Passengers Boarded ',np.exp(-0.0139).round(4))  \n",
    "print('Week Part_Weekday ',np.exp(-0.2773).round(4)) \n",
    "print('Hour Class_midday ',np.exp(2.0728).round(4)) \n",
    "# print(np.exp(0)) # For Weekend Part_Weekda or Hour Class_early"
   ]
  },
  {
   "cell_type": "code",
   "execution_count": 213,
   "metadata": {},
   "outputs": [
    {
     "data": {
      "text/plain": [
       "array([[2905.,  198.],\n",
       "       [ 647.,    0.]])"
      ]
     },
     "execution_count": 213,
     "metadata": {},
     "output_type": "execute_result"
    }
   ],
   "source": [
    "r1=result.pred_table() # train confusion matrix\n",
    "r1"
   ]
  },
  {
   "cell_type": "code",
   "execution_count": 214,
   "metadata": {},
   "outputs": [
    {
     "data": {
      "text/plain": [
       "array([[982.,  52.],\n",
       "       [216.,   0.]])"
      ]
     },
     "execution_count": 214,
     "metadata": {},
     "output_type": "execute_result"
    }
   ],
   "source": [
    "r2=result2.pred_table() # test confusion matrix\n",
    "r2"
   ]
  },
  {
   "cell_type": "code",
   "execution_count": 215,
   "metadata": {},
   "outputs": [
    {
     "name": "stdout",
     "output_type": "stream",
     "text": [
      "train score:  0.7747\n",
      "test score:  0.7856\n"
     ]
    }
   ],
   "source": [
    "print('train score: ',accuracy_score(y_train, result.predict().round()).round(4))\n",
    "print('test score: ',accuracy_score(y_test, result2.predict().round()).round(4))"
   ]
  },
  {
   "cell_type": "markdown",
   "metadata": {},
   "source": [
    "##### linear model library"
   ]
  },
  {
   "cell_type": "code",
   "execution_count": 216,
   "metadata": {},
   "outputs": [
    {
     "name": "stdout",
     "output_type": "stream",
     "text": [
      "train score: 0.968\n",
      "test score: 0.968\n"
     ]
    },
    {
     "data": {
      "text/html": [
       "<div>\n",
       "<style scoped>\n",
       "    .dataframe tbody tr th:only-of-type {\n",
       "        vertical-align: middle;\n",
       "    }\n",
       "\n",
       "    .dataframe tbody tr th {\n",
       "        vertical-align: top;\n",
       "    }\n",
       "\n",
       "    .dataframe thead th {\n",
       "        text-align: right;\n",
       "    }\n",
       "</style>\n",
       "<table border=\"1\" class=\"dataframe\">\n",
       "  <thead>\n",
       "    <tr style=\"text-align: right;\">\n",
       "      <th></th>\n",
       "      <th>coefficient</th>\n",
       "    </tr>\n",
       "  </thead>\n",
       "  <tbody>\n",
       "    <tr>\n",
       "      <td>Length of Flight (Hrs)</td>\n",
       "      <td>0.9424</td>\n",
       "    </tr>\n",
       "    <tr>\n",
       "      <td>Passengers Boarded</td>\n",
       "      <td>5.1385</td>\n",
       "    </tr>\n",
       "    <tr>\n",
       "      <td>Week Part_Weekday</td>\n",
       "      <td>1.1556</td>\n",
       "    </tr>\n",
       "    <tr>\n",
       "      <td>Hour Class_midday</td>\n",
       "      <td>4.4879</td>\n",
       "    </tr>\n",
       "  </tbody>\n",
       "</table>\n",
       "</div>"
      ],
      "text/plain": [
       "                        coefficient\n",
       "Length of Flight (Hrs)       0.9424\n",
       "Passengers Boarded           5.1385\n",
       "Week Part_Weekday            1.1556\n",
       "Hour Class_midday            4.4879"
      ]
     },
     "execution_count": 216,
     "metadata": {},
     "output_type": "execute_result"
    }
   ],
   "source": [
    "logreg_class=LogisticRegression(fit_intercept=True)\n",
    "\n",
    "print (f'train score: {process_train(logreg_class,X_train).round(4)}')\n",
    "print (f'test score: {process_test(logreg_class,X_test)}')\n",
    "coefficients(logreg_class,X_train)"
   ]
  },
  {
   "cell_type": "code",
   "execution_count": 217,
   "metadata": {},
   "outputs": [],
   "source": [
    "def coefficients_exp(model,X_train):\n",
    "    x=pd.DataFrame(np.exp(model.coef_).round(4),columns=X_train.columns).T\n",
    "    x=x.rename(columns={0:'coefficient'})\n",
    "    return x"
   ]
  },
  {
   "cell_type": "code",
   "execution_count": 218,
   "metadata": {},
   "outputs": [
    {
     "data": {
      "text/html": [
       "<div>\n",
       "<style scoped>\n",
       "    .dataframe tbody tr th:only-of-type {\n",
       "        vertical-align: middle;\n",
       "    }\n",
       "\n",
       "    .dataframe tbody tr th {\n",
       "        vertical-align: top;\n",
       "    }\n",
       "\n",
       "    .dataframe thead th {\n",
       "        text-align: right;\n",
       "    }\n",
       "</style>\n",
       "<table border=\"1\" class=\"dataframe\">\n",
       "  <thead>\n",
       "    <tr style=\"text-align: right;\">\n",
       "      <th></th>\n",
       "      <th>coefficient</th>\n",
       "    </tr>\n",
       "  </thead>\n",
       "  <tbody>\n",
       "    <tr>\n",
       "      <td>Length of Flight (Hrs)</td>\n",
       "      <td>2.5660</td>\n",
       "    </tr>\n",
       "    <tr>\n",
       "      <td>Passengers Boarded</td>\n",
       "      <td>170.4515</td>\n",
       "    </tr>\n",
       "    <tr>\n",
       "      <td>Week Part_Weekday</td>\n",
       "      <td>3.1759</td>\n",
       "    </tr>\n",
       "    <tr>\n",
       "      <td>Hour Class_midday</td>\n",
       "      <td>88.9378</td>\n",
       "    </tr>\n",
       "  </tbody>\n",
       "</table>\n",
       "</div>"
      ],
      "text/plain": [
       "                        coefficient\n",
       "Length of Flight (Hrs)       2.5660\n",
       "Passengers Boarded         170.4515\n",
       "Week Part_Weekday            3.1759\n",
       "Hour Class_midday           88.9378"
      ]
     },
     "execution_count": 218,
     "metadata": {},
     "output_type": "execute_result"
    }
   ],
   "source": [
    "coefficients_exp(logreg_class,X_train)"
   ]
  },
  {
   "cell_type": "code",
   "execution_count": 219,
   "metadata": {},
   "outputs": [
    {
     "data": {
      "text/plain": [
       "array([-7.11205028])"
      ]
     },
     "execution_count": 219,
     "metadata": {},
     "output_type": "execute_result"
    }
   ],
   "source": [
    "logreg_class.intercept_"
   ]
  },
  {
   "cell_type": "code",
   "execution_count": 220,
   "metadata": {},
   "outputs": [],
   "source": [
    "ss=StandardScaler()\n",
    "X_test_sc=ss.fit_transform(X_test)\n",
    "y_pred=logreg_class.predict(X_test_sc)"
   ]
  },
  {
   "cell_type": "code",
   "execution_count": 223,
   "metadata": {},
   "outputs": [
    {
     "ename": "TypeError",
     "evalue": "'numpy.ndarray' object is not callable",
     "output_type": "error",
     "traceback": [
      "\u001b[0;31m---------------------------------------------------------------------------\u001b[0m",
      "\u001b[0;31mTypeError\u001b[0m                                 Traceback (most recent call last)",
      "\u001b[0;32m<ipython-input-223-b9b801cd476e>\u001b[0m in \u001b[0;36m<module>\u001b[0;34m\u001b[0m\n\u001b[0;32m----> 1\u001b[0;31m \u001b[0mconfusion_matrix\u001b[0m\u001b[0;34m=\u001b[0m\u001b[0mconfusion_matrix\u001b[0m\u001b[0;34m(\u001b[0m\u001b[0my_test\u001b[0m\u001b[0;34m,\u001b[0m \u001b[0my_pred\u001b[0m\u001b[0;34m)\u001b[0m\u001b[0;34m\u001b[0m\u001b[0;34m\u001b[0m\u001b[0m\n\u001b[0m\u001b[1;32m      2\u001b[0m \u001b[0mprint\u001b[0m\u001b[0;34m(\u001b[0m\u001b[0mconfusion_matrix\u001b[0m\u001b[0;34m)\u001b[0m\u001b[0;34m\u001b[0m\u001b[0;34m\u001b[0m\u001b[0m\n",
      "\u001b[0;31mTypeError\u001b[0m: 'numpy.ndarray' object is not callable"
     ]
    }
   ],
   "source": [
    "confusion_matrix=confusion_matrix(y_test, y_pred)\n",
    "print(confusion_matrix)"
   ]
  },
  {
   "cell_type": "markdown",
   "metadata": {},
   "source": [
    "### Model 1B- Binomial Regression"
   ]
  },
  {
   "cell_type": "code",
   "execution_count": 224,
   "metadata": {},
   "outputs": [],
   "source": [
    "features=['Length of Flight (Hrs)','Passengers Boarded','Week Part_Weekday','Hour Class_night','Hour Class_midday']\n",
    "X=df4[features]\n",
    "y=df4['Stock Out Occurred']\n",
    "\n",
    "X_train,X_test, y_train, y_test=train_test_split(X,y, test_size=0.25, random_state=42, stratify=y)"
   ]
  },
  {
   "cell_type": "code",
   "execution_count": 225,
   "metadata": {},
   "outputs": [
    {
     "name": "stdout",
     "output_type": "stream",
     "text": [
      "                 Generalized Linear Model Regression Results                  \n",
      "==============================================================================\n",
      "Dep. Variable:     Stock Out Occurred   No. Observations:                 3750\n",
      "Model:                            GLM   Df Residuals:                     3745\n",
      "Model Family:                Binomial   Df Model:                            4\n",
      "Link Function:                  logit   Scale:                          1.0000\n",
      "Method:                          IRLS   Log-Likelihood:                -1508.7\n",
      "Date:                Fri, 20 Mar 2020   Deviance:                       3017.3\n",
      "Time:                        19:57:33   Pearson chi2:                 2.54e+03\n",
      "No. Iterations:                    25                                         \n",
      "Covariance Type:            nonrobust                                         \n",
      "==========================================================================================\n",
      "                             coef    std err          z      P>|z|      [0.025      0.975]\n",
      "------------------------------------------------------------------------------------------\n",
      "Length of Flight (Hrs)    -0.1657      0.025     -6.557      0.000      -0.215      -0.116\n",
      "Passengers Boarded        -0.0116      0.001    -12.536      0.000      -0.013      -0.010\n",
      "Week Part_Weekday         -0.1834      0.095     -1.925      0.054      -0.370       0.003\n",
      "Hour Class_night         -24.2680   1.28e+04     -0.002      0.998   -2.51e+04    2.51e+04\n",
      "Hour Class_midday          1.7256      0.108     16.043      0.000       1.515       1.936\n",
      "==========================================================================================\n"
     ]
    }
   ],
   "source": [
    "binom_model = sm.GLM(y_train, X_train, family=sm.families.Binomial())\n",
    "binom_model_results = binom_model.fit()\n",
    "print(binom_model_results.summary())"
   ]
  },
  {
   "cell_type": "code",
   "execution_count": 226,
   "metadata": {},
   "outputs": [
    {
     "name": "stdout",
     "output_type": "stream",
     "text": [
      "                 Generalized Linear Model Regression Results                  \n",
      "==============================================================================\n",
      "Dep. Variable:     Stock Out Occurred   No. Observations:                 3750\n",
      "Model:                            GLM   Df Residuals:                     3746\n",
      "Model Family:                Binomial   Df Model:                            3\n",
      "Link Function:                  logit   Scale:                          1.0000\n",
      "Method:                          IRLS   Log-Likelihood:                -1566.8\n",
      "Date:                Fri, 20 Mar 2020   Deviance:                       3133.7\n",
      "Time:                        19:57:35   Pearson chi2:                 2.73e+03\n",
      "No. Iterations:                     6                                         \n",
      "Covariance Type:            nonrobust                                         \n",
      "==========================================================================================\n",
      "                             coef    std err          z      P>|z|      [0.025      0.975]\n",
      "------------------------------------------------------------------------------------------\n",
      "Length of Flight (Hrs)    -0.1790      0.025     -7.121      0.000      -0.228      -0.130\n",
      "Passengers Boarded        -0.0146      0.001    -15.976      0.000      -0.016      -0.013\n",
      "Week Part_Weekday         -0.2248      0.095     -2.379      0.017      -0.410      -0.040\n",
      "Hour Class_midday          2.2022      0.105     20.912      0.000       1.996       2.409\n",
      "==========================================================================================\n"
     ]
    }
   ],
   "source": [
    "features=['Length of Flight (Hrs)','Passengers Boarded','Week Part_Weekday','Hour Class_midday']#,'Hour Class_night'\n",
    "X=df4[features]\n",
    "y=df4['Stock Out Occurred']\n",
    "\n",
    "X_train,X_test, y_train, y_test=train_test_split(X,y, test_size=0.25, random_state=42, stratify=y)\n",
    "\n",
    "binom_model = sm.GLM(y_train, X_train, family=sm.families.Binomial())\n",
    "binom_model_results = binom_model.fit()\n",
    "print(binom_model_results.summary())"
   ]
  },
  {
   "cell_type": "code",
   "execution_count": 227,
   "metadata": {},
   "outputs": [],
   "source": [
    "ss=StandardScaler()\n",
    "\n",
    "X_train_sc=ss.fit_transform(X_train)\n",
    "y_train_pred_binom= binom_model_results.predict(X_train_sc)\n",
    "\n",
    "X_test_sc=ss.fit_transform(X_test)\n",
    "y_test_pred_binom= binom_model_results.predict(X_test_sc)"
   ]
  },
  {
   "cell_type": "code",
   "execution_count": 228,
   "metadata": {},
   "outputs": [
    {
     "name": "stdout",
     "output_type": "stream",
     "text": [
      "train score: 0.7\n",
      "test score: 0.6904\n"
     ]
    }
   ],
   "source": [
    "print(f'train score: {accuracy_score(y_train, y_train_pred_binom.round()).round(4)}')\n",
    "print(f'test score: {accuracy_score(y_test, y_test_pred_binom.round()).round(4)}')"
   ]
  },
  {
   "cell_type": "code",
   "execution_count": 229,
   "metadata": {},
   "outputs": [
    {
     "ename": "TypeError",
     "evalue": "'numpy.ndarray' object is not callable",
     "output_type": "error",
     "traceback": [
      "\u001b[0;31m---------------------------------------------------------------------------\u001b[0m",
      "\u001b[0;31mTypeError\u001b[0m                                 Traceback (most recent call last)",
      "\u001b[0;32m<ipython-input-229-aa10f63e7fa8>\u001b[0m in \u001b[0;36m<module>\u001b[0;34m\u001b[0m\n\u001b[0;32m----> 1\u001b[0;31m \u001b[0mconfusion_matrix\u001b[0m\u001b[0;34m=\u001b[0m\u001b[0mconfusion_matrix\u001b[0m\u001b[0;34m(\u001b[0m\u001b[0my_test\u001b[0m\u001b[0;34m,\u001b[0m \u001b[0my_test_pred_binom\u001b[0m\u001b[0;34m.\u001b[0m\u001b[0mround\u001b[0m\u001b[0;34m(\u001b[0m\u001b[0;34m)\u001b[0m\u001b[0;34m)\u001b[0m\u001b[0;34m\u001b[0m\u001b[0;34m\u001b[0m\u001b[0m\n\u001b[0m\u001b[1;32m      2\u001b[0m \u001b[0mprint\u001b[0m\u001b[0;34m(\u001b[0m\u001b[0mconfusion_matrix\u001b[0m\u001b[0;34m)\u001b[0m\u001b[0;34m\u001b[0m\u001b[0;34m\u001b[0m\u001b[0m\n",
      "\u001b[0;31mTypeError\u001b[0m: 'numpy.ndarray' object is not callable"
     ]
    }
   ],
   "source": [
    "confusion_matrix=confusion_matrix(y_test, y_test_pred_binom.round())\n",
    "print(confusion_matrix)"
   ]
  },
  {
   "cell_type": "markdown",
   "metadata": {},
   "source": [
    "## Model 1C- Predict \"Almost Stock Out Sales\""
   ]
  },
  {
   "cell_type": "code",
   "execution_count": 230,
   "metadata": {},
   "outputs": [
    {
     "data": {
      "text/html": [
       "<div>\n",
       "<style scoped>\n",
       "    .dataframe tbody tr th:only-of-type {\n",
       "        vertical-align: middle;\n",
       "    }\n",
       "\n",
       "    .dataframe tbody tr th {\n",
       "        vertical-align: top;\n",
       "    }\n",
       "\n",
       "    .dataframe thead th {\n",
       "        text-align: right;\n",
       "    }\n",
       "</style>\n",
       "<table border=\"1\" class=\"dataframe\">\n",
       "  <thead>\n",
       "    <tr style=\"text-align: right;\">\n",
       "      <th></th>\n",
       "      <th>Dptr Hour</th>\n",
       "      <th>Length of Flight (Hrs)</th>\n",
       "      <th>Day of Week</th>\n",
       "      <th>Passengers Boarded</th>\n",
       "      <th>Stock Out Occurred</th>\n",
       "      <th>Cheese Platters Sold</th>\n",
       "      <th>Week Part</th>\n",
       "      <th>Hour Class</th>\n",
       "    </tr>\n",
       "  </thead>\n",
       "  <tbody>\n",
       "    <tr>\n",
       "      <td>0</td>\n",
       "      <td>8</td>\n",
       "      <td>1</td>\n",
       "      <td>2</td>\n",
       "      <td>144</td>\n",
       "      <td>0</td>\n",
       "      <td>18</td>\n",
       "      <td>Weekday</td>\n",
       "      <td>midday</td>\n",
       "    </tr>\n",
       "    <tr>\n",
       "      <td>1</td>\n",
       "      <td>5</td>\n",
       "      <td>3</td>\n",
       "      <td>1</td>\n",
       "      <td>152</td>\n",
       "      <td>0</td>\n",
       "      <td>15</td>\n",
       "      <td>Weekday</td>\n",
       "      <td>early</td>\n",
       "    </tr>\n",
       "    <tr>\n",
       "      <td>2</td>\n",
       "      <td>4</td>\n",
       "      <td>2</td>\n",
       "      <td>4</td>\n",
       "      <td>150</td>\n",
       "      <td>0</td>\n",
       "      <td>16</td>\n",
       "      <td>Weekday</td>\n",
       "      <td>early</td>\n",
       "    </tr>\n",
       "    <tr>\n",
       "      <td>3</td>\n",
       "      <td>6</td>\n",
       "      <td>2</td>\n",
       "      <td>4</td>\n",
       "      <td>131</td>\n",
       "      <td>0</td>\n",
       "      <td>13</td>\n",
       "      <td>Weekday</td>\n",
       "      <td>early</td>\n",
       "    </tr>\n",
       "    <tr>\n",
       "      <td>4</td>\n",
       "      <td>5</td>\n",
       "      <td>6</td>\n",
       "      <td>4</td>\n",
       "      <td>164</td>\n",
       "      <td>0</td>\n",
       "      <td>18</td>\n",
       "      <td>Weekday</td>\n",
       "      <td>early</td>\n",
       "    </tr>\n",
       "  </tbody>\n",
       "</table>\n",
       "</div>"
      ],
      "text/plain": [
       "  Dptr Hour  Length of Flight (Hrs) Day of Week  Passengers Boarded  \\\n",
       "0         8                       1           2                 144   \n",
       "1         5                       3           1                 152   \n",
       "2         4                       2           4                 150   \n",
       "3         6                       2           4                 131   \n",
       "4         5                       6           4                 164   \n",
       "\n",
       "   Stock Out Occurred  Cheese Platters Sold Week Part Hour Class  \n",
       "0                   0                    18   Weekday     midday  \n",
       "1                   0                    15   Weekday      early  \n",
       "2                   0                    16   Weekday      early  \n",
       "3                   0                    13   Weekday      early  \n",
       "4                   0                    18   Weekday      early  "
      ]
     },
     "execution_count": 230,
     "metadata": {},
     "output_type": "execute_result"
    }
   ],
   "source": [
    "df3=df2\n",
    "df3.head(5)"
   ]
  },
  {
   "cell_type": "code",
   "execution_count": 231,
   "metadata": {},
   "outputs": [],
   "source": [
    "stock_out_class_dict={ 0:[0, 18], 1 :[19, 20]}\n",
    "\n",
    "def stock_out_class_maker(value, stock_out_class_dict=stock_out_class_dict):\n",
    "        for k, v in stock_out_class_dict.items():\n",
    "            if (value>=v[0] and value<=v[1]):\n",
    "                return(k)\n",
    "            elif value=='NaN':\n",
    "                return('unknown')# if time is null so it will return to string as 'unknown'"
   ]
  },
  {
   "cell_type": "code",
   "execution_count": 232,
   "metadata": {},
   "outputs": [],
   "source": [
    "# df3['Dptr Hour']=df3['Dptr Hour'].astype(int)\n",
    "# df3['Hour Class']=df3['Dptr Hour'].map(lambda x: time_class_maker(x)) \n",
    "df3['Almost Stock Out']=df3['Cheese Platters Sold'].map(lambda x:stock_out_class_maker (x))"
   ]
  },
  {
   "cell_type": "code",
   "execution_count": 233,
   "metadata": {},
   "outputs": [
    {
     "data": {
      "text/plain": [
       "Dptr Hour                 object\n",
       "Length of Flight (Hrs)     int64\n",
       "Day of Week               object\n",
       "Passengers Boarded         int64\n",
       "Stock Out Occurred         int64\n",
       "Cheese Platters Sold       int64\n",
       "Week Part                 object\n",
       "Hour Class                object\n",
       "Almost Stock Out           int64\n",
       "dtype: object"
      ]
     },
     "execution_count": 233,
     "metadata": {},
     "output_type": "execute_result"
    }
   ],
   "source": [
    "df3.dtypes"
   ]
  },
  {
   "cell_type": "code",
   "execution_count": 234,
   "metadata": {},
   "outputs": [
    {
     "data": {
      "text/html": [
       "<div>\n",
       "<style scoped>\n",
       "    .dataframe tbody tr th:only-of-type {\n",
       "        vertical-align: middle;\n",
       "    }\n",
       "\n",
       "    .dataframe tbody tr th {\n",
       "        vertical-align: top;\n",
       "    }\n",
       "\n",
       "    .dataframe thead th {\n",
       "        text-align: right;\n",
       "    }\n",
       "</style>\n",
       "<table border=\"1\" class=\"dataframe\">\n",
       "  <thead>\n",
       "    <tr style=\"text-align: right;\">\n",
       "      <th></th>\n",
       "      <th>Dptr Hour</th>\n",
       "      <th>Length of Flight (Hrs)</th>\n",
       "      <th>Day of Week</th>\n",
       "      <th>Passengers Boarded</th>\n",
       "      <th>Stock Out Occurred</th>\n",
       "      <th>Cheese Platters Sold</th>\n",
       "      <th>Week Part</th>\n",
       "      <th>Hour Class</th>\n",
       "      <th>Almost Stock Out</th>\n",
       "    </tr>\n",
       "  </thead>\n",
       "  <tbody>\n",
       "    <tr>\n",
       "      <td>0</td>\n",
       "      <td>8</td>\n",
       "      <td>1</td>\n",
       "      <td>2</td>\n",
       "      <td>144</td>\n",
       "      <td>0</td>\n",
       "      <td>18</td>\n",
       "      <td>Weekday</td>\n",
       "      <td>midday</td>\n",
       "      <td>0</td>\n",
       "    </tr>\n",
       "    <tr>\n",
       "      <td>1</td>\n",
       "      <td>5</td>\n",
       "      <td>3</td>\n",
       "      <td>1</td>\n",
       "      <td>152</td>\n",
       "      <td>0</td>\n",
       "      <td>15</td>\n",
       "      <td>Weekday</td>\n",
       "      <td>early</td>\n",
       "      <td>0</td>\n",
       "    </tr>\n",
       "    <tr>\n",
       "      <td>2</td>\n",
       "      <td>4</td>\n",
       "      <td>2</td>\n",
       "      <td>4</td>\n",
       "      <td>150</td>\n",
       "      <td>0</td>\n",
       "      <td>16</td>\n",
       "      <td>Weekday</td>\n",
       "      <td>early</td>\n",
       "      <td>0</td>\n",
       "    </tr>\n",
       "    <tr>\n",
       "      <td>3</td>\n",
       "      <td>6</td>\n",
       "      <td>2</td>\n",
       "      <td>4</td>\n",
       "      <td>131</td>\n",
       "      <td>0</td>\n",
       "      <td>13</td>\n",
       "      <td>Weekday</td>\n",
       "      <td>early</td>\n",
       "      <td>0</td>\n",
       "    </tr>\n",
       "    <tr>\n",
       "      <td>4</td>\n",
       "      <td>5</td>\n",
       "      <td>6</td>\n",
       "      <td>4</td>\n",
       "      <td>164</td>\n",
       "      <td>0</td>\n",
       "      <td>18</td>\n",
       "      <td>Weekday</td>\n",
       "      <td>early</td>\n",
       "      <td>0</td>\n",
       "    </tr>\n",
       "  </tbody>\n",
       "</table>\n",
       "</div>"
      ],
      "text/plain": [
       "  Dptr Hour  Length of Flight (Hrs) Day of Week  Passengers Boarded  \\\n",
       "0         8                       1           2                 144   \n",
       "1         5                       3           1                 152   \n",
       "2         4                       2           4                 150   \n",
       "3         6                       2           4                 131   \n",
       "4         5                       6           4                 164   \n",
       "\n",
       "   Stock Out Occurred  Cheese Platters Sold Week Part Hour Class  \\\n",
       "0                   0                    18   Weekday     midday   \n",
       "1                   0                    15   Weekday      early   \n",
       "2                   0                    16   Weekday      early   \n",
       "3                   0                    13   Weekday      early   \n",
       "4                   0                    18   Weekday      early   \n",
       "\n",
       "   Almost Stock Out  \n",
       "0                 0  \n",
       "1                 0  \n",
       "2                 0  \n",
       "3                 0  \n",
       "4                 0  "
      ]
     },
     "execution_count": 234,
     "metadata": {},
     "output_type": "execute_result"
    }
   ],
   "source": [
    "df3.head()"
   ]
  },
  {
   "cell_type": "code",
   "execution_count": 235,
   "metadata": {},
   "outputs": [
    {
     "data": {
      "text/html": [
       "<div>\n",
       "<style scoped>\n",
       "    .dataframe tbody tr th:only-of-type {\n",
       "        vertical-align: middle;\n",
       "    }\n",
       "\n",
       "    .dataframe tbody tr th {\n",
       "        vertical-align: top;\n",
       "    }\n",
       "\n",
       "    .dataframe thead th {\n",
       "        text-align: right;\n",
       "    }\n",
       "</style>\n",
       "<table border=\"1\" class=\"dataframe\">\n",
       "  <thead>\n",
       "    <tr style=\"text-align: right;\">\n",
       "      <th></th>\n",
       "      <th>Length of Flight (Hrs)</th>\n",
       "      <th>Passengers Boarded</th>\n",
       "      <th>Almost Stock Out</th>\n",
       "      <th>Week Part_Weekday</th>\n",
       "      <th>Week Part_Weekend</th>\n",
       "      <th>Hour Class_early</th>\n",
       "      <th>Hour Class_midday</th>\n",
       "      <th>Hour Class_night</th>\n",
       "    </tr>\n",
       "  </thead>\n",
       "  <tbody>\n",
       "    <tr>\n",
       "      <td>0</td>\n",
       "      <td>1</td>\n",
       "      <td>144</td>\n",
       "      <td>0</td>\n",
       "      <td>1</td>\n",
       "      <td>0</td>\n",
       "      <td>0</td>\n",
       "      <td>1</td>\n",
       "      <td>0</td>\n",
       "    </tr>\n",
       "    <tr>\n",
       "      <td>1</td>\n",
       "      <td>3</td>\n",
       "      <td>152</td>\n",
       "      <td>0</td>\n",
       "      <td>1</td>\n",
       "      <td>0</td>\n",
       "      <td>1</td>\n",
       "      <td>0</td>\n",
       "      <td>0</td>\n",
       "    </tr>\n",
       "    <tr>\n",
       "      <td>2</td>\n",
       "      <td>2</td>\n",
       "      <td>150</td>\n",
       "      <td>0</td>\n",
       "      <td>1</td>\n",
       "      <td>0</td>\n",
       "      <td>1</td>\n",
       "      <td>0</td>\n",
       "      <td>0</td>\n",
       "    </tr>\n",
       "    <tr>\n",
       "      <td>3</td>\n",
       "      <td>2</td>\n",
       "      <td>131</td>\n",
       "      <td>0</td>\n",
       "      <td>1</td>\n",
       "      <td>0</td>\n",
       "      <td>1</td>\n",
       "      <td>0</td>\n",
       "      <td>0</td>\n",
       "    </tr>\n",
       "    <tr>\n",
       "      <td>4</td>\n",
       "      <td>6</td>\n",
       "      <td>164</td>\n",
       "      <td>0</td>\n",
       "      <td>1</td>\n",
       "      <td>0</td>\n",
       "      <td>1</td>\n",
       "      <td>0</td>\n",
       "      <td>0</td>\n",
       "    </tr>\n",
       "  </tbody>\n",
       "</table>\n",
       "</div>"
      ],
      "text/plain": [
       "   Length of Flight (Hrs)  Passengers Boarded  Almost Stock Out  \\\n",
       "0                       1                 144                 0   \n",
       "1                       3                 152                 0   \n",
       "2                       2                 150                 0   \n",
       "3                       2                 131                 0   \n",
       "4                       6                 164                 0   \n",
       "\n",
       "   Week Part_Weekday  Week Part_Weekend  Hour Class_early  Hour Class_midday  \\\n",
       "0                  1                  0                 0                  1   \n",
       "1                  1                  0                 1                  0   \n",
       "2                  1                  0                 1                  0   \n",
       "3                  1                  0                 1                  0   \n",
       "4                  1                  0                 1                  0   \n",
       "\n",
       "   Hour Class_night  \n",
       "0                 0  \n",
       "1                 0  \n",
       "2                 0  \n",
       "3                 0  \n",
       "4                 0  "
      ]
     },
     "execution_count": 235,
     "metadata": {},
     "output_type": "execute_result"
    }
   ],
   "source": [
    "df3=df3[['Week Part','Hour Class','Length of Flight (Hrs)',\n",
    "       'Passengers Boarded', 'Almost Stock Out',]] \n",
    "df3=pd.get_dummies(df3)\n",
    "df3.head()"
   ]
  },
  {
   "cell_type": "code",
   "execution_count": 236,
   "metadata": {},
   "outputs": [
    {
     "name": "stdout",
     "output_type": "stream",
     "text": [
      "Optimization terminated successfully.\n",
      "         Current function value: 0.464183\n",
      "         Iterations 8\n",
      "                           Logit Regression Results                           \n",
      "==============================================================================\n",
      "Dep. Variable:       Almost Stock Out   No. Observations:                 3750\n",
      "Model:                          Logit   Df Residuals:                     3745\n",
      "Method:                           MLE   Df Model:                            4\n",
      "Date:                Fri, 20 Mar 2020   Pseudo R-squ.:                  0.1596\n",
      "Time:                        19:57:53   Log-Likelihood:                -1740.7\n",
      "converged:                       True   LL-Null:                       -2071.1\n",
      "Covariance Type:            nonrobust   LLR p-value:                1.006e-141\n",
      "==========================================================================================\n",
      "                             coef    std err          z      P>|z|      [0.025      0.975]\n",
      "------------------------------------------------------------------------------------------\n",
      "Length of Flight (Hrs)    -0.1669      0.023     -7.114      0.000      -0.213      -0.121\n",
      "Passengers Boarded        -0.0090      0.001    -10.497      0.000      -0.011      -0.007\n",
      "Week Part_Weekday         -0.2351      0.089     -2.649      0.008      -0.409      -0.061\n",
      "Hour Class_night          -1.9287      0.274     -7.031      0.000      -2.466      -1.391\n",
      "Hour Class_midday          1.8944      0.098     19.264      0.000       1.702       2.087\n",
      "==========================================================================================\n"
     ]
    }
   ],
   "source": [
    "features=['Length of Flight (Hrs)','Passengers Boarded','Week Part_Weekday','Hour Class_night','Hour Class_midday']\n",
    "X=df3[features]\n",
    "y=df3['Almost Stock Out']\n",
    "\n",
    "X_train,X_test, y_train, y_test=train_test_split(X,y, test_size=0.25, random_state=42, stratify=y)\n",
    "\n",
    "model=sm.Logit(y_train,X_train)\n",
    "result=model.fit()\n",
    "print(result.summary())"
   ]
  },
  {
   "cell_type": "code",
   "execution_count": 237,
   "metadata": {},
   "outputs": [
    {
     "name": "stdout",
     "output_type": "stream",
     "text": [
      "Length of Flight (Hrs)  0.8463\n",
      "Passengers Boarded  0.991\n",
      "Week Part_Weekday  0.7905\n",
      "Hour Class_night  0.1453\n",
      "Hour Class_midday  6.6486\n"
     ]
    }
   ],
   "source": [
    "print('Length of Flight (Hrs) ',np.exp(-0.1669).round(4)) \n",
    "print('Passengers Boarded ',np.exp(-0.0090).round(4))  \n",
    "print('Week Part_Weekday ',np.exp(-0.2351).round(4)) \n",
    "print('Hour Class_night ',np.exp(-1.9287).round(4)) \n",
    "print('Hour Class_midday ',np.exp(1.8944).round(4)) \n",
    "# print(np.exp(0)) # For Weekend Part_Weekda or Hour Class_early"
   ]
  },
  {
   "cell_type": "code",
   "execution_count": 239,
   "metadata": {},
   "outputs": [
    {
     "name": "stdout",
     "output_type": "stream",
     "text": [
      "Optimization terminated successfully.\n",
      "         Current function value: 0.457391\n",
      "         Iterations 7\n"
     ]
    }
   ],
   "source": [
    "logit_model=sm.Logit(y_test,X_test)\n",
    "result2=logit_model.fit()\n",
    "# print(result2.summary())"
   ]
  },
  {
   "cell_type": "code",
   "execution_count": 240,
   "metadata": {},
   "outputs": [
    {
     "name": "stdout",
     "output_type": "stream",
     "text": [
      "train score:  0.6629\n",
      "test score:  0.676\n"
     ]
    }
   ],
   "source": [
    "print('train score: ',accuracy_score(y_train, result.predict().round()).round(4))\n",
    "print('test score: ',accuracy_score(y_test, result2.predict().round()).round(4))"
   ]
  },
  {
   "cell_type": "markdown",
   "metadata": {},
   "source": [
    "## Model 2- Predict Non Stock Out Sales"
   ]
  },
  {
   "cell_type": "markdown",
   "metadata": {},
   "source": [
    "### Model 2A- Multi Linear Regression"
   ]
  },
  {
   "cell_type": "code",
   "execution_count": 241,
   "metadata": {},
   "outputs": [],
   "source": [
    "from sklearn.linear_model import LinearRegression\n",
    "from scipy.stats import skew\n",
    "from sklearn.metrics import r2_score"
   ]
  },
  {
   "cell_type": "code",
   "execution_count": 242,
   "metadata": {
    "scrolled": true
   },
   "outputs": [
    {
     "data": {
      "text/html": [
       "<div>\n",
       "<style scoped>\n",
       "    .dataframe tbody tr th:only-of-type {\n",
       "        vertical-align: middle;\n",
       "    }\n",
       "\n",
       "    .dataframe tbody tr th {\n",
       "        vertical-align: top;\n",
       "    }\n",
       "\n",
       "    .dataframe thead th {\n",
       "        text-align: right;\n",
       "    }\n",
       "</style>\n",
       "<table border=\"1\" class=\"dataframe\">\n",
       "  <thead>\n",
       "    <tr style=\"text-align: right;\">\n",
       "      <th></th>\n",
       "      <th>Dptr Hour</th>\n",
       "      <th>Length of Flight (Hrs)</th>\n",
       "      <th>Day of Week</th>\n",
       "      <th>Passengers Boarded</th>\n",
       "      <th>Stock Out Occurred</th>\n",
       "      <th>Cheese Platters Sold</th>\n",
       "      <th>Week Part</th>\n",
       "      <th>Hour Class</th>\n",
       "      <th>Almost Stock Out</th>\n",
       "    </tr>\n",
       "  </thead>\n",
       "  <tbody>\n",
       "    <tr>\n",
       "      <td>0</td>\n",
       "      <td>8</td>\n",
       "      <td>1</td>\n",
       "      <td>2</td>\n",
       "      <td>144</td>\n",
       "      <td>0</td>\n",
       "      <td>18</td>\n",
       "      <td>Weekday</td>\n",
       "      <td>midday</td>\n",
       "      <td>0</td>\n",
       "    </tr>\n",
       "    <tr>\n",
       "      <td>1</td>\n",
       "      <td>5</td>\n",
       "      <td>3</td>\n",
       "      <td>1</td>\n",
       "      <td>152</td>\n",
       "      <td>0</td>\n",
       "      <td>15</td>\n",
       "      <td>Weekday</td>\n",
       "      <td>early</td>\n",
       "      <td>0</td>\n",
       "    </tr>\n",
       "    <tr>\n",
       "      <td>2</td>\n",
       "      <td>4</td>\n",
       "      <td>2</td>\n",
       "      <td>4</td>\n",
       "      <td>150</td>\n",
       "      <td>0</td>\n",
       "      <td>16</td>\n",
       "      <td>Weekday</td>\n",
       "      <td>early</td>\n",
       "      <td>0</td>\n",
       "    </tr>\n",
       "    <tr>\n",
       "      <td>3</td>\n",
       "      <td>6</td>\n",
       "      <td>2</td>\n",
       "      <td>4</td>\n",
       "      <td>131</td>\n",
       "      <td>0</td>\n",
       "      <td>13</td>\n",
       "      <td>Weekday</td>\n",
       "      <td>early</td>\n",
       "      <td>0</td>\n",
       "    </tr>\n",
       "    <tr>\n",
       "      <td>4</td>\n",
       "      <td>5</td>\n",
       "      <td>6</td>\n",
       "      <td>4</td>\n",
       "      <td>164</td>\n",
       "      <td>0</td>\n",
       "      <td>18</td>\n",
       "      <td>Weekday</td>\n",
       "      <td>early</td>\n",
       "      <td>0</td>\n",
       "    </tr>\n",
       "  </tbody>\n",
       "</table>\n",
       "</div>"
      ],
      "text/plain": [
       "  Dptr Hour  Length of Flight (Hrs) Day of Week  Passengers Boarded  \\\n",
       "0         8                       1           2                 144   \n",
       "1         5                       3           1                 152   \n",
       "2         4                       2           4                 150   \n",
       "3         6                       2           4                 131   \n",
       "4         5                       6           4                 164   \n",
       "\n",
       "   Stock Out Occurred  Cheese Platters Sold Week Part Hour Class  \\\n",
       "0                   0                    18   Weekday     midday   \n",
       "1                   0                    15   Weekday      early   \n",
       "2                   0                    16   Weekday      early   \n",
       "3                   0                    13   Weekday      early   \n",
       "4                   0                    18   Weekday      early   \n",
       "\n",
       "   Almost Stock Out  \n",
       "0                 0  \n",
       "1                 0  \n",
       "2                 0  \n",
       "3                 0  \n",
       "4                 0  "
      ]
     },
     "execution_count": 242,
     "metadata": {},
     "output_type": "execute_result"
    }
   ],
   "source": [
    "df5=df2[df2['Stock Out Occurred']==0]\n",
    "df5.head()"
   ]
  },
  {
   "cell_type": "code",
   "execution_count": 243,
   "metadata": {},
   "outputs": [
    {
     "data": {
      "text/plain": [
       "<matplotlib.axes._subplots.AxesSubplot at 0x1c2a2080d0>"
      ]
     },
     "execution_count": 243,
     "metadata": {},
     "output_type": "execute_result"
    },
    {
     "data": {
      "image/png": "[encoded data removed]",
      "text/plain": [
       "<Figure size 432x288 with 1 Axes>"
      ]
     },
     "metadata": {
      "needs_background": "light"
     },
     "output_type": "display_data"
    }
   ],
   "source": [
    "sns.distplot(np.log(df5['Cheese Platters Sold']), kde=False)"
   ]
  },
  {
   "cell_type": "code",
   "execution_count": 244,
   "metadata": {},
   "outputs": [
    {
     "data": {
      "text/plain": [
       "-0.38587884124418304"
      ]
     },
     "execution_count": 244,
     "metadata": {},
     "output_type": "execute_result"
    }
   ],
   "source": [
    "skew(df5['Cheese Platters Sold'])"
   ]
  },
  {
   "cell_type": "code",
   "execution_count": 245,
   "metadata": {},
   "outputs": [
    {
     "data": {
      "text/plain": [
       "-0.8851493710207807"
      ]
     },
     "execution_count": 245,
     "metadata": {},
     "output_type": "execute_result"
    }
   ],
   "source": [
    "skew(np.log(df5['Cheese Platters Sold']))"
   ]
  },
  {
   "cell_type": "code",
   "execution_count": 246,
   "metadata": {},
   "outputs": [
    {
     "data": {
      "text/plain": [
       "-0.6129955952351255"
      ]
     },
     "execution_count": 246,
     "metadata": {},
     "output_type": "execute_result"
    }
   ],
   "source": [
    "skew(np.sqrt(df5['Cheese Platters Sold']))"
   ]
  },
  {
   "cell_type": "markdown",
   "metadata": {},
   "source": [
    "#### Normalize the graph"
   ]
  },
  {
   "cell_type": "code",
   "execution_count": 247,
   "metadata": {},
   "outputs": [],
   "source": [
    "m=max(df5['Cheese Platters Sold'])\n",
    "reflected_val=1+m-df5['Cheese Platters Sold']"
   ]
  },
  {
   "cell_type": "code",
   "execution_count": 248,
   "metadata": {},
   "outputs": [
    {
     "data": {
      "text/plain": [
       "0.38587884124418304"
      ]
     },
     "execution_count": 248,
     "metadata": {},
     "output_type": "execute_result"
    }
   ],
   "source": [
    "skew(reflected_val)"
   ]
  },
  {
   "cell_type": "code",
   "execution_count": 249,
   "metadata": {},
   "outputs": [
    {
     "data": {
      "text/plain": [
       "-0.8293116307612521"
      ]
     },
     "execution_count": 249,
     "metadata": {},
     "output_type": "execute_result"
    }
   ],
   "source": [
    "skew(np.log(reflected_val))"
   ]
  },
  {
   "cell_type": "code",
   "execution_count": 250,
   "metadata": {},
   "outputs": [
    {
     "data": {
      "text/plain": [
       "-0.19661147603209594"
      ]
     },
     "execution_count": 250,
     "metadata": {},
     "output_type": "execute_result"
    }
   ],
   "source": [
    "skew(np.sqrt(reflected_val))"
   ]
  },
  {
   "cell_type": "code",
   "execution_count": 251,
   "metadata": {
    "scrolled": true
   },
   "outputs": [
    {
     "data": {
      "text/plain": [
       "<matplotlib.axes._subplots.AxesSubplot at 0x1c23cea110>"
      ]
     },
     "execution_count": 251,
     "metadata": {},
     "output_type": "execute_result"
    },
    {
     "data": {
      "image/png": "[encoded data removed]",
      "text/plain": [
       "<Figure size 432x288 with 1 Axes>"
      ]
     },
     "metadata": {
      "needs_background": "light"
     },
     "output_type": "display_data"
    }
   ],
   "source": [
    "sns.distplot(reflected_val, kde=False)"
   ]
  },
  {
   "cell_type": "code",
   "execution_count": 252,
   "metadata": {},
   "outputs": [
    {
     "data": {
      "text/plain": [
       "<matplotlib.axes._subplots.AxesSubplot at 0x1c2aec2550>"
      ]
     },
     "execution_count": 252,
     "metadata": {},
     "output_type": "execute_result"
    },
    {
     "data": {
      "image/png": "[encoded data removed]",
      "text/plain": [
       "<Figure size 432x288 with 1 Axes>"
      ]
     },
     "metadata": {
      "needs_background": "light"
     },
     "output_type": "display_data"
    }
   ],
   "source": [
    "sns.distplot(np.sqrt(reflected_val), kde=False)"
   ]
  },
  {
   "cell_type": "code",
   "execution_count": 253,
   "metadata": {
    "scrolled": true
   },
   "outputs": [
    {
     "data": {
      "text/html": [
       "<div>\n",
       "<style scoped>\n",
       "    .dataframe tbody tr th:only-of-type {\n",
       "        vertical-align: middle;\n",
       "    }\n",
       "\n",
       "    .dataframe tbody tr th {\n",
       "        vertical-align: top;\n",
       "    }\n",
       "\n",
       "    .dataframe thead th {\n",
       "        text-align: right;\n",
       "    }\n",
       "</style>\n",
       "<table border=\"1\" class=\"dataframe\">\n",
       "  <thead>\n",
       "    <tr style=\"text-align: right;\">\n",
       "      <th></th>\n",
       "      <th>Dptr Hour</th>\n",
       "      <th>Length of Flight (Hrs)</th>\n",
       "      <th>Day of Week</th>\n",
       "      <th>Passengers Boarded</th>\n",
       "      <th>Stock Out Occurred</th>\n",
       "      <th>Cheese Platters Sold</th>\n",
       "      <th>Week Part</th>\n",
       "      <th>Hour Class</th>\n",
       "      <th>Almost Stock Out</th>\n",
       "    </tr>\n",
       "  </thead>\n",
       "  <tbody>\n",
       "    <tr>\n",
       "      <td>0</td>\n",
       "      <td>8</td>\n",
       "      <td>1</td>\n",
       "      <td>2</td>\n",
       "      <td>144</td>\n",
       "      <td>0</td>\n",
       "      <td>18</td>\n",
       "      <td>Weekday</td>\n",
       "      <td>midday</td>\n",
       "      <td>0</td>\n",
       "    </tr>\n",
       "    <tr>\n",
       "      <td>1</td>\n",
       "      <td>5</td>\n",
       "      <td>3</td>\n",
       "      <td>1</td>\n",
       "      <td>152</td>\n",
       "      <td>0</td>\n",
       "      <td>15</td>\n",
       "      <td>Weekday</td>\n",
       "      <td>early</td>\n",
       "      <td>0</td>\n",
       "    </tr>\n",
       "    <tr>\n",
       "      <td>2</td>\n",
       "      <td>4</td>\n",
       "      <td>2</td>\n",
       "      <td>4</td>\n",
       "      <td>150</td>\n",
       "      <td>0</td>\n",
       "      <td>16</td>\n",
       "      <td>Weekday</td>\n",
       "      <td>early</td>\n",
       "      <td>0</td>\n",
       "    </tr>\n",
       "    <tr>\n",
       "      <td>3</td>\n",
       "      <td>6</td>\n",
       "      <td>2</td>\n",
       "      <td>4</td>\n",
       "      <td>131</td>\n",
       "      <td>0</td>\n",
       "      <td>13</td>\n",
       "      <td>Weekday</td>\n",
       "      <td>early</td>\n",
       "      <td>0</td>\n",
       "    </tr>\n",
       "    <tr>\n",
       "      <td>4</td>\n",
       "      <td>5</td>\n",
       "      <td>6</td>\n",
       "      <td>4</td>\n",
       "      <td>164</td>\n",
       "      <td>0</td>\n",
       "      <td>18</td>\n",
       "      <td>Weekday</td>\n",
       "      <td>early</td>\n",
       "      <td>0</td>\n",
       "    </tr>\n",
       "  </tbody>\n",
       "</table>\n",
       "</div>"
      ],
      "text/plain": [
       "  Dptr Hour  Length of Flight (Hrs) Day of Week  Passengers Boarded  \\\n",
       "0         8                       1           2                 144   \n",
       "1         5                       3           1                 152   \n",
       "2         4                       2           4                 150   \n",
       "3         6                       2           4                 131   \n",
       "4         5                       6           4                 164   \n",
       "\n",
       "   Stock Out Occurred  Cheese Platters Sold Week Part Hour Class  \\\n",
       "0                   0                    18   Weekday     midday   \n",
       "1                   0                    15   Weekday      early   \n",
       "2                   0                    16   Weekday      early   \n",
       "3                   0                    13   Weekday      early   \n",
       "4                   0                    18   Weekday      early   \n",
       "\n",
       "   Almost Stock Out  \n",
       "0                 0  \n",
       "1                 0  \n",
       "2                 0  \n",
       "3                 0  \n",
       "4                 0  "
      ]
     },
     "execution_count": 253,
     "metadata": {},
     "output_type": "execute_result"
    }
   ],
   "source": [
    "df5.head()"
   ]
  },
  {
   "cell_type": "markdown",
   "metadata": {},
   "source": [
    "target: 'Cheese Platters Sold'\n",
    "categoric features:  'Week Part','Hour Class '\n",
    "numeric fetaures: 'Length of Flight (Hrs)','Passengers Boarded'\n",
    "    \n",
    "??? :'Stock Out Occurred'\n",
    "not used: 'Dptr Hour',  'Day of Week',"
   ]
  },
  {
   "cell_type": "code",
   "execution_count": 255,
   "metadata": {},
   "outputs": [
    {
     "data": {
      "text/html": [
       "<div>\n",
       "<style scoped>\n",
       "    .dataframe tbody tr th:only-of-type {\n",
       "        vertical-align: middle;\n",
       "    }\n",
       "\n",
       "    .dataframe tbody tr th {\n",
       "        vertical-align: top;\n",
       "    }\n",
       "\n",
       "    .dataframe thead th {\n",
       "        text-align: right;\n",
       "    }\n",
       "</style>\n",
       "<table border=\"1\" class=\"dataframe\">\n",
       "  <thead>\n",
       "    <tr style=\"text-align: right;\">\n",
       "      <th></th>\n",
       "      <th>Length of Flight (Hrs)</th>\n",
       "      <th>Passengers Boarded</th>\n",
       "      <th>Cheese Platters Sold</th>\n",
       "      <th>Week Part_Weekday</th>\n",
       "      <th>Week Part_Weekend</th>\n",
       "      <th>Hour Class_early</th>\n",
       "      <th>Hour Class_midday</th>\n",
       "      <th>Hour Class_night</th>\n",
       "    </tr>\n",
       "  </thead>\n",
       "  <tbody>\n",
       "    <tr>\n",
       "      <td>0</td>\n",
       "      <td>1</td>\n",
       "      <td>144</td>\n",
       "      <td>18</td>\n",
       "      <td>1</td>\n",
       "      <td>0</td>\n",
       "      <td>0</td>\n",
       "      <td>1</td>\n",
       "      <td>0</td>\n",
       "    </tr>\n",
       "    <tr>\n",
       "      <td>1</td>\n",
       "      <td>3</td>\n",
       "      <td>152</td>\n",
       "      <td>15</td>\n",
       "      <td>1</td>\n",
       "      <td>0</td>\n",
       "      <td>1</td>\n",
       "      <td>0</td>\n",
       "      <td>0</td>\n",
       "    </tr>\n",
       "    <tr>\n",
       "      <td>2</td>\n",
       "      <td>2</td>\n",
       "      <td>150</td>\n",
       "      <td>16</td>\n",
       "      <td>1</td>\n",
       "      <td>0</td>\n",
       "      <td>1</td>\n",
       "      <td>0</td>\n",
       "      <td>0</td>\n",
       "    </tr>\n",
       "    <tr>\n",
       "      <td>3</td>\n",
       "      <td>2</td>\n",
       "      <td>131</td>\n",
       "      <td>13</td>\n",
       "      <td>1</td>\n",
       "      <td>0</td>\n",
       "      <td>1</td>\n",
       "      <td>0</td>\n",
       "      <td>0</td>\n",
       "    </tr>\n",
       "    <tr>\n",
       "      <td>4</td>\n",
       "      <td>6</td>\n",
       "      <td>164</td>\n",
       "      <td>18</td>\n",
       "      <td>1</td>\n",
       "      <td>0</td>\n",
       "      <td>1</td>\n",
       "      <td>0</td>\n",
       "      <td>0</td>\n",
       "    </tr>\n",
       "  </tbody>\n",
       "</table>\n",
       "</div>"
      ],
      "text/plain": [
       "   Length of Flight (Hrs)  Passengers Boarded  Cheese Platters Sold  \\\n",
       "0                       1                 144                    18   \n",
       "1                       3                 152                    15   \n",
       "2                       2                 150                    16   \n",
       "3                       2                 131                    13   \n",
       "4                       6                 164                    18   \n",
       "\n",
       "   Week Part_Weekday  Week Part_Weekend  Hour Class_early  Hour Class_midday  \\\n",
       "0                  1                  0                 0                  1   \n",
       "1                  1                  0                 1                  0   \n",
       "2                  1                  0                 1                  0   \n",
       "3                  1                  0                 1                  0   \n",
       "4                  1                  0                 1                  0   \n",
       "\n",
       "   Hour Class_night  \n",
       "0                 0  \n",
       "1                 0  \n",
       "2                 0  \n",
       "3                 0  \n",
       "4                 0  "
      ]
     },
     "execution_count": 255,
     "metadata": {},
     "output_type": "execute_result"
    }
   ],
   "source": [
    "df5=df5[['Week Part','Hour Class','Length of Flight (Hrs)',\n",
    "       'Passengers Boarded', 'Cheese Platters Sold']] #\n",
    "df5=pd.get_dummies(df5)\n",
    "df5.head()"
   ]
  },
  {
   "cell_type": "code",
   "execution_count": 256,
   "metadata": {},
   "outputs": [],
   "source": [
    "features=['Length of Flight (Hrs)','Passengers Boarded','Week Part_Weekday','Hour Class_night','Hour Class_midday']#,'Week Part_Weekend','Hour Class_early'\n",
    "X=df5[features]\n",
    "y=df5['Cheese Platters Sold']\n",
    "# y=np.sqrt(df5['Cheese Platters Sold'])"
   ]
  },
  {
   "cell_type": "code",
   "execution_count": 257,
   "metadata": {},
   "outputs": [
    {
     "name": "stdout",
     "output_type": "stream",
     "text": [
      "                                  OLS Regression Results                                 \n",
      "=========================================================================================\n",
      "Dep. Variable:     Cheese Platters Sold   R-squared (uncentered):                   0.997\n",
      "Model:                              OLS   Adj. R-squared (uncentered):              0.997\n",
      "Method:                   Least Squares   F-statistic:                          2.253e+05\n",
      "Date:                  Fri, 20 Mar 2020   Prob (F-statistic):                        0.00\n",
      "Time:                          19:59:23   Log-Likelihood:                         -3692.3\n",
      "No. Observations:                  3102   AIC:                                      7395.\n",
      "Df Residuals:                      3097   BIC:                                      7425.\n",
      "Df Model:                             5                                                  \n",
      "Covariance Type:              nonrobust                                                  \n",
      "==========================================================================================\n",
      "                             coef    std err          t      P>|t|      [0.025      0.975]\n",
      "------------------------------------------------------------------------------------------\n",
      "Length of Flight (Hrs)     0.1799      0.008     22.478      0.000       0.164       0.196\n",
      "Passengers Boarded         0.0927      0.000    331.530      0.000       0.092       0.093\n",
      "Week Part_Weekday          1.0749      0.030     35.498      0.000       1.016       1.134\n",
      "Hour Class_night          -0.0281      0.037     -0.766      0.444      -0.100       0.044\n",
      "Hour Class_midday          3.4365      0.031    110.148      0.000       3.375       3.498\n",
      "==============================================================================\n",
      "Omnibus:                        1.811   Durbin-Watson:                   2.003\n",
      "Prob(Omnibus):                  0.404   Jarque-Bera (JB):                1.745\n",
      "Skew:                          -0.042   Prob(JB):                        0.418\n",
      "Kurtosis:                       3.081   Cond. No.                         386.\n",
      "==============================================================================\n",
      "\n",
      "Warnings:\n",
      "[1] Standard Errors assume that the covariance matrix of the errors is correctly specified.\n"
     ]
    }
   ],
   "source": [
    "X_train,X_test, y_train, y_test=train_test_split(X,y, test_size=0.25, random_state=42)\n",
    "\n",
    "model=sm.OLS(y_train,X_train)\n",
    "result=model.fit()\n",
    "print(result.summary())"
   ]
  },
  {
   "cell_type": "code",
   "execution_count": 258,
   "metadata": {},
   "outputs": [
    {
     "name": "stdout",
     "output_type": "stream",
     "text": [
      "                                  OLS Regression Results                                 \n",
      "=========================================================================================\n",
      "Dep. Variable:     Cheese Platters Sold   R-squared (uncentered):                   0.997\n",
      "Model:                              OLS   Adj. R-squared (uncentered):              0.997\n",
      "Method:                   Least Squares   F-statistic:                          2.816e+05\n",
      "Date:                  Fri, 20 Mar 2020   Prob (F-statistic):                        0.00\n",
      "Time:                          19:59:28   Log-Likelihood:                         -3692.6\n",
      "No. Observations:                  3102   AIC:                                      7393.\n",
      "Df Residuals:                      3098   BIC:                                      7417.\n",
      "Df Model:                             4                                                  \n",
      "Covariance Type:              nonrobust                                                  \n",
      "==========================================================================================\n",
      "                             coef    std err          t      P>|t|      [0.025      0.975]\n",
      "------------------------------------------------------------------------------------------\n",
      "Length of Flight (Hrs)     0.1797      0.008     22.467      0.000       0.164       0.195\n",
      "Passengers Boarded         0.0926      0.000    347.354      0.000       0.092       0.093\n",
      "Week Part_Weekday          1.0739      0.030     35.502      0.000       1.015       1.133\n",
      "Hour Class_midday          3.4459      0.029    120.250      0.000       3.390       3.502\n",
      "==============================================================================\n",
      "Omnibus:                        1.743   Durbin-Watson:                   2.003\n",
      "Prob(Omnibus):                  0.418   Jarque-Bera (JB):                1.676\n",
      "Skew:                          -0.041   Prob(JB):                        0.433\n",
      "Kurtosis:                       3.079   Cond. No.                         288.\n",
      "==============================================================================\n",
      "\n",
      "Warnings:\n",
      "[1] Standard Errors assume that the covariance matrix of the errors is correctly specified.\n"
     ]
    }
   ],
   "source": [
    "features=['Length of Flight (Hrs)','Passengers Boarded','Week Part_Weekday','Hour Class_midday']#,'Week Part_Weekend','Hour Class_early','Hour Class_night'\n",
    "X=df5[features]\n",
    "y=df5['Cheese Platters Sold']\n",
    "\n",
    "X_train,X_test, y_train, y_test=train_test_split(X,y, test_size=0.25, random_state=42)\n",
    "\n",
    "model=sm.OLS(y_train,X_train)\n",
    "result=model.fit()\n",
    "print(result.summary())"
   ]
  },
  {
   "cell_type": "code",
   "execution_count": 259,
   "metadata": {},
   "outputs": [],
   "source": [
    "model=sm.OLS(y_test,X_test)\n",
    "result2=model.fit()\n",
    "# print(result2.summary())"
   ]
  },
  {
   "cell_type": "code",
   "execution_count": 260,
   "metadata": {},
   "outputs": [
    {
     "name": "stdout",
     "output_type": "stream",
     "text": [
      "train score:  0.9038\n",
      "test score:  0.8971\n"
     ]
    }
   ],
   "source": [
    "print('train score: ',r2_score(y_train, result.predict()).round(4))\n",
    "print('test score: ',r2_score(y_test, result2.predict()).round(4))"
   ]
  },
  {
   "cell_type": "markdown",
   "metadata": {},
   "source": [
    "#### linear regresssion library"
   ]
  },
  {
   "cell_type": "code",
   "execution_count": 261,
   "metadata": {},
   "outputs": [
    {
     "name": "stdout",
     "output_type": "stream",
     "text": [
      "train score: 0.9197\n",
      "test score: 0.9135\n"
     ]
    }
   ],
   "source": [
    "linModel=LinearRegression(fit_intercept=True)\n",
    "\n",
    "print (f'train score: {process_train(linModel,X_train).round(4)}')\n",
    "print (f'test score: {process_test(linModel,X_test)}')"
   ]
  },
  {
   "cell_type": "code",
   "execution_count": 262,
   "metadata": {
    "scrolled": true
   },
   "outputs": [
    {
     "data": {
      "text/html": [
       "<div>\n",
       "<style scoped>\n",
       "    .dataframe tbody tr th:only-of-type {\n",
       "        vertical-align: middle;\n",
       "    }\n",
       "\n",
       "    .dataframe tbody tr th {\n",
       "        vertical-align: top;\n",
       "    }\n",
       "\n",
       "    .dataframe thead th {\n",
       "        text-align: right;\n",
       "    }\n",
       "</style>\n",
       "<table border=\"1\" class=\"dataframe\">\n",
       "  <thead>\n",
       "    <tr style=\"text-align: right;\">\n",
       "      <th></th>\n",
       "      <th>coefficient</th>\n",
       "    </tr>\n",
       "  </thead>\n",
       "  <tbody>\n",
       "    <tr>\n",
       "      <td>Length of Flight (Hrs)</td>\n",
       "      <td>0.41</td>\n",
       "    </tr>\n",
       "    <tr>\n",
       "      <td>Passengers Boarded</td>\n",
       "      <td>2.27</td>\n",
       "    </tr>\n",
       "    <tr>\n",
       "      <td>Week Part_Weekday</td>\n",
       "      <td>0.58</td>\n",
       "    </tr>\n",
       "    <tr>\n",
       "      <td>Hour Class_midday</td>\n",
       "      <td>1.80</td>\n",
       "    </tr>\n",
       "  </tbody>\n",
       "</table>\n",
       "</div>"
      ],
      "text/plain": [
       "                        coefficient\n",
       "Length of Flight (Hrs)         0.41\n",
       "Passengers Boarded             2.27\n",
       "Week Part_Weekday              0.58\n",
       "Hour Class_midday              1.80"
      ]
     },
     "execution_count": 262,
     "metadata": {},
     "output_type": "execute_result"
    }
   ],
   "source": [
    "x=pd.DataFrame(linModel.coef_.round(2), index=X_train.columns)\n",
    "x=x.rename(columns={0:'coefficient'})\n",
    "x"
   ]
  },
  {
   "cell_type": "code",
   "execution_count": 263,
   "metadata": {
    "scrolled": true
   },
   "outputs": [
    {
     "data": {
      "text/html": [
       "<div>\n",
       "<style scoped>\n",
       "    .dataframe tbody tr th:only-of-type {\n",
       "        vertical-align: middle;\n",
       "    }\n",
       "\n",
       "    .dataframe tbody tr th {\n",
       "        vertical-align: top;\n",
       "    }\n",
       "\n",
       "    .dataframe thead th {\n",
       "        text-align: right;\n",
       "    }\n",
       "</style>\n",
       "<table border=\"1\" class=\"dataframe\">\n",
       "  <thead>\n",
       "    <tr style=\"text-align: right;\">\n",
       "      <th></th>\n",
       "      <th></th>\n",
       "    </tr>\n",
       "    <tr>\n",
       "      <th></th>\n",
       "      <th>Cheese Platters Sold</th>\n",
       "    </tr>\n",
       "  </thead>\n",
       "  <tbody>\n",
       "    <tr>\n",
       "      <td>13.0</td>\n",
       "      <td>13</td>\n",
       "    </tr>\n",
       "    <tr>\n",
       "      <td>14.0</td>\n",
       "      <td>14</td>\n",
       "    </tr>\n",
       "    <tr>\n",
       "      <td>17.0</td>\n",
       "      <td>16</td>\n",
       "    </tr>\n",
       "    <tr>\n",
       "      <td>14.0</td>\n",
       "      <td>14</td>\n",
       "    </tr>\n",
       "    <tr>\n",
       "      <td>15.0</td>\n",
       "      <td>17</td>\n",
       "    </tr>\n",
       "    <tr>\n",
       "      <td>...</td>\n",
       "      <td>...</td>\n",
       "    </tr>\n",
       "    <tr>\n",
       "      <td>16.0</td>\n",
       "      <td>17</td>\n",
       "    </tr>\n",
       "    <tr>\n",
       "      <td>12.0</td>\n",
       "      <td>12</td>\n",
       "    </tr>\n",
       "    <tr>\n",
       "      <td>16.0</td>\n",
       "      <td>16</td>\n",
       "    </tr>\n",
       "    <tr>\n",
       "      <td>18.0</td>\n",
       "      <td>18</td>\n",
       "    </tr>\n",
       "    <tr>\n",
       "      <td>16.0</td>\n",
       "      <td>15</td>\n",
       "    </tr>\n",
       "  </tbody>\n",
       "</table>\n",
       "<p>1035 rows × 0 columns</p>\n",
       "</div>"
      ],
      "text/plain": [
       "Empty DataFrame\n",
       "Columns: []\n",
       "Index: [(13.0, 13), (14.0, 14), (17.0, 16), (14.0, 14), (15.0, 17), (16.0, 16), (16.0, 15), (12.0, 12), (18.0, 19), (14.0, 14), (12.0, 12), (13.0, 13), (7.0, 8), (16.0, 17), (14.0, 14), (16.0, 16), (12.0, 11), (10.0, 11), (14.0, 14), (14.0, 15), (16.0, 16), (16.0, 16), (10.0, 10), (16.0, 16), (13.0, 12), (19.0, 19), (17.0, 16), (11.0, 12), (16.0, 15), (16.0, 16), (11.0, 12), (17.0, 17), (14.0, 14), (18.0, 19), (14.0, 14), (16.0, 17), (11.0, 11), (14.0, 13), (16.0, 16), (15.0, 14), (18.0, 19), (13.0, 12), (16.0, 14), (18.0, 19), (15.0, 15), (17.0, 17), (18.0, 18), (18.0, 18), (11.0, 11), (13.0, 13), (15.0, 15), (14.0, 14), (13.0, 13), (12.0, 12), (17.0, 17), (14.0, 14), (13.0, 13), (16.0, 15), (16.0, 14), (19.0, 19), (14.0, 14), (13.0, 11), (10.0, 12), (19.0, 19), (16.0, 18), (17.0, 18), (13.0, 13), (16.0, 17), (14.0, 14), (19.0, 19), (15.0, 14), (14.0, 14), (18.0, 17), (16.0, 14), (14.0, 14), (16.0, 15), (17.0, 16), (18.0, 18), (14.0, 14), (14.0, 13), (18.0, 19), (18.0, 19), (17.0, 16), (17.0, 15), (12.0, 11), (11.0, 11), (15.0, 15), (17.0, 17), (11.0, 11), (13.0, 13), (17.0, 17), (11.0, 11), (13.0, 13), (16.0, 16), (18.0, 17), (15.0, 15), (13.0, 13), (10.0, 11), (14.0, 15), (15.0, 16), ...]\n",
       "\n",
       "[1035 rows x 0 columns]"
      ]
     },
     "execution_count": 263,
     "metadata": {},
     "output_type": "execute_result"
    }
   ],
   "source": [
    "ss=StandardScaler()\n",
    "X_test_sc=ss.fit_transform(X_test)\n",
    "\n",
    "x=pd.DataFrame(columns=[linModel.predict(X_test_sc).round(), y_test]).T\n",
    "# x.rename(columns={'':'predict','Cheese Platters Sold':'y_test'}, inplace=True)\n",
    "x"
   ]
  },
  {
   "cell_type": "code",
   "execution_count": 264,
   "metadata": {},
   "outputs": [
    {
     "data": {
      "text/plain": [
       "[<matplotlib.lines.Line2D at 0x1c2b2da710>]"
      ]
     },
     "execution_count": 264,
     "metadata": {},
     "output_type": "execute_result"
    },
    {
     "data": {
      "image/png": "[encoded data removed]",
      "text/plain": [
       "<Figure size 1080x504 with 1 Axes>"
      ]
     },
     "metadata": {
      "needs_background": "light"
     },
     "output_type": "display_data"
    }
   ],
   "source": [
    "plt.figure(figsize=(15,7))\n",
    "\n",
    "plt.scatter(linModel.predict(X_test_sc),y_test, c='k')\n",
    "plt.xlabel('predicted sales')\n",
    "plt.ylabel('actual sales')\n",
    "plt.title(' Q-Q PLOT (Actual versus Predicted Sales)')\n",
    "\n",
    "plt.plot( [0, np.max(linModel.predict(X_test_sc))], [0, np.max(linModel.predict(X_test_sc))], c = 'r')"
   ]
  },
  {
   "cell_type": "markdown",
   "metadata": {},
   "source": [
    "### Model 2B- Poisson Regression "
   ]
  },
  {
   "cell_type": "code",
   "execution_count": 265,
   "metadata": {},
   "outputs": [
    {
     "data": {
      "text/html": [
       "<div>\n",
       "<style scoped>\n",
       "    .dataframe tbody tr th:only-of-type {\n",
       "        vertical-align: middle;\n",
       "    }\n",
       "\n",
       "    .dataframe tbody tr th {\n",
       "        vertical-align: top;\n",
       "    }\n",
       "\n",
       "    .dataframe thead th {\n",
       "        text-align: right;\n",
       "    }\n",
       "</style>\n",
       "<table border=\"1\" class=\"dataframe\">\n",
       "  <thead>\n",
       "    <tr style=\"text-align: right;\">\n",
       "      <th></th>\n",
       "      <th>Dptr Hour</th>\n",
       "      <th>Length of Flight (Hrs)</th>\n",
       "      <th>Day of Week</th>\n",
       "      <th>Passengers Boarded</th>\n",
       "      <th>Stock Out Occurred</th>\n",
       "      <th>Cheese Platters Sold</th>\n",
       "      <th>Week Part</th>\n",
       "      <th>Hour Class</th>\n",
       "      <th>Almost Stock Out</th>\n",
       "    </tr>\n",
       "  </thead>\n",
       "  <tbody>\n",
       "    <tr>\n",
       "      <td>0</td>\n",
       "      <td>8</td>\n",
       "      <td>1</td>\n",
       "      <td>2</td>\n",
       "      <td>144</td>\n",
       "      <td>0</td>\n",
       "      <td>18</td>\n",
       "      <td>Weekday</td>\n",
       "      <td>midday</td>\n",
       "      <td>0</td>\n",
       "    </tr>\n",
       "    <tr>\n",
       "      <td>1</td>\n",
       "      <td>5</td>\n",
       "      <td>3</td>\n",
       "      <td>1</td>\n",
       "      <td>152</td>\n",
       "      <td>0</td>\n",
       "      <td>15</td>\n",
       "      <td>Weekday</td>\n",
       "      <td>early</td>\n",
       "      <td>0</td>\n",
       "    </tr>\n",
       "    <tr>\n",
       "      <td>2</td>\n",
       "      <td>4</td>\n",
       "      <td>2</td>\n",
       "      <td>4</td>\n",
       "      <td>150</td>\n",
       "      <td>0</td>\n",
       "      <td>16</td>\n",
       "      <td>Weekday</td>\n",
       "      <td>early</td>\n",
       "      <td>0</td>\n",
       "    </tr>\n",
       "    <tr>\n",
       "      <td>3</td>\n",
       "      <td>6</td>\n",
       "      <td>2</td>\n",
       "      <td>4</td>\n",
       "      <td>131</td>\n",
       "      <td>0</td>\n",
       "      <td>13</td>\n",
       "      <td>Weekday</td>\n",
       "      <td>early</td>\n",
       "      <td>0</td>\n",
       "    </tr>\n",
       "    <tr>\n",
       "      <td>4</td>\n",
       "      <td>5</td>\n",
       "      <td>6</td>\n",
       "      <td>4</td>\n",
       "      <td>164</td>\n",
       "      <td>0</td>\n",
       "      <td>18</td>\n",
       "      <td>Weekday</td>\n",
       "      <td>early</td>\n",
       "      <td>0</td>\n",
       "    </tr>\n",
       "  </tbody>\n",
       "</table>\n",
       "</div>"
      ],
      "text/plain": [
       "  Dptr Hour  Length of Flight (Hrs) Day of Week  Passengers Boarded  \\\n",
       "0         8                       1           2                 144   \n",
       "1         5                       3           1                 152   \n",
       "2         4                       2           4                 150   \n",
       "3         6                       2           4                 131   \n",
       "4         5                       6           4                 164   \n",
       "\n",
       "   Stock Out Occurred  Cheese Platters Sold Week Part Hour Class  \\\n",
       "0                   0                    18   Weekday     midday   \n",
       "1                   0                    15   Weekday      early   \n",
       "2                   0                    16   Weekday      early   \n",
       "3                   0                    13   Weekday      early   \n",
       "4                   0                    18   Weekday      early   \n",
       "\n",
       "   Almost Stock Out  \n",
       "0                 0  \n",
       "1                 0  \n",
       "2                 0  \n",
       "3                 0  \n",
       "4                 0  "
      ]
     },
     "execution_count": 265,
     "metadata": {},
     "output_type": "execute_result"
    }
   ],
   "source": [
    "df6=df2[df2['Stock Out Occurred']==0]\n",
    "df6.head()"
   ]
  },
  {
   "cell_type": "code",
   "execution_count": 266,
   "metadata": {},
   "outputs": [
    {
     "data": {
      "text/html": [
       "<div>\n",
       "<style scoped>\n",
       "    .dataframe tbody tr th:only-of-type {\n",
       "        vertical-align: middle;\n",
       "    }\n",
       "\n",
       "    .dataframe tbody tr th {\n",
       "        vertical-align: top;\n",
       "    }\n",
       "\n",
       "    .dataframe thead th {\n",
       "        text-align: right;\n",
       "    }\n",
       "</style>\n",
       "<table border=\"1\" class=\"dataframe\">\n",
       "  <thead>\n",
       "    <tr style=\"text-align: right;\">\n",
       "      <th></th>\n",
       "      <th>Length of Flight (Hrs)</th>\n",
       "      <th>Passengers Boarded</th>\n",
       "      <th>Cheese Platters Sold</th>\n",
       "      <th>Week Part_Weekday</th>\n",
       "      <th>Week Part_Weekend</th>\n",
       "      <th>Hour Class_early</th>\n",
       "      <th>Hour Class_midday</th>\n",
       "      <th>Hour Class_night</th>\n",
       "    </tr>\n",
       "  </thead>\n",
       "  <tbody>\n",
       "    <tr>\n",
       "      <td>0</td>\n",
       "      <td>1</td>\n",
       "      <td>144</td>\n",
       "      <td>18</td>\n",
       "      <td>1</td>\n",
       "      <td>0</td>\n",
       "      <td>0</td>\n",
       "      <td>1</td>\n",
       "      <td>0</td>\n",
       "    </tr>\n",
       "    <tr>\n",
       "      <td>1</td>\n",
       "      <td>3</td>\n",
       "      <td>152</td>\n",
       "      <td>15</td>\n",
       "      <td>1</td>\n",
       "      <td>0</td>\n",
       "      <td>1</td>\n",
       "      <td>0</td>\n",
       "      <td>0</td>\n",
       "    </tr>\n",
       "    <tr>\n",
       "      <td>2</td>\n",
       "      <td>2</td>\n",
       "      <td>150</td>\n",
       "      <td>16</td>\n",
       "      <td>1</td>\n",
       "      <td>0</td>\n",
       "      <td>1</td>\n",
       "      <td>0</td>\n",
       "      <td>0</td>\n",
       "    </tr>\n",
       "    <tr>\n",
       "      <td>3</td>\n",
       "      <td>2</td>\n",
       "      <td>131</td>\n",
       "      <td>13</td>\n",
       "      <td>1</td>\n",
       "      <td>0</td>\n",
       "      <td>1</td>\n",
       "      <td>0</td>\n",
       "      <td>0</td>\n",
       "    </tr>\n",
       "    <tr>\n",
       "      <td>4</td>\n",
       "      <td>6</td>\n",
       "      <td>164</td>\n",
       "      <td>18</td>\n",
       "      <td>1</td>\n",
       "      <td>0</td>\n",
       "      <td>1</td>\n",
       "      <td>0</td>\n",
       "      <td>0</td>\n",
       "    </tr>\n",
       "  </tbody>\n",
       "</table>\n",
       "</div>"
      ],
      "text/plain": [
       "   Length of Flight (Hrs)  Passengers Boarded  Cheese Platters Sold  \\\n",
       "0                       1                 144                    18   \n",
       "1                       3                 152                    15   \n",
       "2                       2                 150                    16   \n",
       "3                       2                 131                    13   \n",
       "4                       6                 164                    18   \n",
       "\n",
       "   Week Part_Weekday  Week Part_Weekend  Hour Class_early  Hour Class_midday  \\\n",
       "0                  1                  0                 0                  1   \n",
       "1                  1                  0                 1                  0   \n",
       "2                  1                  0                 1                  0   \n",
       "3                  1                  0                 1                  0   \n",
       "4                  1                  0                 1                  0   \n",
       "\n",
       "   Hour Class_night  \n",
       "0                 0  \n",
       "1                 0  \n",
       "2                 0  \n",
       "3                 0  \n",
       "4                 0  "
      ]
     },
     "execution_count": 266,
     "metadata": {},
     "output_type": "execute_result"
    }
   ],
   "source": [
    "df6=df6[['Week Part','Hour Class','Length of Flight (Hrs)',\n",
    "       'Passengers Boarded', 'Cheese Platters Sold']] #\n",
    "df6=pd.get_dummies(df6)\n",
    "df6.head()"
   ]
  },
  {
   "cell_type": "code",
   "execution_count": 267,
   "metadata": {},
   "outputs": [],
   "source": [
    "features=['Length of Flight (Hrs)','Passengers Boarded','Week Part_Weekday','Hour Class_night','Hour Class_midday']#,'Week Part_Weekend','Hour Class_early'\n",
    "X=df6[features]\n",
    "y=df6['Cheese Platters Sold']"
   ]
  },
  {
   "cell_type": "code",
   "execution_count": 268,
   "metadata": {},
   "outputs": [],
   "source": [
    "X_train,X_test, y_train, y_test=train_test_split(X,y, test_size=0.25, random_state=42)"
   ]
  },
  {
   "cell_type": "code",
   "execution_count": 269,
   "metadata": {},
   "outputs": [
    {
     "name": "stdout",
     "output_type": "stream",
     "text": [
      "                  Generalized Linear Model Regression Results                   \n",
      "================================================================================\n",
      "Dep. Variable:     Cheese Platters Sold   No. Observations:                 3102\n",
      "Model:                              GLM   Df Residuals:                     3097\n",
      "Model Family:                   Poisson   Df Model:                            4\n",
      "Link Function:                      log   Scale:                          1.0000\n",
      "Method:                            IRLS   Log-Likelihood:                -7770.6\n",
      "Date:                  Fri, 20 Mar 2020   Deviance:                       1459.1\n",
      "Time:                          20:00:09   Pearson chi2:                 1.54e+03\n",
      "No. Iterations:                       4                                         \n",
      "Covariance Type:              nonrobust                                         \n",
      "==========================================================================================\n",
      "                             coef    std err          z      P>|z|      [0.025      0.975]\n",
      "------------------------------------------------------------------------------------------\n",
      "Length of Flight (Hrs)     0.0445      0.003     16.869      0.000       0.039       0.050\n",
      "Passengers Boarded         0.0162   9.27e-05    174.618      0.000       0.016       0.016\n",
      "Week Part_Weekday          0.1927      0.010     18.880      0.000       0.173       0.213\n",
      "Hour Class_night           0.0457      0.012      3.696      0.000       0.021       0.070\n",
      "Hour Class_midday          0.4541      0.010     45.043      0.000       0.434       0.474\n",
      "==========================================================================================\n"
     ]
    }
   ],
   "source": [
    "#Using the statsmodels GLM class, train the Poisson regression model on the training data set.\n",
    "poisson_training_results = sm.GLM(y_train, X_train, family=sm.families.Poisson()).fit() #Poisson\n",
    "\n",
    "#Print the training summary.\n",
    "print(poisson_training_results.summary())"
   ]
  },
  {
   "cell_type": "code",
   "execution_count": 270,
   "metadata": {},
   "outputs": [],
   "source": [
    "poisson_train_predictions = poisson_training_results.get_prediction(X_train)\n",
    "predictions_summary_frame = poisson_train_predictions.summary_frame()\n",
    "y_train_pred_poisson=predictions_summary_frame['mean']\n",
    "\n",
    "#Make some predictions on the test data set.\n",
    "poisson_test_predictions = poisson_training_results.get_prediction(X_test)\n",
    "predictions_summary_frame2 = poisson_test_predictions.summary_frame()\n",
    "y_test_pred_poisson=predictions_summary_frame2['mean']\n",
    "# print(predictions_summary_frame)"
   ]
  },
  {
   "cell_type": "code",
   "execution_count": 271,
   "metadata": {},
   "outputs": [
    {
     "name": "stdout",
     "output_type": "stream",
     "text": [
      "train score: 0.0418\n",
      "test score: 0.038\n"
     ]
    }
   ],
   "source": [
    "print(f'train score: {r2_score(y_train,y_train_pred_poisson).round(4)}')\n",
    "print(f'test score: {r2_score(y_test,y_test_pred_poisson).round(4)}')"
   ]
  },
  {
   "cell_type": "code",
   "execution_count": 272,
   "metadata": {},
   "outputs": [
    {
     "data": {
      "text/plain": [
       "[<matplotlib.lines.Line2D at 0x1c2513ee90>]"
      ]
     },
     "execution_count": 272,
     "metadata": {},
     "output_type": "execute_result"
    },
    {
     "data": {
      "image/png": "[encoded data removed]",
      "text/plain": [
       "<Figure size 1080x504 with 1 Axes>"
      ]
     },
     "metadata": {
      "needs_background": "light"
     },
     "output_type": "display_data"
    }
   ],
   "source": [
    "plt.figure(figsize=(15,7))\n",
    "\n",
    "predicted_sales=predictions_summary_frame2['mean']\n",
    "\n",
    "plt.scatter(predicted_sales,y_test, c='k')\n",
    "plt.xlabel('predicted sales')\n",
    "plt.ylabel('actual sales')\n",
    "plt.title(' Q-Q PLOT (Actual versus Predicted Sales)')\n",
    "\n",
    "plt.plot( [0, np.max(predicted_sales)], [0, np.max(predicted_sales)], c = 'r')"
   ]
  },
  {
   "cell_type": "code",
   "execution_count": null,
   "metadata": {},
   "outputs": [],
   "source": []
  },
  {
   "cell_type": "markdown",
   "metadata": {},
   "source": [
    "#### linear regresssion library"
   ]
  },
  {
   "cell_type": "code",
   "execution_count": null,
   "metadata": {},
   "outputs": [],
   "source": []
  },
  {
   "cell_type": "code",
   "execution_count": null,
   "metadata": {},
   "outputs": [],
   "source": []
  },
  {
   "cell_type": "code",
   "execution_count": null,
   "metadata": {},
   "outputs": [],
   "source": []
  },
  {
   "cell_type": "code",
   "execution_count": null,
   "metadata": {},
   "outputs": [],
   "source": []
  }
 ],
 "metadata": {
  "kernelspec": {
   "display_name": "Python 3",
   "language": "python",
   "name": "python3"
  },
  "language_info": {
   "codemirror_mode": {
    "name": "ipython",
    "version": 3
   },
   "file_extension": ".py",
   "mimetype": "text/x-python",
   "name": "python",
   "nbconvert_exporter": "python",
   "pygments_lexer": "ipython3",
   "version": "3.7.4"
  }
 },
 "nbformat": 4,
 "nbformat_minor": 2
}
