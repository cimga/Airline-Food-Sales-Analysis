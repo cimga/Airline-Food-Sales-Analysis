{
 "cells": [
  {
   "cell_type": "code",
   "execution_count": 69,
   "metadata": {},
   "outputs": [],
   "source": [
    "import pandas as pd\n",
    "import numpy as np\n",
    "import seaborn as sns\n",
    "import matplotlib.pyplot as plt\n",
    "\n",
    "import statistics\n",
    "from scipy import stats\n",
    "\n",
    "# Disable warnings!\n",
    "import warnings\n",
    "warnings.filterwarnings(\"ignore\")"
   ]
  },
  {
   "cell_type": "code",
   "execution_count": 70,
   "metadata": {},
   "outputs": [
    {
     "data": {
      "text/plain": [
       "(5000, 6)"
      ]
     },
     "execution_count": 70,
     "metadata": {},
     "output_type": "execute_result"
    }
   ],
   "source": [
    "df=pd.read_csv('/Users/ee/Documents/GITHUB/Project-12 Alaska Airlines/Cheeseplate Demand Data.csv') # contains betwen 2016-March to 2019-February\n",
    "df.shape"
   ]
  },
  {
   "cell_type": "code",
   "execution_count": 71,
   "metadata": {},
   "outputs": [
    {
     "data": {
      "text/plain": [
       "Dptr Hour                  int64\n",
       "Length of Flight (Hrs)     int64\n",
       "Day of Week               object\n",
       "Passengers Boarded         int64\n",
       "Stock Out Occurred         int64\n",
       "Cheese Platters Sold       int64\n",
       "dtype: object"
      ]
     },
     "execution_count": 71,
     "metadata": {},
     "output_type": "execute_result"
    }
   ],
   "source": [
    "df.dtypes"
   ]
  },
  {
   "cell_type": "code",
   "execution_count": 72,
   "metadata": {},
   "outputs": [
    {
     "data": {
      "text/plain": [
       "Dptr Hour                 0\n",
       "Length of Flight (Hrs)    0\n",
       "Day of Week               0\n",
       "Passengers Boarded        0\n",
       "Stock Out Occurred        0\n",
       "Cheese Platters Sold      0\n",
       "dtype: int64"
      ]
     },
     "execution_count": 72,
     "metadata": {},
     "output_type": "execute_result"
    }
   ],
   "source": [
    "df.isnull().sum()"
   ]
  },
  {
   "cell_type": "code",
   "execution_count": 73,
   "metadata": {},
   "outputs": [
    {
     "data": {
      "text/plain": [
       "(5000, 6)"
      ]
     },
     "execution_count": 73,
     "metadata": {},
     "output_type": "execute_result"
    }
   ],
   "source": [
    "d={'Monday':1,'Tuesday':2,'Wednesday':3,'Thursday':4,'Friday':5,'Saturday':6,'Sunday':7}\n",
    "\n",
    "df['Day of Week']=df['Day of Week'].map(d)\n",
    "df.shape"
   ]
  },
  {
   "cell_type": "code",
   "execution_count": 74,
   "metadata": {},
   "outputs": [
    {
     "data": {
      "text/html": [
       "<div>\n",
       "<style scoped>\n",
       "    .dataframe tbody tr th:only-of-type {\n",
       "        vertical-align: middle;\n",
       "    }\n",
       "\n",
       "    .dataframe tbody tr th {\n",
       "        vertical-align: top;\n",
       "    }\n",
       "\n",
       "    .dataframe thead th {\n",
       "        text-align: right;\n",
       "    }\n",
       "</style>\n",
       "<table border=\"1\" class=\"dataframe\">\n",
       "  <thead>\n",
       "    <tr style=\"text-align: right;\">\n",
       "      <th></th>\n",
       "      <th>Dptr Hour</th>\n",
       "      <th>Length of Flight (Hrs)</th>\n",
       "      <th>Day of Week</th>\n",
       "      <th>Passengers Boarded</th>\n",
       "      <th>Stock Out Occurred</th>\n",
       "      <th>Cheese Platters Sold</th>\n",
       "    </tr>\n",
       "  </thead>\n",
       "  <tbody>\n",
       "    <tr>\n",
       "      <td>0</td>\n",
       "      <td>8</td>\n",
       "      <td>1</td>\n",
       "      <td>2</td>\n",
       "      <td>144</td>\n",
       "      <td>0</td>\n",
       "      <td>18</td>\n",
       "    </tr>\n",
       "    <tr>\n",
       "      <td>1</td>\n",
       "      <td>5</td>\n",
       "      <td>3</td>\n",
       "      <td>1</td>\n",
       "      <td>152</td>\n",
       "      <td>0</td>\n",
       "      <td>15</td>\n",
       "    </tr>\n",
       "    <tr>\n",
       "      <td>2</td>\n",
       "      <td>4</td>\n",
       "      <td>2</td>\n",
       "      <td>4</td>\n",
       "      <td>150</td>\n",
       "      <td>0</td>\n",
       "      <td>16</td>\n",
       "    </tr>\n",
       "    <tr>\n",
       "      <td>3</td>\n",
       "      <td>6</td>\n",
       "      <td>2</td>\n",
       "      <td>4</td>\n",
       "      <td>131</td>\n",
       "      <td>0</td>\n",
       "      <td>13</td>\n",
       "    </tr>\n",
       "    <tr>\n",
       "      <td>4</td>\n",
       "      <td>5</td>\n",
       "      <td>6</td>\n",
       "      <td>4</td>\n",
       "      <td>164</td>\n",
       "      <td>0</td>\n",
       "      <td>18</td>\n",
       "    </tr>\n",
       "  </tbody>\n",
       "</table>\n",
       "</div>"
      ],
      "text/plain": [
       "   Dptr Hour  Length of Flight (Hrs)  Day of Week  Passengers Boarded  \\\n",
       "0          8                       1            2                 144   \n",
       "1          5                       3            1                 152   \n",
       "2          4                       2            4                 150   \n",
       "3          6                       2            4                 131   \n",
       "4          5                       6            4                 164   \n",
       "\n",
       "   Stock Out Occurred  Cheese Platters Sold  \n",
       "0                   0                    18  \n",
       "1                   0                    15  \n",
       "2                   0                    16  \n",
       "3                   0                    13  \n",
       "4                   0                    18  "
      ]
     },
     "execution_count": 74,
     "metadata": {},
     "output_type": "execute_result"
    }
   ],
   "source": [
    "df.head()"
   ]
  },
  {
   "cell_type": "markdown",
   "metadata": {},
   "source": [
    " # 1.EXPLORE DATA"
   ]
  },
  {
   "cell_type": "markdown",
   "metadata": {},
   "source": [
    "## Relation Between # of Sold Platters"
   ]
  },
  {
   "cell_type": "code",
   "execution_count": 75,
   "metadata": {
    "scrolled": false
   },
   "outputs": [
    {
     "data": {
      "text/plain": [
       "Index(['Dptr Hour', 'Length of Flight (Hrs)', 'Day of Week',\n",
       "       'Passengers Boarded', 'Stock Out Occurred', 'Cheese Platters Sold'],\n",
       "      dtype='object')"
      ]
     },
     "execution_count": 75,
     "metadata": {},
     "output_type": "execute_result"
    }
   ],
   "source": [
    "df.columns"
   ]
  },
  {
   "cell_type": "code",
   "execution_count": 76,
   "metadata": {
    "scrolled": true
   },
   "outputs": [
    {
     "data": {
      "text/html": [
       "<div>\n",
       "<style scoped>\n",
       "    .dataframe tbody tr th:only-of-type {\n",
       "        vertical-align: middle;\n",
       "    }\n",
       "\n",
       "    .dataframe tbody tr th {\n",
       "        vertical-align: top;\n",
       "    }\n",
       "\n",
       "    .dataframe thead th {\n",
       "        text-align: right;\n",
       "    }\n",
       "</style>\n",
       "<table border=\"1\" class=\"dataframe\">\n",
       "  <thead>\n",
       "    <tr style=\"text-align: right;\">\n",
       "      <th></th>\n",
       "      <th>Cheese Platters Sold</th>\n",
       "    </tr>\n",
       "    <tr>\n",
       "      <th>Day of Week</th>\n",
       "      <th></th>\n",
       "    </tr>\n",
       "  </thead>\n",
       "  <tbody>\n",
       "    <tr>\n",
       "      <td>1</td>\n",
       "      <td>16.158114</td>\n",
       "    </tr>\n",
       "    <tr>\n",
       "      <td>2</td>\n",
       "      <td>16.103208</td>\n",
       "    </tr>\n",
       "    <tr>\n",
       "      <td>3</td>\n",
       "      <td>16.338527</td>\n",
       "    </tr>\n",
       "    <tr>\n",
       "      <td>4</td>\n",
       "      <td>16.033149</td>\n",
       "    </tr>\n",
       "    <tr>\n",
       "      <td>5</td>\n",
       "      <td>16.089510</td>\n",
       "    </tr>\n",
       "    <tr>\n",
       "      <td>6</td>\n",
       "      <td>15.027360</td>\n",
       "    </tr>\n",
       "    <tr>\n",
       "      <td>7</td>\n",
       "      <td>15.173469</td>\n",
       "    </tr>\n",
       "  </tbody>\n",
       "</table>\n",
       "</div>"
      ],
      "text/plain": [
       "             Cheese Platters Sold\n",
       "Day of Week                      \n",
       "1                       16.158114\n",
       "2                       16.103208\n",
       "3                       16.338527\n",
       "4                       16.033149\n",
       "5                       16.089510\n",
       "6                       15.027360\n",
       "7                       15.173469"
      ]
     },
     "execution_count": 76,
     "metadata": {},
     "output_type": "execute_result"
    }
   ],
   "source": [
    "t=df.groupby(by=df.columns[2]).mean()\n",
    "t[['Cheese Platters Sold']]"
   ]
  },
  {
   "cell_type": "code",
   "execution_count": 77,
   "metadata": {},
   "outputs": [],
   "source": [
    "def relation_s(a):\n",
    "    t=df.groupby(by=df.columns[a]).mean()\n",
    "    t=t[['Cheese Platters Sold']]\n",
    "\n",
    "    plt.figure(figsize=(15,7))\n",
    "    \n",
    "    if df.columns[a]!='Dptr Hour':\n",
    "        plt.scatter(x=t.index, y=t['Cheese Platters Sold'])\n",
    "        plt.title('Average Cheese Platters Sold by '+df.columns[a])\n",
    "        plt.xlabel(df.columns[a])\n",
    "        plt.ylabel('Cheese Platters Sold')\n",
    "        plt.show()\n",
    "    else: # this section works only for \"Dptr Hour\"\n",
    "        x=t.index\n",
    "        y=t['Cheese Platters Sold']\n",
    "        plt.scatter(x,y)\n",
    "        plt.title('Average Cheese Platters Sold by '+df.columns[0])\n",
    "        plt.xlabel(df.columns[0])\n",
    "        plt.ylabel('Cheese Platters Sold')\n",
    "\n",
    "        x1=t.index[:8]\n",
    "        y1=t['Cheese Platters Sold'][:8]\n",
    "        z = np.polyfit(x1, y1, 1)\n",
    "        p = np.poly1d(z)\n",
    "        plt.plot(x1,p(x1),\"r--\")\n",
    "\n",
    "        x2=t.index[8:20]\n",
    "        y2=t['Cheese Platters Sold'][8:20]\n",
    "        z = np.polyfit(x2, y2, 1)\n",
    "        p = np.poly1d(z)\n",
    "        plt.plot(x2,p(x2),\"r--\")\n",
    "\n",
    "        x3=t.index[20:]\n",
    "        y3=t['Cheese Platters Sold'][20:]\n",
    "        z = np.polyfit(x3, y3, 1)\n",
    "        p = np.poly1d(z)\n",
    "        plt.plot(x3,p(x3),\"r--\")\n",
    "\n",
    "        plt.show()"
   ]
  },
  {
   "cell_type": "code",
   "execution_count": 78,
   "metadata": {},
   "outputs": [],
   "source": [
    "def relation_b(a):\n",
    "    t=df.groupby(by=df.columns[a]).mean()\n",
    "    t=t[['Cheese Platters Sold']]\n",
    "    title='Average Cheese Platters Sold by '+df.columns[a]\n",
    "    t.plot(kind='bar', figsize=(15,7),title=title).grid(axis='y')\n",
    "    plt.ylabel('Cheese Platters Sold')\n",
    "    plt.show()"
   ]
  },
  {
   "cell_type": "code",
   "execution_count": 79,
   "metadata": {
    "scrolled": false
   },
   "outputs": [
    {
     "data": {
      "image/png": "[encoded data removed]",
      "text/plain": [
       "<Figure size 1080x504 with 1 Axes>"
      ]
     },
     "metadata": {
      "needs_background": "light"
     },
     "output_type": "display_data"
    },
    {
     "name": "stdout",
     "output_type": "stream",
     "text": [
      "None\n"
     ]
    },
    {
     "data": {
      "image/png": "[encoded data removed]",
      "text/plain": [
       "<Figure size 1080x504 with 1 Axes>"
      ]
     },
     "metadata": {
      "needs_background": "light"
     },
     "output_type": "display_data"
    },
    {
     "name": "stdout",
     "output_type": "stream",
     "text": [
      "None\n"
     ]
    },
    {
     "data": {
      "image/png": "[encoded data removed]",
      "text/plain": [
       "<Figure size 1080x504 with 1 Axes>"
      ]
     },
     "metadata": {
      "needs_background": "light"
     },
     "output_type": "display_data"
    },
    {
     "name": "stdout",
     "output_type": "stream",
     "text": [
      "None\n"
     ]
    },
    {
     "data": {
      "image/png": "[encoded data removed]",
      "text/plain": [
       "<Figure size 1080x504 with 1 Axes>"
      ]
     },
     "metadata": {
      "needs_background": "light"
     },
     "output_type": "display_data"
    },
    {
     "name": "stdout",
     "output_type": "stream",
     "text": [
      "None\n"
     ]
    },
    {
     "data": {
      "image/png": "[encoded data removed]",
      "text/plain": [
       "<Figure size 1080x504 with 1 Axes>"
      ]
     },
     "metadata": {
      "needs_background": "light"
     },
     "output_type": "display_data"
    },
    {
     "name": "stdout",
     "output_type": "stream",
     "text": [
      "None\n"
     ]
    }
   ],
   "source": [
    "for i in range(5):\n",
    "    if i==4:\n",
    "        print(relation_b(i))\n",
    "    else:\n",
    "        print(relation_s(i))"
   ]
  },
  {
   "cell_type": "markdown",
   "metadata": {},
   "source": [
    "## by Dept Hour & Week Days"
   ]
  },
  {
   "cell_type": "code",
   "execution_count": 80,
   "metadata": {},
   "outputs": [],
   "source": [
    "df2=df"
   ]
  },
  {
   "cell_type": "code",
   "execution_count": 81,
   "metadata": {},
   "outputs": [
    {
     "data": {
      "text/plain": [
       "(5000, 7)"
      ]
     },
     "execution_count": 81,
     "metadata": {},
     "output_type": "execute_result"
    }
   ],
   "source": [
    "d={1:'Weekday',2:'Weekday',3:'Weekday',4:'Weekday',5:'Weekday',6:'Weekend',7:'Weekend'}\n",
    "\n",
    "df2['Week Part']=df2['Day of Week'].map(d)\n",
    "df2.shape"
   ]
  },
  {
   "cell_type": "code",
   "execution_count": 82,
   "metadata": {},
   "outputs": [
    {
     "data": {
      "text/html": [
       "<div>\n",
       "<style scoped>\n",
       "    .dataframe tbody tr th:only-of-type {\n",
       "        vertical-align: middle;\n",
       "    }\n",
       "\n",
       "    .dataframe tbody tr th {\n",
       "        vertical-align: top;\n",
       "    }\n",
       "\n",
       "    .dataframe thead th {\n",
       "        text-align: right;\n",
       "    }\n",
       "</style>\n",
       "<table border=\"1\" class=\"dataframe\">\n",
       "  <thead>\n",
       "    <tr style=\"text-align: right;\">\n",
       "      <th></th>\n",
       "      <th>Dptr Hour</th>\n",
       "      <th>Length of Flight (Hrs)</th>\n",
       "      <th>Day of Week</th>\n",
       "      <th>Passengers Boarded</th>\n",
       "      <th>Stock Out Occurred</th>\n",
       "      <th>Cheese Platters Sold</th>\n",
       "      <th>Week Part</th>\n",
       "    </tr>\n",
       "  </thead>\n",
       "  <tbody>\n",
       "    <tr>\n",
       "      <td>0</td>\n",
       "      <td>8</td>\n",
       "      <td>1</td>\n",
       "      <td>2</td>\n",
       "      <td>144</td>\n",
       "      <td>0</td>\n",
       "      <td>18</td>\n",
       "      <td>Weekday</td>\n",
       "    </tr>\n",
       "    <tr>\n",
       "      <td>1</td>\n",
       "      <td>5</td>\n",
       "      <td>3</td>\n",
       "      <td>1</td>\n",
       "      <td>152</td>\n",
       "      <td>0</td>\n",
       "      <td>15</td>\n",
       "      <td>Weekday</td>\n",
       "    </tr>\n",
       "    <tr>\n",
       "      <td>2</td>\n",
       "      <td>4</td>\n",
       "      <td>2</td>\n",
       "      <td>4</td>\n",
       "      <td>150</td>\n",
       "      <td>0</td>\n",
       "      <td>16</td>\n",
       "      <td>Weekday</td>\n",
       "    </tr>\n",
       "    <tr>\n",
       "      <td>3</td>\n",
       "      <td>6</td>\n",
       "      <td>2</td>\n",
       "      <td>4</td>\n",
       "      <td>131</td>\n",
       "      <td>0</td>\n",
       "      <td>13</td>\n",
       "      <td>Weekday</td>\n",
       "    </tr>\n",
       "    <tr>\n",
       "      <td>4</td>\n",
       "      <td>5</td>\n",
       "      <td>6</td>\n",
       "      <td>4</td>\n",
       "      <td>164</td>\n",
       "      <td>0</td>\n",
       "      <td>18</td>\n",
       "      <td>Weekday</td>\n",
       "    </tr>\n",
       "  </tbody>\n",
       "</table>\n",
       "</div>"
      ],
      "text/plain": [
       "   Dptr Hour  Length of Flight (Hrs)  Day of Week  Passengers Boarded  \\\n",
       "0          8                       1            2                 144   \n",
       "1          5                       3            1                 152   \n",
       "2          4                       2            4                 150   \n",
       "3          6                       2            4                 131   \n",
       "4          5                       6            4                 164   \n",
       "\n",
       "   Stock Out Occurred  Cheese Platters Sold Week Part  \n",
       "0                   0                    18   Weekday  \n",
       "1                   0                    15   Weekday  \n",
       "2                   0                    16   Weekday  \n",
       "3                   0                    13   Weekday  \n",
       "4                   0                    18   Weekday  "
      ]
     },
     "execution_count": 82,
     "metadata": {},
     "output_type": "execute_result"
    }
   ],
   "source": [
    "df2.head()"
   ]
  },
  {
   "cell_type": "code",
   "execution_count": 83,
   "metadata": {},
   "outputs": [
    {
     "data": {
      "image/png": "[encoded data removed]",
      "text/plain": [
       "<Figure size 1080x504 with 1 Axes>"
      ]
     },
     "metadata": {
      "needs_background": "light"
     },
     "output_type": "display_data"
    }
   ],
   "source": [
    "p=df2.groupby(['Week Part','Dptr Hour']).mean()[['Cheese Platters Sold']].unstack().T\n",
    "p.index=p.index.droplevel(level=0)\n",
    "\n",
    "x=p.index\n",
    "y1=p['Weekday']\n",
    "y2=p['Weekend']\n",
    "\n",
    "\n",
    "plt.figure(figsize=(15,7))\n",
    "plt.scatter(x,y1,color='red', label='Weekday')\n",
    "plt.scatter(x,y2,color='blue', label='Weekend')\n",
    "plt.title('Average Cheese Platters Sold by Dptr Hour & Week Status')\n",
    "plt.xlabel('Dptr Hour')\n",
    "plt.ylabel('Cheese Platters Sold')\n",
    "plt.legend()\n",
    "plt.show()"
   ]
  },
  {
   "cell_type": "markdown",
   "metadata": {},
   "source": [
    "### describe Non Stock Out - Cheese Platters Sold"
   ]
  },
  {
   "cell_type": "code",
   "execution_count": 84,
   "metadata": {},
   "outputs": [
    {
     "data": {
      "text/html": [
       "<div>\n",
       "<style scoped>\n",
       "    .dataframe tbody tr th:only-of-type {\n",
       "        vertical-align: middle;\n",
       "    }\n",
       "\n",
       "    .dataframe tbody tr th {\n",
       "        vertical-align: top;\n",
       "    }\n",
       "\n",
       "    .dataframe thead th {\n",
       "        text-align: right;\n",
       "    }\n",
       "</style>\n",
       "<table border=\"1\" class=\"dataframe\">\n",
       "  <thead>\n",
       "    <tr style=\"text-align: right;\">\n",
       "      <th></th>\n",
       "      <th>Dptr Hour</th>\n",
       "      <th>Length of Flight (Hrs)</th>\n",
       "      <th>Day of Week</th>\n",
       "      <th>Passengers Boarded</th>\n",
       "      <th>Stock Out Occurred</th>\n",
       "      <th>Week Part</th>\n",
       "    </tr>\n",
       "    <tr>\n",
       "      <th>Cheese Platters Sold</th>\n",
       "      <th></th>\n",
       "      <th></th>\n",
       "      <th></th>\n",
       "      <th></th>\n",
       "      <th></th>\n",
       "      <th></th>\n",
       "    </tr>\n",
       "  </thead>\n",
       "  <tbody>\n",
       "    <tr>\n",
       "      <td>5</td>\n",
       "      <td>1</td>\n",
       "      <td>1</td>\n",
       "      <td>1</td>\n",
       "      <td>1</td>\n",
       "      <td>1</td>\n",
       "      <td>1</td>\n",
       "    </tr>\n",
       "    <tr>\n",
       "      <td>6</td>\n",
       "      <td>2</td>\n",
       "      <td>2</td>\n",
       "      <td>2</td>\n",
       "      <td>2</td>\n",
       "      <td>2</td>\n",
       "      <td>2</td>\n",
       "    </tr>\n",
       "    <tr>\n",
       "      <td>7</td>\n",
       "      <td>9</td>\n",
       "      <td>9</td>\n",
       "      <td>9</td>\n",
       "      <td>9</td>\n",
       "      <td>9</td>\n",
       "      <td>9</td>\n",
       "    </tr>\n",
       "    <tr>\n",
       "      <td>8</td>\n",
       "      <td>16</td>\n",
       "      <td>16</td>\n",
       "      <td>16</td>\n",
       "      <td>16</td>\n",
       "      <td>16</td>\n",
       "      <td>16</td>\n",
       "    </tr>\n",
       "    <tr>\n",
       "      <td>9</td>\n",
       "      <td>63</td>\n",
       "      <td>63</td>\n",
       "      <td>63</td>\n",
       "      <td>63</td>\n",
       "      <td>63</td>\n",
       "      <td>63</td>\n",
       "    </tr>\n",
       "    <tr>\n",
       "      <td>10</td>\n",
       "      <td>116</td>\n",
       "      <td>116</td>\n",
       "      <td>116</td>\n",
       "      <td>116</td>\n",
       "      <td>116</td>\n",
       "      <td>116</td>\n",
       "    </tr>\n",
       "    <tr>\n",
       "      <td>11</td>\n",
       "      <td>205</td>\n",
       "      <td>205</td>\n",
       "      <td>205</td>\n",
       "      <td>205</td>\n",
       "      <td>205</td>\n",
       "      <td>205</td>\n",
       "    </tr>\n",
       "    <tr>\n",
       "      <td>12</td>\n",
       "      <td>305</td>\n",
       "      <td>305</td>\n",
       "      <td>305</td>\n",
       "      <td>305</td>\n",
       "      <td>305</td>\n",
       "      <td>305</td>\n",
       "    </tr>\n",
       "    <tr>\n",
       "      <td>13</td>\n",
       "      <td>450</td>\n",
       "      <td>450</td>\n",
       "      <td>450</td>\n",
       "      <td>450</td>\n",
       "      <td>450</td>\n",
       "      <td>450</td>\n",
       "    </tr>\n",
       "    <tr>\n",
       "      <td>14</td>\n",
       "      <td>521</td>\n",
       "      <td>521</td>\n",
       "      <td>521</td>\n",
       "      <td>521</td>\n",
       "      <td>521</td>\n",
       "      <td>521</td>\n",
       "    </tr>\n",
       "    <tr>\n",
       "      <td>15</td>\n",
       "      <td>582</td>\n",
       "      <td>582</td>\n",
       "      <td>582</td>\n",
       "      <td>582</td>\n",
       "      <td>582</td>\n",
       "      <td>582</td>\n",
       "    </tr>\n",
       "    <tr>\n",
       "      <td>16</td>\n",
       "      <td>590</td>\n",
       "      <td>590</td>\n",
       "      <td>590</td>\n",
       "      <td>590</td>\n",
       "      <td>590</td>\n",
       "      <td>590</td>\n",
       "    </tr>\n",
       "    <tr>\n",
       "      <td>17</td>\n",
       "      <td>515</td>\n",
       "      <td>515</td>\n",
       "      <td>515</td>\n",
       "      <td>515</td>\n",
       "      <td>515</td>\n",
       "      <td>515</td>\n",
       "    </tr>\n",
       "    <tr>\n",
       "      <td>18</td>\n",
       "      <td>420</td>\n",
       "      <td>420</td>\n",
       "      <td>420</td>\n",
       "      <td>420</td>\n",
       "      <td>420</td>\n",
       "      <td>420</td>\n",
       "    </tr>\n",
       "    <tr>\n",
       "      <td>19</td>\n",
       "      <td>342</td>\n",
       "      <td>342</td>\n",
       "      <td>342</td>\n",
       "      <td>342</td>\n",
       "      <td>342</td>\n",
       "      <td>342</td>\n",
       "    </tr>\n",
       "  </tbody>\n",
       "</table>\n",
       "</div>"
      ],
      "text/plain": [
       "                      Dptr Hour  Length of Flight (Hrs)  Day of Week  \\\n",
       "Cheese Platters Sold                                                   \n",
       "5                             1                       1            1   \n",
       "6                             2                       2            2   \n",
       "7                             9                       9            9   \n",
       "8                            16                      16           16   \n",
       "9                            63                      63           63   \n",
       "10                          116                     116          116   \n",
       "11                          205                     205          205   \n",
       "12                          305                     305          305   \n",
       "13                          450                     450          450   \n",
       "14                          521                     521          521   \n",
       "15                          582                     582          582   \n",
       "16                          590                     590          590   \n",
       "17                          515                     515          515   \n",
       "18                          420                     420          420   \n",
       "19                          342                     342          342   \n",
       "\n",
       "                      Passengers Boarded  Stock Out Occurred  Week Part  \n",
       "Cheese Platters Sold                                                     \n",
       "5                                      1                   1          1  \n",
       "6                                      2                   2          2  \n",
       "7                                      9                   9          9  \n",
       "8                                     16                  16         16  \n",
       "9                                     63                  63         63  \n",
       "10                                   116                 116        116  \n",
       "11                                   205                 205        205  \n",
       "12                                   305                 305        305  \n",
       "13                                   450                 450        450  \n",
       "14                                   521                 521        521  \n",
       "15                                   582                 582        582  \n",
       "16                                   590                 590        590  \n",
       "17                                   515                 515        515  \n",
       "18                                   420                 420        420  \n",
       "19                                   342                 342        342  "
      ]
     },
     "execution_count": 84,
     "metadata": {},
     "output_type": "execute_result"
    }
   ],
   "source": [
    "df2[df2['Stock Out Occurred']==0].groupby(['Cheese Platters Sold']).count()"
   ]
  },
  {
   "cell_type": "code",
   "execution_count": 85,
   "metadata": {
    "scrolled": true
   },
   "outputs": [
    {
     "data": {
      "text/html": [
       "<div>\n",
       "<style scoped>\n",
       "    .dataframe tbody tr th:only-of-type {\n",
       "        vertical-align: middle;\n",
       "    }\n",
       "\n",
       "    .dataframe tbody tr th {\n",
       "        vertical-align: top;\n",
       "    }\n",
       "\n",
       "    .dataframe thead th {\n",
       "        text-align: right;\n",
       "    }\n",
       "</style>\n",
       "<table border=\"1\" class=\"dataframe\">\n",
       "  <thead>\n",
       "    <tr style=\"text-align: right;\">\n",
       "      <th></th>\n",
       "      <th>Cheese Platters Sold</th>\n",
       "    </tr>\n",
       "  </thead>\n",
       "  <tbody>\n",
       "    <tr>\n",
       "      <td>count</td>\n",
       "      <td>4137.000000</td>\n",
       "    </tr>\n",
       "    <tr>\n",
       "      <td>mean</td>\n",
       "      <td>14.981146</td>\n",
       "    </tr>\n",
       "    <tr>\n",
       "      <td>std</td>\n",
       "      <td>2.556732</td>\n",
       "    </tr>\n",
       "    <tr>\n",
       "      <td>min</td>\n",
       "      <td>5.000000</td>\n",
       "    </tr>\n",
       "    <tr>\n",
       "      <td>5%</td>\n",
       "      <td>10.800000</td>\n",
       "    </tr>\n",
       "    <tr>\n",
       "      <td>50%</td>\n",
       "      <td>15.000000</td>\n",
       "    </tr>\n",
       "    <tr>\n",
       "      <td>95%</td>\n",
       "      <td>19.000000</td>\n",
       "    </tr>\n",
       "    <tr>\n",
       "      <td>max</td>\n",
       "      <td>19.000000</td>\n",
       "    </tr>\n",
       "  </tbody>\n",
       "</table>\n",
       "</div>"
      ],
      "text/plain": [
       "       Cheese Platters Sold\n",
       "count           4137.000000\n",
       "mean              14.981146\n",
       "std                2.556732\n",
       "min                5.000000\n",
       "5%                10.800000\n",
       "50%               15.000000\n",
       "95%               19.000000\n",
       "max               19.000000"
      ]
     },
     "execution_count": 85,
     "metadata": {},
     "output_type": "execute_result"
    }
   ],
   "source": [
    "nso=df2[df2['Stock Out Occurred']==0][['Cheese Platters Sold']]\n",
    "nso.describe(percentiles=[.05, .5, .95])"
   ]
  },
  {
   "cell_type": "raw",
   "metadata": {},
   "source": [
    "I should keep min 11 platters at each flight if I want to cover 95 percent confidence at all flights!\n",
    "in other words, if I keep 11 platter at each flight then 95 out of 100 flights "
   ]
  },
  {
   "cell_type": "code",
   "execution_count": 86,
   "metadata": {
    "scrolled": true
   },
   "outputs": [
    {
     "data": {
      "text/plain": [
       "<matplotlib.axes._subplots.AxesSubplot at 0x1c25284d10>"
      ]
     },
     "execution_count": 86,
     "metadata": {},
     "output_type": "execute_result"
    },
    {
     "data": {
      "image/png": "[encoded data removed]",
      "text/plain": [
       "<Figure size 432x288 with 1 Axes>"
      ]
     },
     "metadata": {
      "needs_background": "light"
     },
     "output_type": "display_data"
    }
   ],
   "source": [
    "sns.distplot(nso, kde=False)"
   ]
  },
  {
   "cell_type": "code",
   "execution_count": null,
   "metadata": {},
   "outputs": [],
   "source": []
  },
  {
   "cell_type": "code",
   "execution_count": null,
   "metadata": {},
   "outputs": [],
   "source": []
  },
  {
   "cell_type": "markdown",
   "metadata": {},
   "source": [
    "## Distribution"
   ]
  },
  {
   "cell_type": "code",
   "execution_count": 87,
   "metadata": {},
   "outputs": [],
   "source": [
    "def graphs(table,main_title):\n",
    "\n",
    "    plt.subplots(3,2, figsize=(20,15))\n",
    "    plt.suptitle(main_title, size=20) # add above a Main Title\n",
    "\n",
    "    plt.subplot(3,2,1, title='distribution of Dptr Hour')\n",
    "    sns.distplot(table['Dptr Hour'], bins=25, kde=False, color='c') # alternative colors are k, g, b, and m\n",
    "\n",
    "    plt.subplot(3,2,2, title='distribution of Length of Flight (Hrs)')\n",
    "    sns.distplot(table['Length of Flight (Hrs)'], bins=25, kde=False)\n",
    "\n",
    "    plt.subplot(3,2,3, title='distribution of Day of Week')\n",
    "    sns.distplot(table['Day of Week'], kde=False)\n",
    "\n",
    "    plt.subplot(3,2,4, title='distribution of Passengers Boarded')\n",
    "    sns.distplot(table['Passengers Boarded'], bins=50, kde=False)\n",
    "    \n",
    "    plt.subplot(3,2,5, title='distribution of Stock Out Occurred')\n",
    "    sns.distplot(table['Stock Out Occurred'],kde=False)\n",
    "    \n",
    "    plt.subplot(3,2,6, title='distribution of Cheese Platters Sold')\n",
    "    sns.distplot(table['Cheese Platters Sold'], bins=25, kde=False)"
   ]
  },
  {
   "cell_type": "code",
   "execution_count": 88,
   "metadata": {},
   "outputs": [],
   "source": [
    "def dist_graph(a,b,c):\n",
    "    if b=='y':\n",
    "        t=df.groupby(by=df.columns[a]).count()[:c]\n",
    "    else:\n",
    "        t=df.groupby(by=df.columns[a]).count()\n",
    "    \n",
    "    t=t[[t.columns[0]]]\n",
    "    title='Number of Flights by '+df.columns[a]\n",
    "    if df.columns[a]=='Passengers Boarded':\n",
    "        t.plot(kind='bar', figsize=(15,6),title=title).grid(axis='y')\n",
    "    else:\n",
    "        t.plot(kind='bar', figsize=(15,6),title=title).grid(axis='y')\n",
    "    plt.ylabel('Number of Flights')\n",
    "#     plt.show()"
   ]
  },
  {
   "cell_type": "code",
   "execution_count": 89,
   "metadata": {},
   "outputs": [
    {
     "data": {
      "image/png": "[encoded data removed]",
      "text/plain": [
       "<Figure size 1440x1080 with 6 Axes>"
      ]
     },
     "metadata": {
      "needs_background": "light"
     },
     "output_type": "display_data"
    }
   ],
   "source": [
    "graphs(df,'ALL DISTRBUTIONS')"
   ]
  },
  {
   "cell_type": "code",
   "execution_count": 90,
   "metadata": {
    "scrolled": false
   },
   "outputs": [
    {
     "data": {
      "image/png": "[encoded data removed]",
      "text/plain": [
       "<Figure size 1080x432 with 1 Axes>"
      ]
     },
     "metadata": {
      "needs_background": "light"
     },
     "output_type": "display_data"
    },
    {
     "data": {
      "image/png": "[encoded data removed]",
      "text/plain": [
       "<Figure size 1080x432 with 1 Axes>"
      ]
     },
     "metadata": {
      "needs_background": "light"
     },
     "output_type": "display_data"
    },
    {
     "data": {
      "image/png": "[encoded data removed]",
      "text/plain": [
       "<Figure size 1080x432 with 1 Axes>"
      ]
     },
     "metadata": {
      "needs_background": "light"
     },
     "output_type": "display_data"
    },
    {
     "data": {
      "image/png": "[encoded data removed]",
      "text/plain": [
       "<Figure size 1080x432 with 1 Axes>"
      ]
     },
     "metadata": {
      "needs_background": "light"
     },
     "output_type": "display_data"
    },
    {
     "data": {
      "image/png": "[encoded data removed]",
      "text/plain": [
       "<Figure size 1080x432 with 1 Axes>"
      ]
     },
     "metadata": {
      "needs_background": "light"
     },
     "output_type": "display_data"
    },
    {
     "data": {
      "image/png": "[encoded data removed]",
      "text/plain": [
       "<Figure size 1080x432 with 1 Axes>"
      ]
     },
     "metadata": {
      "needs_background": "light"
     },
     "output_type": "display_data"
    }
   ],
   "source": [
    "for i in range(6):\n",
    "    dist_graph(i,'n',-1)"
   ]
  },
  {
   "cell_type": "markdown",
   "metadata": {},
   "source": [
    "### describe Non Stock Out - Passengers Boarded"
   ]
  },
  {
   "cell_type": "code",
   "execution_count": 91,
   "metadata": {},
   "outputs": [
    {
     "data": {
      "text/html": [
       "<div>\n",
       "<style scoped>\n",
       "    .dataframe tbody tr th:only-of-type {\n",
       "        vertical-align: middle;\n",
       "    }\n",
       "\n",
       "    .dataframe tbody tr th {\n",
       "        vertical-align: top;\n",
       "    }\n",
       "\n",
       "    .dataframe thead th {\n",
       "        text-align: right;\n",
       "    }\n",
       "</style>\n",
       "<table border=\"1\" class=\"dataframe\">\n",
       "  <thead>\n",
       "    <tr style=\"text-align: right;\">\n",
       "      <th></th>\n",
       "      <th>Passengers Boarded</th>\n",
       "    </tr>\n",
       "  </thead>\n",
       "  <tbody>\n",
       "    <tr>\n",
       "      <td>count</td>\n",
       "      <td>4137.000000</td>\n",
       "    </tr>\n",
       "    <tr>\n",
       "      <td>mean</td>\n",
       "      <td>133.998308</td>\n",
       "    </tr>\n",
       "    <tr>\n",
       "      <td>std</td>\n",
       "      <td>20.979076</td>\n",
       "    </tr>\n",
       "    <tr>\n",
       "      <td>min</td>\n",
       "      <td>49.000000</td>\n",
       "    </tr>\n",
       "    <tr>\n",
       "      <td>5%</td>\n",
       "      <td>97.000000</td>\n",
       "    </tr>\n",
       "    <tr>\n",
       "      <td>50%</td>\n",
       "      <td>135.000000</td>\n",
       "    </tr>\n",
       "    <tr>\n",
       "      <td>95%</td>\n",
       "      <td>165.000000</td>\n",
       "    </tr>\n",
       "    <tr>\n",
       "      <td>max</td>\n",
       "      <td>165.000000</td>\n",
       "    </tr>\n",
       "  </tbody>\n",
       "</table>\n",
       "</div>"
      ],
      "text/plain": [
       "       Passengers Boarded\n",
       "count         4137.000000\n",
       "mean           133.998308\n",
       "std             20.979076\n",
       "min             49.000000\n",
       "5%              97.000000\n",
       "50%            135.000000\n",
       "95%            165.000000\n",
       "max            165.000000"
      ]
     },
     "execution_count": 91,
     "metadata": {},
     "output_type": "execute_result"
    }
   ],
   "source": [
    "nso_passenger=df2[df2['Stock Out Occurred']==0][['Passengers Boarded']]\n",
    "nso_passenger.describe(percentiles=[.05, .5, .95])"
   ]
  },
  {
   "cell_type": "code",
   "execution_count": 92,
   "metadata": {},
   "outputs": [
    {
     "data": {
      "text/plain": [
       "<matplotlib.axes._subplots.AxesSubplot at 0x1c24e95c10>"
      ]
     },
     "execution_count": 92,
     "metadata": {},
     "output_type": "execute_result"
    },
    {
     "data": {
      "image/png": "[encoded data removed]",
      "text/plain": [
       "<Figure size 432x288 with 1 Axes>"
      ]
     },
     "metadata": {
      "needs_background": "light"
     },
     "output_type": "display_data"
    }
   ],
   "source": [
    "sns.distplot(nso_passenger, kde=False)"
   ]
  },
  {
   "cell_type": "code",
   "execution_count": null,
   "metadata": {},
   "outputs": [],
   "source": []
  },
  {
   "cell_type": "markdown",
   "metadata": {},
   "source": [
    "# 3.ESTIMATING DEMAND"
   ]
  },
  {
   "cell_type": "markdown",
   "metadata": {},
   "source": [
    "## Model 1- Predict Stock Out Sales"
   ]
  },
  {
   "cell_type": "code",
   "execution_count": 181,
   "metadata": {},
   "outputs": [],
   "source": [
    "from sklearn.linear_model import LogisticRegression\n",
    "from sklearn.model_selection import train_test_split,cross_val_score, KFold\n",
    "from sklearn.preprocessing import StandardScaler\n",
    "from sklearn.metrics import accuracy_score\n",
    "import statsmodels.api as sm"
   ]
  },
  {
   "cell_type": "code",
   "execution_count": 101,
   "metadata": {},
   "outputs": [
    {
     "data": {
      "text/html": [
       "<div>\n",
       "<style scoped>\n",
       "    .dataframe tbody tr th:only-of-type {\n",
       "        vertical-align: middle;\n",
       "    }\n",
       "\n",
       "    .dataframe tbody tr th {\n",
       "        vertical-align: top;\n",
       "    }\n",
       "\n",
       "    .dataframe thead th {\n",
       "        text-align: right;\n",
       "    }\n",
       "</style>\n",
       "<table border=\"1\" class=\"dataframe\">\n",
       "  <thead>\n",
       "    <tr style=\"text-align: right;\">\n",
       "      <th></th>\n",
       "      <th>Dptr Hour</th>\n",
       "      <th>Length of Flight (Hrs)</th>\n",
       "      <th>Day of Week</th>\n",
       "      <th>Passengers Boarded</th>\n",
       "      <th>Stock Out Occurred</th>\n",
       "      <th>Cheese Platters Sold</th>\n",
       "      <th>Week Part</th>\n",
       "    </tr>\n",
       "  </thead>\n",
       "  <tbody>\n",
       "    <tr>\n",
       "      <td>0</td>\n",
       "      <td>8</td>\n",
       "      <td>1</td>\n",
       "      <td>2</td>\n",
       "      <td>144</td>\n",
       "      <td>0</td>\n",
       "      <td>18</td>\n",
       "      <td>Weekday</td>\n",
       "    </tr>\n",
       "    <tr>\n",
       "      <td>1</td>\n",
       "      <td>5</td>\n",
       "      <td>3</td>\n",
       "      <td>1</td>\n",
       "      <td>152</td>\n",
       "      <td>0</td>\n",
       "      <td>15</td>\n",
       "      <td>Weekday</td>\n",
       "    </tr>\n",
       "    <tr>\n",
       "      <td>2</td>\n",
       "      <td>4</td>\n",
       "      <td>2</td>\n",
       "      <td>4</td>\n",
       "      <td>150</td>\n",
       "      <td>0</td>\n",
       "      <td>16</td>\n",
       "      <td>Weekday</td>\n",
       "    </tr>\n",
       "    <tr>\n",
       "      <td>3</td>\n",
       "      <td>6</td>\n",
       "      <td>2</td>\n",
       "      <td>4</td>\n",
       "      <td>131</td>\n",
       "      <td>0</td>\n",
       "      <td>13</td>\n",
       "      <td>Weekday</td>\n",
       "    </tr>\n",
       "    <tr>\n",
       "      <td>4</td>\n",
       "      <td>5</td>\n",
       "      <td>6</td>\n",
       "      <td>4</td>\n",
       "      <td>164</td>\n",
       "      <td>0</td>\n",
       "      <td>18</td>\n",
       "      <td>Weekday</td>\n",
       "    </tr>\n",
       "  </tbody>\n",
       "</table>\n",
       "</div>"
      ],
      "text/plain": [
       "  Dptr Hour  Length of Flight (Hrs) Day of Week  Passengers Boarded  \\\n",
       "0         8                       1           2                 144   \n",
       "1         5                       3           1                 152   \n",
       "2         4                       2           4                 150   \n",
       "3         6                       2           4                 131   \n",
       "4         5                       6           4                 164   \n",
       "\n",
       "   Stock Out Occurred  Cheese Platters Sold Week Part  \n",
       "0                   0                    18   Weekday  \n",
       "1                   0                    15   Weekday  \n",
       "2                   0                    16   Weekday  \n",
       "3                   0                    13   Weekday  \n",
       "4                   0                    18   Weekday  "
      ]
     },
     "execution_count": 101,
     "metadata": {},
     "output_type": "execute_result"
    }
   ],
   "source": [
    "df3=df2\n",
    "df3.head()"
   ]
  },
  {
   "cell_type": "raw",
   "metadata": {},
   "source": [
    "target: 'Stock Out Occurred'\n",
    "categoric features: 'Dptr Hour',  'Day of Week', 'Week Part'\n",
    "numeric fetaures: 'Length of Flight (Hrs)','Passengers Boarded'\n",
    "    \n",
    "??? :'Cheese Platters Sold',"
   ]
  },
  {
   "cell_type": "code",
   "execution_count": 102,
   "metadata": {},
   "outputs": [],
   "source": [
    "# convert numeric features to string format\n",
    "df3['Dptr Hour']=df3['Dptr Hour'].astype(str)\n",
    "df3['Day of Week']=df3['Day of Week'].astype(str)"
   ]
  },
  {
   "cell_type": "code",
   "execution_count": 103,
   "metadata": {},
   "outputs": [
    {
     "data": {
      "text/html": [
       "<div>\n",
       "<style scoped>\n",
       "    .dataframe tbody tr th:only-of-type {\n",
       "        vertical-align: middle;\n",
       "    }\n",
       "\n",
       "    .dataframe tbody tr th {\n",
       "        vertical-align: top;\n",
       "    }\n",
       "\n",
       "    .dataframe thead th {\n",
       "        text-align: right;\n",
       "    }\n",
       "</style>\n",
       "<table border=\"1\" class=\"dataframe\">\n",
       "  <thead>\n",
       "    <tr style=\"text-align: right;\">\n",
       "      <th></th>\n",
       "      <th>Length of Flight (Hrs)</th>\n",
       "      <th>Passengers Boarded</th>\n",
       "      <th>Stock Out Occurred</th>\n",
       "      <th>Dptr Hour_0</th>\n",
       "      <th>Dptr Hour_1</th>\n",
       "      <th>Dptr Hour_10</th>\n",
       "      <th>Dptr Hour_11</th>\n",
       "      <th>Dptr Hour_12</th>\n",
       "      <th>Dptr Hour_13</th>\n",
       "      <th>Dptr Hour_14</th>\n",
       "      <th>...</th>\n",
       "      <th>Dptr Hour_7</th>\n",
       "      <th>Dptr Hour_8</th>\n",
       "      <th>Dptr Hour_9</th>\n",
       "      <th>Day of Week_1</th>\n",
       "      <th>Day of Week_2</th>\n",
       "      <th>Day of Week_3</th>\n",
       "      <th>Day of Week_4</th>\n",
       "      <th>Day of Week_5</th>\n",
       "      <th>Day of Week_6</th>\n",
       "      <th>Day of Week_7</th>\n",
       "    </tr>\n",
       "  </thead>\n",
       "  <tbody>\n",
       "    <tr>\n",
       "      <td>0</td>\n",
       "      <td>1</td>\n",
       "      <td>144</td>\n",
       "      <td>0</td>\n",
       "      <td>0</td>\n",
       "      <td>0</td>\n",
       "      <td>0</td>\n",
       "      <td>0</td>\n",
       "      <td>0</td>\n",
       "      <td>0</td>\n",
       "      <td>0</td>\n",
       "      <td>...</td>\n",
       "      <td>0</td>\n",
       "      <td>1</td>\n",
       "      <td>0</td>\n",
       "      <td>0</td>\n",
       "      <td>1</td>\n",
       "      <td>0</td>\n",
       "      <td>0</td>\n",
       "      <td>0</td>\n",
       "      <td>0</td>\n",
       "      <td>0</td>\n",
       "    </tr>\n",
       "    <tr>\n",
       "      <td>1</td>\n",
       "      <td>3</td>\n",
       "      <td>152</td>\n",
       "      <td>0</td>\n",
       "      <td>0</td>\n",
       "      <td>0</td>\n",
       "      <td>0</td>\n",
       "      <td>0</td>\n",
       "      <td>0</td>\n",
       "      <td>0</td>\n",
       "      <td>0</td>\n",
       "      <td>...</td>\n",
       "      <td>0</td>\n",
       "      <td>0</td>\n",
       "      <td>0</td>\n",
       "      <td>1</td>\n",
       "      <td>0</td>\n",
       "      <td>0</td>\n",
       "      <td>0</td>\n",
       "      <td>0</td>\n",
       "      <td>0</td>\n",
       "      <td>0</td>\n",
       "    </tr>\n",
       "    <tr>\n",
       "      <td>2</td>\n",
       "      <td>2</td>\n",
       "      <td>150</td>\n",
       "      <td>0</td>\n",
       "      <td>0</td>\n",
       "      <td>0</td>\n",
       "      <td>0</td>\n",
       "      <td>0</td>\n",
       "      <td>0</td>\n",
       "      <td>0</td>\n",
       "      <td>0</td>\n",
       "      <td>...</td>\n",
       "      <td>0</td>\n",
       "      <td>0</td>\n",
       "      <td>0</td>\n",
       "      <td>0</td>\n",
       "      <td>0</td>\n",
       "      <td>0</td>\n",
       "      <td>1</td>\n",
       "      <td>0</td>\n",
       "      <td>0</td>\n",
       "      <td>0</td>\n",
       "    </tr>\n",
       "    <tr>\n",
       "      <td>3</td>\n",
       "      <td>2</td>\n",
       "      <td>131</td>\n",
       "      <td>0</td>\n",
       "      <td>0</td>\n",
       "      <td>0</td>\n",
       "      <td>0</td>\n",
       "      <td>0</td>\n",
       "      <td>0</td>\n",
       "      <td>0</td>\n",
       "      <td>0</td>\n",
       "      <td>...</td>\n",
       "      <td>0</td>\n",
       "      <td>0</td>\n",
       "      <td>0</td>\n",
       "      <td>0</td>\n",
       "      <td>0</td>\n",
       "      <td>0</td>\n",
       "      <td>1</td>\n",
       "      <td>0</td>\n",
       "      <td>0</td>\n",
       "      <td>0</td>\n",
       "    </tr>\n",
       "    <tr>\n",
       "      <td>4</td>\n",
       "      <td>6</td>\n",
       "      <td>164</td>\n",
       "      <td>0</td>\n",
       "      <td>0</td>\n",
       "      <td>0</td>\n",
       "      <td>0</td>\n",
       "      <td>0</td>\n",
       "      <td>0</td>\n",
       "      <td>0</td>\n",
       "      <td>0</td>\n",
       "      <td>...</td>\n",
       "      <td>0</td>\n",
       "      <td>0</td>\n",
       "      <td>0</td>\n",
       "      <td>0</td>\n",
       "      <td>0</td>\n",
       "      <td>0</td>\n",
       "      <td>1</td>\n",
       "      <td>0</td>\n",
       "      <td>0</td>\n",
       "      <td>0</td>\n",
       "    </tr>\n",
       "  </tbody>\n",
       "</table>\n",
       "<p>5 rows × 35 columns</p>\n",
       "</div>"
      ],
      "text/plain": [
       "   Length of Flight (Hrs)  Passengers Boarded  Stock Out Occurred  \\\n",
       "0                       1                 144                   0   \n",
       "1                       3                 152                   0   \n",
       "2                       2                 150                   0   \n",
       "3                       2                 131                   0   \n",
       "4                       6                 164                   0   \n",
       "\n",
       "   Dptr Hour_0  Dptr Hour_1  Dptr Hour_10  Dptr Hour_11  Dptr Hour_12  \\\n",
       "0            0            0             0             0             0   \n",
       "1            0            0             0             0             0   \n",
       "2            0            0             0             0             0   \n",
       "3            0            0             0             0             0   \n",
       "4            0            0             0             0             0   \n",
       "\n",
       "   Dptr Hour_13  Dptr Hour_14  ...  Dptr Hour_7  Dptr Hour_8  Dptr Hour_9  \\\n",
       "0             0             0  ...            0            1            0   \n",
       "1             0             0  ...            0            0            0   \n",
       "2             0             0  ...            0            0            0   \n",
       "3             0             0  ...            0            0            0   \n",
       "4             0             0  ...            0            0            0   \n",
       "\n",
       "   Day of Week_1  Day of Week_2  Day of Week_3  Day of Week_4  Day of Week_5  \\\n",
       "0              0              1              0              0              0   \n",
       "1              1              0              0              0              0   \n",
       "2              0              0              0              1              0   \n",
       "3              0              0              0              1              0   \n",
       "4              0              0              0              1              0   \n",
       "\n",
       "   Day of Week_6  Day of Week_7  \n",
       "0              0              0  \n",
       "1              0              0  \n",
       "2              0              0  \n",
       "3              0              0  \n",
       "4              0              0  \n",
       "\n",
       "[5 rows x 35 columns]"
      ]
     },
     "execution_count": 103,
     "metadata": {},
     "output_type": "execute_result"
    }
   ],
   "source": [
    "df3=df3[['Dptr Hour', 'Length of Flight (Hrs)', 'Day of Week',\n",
    "       'Passengers Boarded', 'Stock Out Occurred',]] #'Week Part',\n",
    "df3=pd.get_dummies(df3)\n",
    "df3.head()"
   ]
  },
  {
   "cell_type": "code",
   "execution_count": 107,
   "metadata": {},
   "outputs": [
    {
     "data": {
      "text/plain": [
       "32"
      ]
     },
     "execution_count": 107,
     "metadata": {},
     "output_type": "execute_result"
    }
   ],
   "source": [
    "remove_list=['Stock Out Occurred','Dptr Hour_0','Day of Week_1']\n",
    "f_list=list(set(df3.columns)-set(remove_list))\n",
    "len(f_list)"
   ]
  },
  {
   "cell_type": "code",
   "execution_count": 109,
   "metadata": {},
   "outputs": [],
   "source": [
    "features=f_list\n",
    "X=df3[features]\n",
    "y=df3['Stock Out Occurred']"
   ]
  },
  {
   "cell_type": "code",
   "execution_count": 110,
   "metadata": {},
   "outputs": [
    {
     "data": {
      "text/html": [
       "<div>\n",
       "<style scoped>\n",
       "    .dataframe tbody tr th:only-of-type {\n",
       "        vertical-align: middle;\n",
       "    }\n",
       "\n",
       "    .dataframe tbody tr th {\n",
       "        vertical-align: top;\n",
       "    }\n",
       "\n",
       "    .dataframe thead th {\n",
       "        text-align: right;\n",
       "    }\n",
       "</style>\n",
       "<table border=\"1\" class=\"dataframe\">\n",
       "  <thead>\n",
       "    <tr style=\"text-align: right;\">\n",
       "      <th></th>\n",
       "      <th>Length of Flight (Hrs)</th>\n",
       "      <th>Passengers Boarded</th>\n",
       "      <th>Stock Out Occurred</th>\n",
       "      <th>Dptr Hour_0</th>\n",
       "      <th>Dptr Hour_1</th>\n",
       "      <th>Dptr Hour_10</th>\n",
       "      <th>Dptr Hour_11</th>\n",
       "      <th>Dptr Hour_12</th>\n",
       "      <th>Dptr Hour_13</th>\n",
       "      <th>Dptr Hour_14</th>\n",
       "      <th>...</th>\n",
       "      <th>Dptr Hour_7</th>\n",
       "      <th>Dptr Hour_8</th>\n",
       "      <th>Dptr Hour_9</th>\n",
       "      <th>Day of Week_1</th>\n",
       "      <th>Day of Week_2</th>\n",
       "      <th>Day of Week_3</th>\n",
       "      <th>Day of Week_4</th>\n",
       "      <th>Day of Week_5</th>\n",
       "      <th>Day of Week_6</th>\n",
       "      <th>Day of Week_7</th>\n",
       "    </tr>\n",
       "  </thead>\n",
       "  <tbody>\n",
       "    <tr>\n",
       "      <td>0</td>\n",
       "      <td>1</td>\n",
       "      <td>144</td>\n",
       "      <td>0</td>\n",
       "      <td>0</td>\n",
       "      <td>0</td>\n",
       "      <td>0</td>\n",
       "      <td>0</td>\n",
       "      <td>0</td>\n",
       "      <td>0</td>\n",
       "      <td>0</td>\n",
       "      <td>...</td>\n",
       "      <td>0</td>\n",
       "      <td>1</td>\n",
       "      <td>0</td>\n",
       "      <td>0</td>\n",
       "      <td>1</td>\n",
       "      <td>0</td>\n",
       "      <td>0</td>\n",
       "      <td>0</td>\n",
       "      <td>0</td>\n",
       "      <td>0</td>\n",
       "    </tr>\n",
       "    <tr>\n",
       "      <td>1</td>\n",
       "      <td>3</td>\n",
       "      <td>152</td>\n",
       "      <td>0</td>\n",
       "      <td>0</td>\n",
       "      <td>0</td>\n",
       "      <td>0</td>\n",
       "      <td>0</td>\n",
       "      <td>0</td>\n",
       "      <td>0</td>\n",
       "      <td>0</td>\n",
       "      <td>...</td>\n",
       "      <td>0</td>\n",
       "      <td>0</td>\n",
       "      <td>0</td>\n",
       "      <td>1</td>\n",
       "      <td>0</td>\n",
       "      <td>0</td>\n",
       "      <td>0</td>\n",
       "      <td>0</td>\n",
       "      <td>0</td>\n",
       "      <td>0</td>\n",
       "    </tr>\n",
       "    <tr>\n",
       "      <td>2</td>\n",
       "      <td>2</td>\n",
       "      <td>150</td>\n",
       "      <td>0</td>\n",
       "      <td>0</td>\n",
       "      <td>0</td>\n",
       "      <td>0</td>\n",
       "      <td>0</td>\n",
       "      <td>0</td>\n",
       "      <td>0</td>\n",
       "      <td>0</td>\n",
       "      <td>...</td>\n",
       "      <td>0</td>\n",
       "      <td>0</td>\n",
       "      <td>0</td>\n",
       "      <td>0</td>\n",
       "      <td>0</td>\n",
       "      <td>0</td>\n",
       "      <td>1</td>\n",
       "      <td>0</td>\n",
       "      <td>0</td>\n",
       "      <td>0</td>\n",
       "    </tr>\n",
       "    <tr>\n",
       "      <td>3</td>\n",
       "      <td>2</td>\n",
       "      <td>131</td>\n",
       "      <td>0</td>\n",
       "      <td>0</td>\n",
       "      <td>0</td>\n",
       "      <td>0</td>\n",
       "      <td>0</td>\n",
       "      <td>0</td>\n",
       "      <td>0</td>\n",
       "      <td>0</td>\n",
       "      <td>...</td>\n",
       "      <td>0</td>\n",
       "      <td>0</td>\n",
       "      <td>0</td>\n",
       "      <td>0</td>\n",
       "      <td>0</td>\n",
       "      <td>0</td>\n",
       "      <td>1</td>\n",
       "      <td>0</td>\n",
       "      <td>0</td>\n",
       "      <td>0</td>\n",
       "    </tr>\n",
       "    <tr>\n",
       "      <td>4</td>\n",
       "      <td>6</td>\n",
       "      <td>164</td>\n",
       "      <td>0</td>\n",
       "      <td>0</td>\n",
       "      <td>0</td>\n",
       "      <td>0</td>\n",
       "      <td>0</td>\n",
       "      <td>0</td>\n",
       "      <td>0</td>\n",
       "      <td>0</td>\n",
       "      <td>...</td>\n",
       "      <td>0</td>\n",
       "      <td>0</td>\n",
       "      <td>0</td>\n",
       "      <td>0</td>\n",
       "      <td>0</td>\n",
       "      <td>0</td>\n",
       "      <td>1</td>\n",
       "      <td>0</td>\n",
       "      <td>0</td>\n",
       "      <td>0</td>\n",
       "    </tr>\n",
       "  </tbody>\n",
       "</table>\n",
       "<p>5 rows × 35 columns</p>\n",
       "</div>"
      ],
      "text/plain": [
       "   Length of Flight (Hrs)  Passengers Boarded  Stock Out Occurred  \\\n",
       "0                       1                 144                   0   \n",
       "1                       3                 152                   0   \n",
       "2                       2                 150                   0   \n",
       "3                       2                 131                   0   \n",
       "4                       6                 164                   0   \n",
       "\n",
       "   Dptr Hour_0  Dptr Hour_1  Dptr Hour_10  Dptr Hour_11  Dptr Hour_12  \\\n",
       "0            0            0             0             0             0   \n",
       "1            0            0             0             0             0   \n",
       "2            0            0             0             0             0   \n",
       "3            0            0             0             0             0   \n",
       "4            0            0             0             0             0   \n",
       "\n",
       "   Dptr Hour_13  Dptr Hour_14  ...  Dptr Hour_7  Dptr Hour_8  Dptr Hour_9  \\\n",
       "0             0             0  ...            0            1            0   \n",
       "1             0             0  ...            0            0            0   \n",
       "2             0             0  ...            0            0            0   \n",
       "3             0             0  ...            0            0            0   \n",
       "4             0             0  ...            0            0            0   \n",
       "\n",
       "   Day of Week_1  Day of Week_2  Day of Week_3  Day of Week_4  Day of Week_5  \\\n",
       "0              0              1              0              0              0   \n",
       "1              1              0              0              0              0   \n",
       "2              0              0              0              1              0   \n",
       "3              0              0              0              1              0   \n",
       "4              0              0              0              1              0   \n",
       "\n",
       "   Day of Week_6  Day of Week_7  \n",
       "0              0              0  \n",
       "1              0              0  \n",
       "2              0              0  \n",
       "3              0              0  \n",
       "4              0              0  \n",
       "\n",
       "[5 rows x 35 columns]"
      ]
     },
     "execution_count": 110,
     "metadata": {},
     "output_type": "execute_result"
    }
   ],
   "source": [
    "df3.head()"
   ]
  },
  {
   "cell_type": "code",
   "execution_count": 111,
   "metadata": {},
   "outputs": [],
   "source": [
    "X_train,X_test, y_train, y_test=train_test_split(X,y, test_size=0.25, random_state=42, stratify=y)\n",
    "logreg_class=LogisticRegression()"
   ]
  },
  {
   "cell_type": "code",
   "execution_count": 112,
   "metadata": {},
   "outputs": [],
   "source": [
    "def process_model(model,X):\n",
    "    ss=StandardScaler()\n",
    "    X_sc=ss.fit_transform(X)\n",
    "#     print(X_sc)\n",
    "    model.fit(X_sc,y_train)\n",
    "    crv=cross_val_score(model,X_sc,y_train).mean().round(4)\n",
    "    return(crv)"
   ]
  },
  {
   "cell_type": "code",
   "execution_count": 113,
   "metadata": {},
   "outputs": [],
   "source": [
    "def process_test(model,X_test):\n",
    "    ss=StandardScaler()\n",
    "    X_test_sc=ss.fit_transform(X_test)\n",
    "    ms=model.score(X_test_sc,y_test).round(4)\n",
    "    return ms"
   ]
  },
  {
   "cell_type": "code",
   "execution_count": 114,
   "metadata": {},
   "outputs": [],
   "source": [
    "def coefficients(model,X_train):\n",
    "    x=pd.DataFrame(model.coef_.round(4),columns=X_train.columns).T\n",
    "    x=x.rename(columns={0:'coefficient'})\n",
    "    return x"
   ]
  },
  {
   "cell_type": "code",
   "execution_count": 115,
   "metadata": {},
   "outputs": [],
   "source": [
    "def summary(model):\n",
    "    model=sm.Logit(y_train,X_train)\n",
    "    result=model.fit()\n",
    "    print(result.summary())"
   ]
  },
  {
   "cell_type": "code",
   "execution_count": 116,
   "metadata": {
    "scrolled": true
   },
   "outputs": [
    {
     "name": "stdout",
     "output_type": "stream",
     "text": [
      "train score: 0.97\n",
      "test score: 0.9632\n"
     ]
    },
    {
     "data": {
      "text/html": [
       "<div>\n",
       "<style scoped>\n",
       "    .dataframe tbody tr th:only-of-type {\n",
       "        vertical-align: middle;\n",
       "    }\n",
       "\n",
       "    .dataframe tbody tr th {\n",
       "        vertical-align: top;\n",
       "    }\n",
       "\n",
       "    .dataframe thead th {\n",
       "        text-align: right;\n",
       "    }\n",
       "</style>\n",
       "<table border=\"1\" class=\"dataframe\">\n",
       "  <thead>\n",
       "    <tr style=\"text-align: right;\">\n",
       "      <th></th>\n",
       "      <th>coefficient</th>\n",
       "    </tr>\n",
       "  </thead>\n",
       "  <tbody>\n",
       "    <tr>\n",
       "      <td>Dptr Hour_6</td>\n",
       "      <td>-0.3637</td>\n",
       "    </tr>\n",
       "    <tr>\n",
       "      <td>Dptr Hour_1</td>\n",
       "      <td>-0.4450</td>\n",
       "    </tr>\n",
       "    <tr>\n",
       "      <td>Day of Week_6</td>\n",
       "      <td>-0.9519</td>\n",
       "    </tr>\n",
       "    <tr>\n",
       "      <td>Dptr Hour_3</td>\n",
       "      <td>-0.3173</td>\n",
       "    </tr>\n",
       "    <tr>\n",
       "      <td>Dptr Hour_14</td>\n",
       "      <td>1.3811</td>\n",
       "    </tr>\n",
       "    <tr>\n",
       "      <td>Length of Flight (Hrs)</td>\n",
       "      <td>0.9449</td>\n",
       "    </tr>\n",
       "    <tr>\n",
       "      <td>Dptr Hour_10</td>\n",
       "      <td>1.3363</td>\n",
       "    </tr>\n",
       "    <tr>\n",
       "      <td>Dptr Hour_9</td>\n",
       "      <td>1.3062</td>\n",
       "    </tr>\n",
       "    <tr>\n",
       "      <td>Day of Week_7</td>\n",
       "      <td>-0.8722</td>\n",
       "    </tr>\n",
       "    <tr>\n",
       "      <td>Dptr Hour_8</td>\n",
       "      <td>1.3849</td>\n",
       "    </tr>\n",
       "    <tr>\n",
       "      <td>Dptr Hour_22</td>\n",
       "      <td>-0.4532</td>\n",
       "    </tr>\n",
       "    <tr>\n",
       "      <td>Dptr Hour_17</td>\n",
       "      <td>1.3751</td>\n",
       "    </tr>\n",
       "    <tr>\n",
       "      <td>Day of Week_4</td>\n",
       "      <td>-0.0187</td>\n",
       "    </tr>\n",
       "    <tr>\n",
       "      <td>Dptr Hour_23</td>\n",
       "      <td>-0.3581</td>\n",
       "    </tr>\n",
       "    <tr>\n",
       "      <td>Dptr Hour_18</td>\n",
       "      <td>1.3997</td>\n",
       "    </tr>\n",
       "    <tr>\n",
       "      <td>Dptr Hour_12</td>\n",
       "      <td>1.4748</td>\n",
       "    </tr>\n",
       "    <tr>\n",
       "      <td>Dptr Hour_16</td>\n",
       "      <td>1.5688</td>\n",
       "    </tr>\n",
       "    <tr>\n",
       "      <td>Dptr Hour_11</td>\n",
       "      <td>1.4655</td>\n",
       "    </tr>\n",
       "    <tr>\n",
       "      <td>Dptr Hour_4</td>\n",
       "      <td>-0.4213</td>\n",
       "    </tr>\n",
       "    <tr>\n",
       "      <td>Day of Week_2</td>\n",
       "      <td>-0.0682</td>\n",
       "    </tr>\n",
       "    <tr>\n",
       "      <td>Dptr Hour_2</td>\n",
       "      <td>-0.3948</td>\n",
       "    </tr>\n",
       "    <tr>\n",
       "      <td>Dptr Hour_19</td>\n",
       "      <td>1.4709</td>\n",
       "    </tr>\n",
       "    <tr>\n",
       "      <td>Dptr Hour_21</td>\n",
       "      <td>-0.4258</td>\n",
       "    </tr>\n",
       "    <tr>\n",
       "      <td>Dptr Hour_20</td>\n",
       "      <td>-0.4308</td>\n",
       "    </tr>\n",
       "    <tr>\n",
       "      <td>Day of Week_3</td>\n",
       "      <td>0.0895</td>\n",
       "    </tr>\n",
       "    <tr>\n",
       "      <td>Dptr Hour_13</td>\n",
       "      <td>1.3559</td>\n",
       "    </tr>\n",
       "    <tr>\n",
       "      <td>Dptr Hour_24</td>\n",
       "      <td>-0.3798</td>\n",
       "    </tr>\n",
       "    <tr>\n",
       "      <td>Dptr Hour_7</td>\n",
       "      <td>-0.0710</td>\n",
       "    </tr>\n",
       "    <tr>\n",
       "      <td>Passengers Boarded</td>\n",
       "      <td>5.1612</td>\n",
       "    </tr>\n",
       "    <tr>\n",
       "      <td>Dptr Hour_5</td>\n",
       "      <td>-0.4467</td>\n",
       "    </tr>\n",
       "    <tr>\n",
       "      <td>Dptr Hour_15</td>\n",
       "      <td>1.5485</td>\n",
       "    </tr>\n",
       "    <tr>\n",
       "      <td>Day of Week_5</td>\n",
       "      <td>-0.0854</td>\n",
       "    </tr>\n",
       "  </tbody>\n",
       "</table>\n",
       "</div>"
      ],
      "text/plain": [
       "                        coefficient\n",
       "Dptr Hour_6                 -0.3637\n",
       "Dptr Hour_1                 -0.4450\n",
       "Day of Week_6               -0.9519\n",
       "Dptr Hour_3                 -0.3173\n",
       "Dptr Hour_14                 1.3811\n",
       "Length of Flight (Hrs)       0.9449\n",
       "Dptr Hour_10                 1.3363\n",
       "Dptr Hour_9                  1.3062\n",
       "Day of Week_7               -0.8722\n",
       "Dptr Hour_8                  1.3849\n",
       "Dptr Hour_22                -0.4532\n",
       "Dptr Hour_17                 1.3751\n",
       "Day of Week_4               -0.0187\n",
       "Dptr Hour_23                -0.3581\n",
       "Dptr Hour_18                 1.3997\n",
       "Dptr Hour_12                 1.4748\n",
       "Dptr Hour_16                 1.5688\n",
       "Dptr Hour_11                 1.4655\n",
       "Dptr Hour_4                 -0.4213\n",
       "Day of Week_2               -0.0682\n",
       "Dptr Hour_2                 -0.3948\n",
       "Dptr Hour_19                 1.4709\n",
       "Dptr Hour_21                -0.4258\n",
       "Dptr Hour_20                -0.4308\n",
       "Day of Week_3                0.0895\n",
       "Dptr Hour_13                 1.3559\n",
       "Dptr Hour_24                -0.3798\n",
       "Dptr Hour_7                 -0.0710\n",
       "Passengers Boarded           5.1612\n",
       "Dptr Hour_5                 -0.4467\n",
       "Dptr Hour_15                 1.5485\n",
       "Day of Week_5               -0.0854"
      ]
     },
     "execution_count": 116,
     "metadata": {},
     "output_type": "execute_result"
    }
   ],
   "source": [
    "print (f'train score: {process_model(logreg_class,X_train).round(2)}')\n",
    "print (f'test score: {process_test(logreg_class,X_test)}')\n",
    "coefficients(logreg_class,X_train)"
   ]
  },
  {
   "cell_type": "code",
   "execution_count": 117,
   "metadata": {
    "scrolled": true
   },
   "outputs": [
    {
     "name": "stdout",
     "output_type": "stream",
     "text": [
      "Warning: Maximum number of iterations has been exceeded.\n",
      "         Current function value: 0.313536\n",
      "         Iterations: 35\n",
      "                           Logit Regression Results                           \n",
      "==============================================================================\n",
      "Dep. Variable:     Stock Out Occurred   No. Observations:                 3750\n",
      "Model:                          Logit   Df Residuals:                     3718\n",
      "Method:                           MLE   Df Model:                           31\n",
      "Date:                Thu, 19 Mar 2020   Pseudo R-squ.:                  0.3182\n",
      "Time:                        14:19:38   Log-Likelihood:                -1175.8\n",
      "converged:                      False   LL-Null:                       -1724.6\n",
      "Covariance Type:            nonrobust   LLR p-value:                7.436e-211\n",
      "==========================================================================================\n",
      "                             coef    std err          z      P>|z|      [0.025      0.975]\n",
      "------------------------------------------------------------------------------------------\n",
      "Dptr Hour_6              -26.1302    3.9e+04     -0.001      0.999   -7.65e+04    7.65e+04\n",
      "Dptr Hour_1              -21.0584   2786.116     -0.008      0.994   -5481.745    5439.628\n",
      "Day of Week_6             -2.1991      0.197    -11.172      0.000      -2.585      -1.813\n",
      "Dptr Hour_3              -58.6256   3.85e+11  -1.52e-10      1.000   -7.54e+11    7.54e+11\n",
      "Dptr Hour_14              -0.4516      0.234     -1.930      0.054      -0.910       0.007\n",
      "Length of Flight (Hrs)    -0.1123      0.028     -3.972      0.000      -0.168      -0.057\n",
      "Dptr Hour_10              -0.5626      0.237     -2.369      0.018      -1.028      -0.097\n",
      "Dptr Hour_9               -0.8182      0.241     -3.390      0.001      -1.291      -0.345\n",
      "Day of Week_7             -1.7841      0.186     -9.582      0.000      -2.149      -1.419\n",
      "Dptr Hour_8               -0.3401      0.233     -1.461      0.144      -0.796       0.116\n",
      "Dptr Hour_22             -27.1021   5.97e+04     -0.000      1.000   -1.17e+05    1.17e+05\n",
      "Dptr Hour_17              -0.4021      0.234     -1.720      0.085      -0.860       0.056\n",
      "Day of Week_4             -1.2711      0.179     -7.101      0.000      -1.622      -0.920\n",
      "Dptr Hour_23             -18.4532    673.877     -0.027      0.978   -1339.228    1302.321\n",
      "Dptr Hour_18              -0.5538      0.238     -2.326      0.020      -1.021      -0.087\n",
      "Dptr Hour_12              -0.4682      0.233     -2.009      0.045      -0.925      -0.011\n",
      "Dptr Hour_16              -0.6216      0.220     -2.831      0.005      -1.052      -0.191\n",
      "Dptr Hour_11              -0.7543      0.228     -3.315      0.001      -1.200      -0.308\n",
      "Dptr Hour_4              -26.8404   5.28e+04     -0.001      1.000   -1.04e+05    1.03e+05\n",
      "Day of Week_2             -1.3185      0.179     -7.381      0.000      -1.669      -0.968\n",
      "Dptr Hour_2              -28.4305   1.18e+05     -0.000      1.000   -2.31e+05    2.31e+05\n",
      "Dptr Hour_19              -0.2231      0.236     -0.946      0.344      -0.685       0.239\n",
      "Dptr Hour_21             -27.4893   7.35e+04     -0.000      1.000   -1.44e+05    1.44e+05\n",
      "Dptr Hour_20             -27.0962   5.85e+04     -0.000      1.000   -1.15e+05    1.15e+05\n",
      "Day of Week_3             -0.9318      0.173     -5.383      0.000      -1.271      -0.593\n",
      "Dptr Hour_13              -0.7355      0.238     -3.091      0.002      -1.202      -0.269\n",
      "Dptr Hour_24             -21.5801   3594.120     -0.006      0.995   -7065.927    7022.766\n",
      "Dptr Hour_7               -5.2637      1.017     -5.177      0.000      -7.256      -3.271\n",
      "Passengers Boarded         0.0111      0.001      8.062      0.000       0.008       0.014\n",
      "Dptr Hour_5              -19.2030   1055.379     -0.018      0.985   -2087.707    2049.301\n",
      "Dptr Hour_15              -0.3493      0.228     -1.535      0.125      -0.795       0.097\n",
      "Day of Week_5             -1.1969      0.176     -6.809      0.000      -1.541      -0.852\n",
      "==========================================================================================\n",
      "\n",
      "Possibly complete quasi-separation: A fraction 0.44 of observations can be\n",
      "perfectly predicted. This might indicate that there is complete\n",
      "quasi-separation. In this case some parameters will not be identified.\n"
     ]
    }
   ],
   "source": [
    "summary(logreg_class)"
   ]
  },
  {
   "cell_type": "markdown",
   "metadata": {},
   "source": [
    "###  Model 1B"
   ]
  },
  {
   "cell_type": "code",
   "execution_count": 278,
   "metadata": {},
   "outputs": [
    {
     "data": {
      "text/html": [
       "<div>\n",
       "<style scoped>\n",
       "    .dataframe tbody tr th:only-of-type {\n",
       "        vertical-align: middle;\n",
       "    }\n",
       "\n",
       "    .dataframe tbody tr th {\n",
       "        vertical-align: top;\n",
       "    }\n",
       "\n",
       "    .dataframe thead th {\n",
       "        text-align: right;\n",
       "    }\n",
       "</style>\n",
       "<table border=\"1\" class=\"dataframe\">\n",
       "  <thead>\n",
       "    <tr style=\"text-align: right;\">\n",
       "      <th></th>\n",
       "      <th>Dptr Hour</th>\n",
       "      <th>Length of Flight (Hrs)</th>\n",
       "      <th>Day of Week</th>\n",
       "      <th>Passengers Boarded</th>\n",
       "      <th>Stock Out Occurred</th>\n",
       "      <th>Cheese Platters Sold</th>\n",
       "      <th>Week Part</th>\n",
       "      <th>Hour Class</th>\n",
       "    </tr>\n",
       "  </thead>\n",
       "  <tbody>\n",
       "    <tr>\n",
       "      <td>0</td>\n",
       "      <td>8</td>\n",
       "      <td>1</td>\n",
       "      <td>2</td>\n",
       "      <td>144</td>\n",
       "      <td>0</td>\n",
       "      <td>18</td>\n",
       "      <td>Weekday</td>\n",
       "      <td>midday</td>\n",
       "    </tr>\n",
       "    <tr>\n",
       "      <td>1</td>\n",
       "      <td>5</td>\n",
       "      <td>3</td>\n",
       "      <td>1</td>\n",
       "      <td>152</td>\n",
       "      <td>0</td>\n",
       "      <td>15</td>\n",
       "      <td>Weekday</td>\n",
       "      <td>early</td>\n",
       "    </tr>\n",
       "    <tr>\n",
       "      <td>2</td>\n",
       "      <td>4</td>\n",
       "      <td>2</td>\n",
       "      <td>4</td>\n",
       "      <td>150</td>\n",
       "      <td>0</td>\n",
       "      <td>16</td>\n",
       "      <td>Weekday</td>\n",
       "      <td>early</td>\n",
       "    </tr>\n",
       "    <tr>\n",
       "      <td>3</td>\n",
       "      <td>6</td>\n",
       "      <td>2</td>\n",
       "      <td>4</td>\n",
       "      <td>131</td>\n",
       "      <td>0</td>\n",
       "      <td>13</td>\n",
       "      <td>Weekday</td>\n",
       "      <td>early</td>\n",
       "    </tr>\n",
       "    <tr>\n",
       "      <td>4</td>\n",
       "      <td>5</td>\n",
       "      <td>6</td>\n",
       "      <td>4</td>\n",
       "      <td>164</td>\n",
       "      <td>0</td>\n",
       "      <td>18</td>\n",
       "      <td>Weekday</td>\n",
       "      <td>early</td>\n",
       "    </tr>\n",
       "  </tbody>\n",
       "</table>\n",
       "</div>"
      ],
      "text/plain": [
       "   Dptr Hour  Length of Flight (Hrs) Day of Week  Passengers Boarded  \\\n",
       "0          8                       1           2                 144   \n",
       "1          5                       3           1                 152   \n",
       "2          4                       2           4                 150   \n",
       "3          6                       2           4                 131   \n",
       "4          5                       6           4                 164   \n",
       "\n",
       "   Stock Out Occurred  Cheese Platters Sold Week Part Hour Class  \n",
       "0                   0                    18   Weekday     midday  \n",
       "1                   0                    15   Weekday      early  \n",
       "2                   0                    16   Weekday      early  \n",
       "3                   0                    13   Weekday      early  \n",
       "4                   0                    18   Weekday      early  "
      ]
     },
     "execution_count": 278,
     "metadata": {},
     "output_type": "execute_result"
    }
   ],
   "source": [
    "df4=df2\n",
    "df4.head()"
   ]
  },
  {
   "cell_type": "code",
   "execution_count": 279,
   "metadata": {},
   "outputs": [
    {
     "data": {
      "text/plain": [
       "Dptr Hour                  int64\n",
       "Length of Flight (Hrs)     int64\n",
       "Day of Week               object\n",
       "Passengers Boarded         int64\n",
       "Stock Out Occurred         int64\n",
       "Cheese Platters Sold       int64\n",
       "Week Part                 object\n",
       "Hour Class                object\n",
       "dtype: object"
      ]
     },
     "execution_count": 279,
     "metadata": {},
     "output_type": "execute_result"
    }
   ],
   "source": [
    "df4.dtypes"
   ]
  },
  {
   "cell_type": "code",
   "execution_count": 280,
   "metadata": {},
   "outputs": [],
   "source": [
    "time_class_dict={ 'early':[0, 7], 'midday':[8, 19],'night':[20,24]}\n",
    "\n",
    "def time_class_maker(value, time_class_dict=time_class_dict):\n",
    "        for k, v in time_class_dict.items():\n",
    "            if (value>=v[0] and value<=v[1]):\n",
    "                return(k)\n",
    "            elif value=='NaN':\n",
    "                return('unknown')# if time is null so it will return to string as 'unknown'"
   ]
  },
  {
   "cell_type": "code",
   "execution_count": 281,
   "metadata": {},
   "outputs": [],
   "source": [
    "df4['Dptr Hour']=df4['Dptr Hour'].astype(int)\n",
    "df4['Hour Class']=df4['Dptr Hour'].map(lambda x: time_class_maker(x))"
   ]
  },
  {
   "cell_type": "code",
   "execution_count": 282,
   "metadata": {},
   "outputs": [
    {
     "data": {
      "text/html": [
       "<div>\n",
       "<style scoped>\n",
       "    .dataframe tbody tr th:only-of-type {\n",
       "        vertical-align: middle;\n",
       "    }\n",
       "\n",
       "    .dataframe tbody tr th {\n",
       "        vertical-align: top;\n",
       "    }\n",
       "\n",
       "    .dataframe thead th {\n",
       "        text-align: right;\n",
       "    }\n",
       "</style>\n",
       "<table border=\"1\" class=\"dataframe\">\n",
       "  <thead>\n",
       "    <tr style=\"text-align: right;\">\n",
       "      <th></th>\n",
       "      <th>Dptr Hour</th>\n",
       "      <th>Length of Flight (Hrs)</th>\n",
       "      <th>Day of Week</th>\n",
       "      <th>Passengers Boarded</th>\n",
       "      <th>Stock Out Occurred</th>\n",
       "      <th>Cheese Platters Sold</th>\n",
       "      <th>Week Part</th>\n",
       "      <th>Hour Class</th>\n",
       "    </tr>\n",
       "  </thead>\n",
       "  <tbody>\n",
       "    <tr>\n",
       "      <td>0</td>\n",
       "      <td>8</td>\n",
       "      <td>1</td>\n",
       "      <td>2</td>\n",
       "      <td>144</td>\n",
       "      <td>0</td>\n",
       "      <td>18</td>\n",
       "      <td>Weekday</td>\n",
       "      <td>midday</td>\n",
       "    </tr>\n",
       "    <tr>\n",
       "      <td>1</td>\n",
       "      <td>5</td>\n",
       "      <td>3</td>\n",
       "      <td>1</td>\n",
       "      <td>152</td>\n",
       "      <td>0</td>\n",
       "      <td>15</td>\n",
       "      <td>Weekday</td>\n",
       "      <td>early</td>\n",
       "    </tr>\n",
       "    <tr>\n",
       "      <td>2</td>\n",
       "      <td>4</td>\n",
       "      <td>2</td>\n",
       "      <td>4</td>\n",
       "      <td>150</td>\n",
       "      <td>0</td>\n",
       "      <td>16</td>\n",
       "      <td>Weekday</td>\n",
       "      <td>early</td>\n",
       "    </tr>\n",
       "    <tr>\n",
       "      <td>3</td>\n",
       "      <td>6</td>\n",
       "      <td>2</td>\n",
       "      <td>4</td>\n",
       "      <td>131</td>\n",
       "      <td>0</td>\n",
       "      <td>13</td>\n",
       "      <td>Weekday</td>\n",
       "      <td>early</td>\n",
       "    </tr>\n",
       "    <tr>\n",
       "      <td>4</td>\n",
       "      <td>5</td>\n",
       "      <td>6</td>\n",
       "      <td>4</td>\n",
       "      <td>164</td>\n",
       "      <td>0</td>\n",
       "      <td>18</td>\n",
       "      <td>Weekday</td>\n",
       "      <td>early</td>\n",
       "    </tr>\n",
       "  </tbody>\n",
       "</table>\n",
       "</div>"
      ],
      "text/plain": [
       "   Dptr Hour  Length of Flight (Hrs) Day of Week  Passengers Boarded  \\\n",
       "0          8                       1           2                 144   \n",
       "1          5                       3           1                 152   \n",
       "2          4                       2           4                 150   \n",
       "3          6                       2           4                 131   \n",
       "4          5                       6           4                 164   \n",
       "\n",
       "   Stock Out Occurred  Cheese Platters Sold Week Part Hour Class  \n",
       "0                   0                    18   Weekday     midday  \n",
       "1                   0                    15   Weekday      early  \n",
       "2                   0                    16   Weekday      early  \n",
       "3                   0                    13   Weekday      early  \n",
       "4                   0                    18   Weekday      early  "
      ]
     },
     "execution_count": 282,
     "metadata": {},
     "output_type": "execute_result"
    }
   ],
   "source": [
    "df4.head()"
   ]
  },
  {
   "cell_type": "code",
   "execution_count": 283,
   "metadata": {},
   "outputs": [
    {
     "data": {
      "text/plain": [
       "array([22, 21, 23, 24, 20])"
      ]
     },
     "execution_count": 283,
     "metadata": {},
     "output_type": "execute_result"
    }
   ],
   "source": [
    "df4[df4['Hour Class']=='night']['Dptr Hour'].unique()"
   ]
  },
  {
   "cell_type": "code",
   "execution_count": 284,
   "metadata": {},
   "outputs": [
    {
     "data": {
      "text/plain": [
       "array([5, 4, 6, 1, 3, 2, 0, 7])"
      ]
     },
     "execution_count": 284,
     "metadata": {},
     "output_type": "execute_result"
    }
   ],
   "source": [
    "df4[df4['Hour Class']=='early']['Dptr Hour'].unique()"
   ]
  },
  {
   "cell_type": "code",
   "execution_count": 285,
   "metadata": {},
   "outputs": [
    {
     "data": {
      "text/plain": [
       "array([ 8, 15, 19, 14, 10, 12, 18, 16, 13, 17,  9, 11])"
      ]
     },
     "execution_count": 285,
     "metadata": {},
     "output_type": "execute_result"
    }
   ],
   "source": [
    "df4[df4['Hour Class']=='midday']['Dptr Hour'].unique()"
   ]
  },
  {
   "cell_type": "code",
   "execution_count": 286,
   "metadata": {},
   "outputs": [
    {
     "data": {
      "text/plain": [
       "Dptr Hour                  int64\n",
       "Length of Flight (Hrs)     int64\n",
       "Day of Week               object\n",
       "Passengers Boarded         int64\n",
       "Stock Out Occurred         int64\n",
       "Cheese Platters Sold       int64\n",
       "Week Part                 object\n",
       "Hour Class                object\n",
       "dtype: object"
      ]
     },
     "execution_count": 286,
     "metadata": {},
     "output_type": "execute_result"
    }
   ],
   "source": [
    "df4.dtypes"
   ]
  },
  {
   "cell_type": "raw",
   "metadata": {},
   "source": [
    "target: 'Stock Out Occurred'\n",
    "categoric features:  'Week Part','Hour Class '\n",
    "numeric fetaures: 'Length of Flight (Hrs)','Passengers Boarded'\n",
    "    \n",
    "??? :'Cheese Platters Sold',\n",
    "not used: 'Dptr Hour',  'Day of Week',"
   ]
  },
  {
   "cell_type": "code",
   "execution_count": 287,
   "metadata": {},
   "outputs": [
    {
     "data": {
      "text/html": [
       "<div>\n",
       "<style scoped>\n",
       "    .dataframe tbody tr th:only-of-type {\n",
       "        vertical-align: middle;\n",
       "    }\n",
       "\n",
       "    .dataframe tbody tr th {\n",
       "        vertical-align: top;\n",
       "    }\n",
       "\n",
       "    .dataframe thead th {\n",
       "        text-align: right;\n",
       "    }\n",
       "</style>\n",
       "<table border=\"1\" class=\"dataframe\">\n",
       "  <thead>\n",
       "    <tr style=\"text-align: right;\">\n",
       "      <th></th>\n",
       "      <th>Length of Flight (Hrs)</th>\n",
       "      <th>Passengers Boarded</th>\n",
       "      <th>Stock Out Occurred</th>\n",
       "      <th>Week Part_Weekday</th>\n",
       "      <th>Week Part_Weekend</th>\n",
       "      <th>Hour Class_early</th>\n",
       "      <th>Hour Class_midday</th>\n",
       "      <th>Hour Class_night</th>\n",
       "    </tr>\n",
       "  </thead>\n",
       "  <tbody>\n",
       "    <tr>\n",
       "      <td>0</td>\n",
       "      <td>1</td>\n",
       "      <td>144</td>\n",
       "      <td>0</td>\n",
       "      <td>1</td>\n",
       "      <td>0</td>\n",
       "      <td>0</td>\n",
       "      <td>1</td>\n",
       "      <td>0</td>\n",
       "    </tr>\n",
       "    <tr>\n",
       "      <td>1</td>\n",
       "      <td>3</td>\n",
       "      <td>152</td>\n",
       "      <td>0</td>\n",
       "      <td>1</td>\n",
       "      <td>0</td>\n",
       "      <td>1</td>\n",
       "      <td>0</td>\n",
       "      <td>0</td>\n",
       "    </tr>\n",
       "    <tr>\n",
       "      <td>2</td>\n",
       "      <td>2</td>\n",
       "      <td>150</td>\n",
       "      <td>0</td>\n",
       "      <td>1</td>\n",
       "      <td>0</td>\n",
       "      <td>1</td>\n",
       "      <td>0</td>\n",
       "      <td>0</td>\n",
       "    </tr>\n",
       "    <tr>\n",
       "      <td>3</td>\n",
       "      <td>2</td>\n",
       "      <td>131</td>\n",
       "      <td>0</td>\n",
       "      <td>1</td>\n",
       "      <td>0</td>\n",
       "      <td>1</td>\n",
       "      <td>0</td>\n",
       "      <td>0</td>\n",
       "    </tr>\n",
       "    <tr>\n",
       "      <td>4</td>\n",
       "      <td>6</td>\n",
       "      <td>164</td>\n",
       "      <td>0</td>\n",
       "      <td>1</td>\n",
       "      <td>0</td>\n",
       "      <td>1</td>\n",
       "      <td>0</td>\n",
       "      <td>0</td>\n",
       "    </tr>\n",
       "  </tbody>\n",
       "</table>\n",
       "</div>"
      ],
      "text/plain": [
       "   Length of Flight (Hrs)  Passengers Boarded  Stock Out Occurred  \\\n",
       "0                       1                 144                   0   \n",
       "1                       3                 152                   0   \n",
       "2                       2                 150                   0   \n",
       "3                       2                 131                   0   \n",
       "4                       6                 164                   0   \n",
       "\n",
       "   Week Part_Weekday  Week Part_Weekend  Hour Class_early  Hour Class_midday  \\\n",
       "0                  1                  0                 0                  1   \n",
       "1                  1                  0                 1                  0   \n",
       "2                  1                  0                 1                  0   \n",
       "3                  1                  0                 1                  0   \n",
       "4                  1                  0                 1                  0   \n",
       "\n",
       "   Hour Class_night  \n",
       "0                 0  \n",
       "1                 0  \n",
       "2                 0  \n",
       "3                 0  \n",
       "4                 0  "
      ]
     },
     "execution_count": 287,
     "metadata": {},
     "output_type": "execute_result"
    }
   ],
   "source": [
    "df4=df4[['Week Part','Hour Class','Length of Flight (Hrs)',\n",
    "       'Passengers Boarded', 'Stock Out Occurred',]] \n",
    "df4=pd.get_dummies(df4)\n",
    "df4.head()"
   ]
  },
  {
   "cell_type": "code",
   "execution_count": 288,
   "metadata": {},
   "outputs": [
    {
     "data": {
      "text/plain": [
       "5"
      ]
     },
     "execution_count": 288,
     "metadata": {},
     "output_type": "execute_result"
    }
   ],
   "source": [
    "remove_list=['Stock Out Occurred','Week Part_Weekend','Hour Class_early']\n",
    "f_list=list(set(df4.columns)-set(remove_list))\n",
    "len(f_list)"
   ]
  },
  {
   "cell_type": "code",
   "execution_count": 289,
   "metadata": {},
   "outputs": [],
   "source": [
    "features=f_list\n",
    "X=df4[features]\n",
    "y=df4['Stock Out Occurred']"
   ]
  },
  {
   "cell_type": "code",
   "execution_count": 291,
   "metadata": {},
   "outputs": [],
   "source": [
    "X_train,X_test, y_train, y_test=train_test_split(X,y, test_size=0.25, random_state=42, stratify=y)"
   ]
  },
  {
   "cell_type": "code",
   "execution_count": 292,
   "metadata": {},
   "outputs": [
    {
     "name": "stdout",
     "output_type": "stream",
     "text": [
      "Warning: Maximum number of iterations has been exceeded.\n",
      "         Current function value: 0.402311\n",
      "         Iterations: 35\n",
      "                           Logit Regression Results                           \n",
      "==============================================================================\n",
      "Dep. Variable:     Stock Out Occurred   No. Observations:                 3750\n",
      "Model:                          Logit   Df Residuals:                     3745\n",
      "Method:                           MLE   Df Model:                            4\n",
      "Date:                Thu, 19 Mar 2020   Pseudo R-squ.:                  0.1252\n",
      "Time:                        22:57:00   Log-Likelihood:                -1508.7\n",
      "converged:                      False   LL-Null:                       -1724.6\n",
      "Covariance Type:            nonrobust   LLR p-value:                 3.784e-92\n",
      "==========================================================================================\n",
      "                             coef    std err          z      P>|z|      [0.025      0.975]\n",
      "------------------------------------------------------------------------------------------\n",
      "Length of Flight (Hrs)    -0.1657      0.025     -6.557      0.000      -0.215      -0.116\n",
      "Hour Class_night         -35.5072   5.82e+06   -6.1e-06      1.000   -1.14e+07    1.14e+07\n",
      "Passengers Boarded        -0.0116      0.001    -12.536      0.000      -0.013      -0.010\n",
      "Hour Class_midday          1.7256      0.108     16.043      0.000       1.515       1.936\n",
      "Week Part_Weekday         -0.1834      0.095     -1.925      0.054      -0.370       0.003\n",
      "==========================================================================================\n",
      "\n",
      "Possibly complete quasi-separation: A fraction 0.20 of observations can be\n",
      "perfectly predicted. This might indicate that there is complete\n",
      "quasi-separation. In this case some parameters will not be identified.\n"
     ]
    }
   ],
   "source": [
    "model=sm.Logit(y_train,X_train)\n",
    "result=model.fit()\n",
    "print(result.summary())"
   ]
  },
  {
   "cell_type": "code",
   "execution_count": null,
   "metadata": {},
   "outputs": [],
   "source": [
    "features=[]"
   ]
  },
  {
   "cell_type": "code",
   "execution_count": 173,
   "metadata": {},
   "outputs": [
    {
     "name": "stdout",
     "output_type": "stream",
     "text": [
      "train score: 0.968\n",
      "test score: 0.968\n"
     ]
    },
    {
     "data": {
      "text/html": [
       "<div>\n",
       "<style scoped>\n",
       "    .dataframe tbody tr th:only-of-type {\n",
       "        vertical-align: middle;\n",
       "    }\n",
       "\n",
       "    .dataframe tbody tr th {\n",
       "        vertical-align: top;\n",
       "    }\n",
       "\n",
       "    .dataframe thead th {\n",
       "        text-align: right;\n",
       "    }\n",
       "</style>\n",
       "<table border=\"1\" class=\"dataframe\">\n",
       "  <thead>\n",
       "    <tr style=\"text-align: right;\">\n",
       "      <th></th>\n",
       "      <th>coefficient</th>\n",
       "    </tr>\n",
       "  </thead>\n",
       "  <tbody>\n",
       "    <tr>\n",
       "      <td>Length of Flight (Hrs)</td>\n",
       "      <td>0.9439</td>\n",
       "    </tr>\n",
       "    <tr>\n",
       "      <td>Hour Class_night</td>\n",
       "      <td>-0.3512</td>\n",
       "    </tr>\n",
       "    <tr>\n",
       "      <td>Passengers Boarded</td>\n",
       "      <td>5.1426</td>\n",
       "    </tr>\n",
       "    <tr>\n",
       "      <td>Hour Class_midday</td>\n",
       "      <td>4.3569</td>\n",
       "    </tr>\n",
       "    <tr>\n",
       "      <td>Week Part_Weekday</td>\n",
       "      <td>1.1569</td>\n",
       "    </tr>\n",
       "  </tbody>\n",
       "</table>\n",
       "</div>"
      ],
      "text/plain": [
       "                        coefficient\n",
       "Length of Flight (Hrs)       0.9439\n",
       "Hour Class_night            -0.3512\n",
       "Passengers Boarded           5.1426\n",
       "Hour Class_midday            4.3569\n",
       "Week Part_Weekday            1.1569"
      ]
     },
     "execution_count": 173,
     "metadata": {},
     "output_type": "execute_result"
    }
   ],
   "source": [
    "logreg_class=LogisticRegression()\n",
    "\n",
    "print (f'train score: {process_model(logreg_class,X_train).round(4)}')\n",
    "print (f'test score: {process_test(logreg_class,X_test)}')\n",
    "coefficients(logreg_class,X_train)"
   ]
  },
  {
   "cell_type": "code",
   "execution_count": 175,
   "metadata": {},
   "outputs": [
    {
     "data": {
      "text/plain": [
       "Dptr Hour                  11.9098\n",
       "Length of Flight (Hrs)      3.4572\n",
       "Day of Week                    inf\n",
       "Passengers Boarded        138.1888\n",
       "Stock Out Occurred          0.1726\n",
       "Cheese Platters Sold       15.8474\n",
       "dtype: float64"
      ]
     },
     "execution_count": 175,
     "metadata": {},
     "output_type": "execute_result"
    }
   ],
   "source": [
    "df.mean()"
   ]
  },
  {
   "cell_type": "code",
   "execution_count": 176,
   "metadata": {},
   "outputs": [
    {
     "data": {
      "text/plain": [
       "1.240459012896346"
      ]
     },
     "execution_count": 176,
     "metadata": {},
     "output_type": "execute_result"
    }
   ],
   "source": [
    "np.log(3.4572)"
   ]
  },
  {
   "cell_type": "code",
   "execution_count": 177,
   "metadata": {},
   "outputs": [
    {
     "data": {
      "text/html": [
       "<div>\n",
       "<style scoped>\n",
       "    .dataframe tbody tr th:only-of-type {\n",
       "        vertical-align: middle;\n",
       "    }\n",
       "\n",
       "    .dataframe tbody tr th {\n",
       "        vertical-align: top;\n",
       "    }\n",
       "\n",
       "    .dataframe thead th {\n",
       "        text-align: right;\n",
       "    }\n",
       "</style>\n",
       "<table border=\"1\" class=\"dataframe\">\n",
       "  <thead>\n",
       "    <tr style=\"text-align: right;\">\n",
       "      <th></th>\n",
       "      <th></th>\n",
       "    </tr>\n",
       "    <tr>\n",
       "      <th></th>\n",
       "      <th>Stock Out Occurred</th>\n",
       "    </tr>\n",
       "  </thead>\n",
       "  <tbody>\n",
       "    <tr>\n",
       "      <td rowspan=\"5\" valign=\"top\">0</td>\n",
       "      <td>0</td>\n",
       "    </tr>\n",
       "    <tr>\n",
       "      <td>0</td>\n",
       "    </tr>\n",
       "    <tr>\n",
       "      <td>0</td>\n",
       "    </tr>\n",
       "    <tr>\n",
       "      <td>0</td>\n",
       "    </tr>\n",
       "    <tr>\n",
       "      <td>0</td>\n",
       "    </tr>\n",
       "    <tr>\n",
       "      <td>...</td>\n",
       "      <td>...</td>\n",
       "    </tr>\n",
       "    <tr>\n",
       "      <td>1</td>\n",
       "      <td>1</td>\n",
       "    </tr>\n",
       "    <tr>\n",
       "      <td rowspan=\"4\" valign=\"top\">0</td>\n",
       "      <td>0</td>\n",
       "    </tr>\n",
       "    <tr>\n",
       "      <td>0</td>\n",
       "    </tr>\n",
       "    <tr>\n",
       "      <td>0</td>\n",
       "    </tr>\n",
       "    <tr>\n",
       "      <td>0</td>\n",
       "    </tr>\n",
       "  </tbody>\n",
       "</table>\n",
       "<p>1250 rows × 0 columns</p>\n",
       "</div>"
      ],
      "text/plain": [
       "Empty DataFrame\n",
       "Columns: []\n",
       "Index: [(0, 0), (0, 0), (0, 0), (0, 0), (0, 0), (0, 0), (0, 0), (0, 0), (0, 1), (1, 1), (0, 0), (0, 0), (0, 0), (0, 0), (0, 1), (0, 0), (0, 0), (0, 0), (0, 0), (1, 0), (0, 0), (0, 0), (0, 0), (0, 0), (0, 0), (0, 0), (0, 0), (0, 0), (0, 0), (0, 0), (0, 0), (0, 0), (1, 1), (0, 0), (0, 0), (0, 0), (0, 0), (0, 0), (0, 0), (0, 0), (0, 0), (0, 0), (0, 0), (0, 0), (0, 0), (1, 1), (0, 0), (0, 0), (0, 0), (0, 0), (0, 0), (0, 0), (0, 0), (0, 1), (0, 0), (1, 1), (0, 0), (1, 1), (0, 0), (0, 0), (0, 0), (0, 0), (0, 0), (1, 1), (0, 0), (1, 1), (0, 0), (0, 0), (0, 0), (1, 1), (0, 0), (1, 1), (0, 0), (0, 0), (0, 0), (0, 0), (0, 0), (0, 0), (0, 0), (0, 0), (0, 0), (0, 0), (0, 0), (0, 0), (0, 0), (0, 0), (0, 0), (0, 0), (0, 0), (0, 0), (0, 0), (0, 0), (0, 0), (0, 0), (0, 0), (0, 0), (0, 0), (1, 1), (1, 1), (0, 0), ...]\n",
       "\n",
       "[1250 rows x 0 columns]"
      ]
     },
     "execution_count": 177,
     "metadata": {},
     "output_type": "execute_result"
    }
   ],
   "source": [
    "ss=StandardScaler()\n",
    "X_test_sc=ss.fit_transform(X_test)\n",
    "\n",
    "x=pd.DataFrame(columns=[logreg_class.predict(X_test_sc).round(), y_test]).T\n",
    "# x.rename(columns={'':'predict','Cheese Platters Sold':'y_test'}, inplace=True)\n",
    "x"
   ]
  },
  {
   "cell_type": "code",
   "execution_count": 180,
   "metadata": {},
   "outputs": [
    {
     "data": {
      "text/plain": [
       "0.968"
      ]
     },
     "execution_count": 180,
     "metadata": {},
     "output_type": "execute_result"
    }
   ],
   "source": [
    "accuracy_score(y_test, logreg_class.predict(X_test_sc))"
   ]
  },
  {
   "cell_type": "markdown",
   "metadata": {},
   "source": [
    "## Model 2- Predict Non Stock Out Sales - Multi Linear Regression"
   ]
  },
  {
   "cell_type": "markdown",
   "metadata": {},
   "source": [
    "### Model-2A"
   ]
  },
  {
   "cell_type": "code",
   "execution_count": 182,
   "metadata": {},
   "outputs": [],
   "source": [
    "from scipy.stats import skew\n",
    "from sklearn.linear_model import LinearRegression"
   ]
  },
  {
   "cell_type": "code",
   "execution_count": 233,
   "metadata": {
    "scrolled": true
   },
   "outputs": [
    {
     "data": {
      "text/html": [
       "<div>\n",
       "<style scoped>\n",
       "    .dataframe tbody tr th:only-of-type {\n",
       "        vertical-align: middle;\n",
       "    }\n",
       "\n",
       "    .dataframe tbody tr th {\n",
       "        vertical-align: top;\n",
       "    }\n",
       "\n",
       "    .dataframe thead th {\n",
       "        text-align: right;\n",
       "    }\n",
       "</style>\n",
       "<table border=\"1\" class=\"dataframe\">\n",
       "  <thead>\n",
       "    <tr style=\"text-align: right;\">\n",
       "      <th></th>\n",
       "      <th>Dptr Hour</th>\n",
       "      <th>Length of Flight (Hrs)</th>\n",
       "      <th>Day of Week</th>\n",
       "      <th>Passengers Boarded</th>\n",
       "      <th>Stock Out Occurred</th>\n",
       "      <th>Cheese Platters Sold</th>\n",
       "      <th>Week Part</th>\n",
       "      <th>Hour Class</th>\n",
       "    </tr>\n",
       "  </thead>\n",
       "  <tbody>\n",
       "    <tr>\n",
       "      <td>0</td>\n",
       "      <td>8</td>\n",
       "      <td>1</td>\n",
       "      <td>2</td>\n",
       "      <td>144</td>\n",
       "      <td>0</td>\n",
       "      <td>18</td>\n",
       "      <td>Weekday</td>\n",
       "      <td>midday</td>\n",
       "    </tr>\n",
       "    <tr>\n",
       "      <td>1</td>\n",
       "      <td>5</td>\n",
       "      <td>3</td>\n",
       "      <td>1</td>\n",
       "      <td>152</td>\n",
       "      <td>0</td>\n",
       "      <td>15</td>\n",
       "      <td>Weekday</td>\n",
       "      <td>early</td>\n",
       "    </tr>\n",
       "    <tr>\n",
       "      <td>2</td>\n",
       "      <td>4</td>\n",
       "      <td>2</td>\n",
       "      <td>4</td>\n",
       "      <td>150</td>\n",
       "      <td>0</td>\n",
       "      <td>16</td>\n",
       "      <td>Weekday</td>\n",
       "      <td>early</td>\n",
       "    </tr>\n",
       "    <tr>\n",
       "      <td>3</td>\n",
       "      <td>6</td>\n",
       "      <td>2</td>\n",
       "      <td>4</td>\n",
       "      <td>131</td>\n",
       "      <td>0</td>\n",
       "      <td>13</td>\n",
       "      <td>Weekday</td>\n",
       "      <td>early</td>\n",
       "    </tr>\n",
       "    <tr>\n",
       "      <td>4</td>\n",
       "      <td>5</td>\n",
       "      <td>6</td>\n",
       "      <td>4</td>\n",
       "      <td>164</td>\n",
       "      <td>0</td>\n",
       "      <td>18</td>\n",
       "      <td>Weekday</td>\n",
       "      <td>early</td>\n",
       "    </tr>\n",
       "  </tbody>\n",
       "</table>\n",
       "</div>"
      ],
      "text/plain": [
       "   Dptr Hour  Length of Flight (Hrs) Day of Week  Passengers Boarded  \\\n",
       "0          8                       1           2                 144   \n",
       "1          5                       3           1                 152   \n",
       "2          4                       2           4                 150   \n",
       "3          6                       2           4                 131   \n",
       "4          5                       6           4                 164   \n",
       "\n",
       "   Stock Out Occurred  Cheese Platters Sold Week Part Hour Class  \n",
       "0                   0                    18   Weekday     midday  \n",
       "1                   0                    15   Weekday      early  \n",
       "2                   0                    16   Weekday      early  \n",
       "3                   0                    13   Weekday      early  \n",
       "4                   0                    18   Weekday      early  "
      ]
     },
     "execution_count": 233,
     "metadata": {},
     "output_type": "execute_result"
    }
   ],
   "source": [
    "df5=df2[df2['Stock Out Occurred']==0]\n",
    "df5.head()"
   ]
  },
  {
   "cell_type": "code",
   "execution_count": 234,
   "metadata": {},
   "outputs": [
    {
     "data": {
      "text/plain": [
       "<matplotlib.axes._subplots.AxesSubplot at 0x1c29c84990>"
      ]
     },
     "execution_count": 234,
     "metadata": {},
     "output_type": "execute_result"
    },
    {
     "data": {
      "image/png": "[encoded data removed]",
      "text/plain": [
       "<Figure size 432x288 with 1 Axes>"
      ]
     },
     "metadata": {
      "needs_background": "light"
     },
     "output_type": "display_data"
    }
   ],
   "source": [
    "sns.distplot(np.log(df5['Cheese Platters Sold']), kde=False)"
   ]
  },
  {
   "cell_type": "code",
   "execution_count": 235,
   "metadata": {},
   "outputs": [
    {
     "data": {
      "text/plain": [
       "-0.38587884124418304"
      ]
     },
     "execution_count": 235,
     "metadata": {},
     "output_type": "execute_result"
    }
   ],
   "source": [
    "skew(df5['Cheese Platters Sold'])"
   ]
  },
  {
   "cell_type": "code",
   "execution_count": 236,
   "metadata": {},
   "outputs": [
    {
     "data": {
      "text/plain": [
       "-0.8851493710207807"
      ]
     },
     "execution_count": 236,
     "metadata": {},
     "output_type": "execute_result"
    }
   ],
   "source": [
    "skew(np.log(df5['Cheese Platters Sold']))"
   ]
  },
  {
   "cell_type": "code",
   "execution_count": 237,
   "metadata": {},
   "outputs": [
    {
     "data": {
      "text/plain": [
       "-0.6129955952351255"
      ]
     },
     "execution_count": 237,
     "metadata": {},
     "output_type": "execute_result"
    }
   ],
   "source": [
    "skew(np.sqrt(df5['Cheese Platters Sold']))"
   ]
  },
  {
   "cell_type": "markdown",
   "metadata": {},
   "source": [
    "#### Normalize the graph"
   ]
  },
  {
   "cell_type": "code",
   "execution_count": 238,
   "metadata": {},
   "outputs": [],
   "source": [
    "m=max(df5['Cheese Platters Sold'])\n",
    "reflected_val=1+m-df5['Cheese Platters Sold']"
   ]
  },
  {
   "cell_type": "code",
   "execution_count": 239,
   "metadata": {},
   "outputs": [
    {
     "data": {
      "text/plain": [
       "0.38587884124418304"
      ]
     },
     "execution_count": 239,
     "metadata": {},
     "output_type": "execute_result"
    }
   ],
   "source": [
    "skew(reflected_val)"
   ]
  },
  {
   "cell_type": "code",
   "execution_count": 240,
   "metadata": {},
   "outputs": [
    {
     "data": {
      "text/plain": [
       "-0.8293116307612521"
      ]
     },
     "execution_count": 240,
     "metadata": {},
     "output_type": "execute_result"
    }
   ],
   "source": [
    "skew(np.log(reflected_val))"
   ]
  },
  {
   "cell_type": "code",
   "execution_count": 241,
   "metadata": {},
   "outputs": [
    {
     "data": {
      "text/plain": [
       "-0.19661147603209594"
      ]
     },
     "execution_count": 241,
     "metadata": {},
     "output_type": "execute_result"
    }
   ],
   "source": [
    "skew(np.sqrt(reflected_val))"
   ]
  },
  {
   "cell_type": "code",
   "execution_count": 242,
   "metadata": {
    "scrolled": true
   },
   "outputs": [
    {
     "data": {
      "text/plain": [
       "<matplotlib.axes._subplots.AxesSubplot at 0x1c2aa14610>"
      ]
     },
     "execution_count": 242,
     "metadata": {},
     "output_type": "execute_result"
    },
    {
     "data": {
      "image/png": "[encoded data removed]",
      "text/plain": [
       "<Figure size 432x288 with 1 Axes>"
      ]
     },
     "metadata": {
      "needs_background": "light"
     },
     "output_type": "display_data"
    }
   ],
   "source": [
    "sns.distplot(reflected_val, kde=False)"
   ]
  },
  {
   "cell_type": "code",
   "execution_count": 243,
   "metadata": {},
   "outputs": [
    {
     "data": {
      "text/plain": [
       "<matplotlib.axes._subplots.AxesSubplot at 0x1c2965cd90>"
      ]
     },
     "execution_count": 243,
     "metadata": {},
     "output_type": "execute_result"
    },
    {
     "data": {
      "image/png": "[encoded data removed]",
      "text/plain": [
       "<Figure size 432x288 with 1 Axes>"
      ]
     },
     "metadata": {
      "needs_background": "light"
     },
     "output_type": "display_data"
    }
   ],
   "source": [
    "sns.distplot(np.sqrt(reflected_val), kde=False)"
   ]
  },
  {
   "cell_type": "code",
   "execution_count": 244,
   "metadata": {
    "scrolled": true
   },
   "outputs": [
    {
     "data": {
      "text/html": [
       "<div>\n",
       "<style scoped>\n",
       "    .dataframe tbody tr th:only-of-type {\n",
       "        vertical-align: middle;\n",
       "    }\n",
       "\n",
       "    .dataframe tbody tr th {\n",
       "        vertical-align: top;\n",
       "    }\n",
       "\n",
       "    .dataframe thead th {\n",
       "        text-align: right;\n",
       "    }\n",
       "</style>\n",
       "<table border=\"1\" class=\"dataframe\">\n",
       "  <thead>\n",
       "    <tr style=\"text-align: right;\">\n",
       "      <th></th>\n",
       "      <th>Dptr Hour</th>\n",
       "      <th>Length of Flight (Hrs)</th>\n",
       "      <th>Day of Week</th>\n",
       "      <th>Passengers Boarded</th>\n",
       "      <th>Stock Out Occurred</th>\n",
       "      <th>Cheese Platters Sold</th>\n",
       "      <th>Week Part</th>\n",
       "      <th>Hour Class</th>\n",
       "    </tr>\n",
       "  </thead>\n",
       "  <tbody>\n",
       "    <tr>\n",
       "      <td>0</td>\n",
       "      <td>8</td>\n",
       "      <td>1</td>\n",
       "      <td>2</td>\n",
       "      <td>144</td>\n",
       "      <td>0</td>\n",
       "      <td>18</td>\n",
       "      <td>Weekday</td>\n",
       "      <td>midday</td>\n",
       "    </tr>\n",
       "    <tr>\n",
       "      <td>1</td>\n",
       "      <td>5</td>\n",
       "      <td>3</td>\n",
       "      <td>1</td>\n",
       "      <td>152</td>\n",
       "      <td>0</td>\n",
       "      <td>15</td>\n",
       "      <td>Weekday</td>\n",
       "      <td>early</td>\n",
       "    </tr>\n",
       "    <tr>\n",
       "      <td>2</td>\n",
       "      <td>4</td>\n",
       "      <td>2</td>\n",
       "      <td>4</td>\n",
       "      <td>150</td>\n",
       "      <td>0</td>\n",
       "      <td>16</td>\n",
       "      <td>Weekday</td>\n",
       "      <td>early</td>\n",
       "    </tr>\n",
       "    <tr>\n",
       "      <td>3</td>\n",
       "      <td>6</td>\n",
       "      <td>2</td>\n",
       "      <td>4</td>\n",
       "      <td>131</td>\n",
       "      <td>0</td>\n",
       "      <td>13</td>\n",
       "      <td>Weekday</td>\n",
       "      <td>early</td>\n",
       "    </tr>\n",
       "    <tr>\n",
       "      <td>4</td>\n",
       "      <td>5</td>\n",
       "      <td>6</td>\n",
       "      <td>4</td>\n",
       "      <td>164</td>\n",
       "      <td>0</td>\n",
       "      <td>18</td>\n",
       "      <td>Weekday</td>\n",
       "      <td>early</td>\n",
       "    </tr>\n",
       "  </tbody>\n",
       "</table>\n",
       "</div>"
      ],
      "text/plain": [
       "   Dptr Hour  Length of Flight (Hrs) Day of Week  Passengers Boarded  \\\n",
       "0          8                       1           2                 144   \n",
       "1          5                       3           1                 152   \n",
       "2          4                       2           4                 150   \n",
       "3          6                       2           4                 131   \n",
       "4          5                       6           4                 164   \n",
       "\n",
       "   Stock Out Occurred  Cheese Platters Sold Week Part Hour Class  \n",
       "0                   0                    18   Weekday     midday  \n",
       "1                   0                    15   Weekday      early  \n",
       "2                   0                    16   Weekday      early  \n",
       "3                   0                    13   Weekday      early  \n",
       "4                   0                    18   Weekday      early  "
      ]
     },
     "execution_count": 244,
     "metadata": {},
     "output_type": "execute_result"
    }
   ],
   "source": [
    "df5.head()"
   ]
  },
  {
   "cell_type": "code",
   "execution_count": 245,
   "metadata": {},
   "outputs": [
    {
     "data": {
      "text/plain": [
       "Dptr Hour                  int64\n",
       "Length of Flight (Hrs)     int64\n",
       "Day of Week               object\n",
       "Passengers Boarded         int64\n",
       "Stock Out Occurred         int64\n",
       "Cheese Platters Sold       int64\n",
       "Week Part                 object\n",
       "Hour Class                object\n",
       "dtype: object"
      ]
     },
     "execution_count": 245,
     "metadata": {},
     "output_type": "execute_result"
    }
   ],
   "source": [
    "df5.dtypes"
   ]
  },
  {
   "cell_type": "code",
   "execution_count": 246,
   "metadata": {},
   "outputs": [
    {
     "ename": "SyntaxError",
     "evalue": "invalid syntax (<ipython-input-246-cdad3a0fe90b>, line 2)",
     "output_type": "error",
     "traceback": [
      "\u001b[0;36m  File \u001b[0;32m\"<ipython-input-246-cdad3a0fe90b>\"\u001b[0;36m, line \u001b[0;32m2\u001b[0m\n\u001b[0;31m    categoric features:  'Week Part','Hour Class '\u001b[0m\n\u001b[0m                     ^\u001b[0m\n\u001b[0;31mSyntaxError\u001b[0m\u001b[0;31m:\u001b[0m invalid syntax\n"
     ]
    }
   ],
   "source": [
    "target: 'Cheese Platters Sold'\n",
    "categoric features:  'Week Part','Hour Class '\n",
    "numeric fetaures: 'Length of Flight (Hrs)','Passengers Boarded'\n",
    "    \n",
    "??? :'Stock Out Occurred'\n",
    "not used: 'Dptr Hour',  'Day of Week',"
   ]
  },
  {
   "cell_type": "code",
   "execution_count": 247,
   "metadata": {},
   "outputs": [
    {
     "data": {
      "text/html": [
       "<div>\n",
       "<style scoped>\n",
       "    .dataframe tbody tr th:only-of-type {\n",
       "        vertical-align: middle;\n",
       "    }\n",
       "\n",
       "    .dataframe tbody tr th {\n",
       "        vertical-align: top;\n",
       "    }\n",
       "\n",
       "    .dataframe thead th {\n",
       "        text-align: right;\n",
       "    }\n",
       "</style>\n",
       "<table border=\"1\" class=\"dataframe\">\n",
       "  <thead>\n",
       "    <tr style=\"text-align: right;\">\n",
       "      <th></th>\n",
       "      <th>Length of Flight (Hrs)</th>\n",
       "      <th>Passengers Boarded</th>\n",
       "      <th>Cheese Platters Sold</th>\n",
       "      <th>Week Part_Weekday</th>\n",
       "      <th>Week Part_Weekend</th>\n",
       "      <th>Hour Class_early</th>\n",
       "      <th>Hour Class_midday</th>\n",
       "      <th>Hour Class_night</th>\n",
       "    </tr>\n",
       "  </thead>\n",
       "  <tbody>\n",
       "    <tr>\n",
       "      <td>0</td>\n",
       "      <td>1</td>\n",
       "      <td>144</td>\n",
       "      <td>18</td>\n",
       "      <td>1</td>\n",
       "      <td>0</td>\n",
       "      <td>0</td>\n",
       "      <td>1</td>\n",
       "      <td>0</td>\n",
       "    </tr>\n",
       "    <tr>\n",
       "      <td>1</td>\n",
       "      <td>3</td>\n",
       "      <td>152</td>\n",
       "      <td>15</td>\n",
       "      <td>1</td>\n",
       "      <td>0</td>\n",
       "      <td>1</td>\n",
       "      <td>0</td>\n",
       "      <td>0</td>\n",
       "    </tr>\n",
       "    <tr>\n",
       "      <td>2</td>\n",
       "      <td>2</td>\n",
       "      <td>150</td>\n",
       "      <td>16</td>\n",
       "      <td>1</td>\n",
       "      <td>0</td>\n",
       "      <td>1</td>\n",
       "      <td>0</td>\n",
       "      <td>0</td>\n",
       "    </tr>\n",
       "    <tr>\n",
       "      <td>3</td>\n",
       "      <td>2</td>\n",
       "      <td>131</td>\n",
       "      <td>13</td>\n",
       "      <td>1</td>\n",
       "      <td>0</td>\n",
       "      <td>1</td>\n",
       "      <td>0</td>\n",
       "      <td>0</td>\n",
       "    </tr>\n",
       "    <tr>\n",
       "      <td>4</td>\n",
       "      <td>6</td>\n",
       "      <td>164</td>\n",
       "      <td>18</td>\n",
       "      <td>1</td>\n",
       "      <td>0</td>\n",
       "      <td>1</td>\n",
       "      <td>0</td>\n",
       "      <td>0</td>\n",
       "    </tr>\n",
       "  </tbody>\n",
       "</table>\n",
       "</div>"
      ],
      "text/plain": [
       "   Length of Flight (Hrs)  Passengers Boarded  Cheese Platters Sold  \\\n",
       "0                       1                 144                    18   \n",
       "1                       3                 152                    15   \n",
       "2                       2                 150                    16   \n",
       "3                       2                 131                    13   \n",
       "4                       6                 164                    18   \n",
       "\n",
       "   Week Part_Weekday  Week Part_Weekend  Hour Class_early  Hour Class_midday  \\\n",
       "0                  1                  0                 0                  1   \n",
       "1                  1                  0                 1                  0   \n",
       "2                  1                  0                 1                  0   \n",
       "3                  1                  0                 1                  0   \n",
       "4                  1                  0                 1                  0   \n",
       "\n",
       "   Hour Class_night  \n",
       "0                 0  \n",
       "1                 0  \n",
       "2                 0  \n",
       "3                 0  \n",
       "4                 0  "
      ]
     },
     "execution_count": 247,
     "metadata": {},
     "output_type": "execute_result"
    }
   ],
   "source": [
    "df5=df5[['Week Part','Hour Class','Length of Flight (Hrs)',\n",
    "       'Passengers Boarded', 'Cheese Platters Sold']] #\n",
    "df5=pd.get_dummies(df5)\n",
    "df5.head()"
   ]
  },
  {
   "cell_type": "code",
   "execution_count": 248,
   "metadata": {},
   "outputs": [
    {
     "data": {
      "text/plain": [
       "Index(['Length of Flight (Hrs)', 'Passengers Boarded', 'Cheese Platters Sold',\n",
       "       'Week Part_Weekday', 'Week Part_Weekend', 'Hour Class_early',\n",
       "       'Hour Class_midday', 'Hour Class_night'],\n",
       "      dtype='object')"
      ]
     },
     "execution_count": 248,
     "metadata": {},
     "output_type": "execute_result"
    }
   ],
   "source": [
    "df5.columns"
   ]
  },
  {
   "cell_type": "code",
   "execution_count": 249,
   "metadata": {},
   "outputs": [
    {
     "data": {
      "text/plain": [
       "5"
      ]
     },
     "execution_count": 249,
     "metadata": {},
     "output_type": "execute_result"
    }
   ],
   "source": [
    "remove_list=['Cheese Platters Sold','Week Part_Weekend','Hour Class_night']#'Hour Class_early'\n",
    "f_list=list(set(df5.columns)-set(remove_list))\n",
    "len(f_list)"
   ]
  },
  {
   "cell_type": "code",
   "execution_count": 250,
   "metadata": {},
   "outputs": [],
   "source": [
    "features=f_list\n",
    "X=df5[features]\n",
    "y=df5['Cheese Platters Sold']\n",
    "# y=np.sqrt(df5['Cheese Platters Sold'])"
   ]
  },
  {
   "cell_type": "code",
   "execution_count": 251,
   "metadata": {},
   "outputs": [],
   "source": [
    "X_train,X_test, y_train, y_test=train_test_split(X,y, test_size=0.25, random_state=42)\n",
    "linModel=LinearRegression()"
   ]
  },
  {
   "cell_type": "code",
   "execution_count": 252,
   "metadata": {},
   "outputs": [],
   "source": [
    "def summary_linear(model):\n",
    "    model=sm.OLS(y_train,X_train)\n",
    "    result=model.fit()\n",
    "    print(result.summary())"
   ]
  },
  {
   "cell_type": "code",
   "execution_count": 253,
   "metadata": {},
   "outputs": [
    {
     "name": "stdout",
     "output_type": "stream",
     "text": [
      "train score: 0.9197\n",
      "test score: 0.9133\n"
     ]
    }
   ],
   "source": [
    "print (f'train score: {process_model(linModel,X_train).round(4)}')\n",
    "print (f'test score: {process_test(linModel,X_test)}')"
   ]
  },
  {
   "cell_type": "code",
   "execution_count": 254,
   "metadata": {
    "scrolled": true
   },
   "outputs": [
    {
     "data": {
      "text/html": [
       "<div>\n",
       "<style scoped>\n",
       "    .dataframe tbody tr th:only-of-type {\n",
       "        vertical-align: middle;\n",
       "    }\n",
       "\n",
       "    .dataframe tbody tr th {\n",
       "        vertical-align: top;\n",
       "    }\n",
       "\n",
       "    .dataframe thead th {\n",
       "        text-align: right;\n",
       "    }\n",
       "</style>\n",
       "<table border=\"1\" class=\"dataframe\">\n",
       "  <thead>\n",
       "    <tr style=\"text-align: right;\">\n",
       "      <th></th>\n",
       "      <th>coefficient</th>\n",
       "    </tr>\n",
       "  </thead>\n",
       "  <tbody>\n",
       "    <tr>\n",
       "      <td>Length of Flight (Hrs)</td>\n",
       "      <td>0.41</td>\n",
       "    </tr>\n",
       "    <tr>\n",
       "      <td>Hour Class_early</td>\n",
       "      <td>-0.03</td>\n",
       "    </tr>\n",
       "    <tr>\n",
       "      <td>Passengers Boarded</td>\n",
       "      <td>2.27</td>\n",
       "    </tr>\n",
       "    <tr>\n",
       "      <td>Hour Class_midday</td>\n",
       "      <td>1.78</td>\n",
       "    </tr>\n",
       "    <tr>\n",
       "      <td>Week Part_Weekday</td>\n",
       "      <td>0.58</td>\n",
       "    </tr>\n",
       "  </tbody>\n",
       "</table>\n",
       "</div>"
      ],
      "text/plain": [
       "                        coefficient\n",
       "Length of Flight (Hrs)         0.41\n",
       "Hour Class_early              -0.03\n",
       "Passengers Boarded             2.27\n",
       "Hour Class_midday              1.78\n",
       "Week Part_Weekday              0.58"
      ]
     },
     "execution_count": 254,
     "metadata": {},
     "output_type": "execute_result"
    }
   ],
   "source": [
    "x=pd.DataFrame(linModel.coef_.round(2), index=X_train.columns)\n",
    "x=x.rename(columns={0:'coefficient'})\n",
    "x"
   ]
  },
  {
   "cell_type": "code",
   "execution_count": 257,
   "metadata": {},
   "outputs": [
    {
     "name": "stdout",
     "output_type": "stream",
     "text": [
      "                                  OLS Regression Results                                 \n",
      "=========================================================================================\n",
      "Dep. Variable:     Cheese Platters Sold   R-squared (uncentered):                   0.997\n",
      "Model:                              OLS   Adj. R-squared (uncentered):              0.997\n",
      "Method:                   Least Squares   F-statistic:                          2.286e+05\n",
      "Date:                  Thu, 19 Mar 2020   Prob (F-statistic):                        0.00\n",
      "Time:                          21:30:48   Log-Likelihood:                         -3669.6\n",
      "No. Observations:                  3102   AIC:                                      7349.\n",
      "Df Residuals:                      3097   BIC:                                      7379.\n",
      "Df Model:                             5                                                  \n",
      "Covariance Type:              nonrobust                                                  \n",
      "==========================================================================================\n",
      "                             coef    std err          t      P>|t|      [0.025      0.975]\n",
      "------------------------------------------------------------------------------------------\n",
      "Length of Flight (Hrs)     0.1836      0.008     23.054      0.000       0.168       0.199\n",
      "Hour Class_early          -0.2425      0.036     -6.796      0.000      -0.312      -0.173\n",
      "Passengers Boarded         0.0935      0.000    315.550      0.000       0.093       0.094\n",
      "Hour Class_midday          3.3134      0.034     96.078      0.000       3.246       3.381\n",
      "Week Part_Weekday          1.0835      0.030     36.041      0.000       1.025       1.142\n",
      "==============================================================================\n",
      "Omnibus:                        1.243   Durbin-Watson:                   2.002\n",
      "Prob(Omnibus):                  0.537   Jarque-Bera (JB):                1.172\n",
      "Skew:                          -0.035   Prob(JB):                        0.556\n",
      "Kurtosis:                       3.064   Cond. No.                         420.\n",
      "==============================================================================\n",
      "\n",
      "Warnings:\n",
      "[1] Standard Errors assume that the covariance matrix of the errors is correctly specified.\n"
     ]
    }
   ],
   "source": [
    "summary_linear(linModel)"
   ]
  },
  {
   "cell_type": "code",
   "execution_count": 258,
   "metadata": {},
   "outputs": [
    {
     "data": {
      "text/html": [
       "<div>\n",
       "<style scoped>\n",
       "    .dataframe tbody tr th:only-of-type {\n",
       "        vertical-align: middle;\n",
       "    }\n",
       "\n",
       "    .dataframe tbody tr th {\n",
       "        vertical-align: top;\n",
       "    }\n",
       "\n",
       "    .dataframe thead th {\n",
       "        text-align: right;\n",
       "    }\n",
       "</style>\n",
       "<table border=\"1\" class=\"dataframe\">\n",
       "  <thead>\n",
       "    <tr style=\"text-align: right;\">\n",
       "      <th></th>\n",
       "      <th></th>\n",
       "    </tr>\n",
       "    <tr>\n",
       "      <th></th>\n",
       "      <th>Cheese Platters Sold</th>\n",
       "    </tr>\n",
       "  </thead>\n",
       "  <tbody>\n",
       "    <tr>\n",
       "      <td>13.0</td>\n",
       "      <td>13</td>\n",
       "    </tr>\n",
       "    <tr>\n",
       "      <td>14.0</td>\n",
       "      <td>14</td>\n",
       "    </tr>\n",
       "    <tr>\n",
       "      <td>17.0</td>\n",
       "      <td>16</td>\n",
       "    </tr>\n",
       "    <tr>\n",
       "      <td>14.0</td>\n",
       "      <td>14</td>\n",
       "    </tr>\n",
       "    <tr>\n",
       "      <td>15.0</td>\n",
       "      <td>17</td>\n",
       "    </tr>\n",
       "    <tr>\n",
       "      <td>...</td>\n",
       "      <td>...</td>\n",
       "    </tr>\n",
       "    <tr>\n",
       "      <td>16.0</td>\n",
       "      <td>17</td>\n",
       "    </tr>\n",
       "    <tr>\n",
       "      <td>12.0</td>\n",
       "      <td>12</td>\n",
       "    </tr>\n",
       "    <tr>\n",
       "      <td>16.0</td>\n",
       "      <td>16</td>\n",
       "    </tr>\n",
       "    <tr>\n",
       "      <td>18.0</td>\n",
       "      <td>18</td>\n",
       "    </tr>\n",
       "    <tr>\n",
       "      <td>16.0</td>\n",
       "      <td>15</td>\n",
       "    </tr>\n",
       "  </tbody>\n",
       "</table>\n",
       "<p>1035 rows × 0 columns</p>\n",
       "</div>"
      ],
      "text/plain": [
       "Empty DataFrame\n",
       "Columns: []\n",
       "Index: [(13.0, 13), (14.0, 14), (17.0, 16), (14.0, 14), (15.0, 17), (16.0, 16), (16.0, 15), (12.0, 12), (18.0, 19), (14.0, 14), (12.0, 12), (13.0, 13), (7.0, 8), (16.0, 17), (14.0, 14), (16.0, 16), (12.0, 11), (10.0, 11), (14.0, 14), (14.0, 15), (16.0, 16), (16.0, 16), (10.0, 10), (16.0, 16), (13.0, 12), (19.0, 19), (17.0, 16), (11.0, 12), (16.0, 15), (16.0, 16), (11.0, 12), (17.0, 17), (14.0, 14), (18.0, 19), (14.0, 14), (16.0, 17), (11.0, 11), (13.0, 13), (16.0, 16), (15.0, 14), (18.0, 19), (13.0, 12), (16.0, 14), (18.0, 19), (15.0, 15), (17.0, 17), (18.0, 18), (18.0, 18), (11.0, 11), (13.0, 13), (15.0, 15), (14.0, 14), (13.0, 13), (12.0, 12), (17.0, 17), (14.0, 14), (13.0, 13), (16.0, 15), (16.0, 14), (19.0, 19), (14.0, 14), (13.0, 11), (10.0, 12), (19.0, 19), (16.0, 18), (17.0, 18), (13.0, 13), (16.0, 17), (14.0, 14), (19.0, 19), (15.0, 14), (14.0, 14), (18.0, 17), (16.0, 14), (14.0, 14), (16.0, 15), (17.0, 16), (18.0, 18), (14.0, 14), (14.0, 13), (18.0, 19), (18.0, 19), (17.0, 16), (17.0, 15), (12.0, 11), (11.0, 11), (15.0, 15), (17.0, 17), (11.0, 11), (13.0, 13), (17.0, 17), (11.0, 11), (13.0, 13), (16.0, 16), (18.0, 17), (15.0, 15), (13.0, 13), (10.0, 11), (14.0, 15), (15.0, 16), ...]\n",
       "\n",
       "[1035 rows x 0 columns]"
      ]
     },
     "execution_count": 258,
     "metadata": {},
     "output_type": "execute_result"
    }
   ],
   "source": [
    "ss=StandardScaler()\n",
    "X_test_sc=ss.fit_transform(X_test)\n",
    "\n",
    "x=pd.DataFrame(columns=[linModel.predict(X_test_sc).round(), y_test]).T\n",
    "# x.rename(columns={'':'predict','Cheese Platters Sold':'y_test'}, inplace=True)\n",
    "x"
   ]
  },
  {
   "cell_type": "code",
   "execution_count": 274,
   "metadata": {},
   "outputs": [
    {
     "data": {
      "text/plain": [
       "[<matplotlib.lines.Line2D at 0x1c2c32fa90>]"
      ]
     },
     "execution_count": 274,
     "metadata": {},
     "output_type": "execute_result"
    },
    {
     "data": {
      "image/png": "[encoded data removed]",
      "text/plain": [
       "<Figure size 1080x504 with 1 Axes>"
      ]
     },
     "metadata": {
      "needs_background": "light"
     },
     "output_type": "display_data"
    }
   ],
   "source": [
    "plt.figure(figsize=(15,7))\n",
    "\n",
    "plt.scatter(linModel.predict(X_test_sc),y_test, c='k')\n",
    "plt.xlabel('predicted sales')\n",
    "plt.ylabel('actual sales')\n",
    "plt.title(' Q-Q PLOT')\n",
    "\n",
    "plt.plot( [0, np.max(linModel.predict(X_test_sc))], [0, np.max(linModel.predict(X_test_sc))], c = 'r')"
   ]
  },
  {
   "cell_type": "code",
   "execution_count": null,
   "metadata": {},
   "outputs": [],
   "source": []
  },
  {
   "cell_type": "markdown",
   "metadata": {},
   "source": [
    "### Model 2B- Poisson Regression "
   ]
  },
  {
   "cell_type": "code",
   "execution_count": 264,
   "metadata": {},
   "outputs": [
    {
     "name": "stdout",
     "output_type": "stream",
     "text": [
      "                  Generalized Linear Model Regression Results                   \n",
      "================================================================================\n",
      "Dep. Variable:     Cheese Platters Sold   No. Observations:                 3102\n",
      "Model:                              GLM   Df Residuals:                     3097\n",
      "Model Family:                   Poisson   Df Model:                            4\n",
      "Link Function:                      log   Scale:                          1.0000\n",
      "Method:                            IRLS   Log-Likelihood:                -7749.6\n",
      "Date:                  Thu, 19 Mar 2020   Deviance:                       1417.2\n",
      "Time:                          21:34:48   Pearson chi2:                 1.50e+03\n",
      "No. Iterations:                       4                                         \n",
      "Covariance Type:              nonrobust                                         \n",
      "==========================================================================================\n",
      "                             coef    std err          z      P>|z|      [0.025      0.975]\n",
      "------------------------------------------------------------------------------------------\n",
      "Length of Flight (Hrs)     0.0434      0.003     16.410      0.000       0.038       0.049\n",
      "Hour Class_early           0.0915      0.012      7.426      0.000       0.067       0.116\n",
      "Passengers Boarded         0.0159   9.94e-05    160.395      0.000       0.016       0.016\n",
      "Hour Class_midday          0.4885      0.011     42.813      0.000       0.466       0.511\n",
      "Week Part_Weekday          0.1918      0.010     18.825      0.000       0.172       0.212\n",
      "==========================================================================================\n"
     ]
    }
   ],
   "source": [
    "#Using the statsmodels GLM class, train the Poisson regression model on the training data set.\n",
    "poisson_training_results = sm.GLM(y_train, X_train, family=sm.families.Poisson()).fit()\n",
    "\n",
    "#Print the training summary.\n",
    "print(poisson_training_results.summary())"
   ]
  },
  {
   "cell_type": "code",
   "execution_count": 265,
   "metadata": {},
   "outputs": [
    {
     "name": "stdout",
     "output_type": "stream",
     "text": [
      "           mean   mean_se  mean_ci_lower  mean_ci_upper\n",
      "4049  11.356975  0.137662      11.090342      11.630019\n",
      "2668  11.725075  0.141983      11.450070      12.006684\n",
      "2781  16.820664  0.188823      16.454620      17.194850\n",
      "238   13.750142  0.159597      13.440869      14.066533\n",
      "3635  13.143174  0.135005      12.881215      13.410459\n",
      "...         ...       ...            ...            ...\n",
      "2519  17.630178  0.146324      17.345709      17.919312\n",
      "1261  10.369311  0.092556      10.189483      10.552313\n",
      "2698  14.799446  0.191078      14.429638      15.178731\n",
      "3698  21.161848  0.227120      20.721350      21.611710\n",
      "700   18.113003  0.209455      17.707096      18.528215\n",
      "\n",
      "[1035 rows x 4 columns]\n"
     ]
    }
   ],
   "source": [
    "#Make some predictions on the test data set.\n",
    "poisson_predictions = poisson_training_results.get_prediction(X_test)\n",
    "#.summary_frame() returns a pandas DataFrame\n",
    "predictions_summary_frame = poisson_predictions.summary_frame()\n",
    "print(predictions_summary_frame)"
   ]
  },
  {
   "cell_type": "code",
   "execution_count": 266,
   "metadata": {},
   "outputs": [],
   "source": [
    "predicted_sales=predictions_summary_frame['mean']\n",
    "actual_sales= y_test"
   ]
  },
  {
   "cell_type": "code",
   "execution_count": 267,
   "metadata": {},
   "outputs": [
    {
     "data": {
      "text/plain": [
       "<Figure size 432x288 with 0 Axes>"
      ]
     },
     "metadata": {},
     "output_type": "display_data"
    },
    {
     "data": {
      "image/png": "[encoded data removed]",
      "text/plain": [
       "<Figure size 720x360 with 1 Axes>"
      ]
     },
     "metadata": {
      "needs_background": "light"
     },
     "output_type": "display_data"
    }
   ],
   "source": [
    "#Show scatter plot of Actual versus Predicted counts\n",
    "plt.clf()\n",
    "fig = plt.figure(figsize=(10,5))\n",
    "fig.suptitle('Scatter plot of Actual versus Predicted Sales')\n",
    "plt.scatter(x=predicted_sales, y=actual_sales, marker='.')\n",
    "plt.xlabel('Predicted Sales')\n",
    "plt.ylabel('Actual Sales')\n",
    "plt.show()"
   ]
  },
  {
   "cell_type": "code",
   "execution_count": 276,
   "metadata": {},
   "outputs": [
    {
     "data": {
      "text/plain": [
       "[<matplotlib.lines.Line2D at 0x1c2c0f59d0>]"
      ]
     },
     "execution_count": 276,
     "metadata": {},
     "output_type": "execute_result"
    },
    {
     "data": {
      "image/png": "[encoded data removed]",
      "text/plain": [
       "<Figure size 1080x504 with 1 Axes>"
      ]
     },
     "metadata": {
      "needs_background": "light"
     },
     "output_type": "display_data"
    }
   ],
   "source": [
    "plt.figure(figsize=(15,7))\n",
    "\n",
    "plt.scatter(predicted_sales,y_test, c='k')\n",
    "plt.xlabel('predicted sales')\n",
    "plt.ylabel('actual sales')\n",
    "plt.title(' Q-Q PLOT (Actual versus Predicted Sales)')\n",
    "\n",
    "plt.plot( [0, np.max(predicted_sales)], [0, np.max(predicted_sales)], c = 'r')"
   ]
  },
  {
   "cell_type": "markdown",
   "metadata": {},
   "source": [
    "### Model 2c- Binomial Regression "
   ]
  },
  {
   "cell_type": "code",
   "execution_count": null,
   "metadata": {},
   "outputs": [],
   "source": []
  },
  {
   "cell_type": "code",
   "execution_count": null,
   "metadata": {},
   "outputs": [],
   "source": []
  },
  {
   "cell_type": "code",
   "execution_count": null,
   "metadata": {},
   "outputs": [],
   "source": []
  },
  {
   "cell_type": "code",
   "execution_count": 29,
   "metadata": {},
   "outputs": [],
   "source": [
    "# parameters: dataframe, airline, origin, # of top flight destinations, year\n",
    "def describe_stats(df,airline,origin,num_of_top_dest,year):\n",
    "    \n",
    "    top_x=top_destinations(df,airline,origin,num_of_top_dest,year)\n",
    "\n",
    "    for i in range(len(top_x.index)):\n",
    "        \n",
    "        table=df[df['IATA_CODE_Reporting_Airline']==airline]\n",
    "        table=table[table[\"Origin\"]==origin][table['Dest']==top_x.index[i]][table['Year']==year]\n",
    "        \n",
    "        BT_describe=table['ActualElapsedTime'].describe()\n",
    "        AT_describe=table['AirTime'].describe()\n",
    "        TO_describe=table['TaxiOut'].describe()\n",
    "        TI_describe=table['TaxiIn'].describe()\n",
    "        \n",
    "        print(f'\\n\\n--- Statistics from  {origin}  to  { top_x.index[i]} ---\\n\\n{BT_describe}\\n{AT_describe}\\n{TO_describe}\\n{TI_describe}')"
   ]
  },
  {
   "cell_type": "code",
   "execution_count": 30,
   "metadata": {
    "scrolled": false
   },
   "outputs": [
    {
     "data": {
      "image/png": "[encoded data removed]",
      "text/plain": [
       "<Figure size 1440x1080 with 4 Axes>"
      ]
     },
     "metadata": {
      "needs_background": "light"
     },
     "output_type": "display_data"
    },
    {
     "data": {
      "image/png": "[encoded data removed]",
      "text/plain": [
       "<Figure size 1440x1080 with 4 Axes>"
      ]
     },
     "metadata": {
      "needs_background": "light"
     },
     "output_type": "display_data"
    },
    {
     "data": {
      "image/png": "[encoded data removed]",
      "text/plain": [
       "<Figure size 1440x1080 with 4 Axes>"
      ]
     },
     "metadata": {
      "needs_background": "light"
     },
     "output_type": "display_data"
    }
   ],
   "source": [
    "distribution(df,'DL','ATL',3,2018)"
   ]
  },
  {
   "cell_type": "markdown",
   "metadata": {},
   "source": [
    "Block Time is sum of the Air Time, Taxi In and Taxi Out.\n",
    "if sum of the mean/variance of the Air Time, Taxi Out and Taxi In is eqaul to mean/variance of the Block Time, it means that components of Block Time are independent from eachother. Here, variance of Block Time and Varinace of the sum of the components are not equal but slighlty close to eachother. So, we can say there is a slight relationship between the components."
   ]
  },
  {
   "cell_type": "code",
   "execution_count": 31,
   "metadata": {
    "scrolled": true
   },
   "outputs": [
    {
     "name": "stdout",
     "output_type": "stream",
     "text": [
      "\n",
      "\n",
      "------- Values from  ATL  to  MCO -------\n",
      "Block Time Mean:       87\n",
      "Composition Time Mean: 87\n",
      "\n",
      "Block Time Variance:       179\n",
      "Composition Time Variance: 149\n",
      "\n",
      "Block Time 80 Percentile:       92\n",
      "Composition Time 80 Percentile: 94\n",
      "\n",
      "Block Time 80 confidence interval:       77 and 99\n",
      "Composition Time 80 confidence interval: 73 and 101\n",
      "\n",
      "\n",
      "------- Values from  ATL  to  LGA -------\n",
      "Block Time Mean:       129\n",
      "Composition Time Mean: 129\n",
      "\n",
      "Block Time Variance:       227\n",
      "Composition Time Variance: 184\n",
      "\n",
      "Block Time 80 Percentile:       136\n",
      "Composition Time 80 Percentile: 138\n",
      "\n",
      "Block Time 80 confidence interval:       115 and 144\n",
      "Composition Time 80 confidence interval: 110 and 150\n",
      "\n",
      "\n",
      "------- Values from  ATL  to  FLL -------\n",
      "Block Time Mean:       107\n",
      "Composition Time Mean: 107\n",
      "\n",
      "Block Time Variance:       117\n",
      "Composition Time Variance: 108\n",
      "\n",
      "Block Time 80 Percentile:       112\n",
      "Composition Time 80 Percentile: 115\n",
      "\n",
      "Block Time 80 confidence interval:       96 and 118\n",
      "Composition Time 80 confidence interval: 92 and 123\n"
     ]
    }
   ],
   "source": [
    "stats(df,'DL','ATL',3,2018,0.8)"
   ]
  },
  {
   "cell_type": "code",
   "execution_count": 32,
   "metadata": {},
   "outputs": [
    {
     "name": "stdout",
     "output_type": "stream",
     "text": [
      "\n",
      "\n",
      "--- Statistics from  ATL  to  MCO ---\n",
      "\n",
      "count    4860.000000\n",
      "mean       87.436831\n",
      "std        13.390778\n",
      "min        67.000000\n",
      "25%        80.000000\n",
      "50%        85.000000\n",
      "75%        90.000000\n",
      "max       256.000000\n",
      "Name: ActualElapsedTime, dtype: float64\n",
      "count    4860.000000\n",
      "mean       61.179218\n",
      "std         5.370698\n",
      "min        51.000000\n",
      "25%        58.000000\n",
      "50%        60.000000\n",
      "75%        62.000000\n",
      "max       134.000000\n",
      "Name: AirTime, dtype: float64\n",
      "count    4860.000000\n",
      "mean       16.392181\n",
      "std         8.233404\n",
      "min         7.000000\n",
      "25%        12.000000\n",
      "50%        15.000000\n",
      "75%        18.000000\n",
      "max       138.000000\n",
      "Name: TaxiOut, dtype: float64\n",
      "count    4860.000000\n",
      "mean        9.865432\n",
      "std         7.250409\n",
      "min         2.000000\n",
      "25%         7.000000\n",
      "50%         8.000000\n",
      "75%        10.000000\n",
      "max       157.000000\n",
      "Name: TaxiIn, dtype: float64\n",
      "\n",
      "\n",
      "--- Statistics from  ATL  to  LGA ---\n",
      "\n",
      "count    4501.000000\n",
      "mean      128.879582\n",
      "std        15.058809\n",
      "min       100.000000\n",
      "25%       120.000000\n",
      "50%       126.000000\n",
      "75%       134.000000\n",
      "max       300.000000\n",
      "Name: ActualElapsedTime, dtype: float64\n",
      "count    4501.000000\n",
      "mean      103.005554\n",
      "std         8.691539\n",
      "min        83.000000\n",
      "25%        98.000000\n",
      "50%       102.000000\n",
      "75%       106.000000\n",
      "max       197.000000\n",
      "Name: AirTime, dtype: float64\n",
      "count    4501.000000\n",
      "mean       16.783159\n",
      "std         8.944500\n",
      "min         6.000000\n",
      "25%        12.000000\n",
      "50%        15.000000\n",
      "75%        19.000000\n",
      "max       156.000000\n",
      "Name: TaxiOut, dtype: float64\n",
      "count    4501.000000\n",
      "mean        9.090869\n",
      "std         5.380496\n",
      "min         2.000000\n",
      "25%         6.000000\n",
      "50%         8.000000\n",
      "75%        10.000000\n",
      "max        74.000000\n",
      "Name: TaxiIn, dtype: float64\n",
      "\n",
      "\n",
      "--- Statistics from  ATL  to  FLL ---\n",
      "\n",
      "count    4043.000000\n",
      "mean      106.673262\n",
      "std        10.836459\n",
      "min        84.000000\n",
      "25%       100.000000\n",
      "50%       105.000000\n",
      "75%       111.000000\n",
      "max       228.000000\n",
      "Name: ActualElapsedTime, dtype: float64\n",
      "count    4043.000000\n",
      "mean       85.268612\n",
      "std         6.084232\n",
      "min        69.000000\n",
      "25%        82.000000\n",
      "50%        84.000000\n",
      "75%        87.000000\n",
      "max       154.000000\n",
      "Name: AirTime, dtype: float64\n",
      "count    4043.000000\n",
      "mean       16.239179\n",
      "std         7.423296\n",
      "min         5.000000\n",
      "25%        12.000000\n",
      "50%        15.000000\n",
      "75%        18.000000\n",
      "max       138.000000\n",
      "Name: TaxiOut, dtype: float64\n",
      "count    4043.000000\n",
      "mean        5.165471\n",
      "std         4.039216\n",
      "min         1.000000\n",
      "25%         3.000000\n",
      "50%         4.000000\n",
      "75%         6.000000\n",
      "max        58.000000\n",
      "Name: TaxiIn, dtype: float64\n"
     ]
    }
   ],
   "source": [
    "describe_stats(df,'DL','ATL',3,2018)"
   ]
  },
  {
   "cell_type": "markdown",
   "metadata": {},
   "source": [
    "## Monthly Block Time Analysis"
   ]
  },
  {
   "cell_type": "code",
   "execution_count": 33,
   "metadata": {},
   "outputs": [
    {
     "data": {
      "text/plain": [
       "(329060, 39)"
      ]
     },
     "execution_count": 33,
     "metadata": {},
     "output_type": "execute_result"
    }
   ],
   "source": [
    "JB=df[df['IATA_CODE_Reporting_Airline']=='DL'][df['Year']==2017]\n",
    "JB.shape"
   ]
  },
  {
   "cell_type": "code",
   "execution_count": 34,
   "metadata": {},
   "outputs": [],
   "source": [
    "# JB.groupby(['Origin','Dest']).count().sort_values('Year',ascending=False)"
   ]
  },
  {
   "cell_type": "code",
   "execution_count": 35,
   "metadata": {},
   "outputs": [
    {
     "data": {
      "image/png": "[encoded data removed]",
      "text/plain": [
       "<Figure size 1296x720 with 1 Axes>"
      ]
     },
     "metadata": {
      "needs_background": "light"
     },
     "output_type": "display_data"
    }
   ],
   "source": [
    "JB_one_origin=JB[JB['Origin']=='ATL']\n",
    "title='Average Time of '+list(set(JB_one_origin['Origin'].values))[0]+' to All Destinations'\n",
    "month_avg=JB_one_origin.groupby('Month').mean()[['ActualElapsedTime','AirTime','TaxiOut','TaxiIn']]\n",
    "month_avg[['ActualElapsedTime', 'AirTime', 'TaxiOut', 'TaxiIn']].plot(kind='bar', title=title, figsize=(18,10),grid=True)\n",
    "plt.show()"
   ]
  },
  {
   "cell_type": "code",
   "execution_count": 36,
   "metadata": {},
   "outputs": [],
   "source": [
    "def bar_chart(df,origin,dest):\n",
    "\n",
    "    title='Average Time of '+str(origin)+' to ' +str(dest)\n",
    "    df[['ActualElapsedTime', 'AirTime', 'TaxiOut', 'TaxiIn']].plot(kind='bar', figsize=(18,10),title=title,grid=True)\n",
    "    plt.show()"
   ]
  },
  {
   "cell_type": "code",
   "execution_count": 37,
   "metadata": {},
   "outputs": [],
   "source": [
    "# parameters: dataframe, airline, origin, # of top flight destinations, year\n",
    "def month_graphs(df,airline,origin,num_of_top_dest,year):\n",
    "    \n",
    "    top_x=top_destinations(df,airline,origin,num_of_top_dest,year)\n",
    "    \n",
    "    \n",
    "    for i in range(len(top_x.index)):\n",
    "        \n",
    "        table=df[df['IATA_CODE_Reporting_Airline']==airline][df[\"Origin\"]==origin]\n",
    "        table=table[table['Dest']==top_x.index[i]][table['Year']==year]\n",
    "        month_avg=table.groupby('Month').mean()[['ActualElapsedTime','AirTime','TaxiOut','TaxiIn']]\n",
    "        bar_chart(month_avg,origin,top_x.index[i])"
   ]
  },
  {
   "cell_type": "code",
   "execution_count": 38,
   "metadata": {
    "scrolled": false
   },
   "outputs": [
    {
     "data": {
      "image/png": "[encoded data removed]",
      "text/plain": [
       "<Figure size 1296x720 with 1 Axes>"
      ]
     },
     "metadata": {
      "needs_background": "light"
     },
     "output_type": "display_data"
    },
    {
     "data": {
      "image/png": "[encoded data removed]",
      "text/plain": [
       "<Figure size 1296x720 with 1 Axes>"
      ]
     },
     "metadata": {
      "needs_background": "light"
     },
     "output_type": "display_data"
    },
    {
     "data": {
      "image/png": "[encoded data removed]",
      "text/plain": [
       "<Figure size 1296x720 with 1 Axes>"
      ]
     },
     "metadata": {
      "needs_background": "light"
     },
     "output_type": "display_data"
    }
   ],
   "source": [
    "# run the function for Delta Airline's the most flight 3 destinations from ATL airport for year-2017\n",
    "month_graphs(df,'DL','ATL',3,2017)"
   ]
  },
  {
   "cell_type": "markdown",
   "metadata": {},
   "source": [
    "## Grouping Block Time Regarding to Confidence Level"
   ]
  },
  {
   "cell_type": "code",
   "execution_count": 39,
   "metadata": {},
   "outputs": [],
   "source": [
    "def thresold_binary(number,threshold):\n",
    "    \n",
    "    if number<=threshold:\n",
    "        result=0\n",
    "    else:\n",
    "        result=1\n",
    "    return(result)"
   ]
  },
  {
   "cell_type": "code",
   "execution_count": 40,
   "metadata": {},
   "outputs": [],
   "source": [
    "# parameters: dataframe, airline, origin, # of top flight destinations, year, confidence level, Block Time\n",
    "# output is graph\n",
    "def classify_table(df,airline,origin,num_of_top_dest,year,alpha,column):\n",
    "    \n",
    "    top_x=top_destinations(df,airline,origin,num_of_top_dest,year)\n",
    "    \n",
    "    for i in range(len(top_x.index)):\n",
    "        \n",
    "        table=df[df['IATA_CODE_Reporting_Airline']==airline][df[\"Origin\"]==origin]\n",
    "        table=table[table['Dest']==top_x.index[i]][table['Year']==year]\n",
    "        \n",
    "        threshold=percentile_right(table,column,alpha)\n",
    "        table['thresold binary']=table[column].map(lambda x: thresold_binary(x,threshold))\n",
    "\n",
    "        month_avg=table.groupby(['thresold binary','Month']).mean()[['ActualElapsedTime','AirTime','TaxiOut','TaxiIn']]\n",
    "        \n",
    "        bar_chart(month_avg,origin,top_x.index[i])"
   ]
  },
  {
   "cell_type": "code",
   "execution_count": 41,
   "metadata": {
    "scrolled": false
   },
   "outputs": [
    {
     "data": {
      "image/png": "[encoded data removed]",
      "text/plain": [
       "<Figure size 1296x720 with 1 Axes>"
      ]
     },
     "metadata": {
      "needs_background": "light"
     },
     "output_type": "display_data"
    },
    {
     "data": {
      "image/png": "[encoded data removed]",
      "text/plain": [
       "<Figure size 1296x720 with 1 Axes>"
      ]
     },
     "metadata": {
      "needs_background": "light"
     },
     "output_type": "display_data"
    },
    {
     "data": {
      "image/png": "[encoded data removed]",
      "text/plain": [
       "<Figure size 1296x720 with 1 Axes>"
      ]
     },
     "metadata": {
      "needs_background": "light"
     },
     "output_type": "display_data"
    }
   ],
   "source": [
    "# run the function for Delta Airline's the most flight 3 destinations from ATL airport for year-2017 with %80 confidence\n",
    "classify_table(df,'DL','ATL',3,2017,0.8,'ActualElapsedTime')"
   ]
  },
  {
   "cell_type": "markdown",
   "metadata": {},
   "source": [
    "## Check the Afftect of the Month on the Block Time Delays"
   ]
  },
  {
   "cell_type": "code",
   "execution_count": 42,
   "metadata": {},
   "outputs": [],
   "source": [
    "def group_month(month):\n",
    "    if month==11 or month==12:\n",
    "        result='W1' # winter-1\n",
    "    elif month==1 or month==2:\n",
    "        result='W2' #winter-2\n",
    "    elif month==5 or month==6 or month==7:\n",
    "        result='S' # summer\n",
    "    else :\n",
    "        result= 'Shoulder'\n",
    "    return result"
   ]
  },
  {
   "cell_type": "code",
   "execution_count": 43,
   "metadata": {},
   "outputs": [],
   "source": [
    "# parameters: dataframe, airline, origin, # of top flight destinations, year\n",
    "# output is dataframe\n",
    "def classify_table2(df,airline,origin,num_of_top_dest,year,alpha,column):\n",
    "    \n",
    "    top_x=top_destinations(df,airline,origin,num_of_top_dest,year)\n",
    "    \n",
    "    classified_table=pd.DataFrame(columns=df.columns)\n",
    "    classified_table['thresold binary']=np.nan\n",
    "    classified_table['Month_Group']=''\n",
    "    \n",
    "    for i in range(len(top_x.index)):\n",
    "        \n",
    "        table=df[df['IATA_CODE_Reporting_Airline']==airline][df[\"Origin\"]==origin]\n",
    "        table=table[table['Dest']==top_x.index[i]][table['Year']==year]\n",
    "        \n",
    "        threshold=percentile_right(table,column,alpha)\n",
    "        table['thresold binary']=table[column].map(lambda x: thresold_binary(x,threshold))\n",
    "        table['Month_Group']=table['Month'].map(lambda x: group_month(x))\n",
    "        classified_table=classified_table.append(table)\n",
    "    \n",
    "    return classified_table"
   ]
  },
  {
   "cell_type": "code",
   "execution_count": 44,
   "metadata": {},
   "outputs": [
    {
     "data": {
      "text/plain": [
       "(229527, 41)"
      ]
     },
     "execution_count": 44,
     "metadata": {},
     "output_type": "execute_result"
    }
   ],
   "source": [
    "x_table=classify_table2(df,'DL','ATL',100,2017,0.8,'ActualElapsedTime')\n",
    "x_table.shape"
   ]
  },
  {
   "cell_type": "markdown",
   "metadata": {},
   "source": [
    "## Model"
   ]
  },
  {
   "cell_type": "code",
   "execution_count": 45,
   "metadata": {},
   "outputs": [],
   "source": [
    "from sklearn.linear_model import LogisticRegression\n",
    "from sklearn.model_selection import train_test_split,cross_val_score, KFold\n",
    "from sklearn.preprocessing import StandardScaler"
   ]
  },
  {
   "cell_type": "code",
   "execution_count": 46,
   "metadata": {},
   "outputs": [
    {
     "data": {
      "text/html": [
       "<div>\n",
       "<style scoped>\n",
       "    .dataframe tbody tr th:only-of-type {\n",
       "        vertical-align: middle;\n",
       "    }\n",
       "\n",
       "    .dataframe tbody tr th {\n",
       "        vertical-align: top;\n",
       "    }\n",
       "\n",
       "    .dataframe thead th {\n",
       "        text-align: right;\n",
       "    }\n",
       "</style>\n",
       "<table border=\"1\" class=\"dataframe\">\n",
       "  <thead>\n",
       "    <tr style=\"text-align: right;\">\n",
       "      <th></th>\n",
       "      <th>thresold binary</th>\n",
       "      <th>Month_Group_S</th>\n",
       "      <th>Month_Group_Shoulder</th>\n",
       "      <th>Month_Group_W1</th>\n",
       "      <th>Month_Group_W2</th>\n",
       "    </tr>\n",
       "  </thead>\n",
       "  <tbody>\n",
       "    <tr>\n",
       "      <td>2793870</td>\n",
       "      <td>0.0</td>\n",
       "      <td>0</td>\n",
       "      <td>0</td>\n",
       "      <td>0</td>\n",
       "      <td>1</td>\n",
       "    </tr>\n",
       "    <tr>\n",
       "      <td>2794087</td>\n",
       "      <td>0.0</td>\n",
       "      <td>0</td>\n",
       "      <td>0</td>\n",
       "      <td>0</td>\n",
       "      <td>1</td>\n",
       "    </tr>\n",
       "    <tr>\n",
       "      <td>2794334</td>\n",
       "      <td>0.0</td>\n",
       "      <td>0</td>\n",
       "      <td>0</td>\n",
       "      <td>0</td>\n",
       "      <td>1</td>\n",
       "    </tr>\n",
       "    <tr>\n",
       "      <td>2794335</td>\n",
       "      <td>0.0</td>\n",
       "      <td>0</td>\n",
       "      <td>0</td>\n",
       "      <td>0</td>\n",
       "      <td>1</td>\n",
       "    </tr>\n",
       "    <tr>\n",
       "      <td>2794336</td>\n",
       "      <td>0.0</td>\n",
       "      <td>0</td>\n",
       "      <td>0</td>\n",
       "      <td>0</td>\n",
       "      <td>1</td>\n",
       "    </tr>\n",
       "  </tbody>\n",
       "</table>\n",
       "</div>"
      ],
      "text/plain": [
       "         thresold binary  Month_Group_S  Month_Group_Shoulder  Month_Group_W1  \\\n",
       "2793870              0.0              0                     0               0   \n",
       "2794087              0.0              0                     0               0   \n",
       "2794334              0.0              0                     0               0   \n",
       "2794335              0.0              0                     0               0   \n",
       "2794336              0.0              0                     0               0   \n",
       "\n",
       "         Month_Group_W2  \n",
       "2793870               1  \n",
       "2794087               1  \n",
       "2794334               1  \n",
       "2794335               1  \n",
       "2794336               1  "
      ]
     },
     "execution_count": 46,
     "metadata": {},
     "output_type": "execute_result"
    }
   ],
   "source": [
    "x_table=x_table[['Month_Group','thresold binary']]\n",
    "x_table=pd.get_dummies(x_table)\n",
    "x_table.head()"
   ]
  },
  {
   "cell_type": "code",
   "execution_count": 47,
   "metadata": {},
   "outputs": [
    {
     "data": {
      "text/plain": [
       "(229527, 5)"
      ]
     },
     "execution_count": 47,
     "metadata": {},
     "output_type": "execute_result"
    }
   ],
   "source": [
    "x_table.shape"
   ]
  },
  {
   "cell_type": "code",
   "execution_count": 48,
   "metadata": {},
   "outputs": [],
   "source": [
    "features=['Month_Group_S',\n",
    " 'Month_Group_W1',\n",
    " 'Month_Group_W2']\n",
    "X=x_table[features]\n",
    "y=x_table['thresold binary']"
   ]
  },
  {
   "cell_type": "code",
   "execution_count": 49,
   "metadata": {},
   "outputs": [],
   "source": [
    "X_train,X_test, y_train, y_test=train_test_split(X,y, test_size=0.25, random_state=42, stratify=y)"
   ]
  },
  {
   "cell_type": "code",
   "execution_count": 50,
   "metadata": {},
   "outputs": [],
   "source": [
    "logreg_class=LogisticRegression()"
   ]
  },
  {
   "cell_type": "code",
   "execution_count": 51,
   "metadata": {},
   "outputs": [],
   "source": [
    "def process_model(model,X):\n",
    "    ss=StandardScaler()\n",
    "    X_sc=ss.fit_transform(X)\n",
    "#     print(X_sc)\n",
    "    model.fit(X_sc,y_train)\n",
    "    crv=cross_val_score(model,X_sc,y_train).mean()\n",
    "    return(crv)"
   ]
  },
  {
   "cell_type": "code",
   "execution_count": 52,
   "metadata": {},
   "outputs": [
    {
     "data": {
      "text/plain": [
       "0.81"
      ]
     },
     "execution_count": 52,
     "metadata": {},
     "output_type": "execute_result"
    }
   ],
   "source": [
    "process_model(logreg_class,X_train).round(2)"
   ]
  },
  {
   "cell_type": "code",
   "execution_count": 53,
   "metadata": {},
   "outputs": [
    {
     "data": {
      "text/plain": [
       "0.81"
      ]
     },
     "execution_count": 53,
     "metadata": {},
     "output_type": "execute_result"
    }
   ],
   "source": [
    "ss=StandardScaler()\n",
    "X_test_sc=ss.fit_transform(X_test)\n",
    "logreg_class.score(X_test_sc,y_test).round(2)"
   ]
  },
  {
   "cell_type": "code",
   "execution_count": 54,
   "metadata": {
    "scrolled": true
   },
   "outputs": [
    {
     "data": {
      "text/html": [
       "<div>\n",
       "<style scoped>\n",
       "    .dataframe tbody tr th:only-of-type {\n",
       "        vertical-align: middle;\n",
       "    }\n",
       "\n",
       "    .dataframe tbody tr th {\n",
       "        vertical-align: top;\n",
       "    }\n",
       "\n",
       "    .dataframe thead th {\n",
       "        text-align: right;\n",
       "    }\n",
       "</style>\n",
       "<table border=\"1\" class=\"dataframe\">\n",
       "  <thead>\n",
       "    <tr style=\"text-align: right;\">\n",
       "      <th></th>\n",
       "      <th>0</th>\n",
       "    </tr>\n",
       "  </thead>\n",
       "  <tbody>\n",
       "    <tr>\n",
       "      <td>Month_Group_S</td>\n",
       "      <td>0.21</td>\n",
       "    </tr>\n",
       "    <tr>\n",
       "      <td>Month_Group_W1</td>\n",
       "      <td>0.01</td>\n",
       "    </tr>\n",
       "    <tr>\n",
       "      <td>Month_Group_W2</td>\n",
       "      <td>0.16</td>\n",
       "    </tr>\n",
       "  </tbody>\n",
       "</table>\n",
       "</div>"
      ],
      "text/plain": [
       "                   0\n",
       "Month_Group_S   0.21\n",
       "Month_Group_W1  0.01\n",
       "Month_Group_W2  0.16"
      ]
     },
     "execution_count": 54,
     "metadata": {},
     "output_type": "execute_result"
    }
   ],
   "source": [
    "pd.DataFrame(logreg_class.coef_.round(2),columns=X_train.columns).T"
   ]
  },
  {
   "cell_type": "markdown",
   "metadata": {},
   "source": [
    "Shoulder class is kept as the base level by not icluded to the predictors. Therefore the coefficients of the model represent the affect levels of the related month-group (S, W1, W2) comparing by the base level month group which is Shoulder."
   ]
  },
  {
   "cell_type": "code",
   "execution_count": null,
   "metadata": {},
   "outputs": [],
   "source": []
  },
  {
   "cell_type": "code",
   "execution_count": null,
   "metadata": {},
   "outputs": [],
   "source": []
  }
 ],
 "metadata": {
  "kernelspec": {
   "display_name": "Python 3",
   "language": "python",
   "name": "python3"
  },
  "language_info": {
   "codemirror_mode": {
    "name": "ipython",
    "version": 3
   },
   "file_extension": ".py",
   "mimetype": "text/x-python",
   "name": "python",
   "nbconvert_exporter": "python",
   "pygments_lexer": "ipython3",
   "version": "3.7.4"
  }
 },
 "nbformat": 4,
 "nbformat_minor": 2
}
