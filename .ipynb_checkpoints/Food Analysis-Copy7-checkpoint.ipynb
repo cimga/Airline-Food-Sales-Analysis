{
 "cells": [
  {
   "cell_type": "code",
   "execution_count": 58,
   "metadata": {},
   "outputs": [],
   "source": [
    "import pandas as pd\n",
    "import numpy as np\n",
    "import seaborn as sns\n",
    "import matplotlib.pyplot as plt\n",
    "\n",
    "import statistics\n",
    "from scipy import stats\n",
    "\n",
    "# Disable warnings!\n",
    "import warnings\n",
    "warnings.filterwarnings(\"ignore\")"
   ]
  },
  {
   "cell_type": "code",
   "execution_count": 667,
   "metadata": {},
   "outputs": [
    {
     "data": {
      "text/plain": [
       "(5000, 6)"
      ]
     },
     "execution_count": 667,
     "metadata": {},
     "output_type": "execute_result"
    }
   ],
   "source": [
    "df=pd.read_csv('/Users/ee/Documents/GITHUB/Project-12 Alaska Airlines/Cheeseplate Demand Data.csv') # contains betwen 2016-March to 2019-February\n",
    "df.shape"
   ]
  },
  {
   "cell_type": "code",
   "execution_count": 668,
   "metadata": {},
   "outputs": [
    {
     "data": {
      "text/plain": [
       "Dptr Hour                 0\n",
       "Length of Flight (Hrs)    0\n",
       "Day of Week               0\n",
       "Passengers Boarded        0\n",
       "Stock Out Occurred        0\n",
       "Cheese Platters Sold      0\n",
       "dtype: int64"
      ]
     },
     "execution_count": 668,
     "metadata": {},
     "output_type": "execute_result"
    }
   ],
   "source": [
    "df.isnull().sum()"
   ]
  },
  {
   "cell_type": "code",
   "execution_count": 669,
   "metadata": {},
   "outputs": [
    {
     "data": {
      "text/html": [
       "<div>\n",
       "<style scoped>\n",
       "    .dataframe tbody tr th:only-of-type {\n",
       "        vertical-align: middle;\n",
       "    }\n",
       "\n",
       "    .dataframe tbody tr th {\n",
       "        vertical-align: top;\n",
       "    }\n",
       "\n",
       "    .dataframe thead th {\n",
       "        text-align: right;\n",
       "    }\n",
       "</style>\n",
       "<table border=\"1\" class=\"dataframe\">\n",
       "  <thead>\n",
       "    <tr style=\"text-align: right;\">\n",
       "      <th></th>\n",
       "      <th>Dptr Hour</th>\n",
       "      <th>Length of Flight (Hrs)</th>\n",
       "      <th>Day of Week</th>\n",
       "      <th>Passengers Boarded</th>\n",
       "      <th>Stock Out Occurred</th>\n",
       "      <th>Cheese Platters Sold</th>\n",
       "    </tr>\n",
       "  </thead>\n",
       "  <tbody>\n",
       "    <tr>\n",
       "      <td>0</td>\n",
       "      <td>8</td>\n",
       "      <td>1</td>\n",
       "      <td>Tuesday</td>\n",
       "      <td>144</td>\n",
       "      <td>0</td>\n",
       "      <td>18</td>\n",
       "    </tr>\n",
       "    <tr>\n",
       "      <td>1</td>\n",
       "      <td>5</td>\n",
       "      <td>3</td>\n",
       "      <td>Monday</td>\n",
       "      <td>152</td>\n",
       "      <td>0</td>\n",
       "      <td>15</td>\n",
       "    </tr>\n",
       "    <tr>\n",
       "      <td>2</td>\n",
       "      <td>4</td>\n",
       "      <td>2</td>\n",
       "      <td>Thursday</td>\n",
       "      <td>150</td>\n",
       "      <td>0</td>\n",
       "      <td>16</td>\n",
       "    </tr>\n",
       "    <tr>\n",
       "      <td>3</td>\n",
       "      <td>6</td>\n",
       "      <td>2</td>\n",
       "      <td>Thursday</td>\n",
       "      <td>131</td>\n",
       "      <td>0</td>\n",
       "      <td>13</td>\n",
       "    </tr>\n",
       "    <tr>\n",
       "      <td>4</td>\n",
       "      <td>5</td>\n",
       "      <td>6</td>\n",
       "      <td>Thursday</td>\n",
       "      <td>164</td>\n",
       "      <td>0</td>\n",
       "      <td>18</td>\n",
       "    </tr>\n",
       "  </tbody>\n",
       "</table>\n",
       "</div>"
      ],
      "text/plain": [
       "   Dptr Hour  Length of Flight (Hrs) Day of Week  Passengers Boarded  \\\n",
       "0          8                       1     Tuesday                 144   \n",
       "1          5                       3      Monday                 152   \n",
       "2          4                       2    Thursday                 150   \n",
       "3          6                       2    Thursday                 131   \n",
       "4          5                       6    Thursday                 164   \n",
       "\n",
       "   Stock Out Occurred  Cheese Platters Sold  \n",
       "0                   0                    18  \n",
       "1                   0                    15  \n",
       "2                   0                    16  \n",
       "3                   0                    13  \n",
       "4                   0                    18  "
      ]
     },
     "execution_count": 669,
     "metadata": {},
     "output_type": "execute_result"
    }
   ],
   "source": [
    "df.head()"
   ]
  },
  {
   "cell_type": "code",
   "execution_count": 670,
   "metadata": {},
   "outputs": [
    {
     "data": {
      "text/plain": [
       "(5000, 6)"
      ]
     },
     "execution_count": 670,
     "metadata": {},
     "output_type": "execute_result"
    }
   ],
   "source": [
    "#Converting day in number to order easily on the graphs\n",
    "d={'Monday':1,'Tuesday':2,'Wednesday':3,'Thursday':4,'Friday':5,'Saturday':6,'Sunday':7}\n",
    "\n",
    "df['Day of Week']=df['Day of Week'].map(d)\n",
    "df.shape"
   ]
  },
  {
   "cell_type": "code",
   "execution_count": 671,
   "metadata": {},
   "outputs": [
    {
     "data": {
      "text/html": [
       "<div>\n",
       "<style scoped>\n",
       "    .dataframe tbody tr th:only-of-type {\n",
       "        vertical-align: middle;\n",
       "    }\n",
       "\n",
       "    .dataframe tbody tr th {\n",
       "        vertical-align: top;\n",
       "    }\n",
       "\n",
       "    .dataframe thead th {\n",
       "        text-align: right;\n",
       "    }\n",
       "</style>\n",
       "<table border=\"1\" class=\"dataframe\">\n",
       "  <thead>\n",
       "    <tr style=\"text-align: right;\">\n",
       "      <th></th>\n",
       "      <th>Dptr Hour</th>\n",
       "      <th>Length of Flight (Hrs)</th>\n",
       "      <th>Day of Week</th>\n",
       "      <th>Passengers Boarded</th>\n",
       "      <th>Stock Out Occurred</th>\n",
       "      <th>Cheese Platters Sold</th>\n",
       "    </tr>\n",
       "  </thead>\n",
       "  <tbody>\n",
       "    <tr>\n",
       "      <td>0</td>\n",
       "      <td>8</td>\n",
       "      <td>1</td>\n",
       "      <td>2</td>\n",
       "      <td>144</td>\n",
       "      <td>0</td>\n",
       "      <td>18</td>\n",
       "    </tr>\n",
       "    <tr>\n",
       "      <td>1</td>\n",
       "      <td>5</td>\n",
       "      <td>3</td>\n",
       "      <td>1</td>\n",
       "      <td>152</td>\n",
       "      <td>0</td>\n",
       "      <td>15</td>\n",
       "    </tr>\n",
       "    <tr>\n",
       "      <td>2</td>\n",
       "      <td>4</td>\n",
       "      <td>2</td>\n",
       "      <td>4</td>\n",
       "      <td>150</td>\n",
       "      <td>0</td>\n",
       "      <td>16</td>\n",
       "    </tr>\n",
       "    <tr>\n",
       "      <td>3</td>\n",
       "      <td>6</td>\n",
       "      <td>2</td>\n",
       "      <td>4</td>\n",
       "      <td>131</td>\n",
       "      <td>0</td>\n",
       "      <td>13</td>\n",
       "    </tr>\n",
       "    <tr>\n",
       "      <td>4</td>\n",
       "      <td>5</td>\n",
       "      <td>6</td>\n",
       "      <td>4</td>\n",
       "      <td>164</td>\n",
       "      <td>0</td>\n",
       "      <td>18</td>\n",
       "    </tr>\n",
       "  </tbody>\n",
       "</table>\n",
       "</div>"
      ],
      "text/plain": [
       "   Dptr Hour  Length of Flight (Hrs)  Day of Week  Passengers Boarded  \\\n",
       "0          8                       1            2                 144   \n",
       "1          5                       3            1                 152   \n",
       "2          4                       2            4                 150   \n",
       "3          6                       2            4                 131   \n",
       "4          5                       6            4                 164   \n",
       "\n",
       "   Stock Out Occurred  Cheese Platters Sold  \n",
       "0                   0                    18  \n",
       "1                   0                    15  \n",
       "2                   0                    16  \n",
       "3                   0                    13  \n",
       "4                   0                    18  "
      ]
     },
     "execution_count": 671,
     "metadata": {},
     "output_type": "execute_result"
    }
   ],
   "source": [
    "df.head()"
   ]
  },
  {
   "cell_type": "markdown",
   "metadata": {},
   "source": [
    " # 1. INVESTIGATE THE DATA"
   ]
  },
  {
   "cell_type": "markdown",
   "metadata": {},
   "source": [
    "## 1A. Relation Between Variables and Number of Cheese Platters Sold"
   ]
  },
  {
   "cell_type": "code",
   "execution_count": 742,
   "metadata": {},
   "outputs": [],
   "source": [
    "# #Scatter Plot Function\n",
    "# font = {'family' : 'normal',\n",
    "#         'weight' : 'bold',\n",
    "#         'size'   : 22}\n",
    "\n",
    "# ff= plt.rcParams.update('font', **font)\n",
    "\n",
    "# Set the font dictionaries (for plot title and axis titles)\n",
    "title_font = {'fontname':'Arial', 'size':'15', 'color':'black', 'weight':'bold',\n",
    "              'verticalalignment':'bottom'} # Bottom vertical alignment for more space\n",
    "axis_font = {'fontname':'Arial', 'size':'13'}\n",
    "\n",
    "def relation_s(a):\n",
    "    t=df.groupby(by=df.columns[a]).mean()\n",
    "    t=t[['Cheese Platters Sold']]\n",
    "\n",
    "    plt.figure(figsize=(15,7))\n",
    "    \n",
    "    if df.columns[a]!='Dptr Hour':\n",
    "        plt.scatter(x=t.index, y=t['Cheese Platters Sold'])\n",
    "        plt.title('Average Cheese Platters Sold by '+df.columns[a],**title_font)\n",
    "        plt.xlabel(df.columns[a],**axis_font)\n",
    "        plt.ylabel('Cheese Platters Sold',**axis_font)\n",
    "        plt.show()\n",
    "    else: # this section works only for \"Dptr Hour\"\n",
    "        x=t.index\n",
    "        y=t['Cheese Platters Sold']\n",
    "        plt.scatter(x,y)\n",
    "        plt.title('Average Cheese Platters Sold by '+df.columns[0],**title_font)\n",
    "        plt.xlabel(df.columns[0],**axis_font)\n",
    "        plt.ylabel('Cheese Platters Sold',**axis_font)\n",
    "\n",
    "        x1=t.index[:8]\n",
    "        y1=t['Cheese Platters Sold'][:8]\n",
    "        z = np.polyfit(x1, y1, 1)\n",
    "        p = np.poly1d(z)\n",
    "        plt.plot(x1,p(x1),\"r--\")\n",
    "\n",
    "        x2=t.index[8:20]\n",
    "        y2=t['Cheese Platters Sold'][8:20]\n",
    "        z = np.polyfit(x2, y2, 1)\n",
    "        p = np.poly1d(z)\n",
    "        plt.plot(x2,p(x2),\"r--\")\n",
    "\n",
    "        x3=t.index[20:]\n",
    "        y3=t['Cheese Platters Sold'][20:]\n",
    "        z = np.polyfit(x3, y3, 1)\n",
    "        p = np.poly1d(z)\n",
    "        plt.plot(x3,p(x3),\"r--\")\n",
    "\n",
    "        plt.show()"
   ]
  },
  {
   "cell_type": "code",
   "execution_count": 743,
   "metadata": {},
   "outputs": [],
   "source": [
    "# Bar chart graph function\n",
    "def relation_b(a):\n",
    "    t=df.groupby(by=df.columns[a]).mean()\n",
    "    t=t[['Cheese Platters Sold']]\n",
    "#     title='Average Cheese Platters Sold by '+df.columns[a]\n",
    "#     t.plot(kind='bar', figsize=(15,7),title=title).grid(axis='y')\n",
    "    t.plot(kind='bar', figsize=(15,7)).grid(axis='y')\n",
    "    plt.title('Average Cheese Platters Sold by '+df.columns[a],**title_font)\n",
    "    plt.xlabel(df.columns[a],**axis_font)\n",
    "    plt.ylabel('Cheese Platters Sold',**axis_font)\n",
    "    plt.show()"
   ]
  },
  {
   "cell_type": "code",
   "execution_count": 744,
   "metadata": {
    "scrolled": false
   },
   "outputs": [
    {
     "data": {
      "image/png": "[encoded data removed]",
      "text/plain": [
       "<Figure size 1080x504 with 1 Axes>"
      ]
     },
     "metadata": {
      "needs_background": "light"
     },
     "output_type": "display_data"
    },
    {
     "name": "stdout",
     "output_type": "stream",
     "text": [
      "None\n"
     ]
    },
    {
     "data": {
      "image/png": "[encoded data removed]",
      "text/plain": [
       "<Figure size 1080x504 with 1 Axes>"
      ]
     },
     "metadata": {
      "needs_background": "light"
     },
     "output_type": "display_data"
    },
    {
     "name": "stdout",
     "output_type": "stream",
     "text": [
      "None\n"
     ]
    },
    {
     "data": {
      "image/png": "[encoded data removed]",
      "text/plain": [
       "<Figure size 1080x504 with 1 Axes>"
      ]
     },
     "metadata": {
      "needs_background": "light"
     },
     "output_type": "display_data"
    },
    {
     "name": "stdout",
     "output_type": "stream",
     "text": [
      "None\n"
     ]
    },
    {
     "data": {
      "image/png": "[encoded data removed]",
      "text/plain": [
       "<Figure size 1080x504 with 1 Axes>"
      ]
     },
     "metadata": {
      "needs_background": "light"
     },
     "output_type": "display_data"
    },
    {
     "name": "stdout",
     "output_type": "stream",
     "text": [
      "None\n"
     ]
    },
    {
     "data": {
      "image/png": "[encoded data removed]",
      "text/plain": [
       "<Figure size 1080x504 with 1 Axes>"
      ]
     },
     "metadata": {
      "needs_background": "light"
     },
     "output_type": "display_data"
    },
    {
     "name": "stdout",
     "output_type": "stream",
     "text": [
      "None\n"
     ]
    }
   ],
   "source": [
    "for i in range(5):\n",
    "    if i==4:\n",
    "        print(relation_b(i))\n",
    "    else:\n",
    "        print(relation_s(i))"
   ]
  },
  {
   "cell_type": "markdown",
   "metadata": {},
   "source": [
    "## by Dept Hour & Week Days"
   ]
  },
  {
   "cell_type": "code",
   "execution_count": 745,
   "metadata": {},
   "outputs": [],
   "source": [
    "df2=df"
   ]
  },
  {
   "cell_type": "code",
   "execution_count": 746,
   "metadata": {},
   "outputs": [
    {
     "data": {
      "text/plain": [
       "(5000, 7)"
      ]
     },
     "execution_count": 746,
     "metadata": {},
     "output_type": "execute_result"
    }
   ],
   "source": [
    "d={1:'Weekday',2:'Weekday',3:'Weekday',4:'Weekday',5:'Weekday',6:'Weekend',7:'Weekend'}\n",
    "\n",
    "df2['Week Part']=df2['Day of Week'].map(d)\n",
    "df2.shape"
   ]
  },
  {
   "cell_type": "code",
   "execution_count": 747,
   "metadata": {},
   "outputs": [
    {
     "data": {
      "text/html": [
       "<div>\n",
       "<style scoped>\n",
       "    .dataframe tbody tr th:only-of-type {\n",
       "        vertical-align: middle;\n",
       "    }\n",
       "\n",
       "    .dataframe tbody tr th {\n",
       "        vertical-align: top;\n",
       "    }\n",
       "\n",
       "    .dataframe thead th {\n",
       "        text-align: right;\n",
       "    }\n",
       "</style>\n",
       "<table border=\"1\" class=\"dataframe\">\n",
       "  <thead>\n",
       "    <tr style=\"text-align: right;\">\n",
       "      <th></th>\n",
       "      <th>Dptr Hour</th>\n",
       "      <th>Length of Flight (Hrs)</th>\n",
       "      <th>Day of Week</th>\n",
       "      <th>Passengers Boarded</th>\n",
       "      <th>Stock Out Occurred</th>\n",
       "      <th>Cheese Platters Sold</th>\n",
       "      <th>Week Part</th>\n",
       "    </tr>\n",
       "  </thead>\n",
       "  <tbody>\n",
       "    <tr>\n",
       "      <td>0</td>\n",
       "      <td>8</td>\n",
       "      <td>1</td>\n",
       "      <td>2</td>\n",
       "      <td>144</td>\n",
       "      <td>0</td>\n",
       "      <td>18</td>\n",
       "      <td>Weekday</td>\n",
       "    </tr>\n",
       "    <tr>\n",
       "      <td>1</td>\n",
       "      <td>5</td>\n",
       "      <td>3</td>\n",
       "      <td>1</td>\n",
       "      <td>152</td>\n",
       "      <td>0</td>\n",
       "      <td>15</td>\n",
       "      <td>Weekday</td>\n",
       "    </tr>\n",
       "    <tr>\n",
       "      <td>2</td>\n",
       "      <td>4</td>\n",
       "      <td>2</td>\n",
       "      <td>4</td>\n",
       "      <td>150</td>\n",
       "      <td>0</td>\n",
       "      <td>16</td>\n",
       "      <td>Weekday</td>\n",
       "    </tr>\n",
       "    <tr>\n",
       "      <td>3</td>\n",
       "      <td>6</td>\n",
       "      <td>2</td>\n",
       "      <td>4</td>\n",
       "      <td>131</td>\n",
       "      <td>0</td>\n",
       "      <td>13</td>\n",
       "      <td>Weekday</td>\n",
       "    </tr>\n",
       "    <tr>\n",
       "      <td>4</td>\n",
       "      <td>5</td>\n",
       "      <td>6</td>\n",
       "      <td>4</td>\n",
       "      <td>164</td>\n",
       "      <td>0</td>\n",
       "      <td>18</td>\n",
       "      <td>Weekday</td>\n",
       "    </tr>\n",
       "  </tbody>\n",
       "</table>\n",
       "</div>"
      ],
      "text/plain": [
       "   Dptr Hour  Length of Flight (Hrs)  Day of Week  Passengers Boarded  \\\n",
       "0          8                       1            2                 144   \n",
       "1          5                       3            1                 152   \n",
       "2          4                       2            4                 150   \n",
       "3          6                       2            4                 131   \n",
       "4          5                       6            4                 164   \n",
       "\n",
       "   Stock Out Occurred  Cheese Platters Sold Week Part  \n",
       "0                   0                    18   Weekday  \n",
       "1                   0                    15   Weekday  \n",
       "2                   0                    16   Weekday  \n",
       "3                   0                    13   Weekday  \n",
       "4                   0                    18   Weekday  "
      ]
     },
     "execution_count": 747,
     "metadata": {},
     "output_type": "execute_result"
    }
   ],
   "source": [
    "df2.head()"
   ]
  },
  {
   "cell_type": "code",
   "execution_count": 748,
   "metadata": {},
   "outputs": [
    {
     "data": {
      "image/png": "[encoded data removed]",
      "text/plain": [
       "<Figure size 1080x504 with 1 Axes>"
      ]
     },
     "metadata": {
      "needs_background": "light"
     },
     "output_type": "display_data"
    }
   ],
   "source": [
    "p=df2.groupby(['Week Part','Dptr Hour']).mean()[['Cheese Platters Sold']].unstack().T\n",
    "p.index=p.index.droplevel(level=0)\n",
    "\n",
    "x=p.index\n",
    "y1=p['Weekday']\n",
    "y2=p['Weekend']\n",
    "\n",
    "\n",
    "plt.figure(figsize=(15,7))\n",
    "plt.scatter(x,y1,color='red', label='Weekday')\n",
    "plt.scatter(x,y2,color='blue', label='Weekend')\n",
    "plt.title('Average Cheese Platters Sold by Dptr Hour & Week Status',**title_font)\n",
    "plt.xlabel('Dptr Hour',**axis_font)\n",
    "plt.ylabel('Cheese Platters Sold',**axis_font)\n",
    "plt.legend()\n",
    "plt.show()"
   ]
  },
  {
   "cell_type": "markdown",
   "metadata": {},
   "source": [
    "### describe Non Stock Out - Cheese Platters Sold"
   ]
  },
  {
   "cell_type": "code",
   "execution_count": 73,
   "metadata": {},
   "outputs": [
    {
     "data": {
      "text/html": [
       "<div>\n",
       "<style scoped>\n",
       "    .dataframe tbody tr th:only-of-type {\n",
       "        vertical-align: middle;\n",
       "    }\n",
       "\n",
       "    .dataframe tbody tr th {\n",
       "        vertical-align: top;\n",
       "    }\n",
       "\n",
       "    .dataframe thead th {\n",
       "        text-align: right;\n",
       "    }\n",
       "</style>\n",
       "<table border=\"1\" class=\"dataframe\">\n",
       "  <thead>\n",
       "    <tr style=\"text-align: right;\">\n",
       "      <th></th>\n",
       "      <th>Dptr Hour</th>\n",
       "      <th>Length of Flight (Hrs)</th>\n",
       "      <th>Day of Week</th>\n",
       "      <th>Passengers Boarded</th>\n",
       "      <th>Stock Out Occurred</th>\n",
       "      <th>Week Part</th>\n",
       "    </tr>\n",
       "    <tr>\n",
       "      <th>Cheese Platters Sold</th>\n",
       "      <th></th>\n",
       "      <th></th>\n",
       "      <th></th>\n",
       "      <th></th>\n",
       "      <th></th>\n",
       "      <th></th>\n",
       "    </tr>\n",
       "  </thead>\n",
       "  <tbody>\n",
       "    <tr>\n",
       "      <td>5</td>\n",
       "      <td>1</td>\n",
       "      <td>1</td>\n",
       "      <td>1</td>\n",
       "      <td>1</td>\n",
       "      <td>1</td>\n",
       "      <td>1</td>\n",
       "    </tr>\n",
       "    <tr>\n",
       "      <td>6</td>\n",
       "      <td>2</td>\n",
       "      <td>2</td>\n",
       "      <td>2</td>\n",
       "      <td>2</td>\n",
       "      <td>2</td>\n",
       "      <td>2</td>\n",
       "    </tr>\n",
       "    <tr>\n",
       "      <td>7</td>\n",
       "      <td>9</td>\n",
       "      <td>9</td>\n",
       "      <td>9</td>\n",
       "      <td>9</td>\n",
       "      <td>9</td>\n",
       "      <td>9</td>\n",
       "    </tr>\n",
       "    <tr>\n",
       "      <td>8</td>\n",
       "      <td>16</td>\n",
       "      <td>16</td>\n",
       "      <td>16</td>\n",
       "      <td>16</td>\n",
       "      <td>16</td>\n",
       "      <td>16</td>\n",
       "    </tr>\n",
       "    <tr>\n",
       "      <td>9</td>\n",
       "      <td>63</td>\n",
       "      <td>63</td>\n",
       "      <td>63</td>\n",
       "      <td>63</td>\n",
       "      <td>63</td>\n",
       "      <td>63</td>\n",
       "    </tr>\n",
       "    <tr>\n",
       "      <td>10</td>\n",
       "      <td>116</td>\n",
       "      <td>116</td>\n",
       "      <td>116</td>\n",
       "      <td>116</td>\n",
       "      <td>116</td>\n",
       "      <td>116</td>\n",
       "    </tr>\n",
       "    <tr>\n",
       "      <td>11</td>\n",
       "      <td>205</td>\n",
       "      <td>205</td>\n",
       "      <td>205</td>\n",
       "      <td>205</td>\n",
       "      <td>205</td>\n",
       "      <td>205</td>\n",
       "    </tr>\n",
       "    <tr>\n",
       "      <td>12</td>\n",
       "      <td>305</td>\n",
       "      <td>305</td>\n",
       "      <td>305</td>\n",
       "      <td>305</td>\n",
       "      <td>305</td>\n",
       "      <td>305</td>\n",
       "    </tr>\n",
       "    <tr>\n",
       "      <td>13</td>\n",
       "      <td>450</td>\n",
       "      <td>450</td>\n",
       "      <td>450</td>\n",
       "      <td>450</td>\n",
       "      <td>450</td>\n",
       "      <td>450</td>\n",
       "    </tr>\n",
       "    <tr>\n",
       "      <td>14</td>\n",
       "      <td>521</td>\n",
       "      <td>521</td>\n",
       "      <td>521</td>\n",
       "      <td>521</td>\n",
       "      <td>521</td>\n",
       "      <td>521</td>\n",
       "    </tr>\n",
       "    <tr>\n",
       "      <td>15</td>\n",
       "      <td>582</td>\n",
       "      <td>582</td>\n",
       "      <td>582</td>\n",
       "      <td>582</td>\n",
       "      <td>582</td>\n",
       "      <td>582</td>\n",
       "    </tr>\n",
       "    <tr>\n",
       "      <td>16</td>\n",
       "      <td>590</td>\n",
       "      <td>590</td>\n",
       "      <td>590</td>\n",
       "      <td>590</td>\n",
       "      <td>590</td>\n",
       "      <td>590</td>\n",
       "    </tr>\n",
       "    <tr>\n",
       "      <td>17</td>\n",
       "      <td>515</td>\n",
       "      <td>515</td>\n",
       "      <td>515</td>\n",
       "      <td>515</td>\n",
       "      <td>515</td>\n",
       "      <td>515</td>\n",
       "    </tr>\n",
       "    <tr>\n",
       "      <td>18</td>\n",
       "      <td>420</td>\n",
       "      <td>420</td>\n",
       "      <td>420</td>\n",
       "      <td>420</td>\n",
       "      <td>420</td>\n",
       "      <td>420</td>\n",
       "    </tr>\n",
       "    <tr>\n",
       "      <td>19</td>\n",
       "      <td>342</td>\n",
       "      <td>342</td>\n",
       "      <td>342</td>\n",
       "      <td>342</td>\n",
       "      <td>342</td>\n",
       "      <td>342</td>\n",
       "    </tr>\n",
       "  </tbody>\n",
       "</table>\n",
       "</div>"
      ],
      "text/plain": [
       "                      Dptr Hour  Length of Flight (Hrs)  Day of Week  \\\n",
       "Cheese Platters Sold                                                   \n",
       "5                             1                       1            1   \n",
       "6                             2                       2            2   \n",
       "7                             9                       9            9   \n",
       "8                            16                      16           16   \n",
       "9                            63                      63           63   \n",
       "10                          116                     116          116   \n",
       "11                          205                     205          205   \n",
       "12                          305                     305          305   \n",
       "13                          450                     450          450   \n",
       "14                          521                     521          521   \n",
       "15                          582                     582          582   \n",
       "16                          590                     590          590   \n",
       "17                          515                     515          515   \n",
       "18                          420                     420          420   \n",
       "19                          342                     342          342   \n",
       "\n",
       "                      Passengers Boarded  Stock Out Occurred  Week Part  \n",
       "Cheese Platters Sold                                                     \n",
       "5                                      1                   1          1  \n",
       "6                                      2                   2          2  \n",
       "7                                      9                   9          9  \n",
       "8                                     16                  16         16  \n",
       "9                                     63                  63         63  \n",
       "10                                   116                 116        116  \n",
       "11                                   205                 205        205  \n",
       "12                                   305                 305        305  \n",
       "13                                   450                 450        450  \n",
       "14                                   521                 521        521  \n",
       "15                                   582                 582        582  \n",
       "16                                   590                 590        590  \n",
       "17                                   515                 515        515  \n",
       "18                                   420                 420        420  \n",
       "19                                   342                 342        342  "
      ]
     },
     "execution_count": 73,
     "metadata": {},
     "output_type": "execute_result"
    }
   ],
   "source": [
    "df2[df2['Stock Out Occurred']==0].groupby(['Cheese Platters Sold']).count()"
   ]
  },
  {
   "cell_type": "code",
   "execution_count": 74,
   "metadata": {
    "scrolled": true
   },
   "outputs": [
    {
     "data": {
      "text/html": [
       "<div>\n",
       "<style scoped>\n",
       "    .dataframe tbody tr th:only-of-type {\n",
       "        vertical-align: middle;\n",
       "    }\n",
       "\n",
       "    .dataframe tbody tr th {\n",
       "        vertical-align: top;\n",
       "    }\n",
       "\n",
       "    .dataframe thead th {\n",
       "        text-align: right;\n",
       "    }\n",
       "</style>\n",
       "<table border=\"1\" class=\"dataframe\">\n",
       "  <thead>\n",
       "    <tr style=\"text-align: right;\">\n",
       "      <th></th>\n",
       "      <th>Cheese Platters Sold</th>\n",
       "    </tr>\n",
       "  </thead>\n",
       "  <tbody>\n",
       "    <tr>\n",
       "      <td>count</td>\n",
       "      <td>4137.000000</td>\n",
       "    </tr>\n",
       "    <tr>\n",
       "      <td>mean</td>\n",
       "      <td>14.981146</td>\n",
       "    </tr>\n",
       "    <tr>\n",
       "      <td>std</td>\n",
       "      <td>2.556732</td>\n",
       "    </tr>\n",
       "    <tr>\n",
       "      <td>min</td>\n",
       "      <td>5.000000</td>\n",
       "    </tr>\n",
       "    <tr>\n",
       "      <td>5%</td>\n",
       "      <td>10.800000</td>\n",
       "    </tr>\n",
       "    <tr>\n",
       "      <td>50%</td>\n",
       "      <td>15.000000</td>\n",
       "    </tr>\n",
       "    <tr>\n",
       "      <td>95%</td>\n",
       "      <td>19.000000</td>\n",
       "    </tr>\n",
       "    <tr>\n",
       "      <td>max</td>\n",
       "      <td>19.000000</td>\n",
       "    </tr>\n",
       "  </tbody>\n",
       "</table>\n",
       "</div>"
      ],
      "text/plain": [
       "       Cheese Platters Sold\n",
       "count           4137.000000\n",
       "mean              14.981146\n",
       "std                2.556732\n",
       "min                5.000000\n",
       "5%                10.800000\n",
       "50%               15.000000\n",
       "95%               19.000000\n",
       "max               19.000000"
      ]
     },
     "execution_count": 74,
     "metadata": {},
     "output_type": "execute_result"
    }
   ],
   "source": [
    "nso=df2[df2['Stock Out Occurred']==0][['Cheese Platters Sold']]\n",
    "nso.describe(percentiles=[.05, .5, .95])"
   ]
  },
  {
   "cell_type": "code",
   "execution_count": 75,
   "metadata": {
    "scrolled": true
   },
   "outputs": [
    {
     "data": {
      "text/plain": [
       "<matplotlib.axes._subplots.AxesSubplot at 0x1a278fde90>"
      ]
     },
     "execution_count": 75,
     "metadata": {},
     "output_type": "execute_result"
    },
    {
     "data": {
      "image/png": "[encoded data removed]",
      "text/plain": [
       "<Figure size 432x288 with 1 Axes>"
      ]
     },
     "metadata": {
      "needs_background": "light"
     },
     "output_type": "display_data"
    }
   ],
   "source": [
    "sns.distplot(nso, kde=False)"
   ]
  },
  {
   "cell_type": "raw",
   "metadata": {},
   "source": [
    "I should keep min 11 platters at each flight if I want to cover 95 percent confidence at all flights!\n",
    "in other words, if I keep 11 platter at each flight then 95 out of 100 flights "
   ]
  },
  {
   "cell_type": "markdown",
   "metadata": {},
   "source": [
    "## Distribution"
   ]
  },
  {
   "cell_type": "code",
   "execution_count": 749,
   "metadata": {},
   "outputs": [],
   "source": [
    "def graphs(table,main_title):\n",
    "\n",
    "    plt.subplots(3,2, figsize=(20,15))\n",
    "    plt.suptitle(main_title, size=20) # add above a Main Title\n",
    "\n",
    "    plt.subplot(3,2,1, title='distribution of Dptr Hour')\n",
    "    sns.distplot(table['Dptr Hour'], bins=25, kde=False, color='c') # alternative colors are k, g, b, and m\n",
    "\n",
    "    plt.subplot(3,2,2, title='distribution of Length of Flight (Hrs)')\n",
    "    sns.distplot(table['Length of Flight (Hrs)'], bins=25, kde=False)\n",
    "\n",
    "    plt.subplot(3,2,3, title='distribution of Day of Week')\n",
    "    sns.distplot(table['Day of Week'], kde=False)\n",
    "\n",
    "    plt.subplot(3,2,4, title='distribution of Passengers Boarded')\n",
    "    sns.distplot(table['Passengers Boarded'], bins=50, kde=False)\n",
    "    \n",
    "    plt.subplot(3,2,5, title='distribution of Stock Out Occurred')\n",
    "    sns.distplot(table['Stock Out Occurred'],kde=False)\n",
    "    \n",
    "    plt.subplot(3,2,6, title='distribution of Cheese Platters Sold')\n",
    "    sns.distplot(table['Cheese Platters Sold'], bins=25, kde=False)"
   ]
  },
  {
   "cell_type": "code",
   "execution_count": 750,
   "metadata": {},
   "outputs": [],
   "source": [
    "def dist_graph(a,b,c):\n",
    "    if b=='y':\n",
    "        t=df.groupby(by=df.columns[a]).count()[:c]\n",
    "    else:\n",
    "        t=df.groupby(by=df.columns[a]).count()\n",
    "    \n",
    "    t=t[[t.columns[0]]]\n",
    "    title='Number of Flights by '+df.columns[a]\n",
    "#     plt.title(title,**title_font)\n",
    "    if df.columns[a]=='Passengers Boarded':\n",
    "        t.plot(kind='bar', figsize=(13,6)).grid(axis='y') #,title=title\n",
    "        plt.title(title,**title_font)\n",
    "    else:\n",
    "        t.plot(kind='bar', figsize=(13,6)).grid(axis='y')#,title=title\n",
    "        plt.title(title,**title_font)\n",
    "    plt.ylabel('Number of Flights',**axis_font)\n",
    "    plt.xlabel(df.columns[a],**axis_font)\n",
    "    plt.legend('')\n",
    "#     plt.show()"
   ]
  },
  {
   "cell_type": "code",
   "execution_count": 751,
   "metadata": {
    "scrolled": false
   },
   "outputs": [
    {
     "data": {
      "image/png": "[encoded data removed]",
      "text/plain": [
       "<Figure size 936x432 with 1 Axes>"
      ]
     },
     "metadata": {
      "needs_background": "light"
     },
     "output_type": "display_data"
    },
    {
     "data": {
      "image/png": "[encoded data removed]",
      "text/plain": [
       "<Figure size 936x432 with 1 Axes>"
      ]
     },
     "metadata": {
      "needs_background": "light"
     },
     "output_type": "display_data"
    },
    {
     "data": {
      "image/png": "[encoded data removed]",
      "text/plain": [
       "<Figure size 936x432 with 1 Axes>"
      ]
     },
     "metadata": {
      "needs_background": "light"
     },
     "output_type": "display_data"
    },
    {
     "data": {
      "image/png": "[encoded data removed]",
      "text/plain": [
       "<Figure size 936x432 with 1 Axes>"
      ]
     },
     "metadata": {
      "needs_background": "light"
     },
     "output_type": "display_data"
    },
    {
     "data": {
      "image/png": "[encoded data removed]",
      "text/plain": [
       "<Figure size 936x432 with 1 Axes>"
      ]
     },
     "metadata": {
      "needs_background": "light"
     },
     "output_type": "display_data"
    },
    {
     "data": {
      "image/png": "[encoded data removed]",
      "text/plain": [
       "<Figure size 936x432 with 1 Axes>"
      ]
     },
     "metadata": {
      "needs_background": "light"
     },
     "output_type": "display_data"
    }
   ],
   "source": [
    "for i in range(6):\n",
    "    dist_graph(i,'n',-1)"
   ]
  },
  {
   "cell_type": "code",
   "execution_count": 720,
   "metadata": {},
   "outputs": [
    {
     "data": {
      "image/png": "[encoded data removed]",
      "text/plain": [
       "<Figure size 1440x1080 with 6 Axes>"
      ]
     },
     "metadata": {
      "needs_background": "light"
     },
     "output_type": "display_data"
    }
   ],
   "source": [
    "graphs(df,'ALL DISTRBUTIONS')"
   ]
  },
  {
   "cell_type": "markdown",
   "metadata": {},
   "source": [
    "### describe Non Stock Out - Passengers Boarded"
   ]
  },
  {
   "cell_type": "code",
   "execution_count": 80,
   "metadata": {},
   "outputs": [
    {
     "data": {
      "text/html": [
       "<div>\n",
       "<style scoped>\n",
       "    .dataframe tbody tr th:only-of-type {\n",
       "        vertical-align: middle;\n",
       "    }\n",
       "\n",
       "    .dataframe tbody tr th {\n",
       "        vertical-align: top;\n",
       "    }\n",
       "\n",
       "    .dataframe thead th {\n",
       "        text-align: right;\n",
       "    }\n",
       "</style>\n",
       "<table border=\"1\" class=\"dataframe\">\n",
       "  <thead>\n",
       "    <tr style=\"text-align: right;\">\n",
       "      <th></th>\n",
       "      <th>Passengers Boarded</th>\n",
       "    </tr>\n",
       "  </thead>\n",
       "  <tbody>\n",
       "    <tr>\n",
       "      <td>count</td>\n",
       "      <td>4137.000000</td>\n",
       "    </tr>\n",
       "    <tr>\n",
       "      <td>mean</td>\n",
       "      <td>133.998308</td>\n",
       "    </tr>\n",
       "    <tr>\n",
       "      <td>std</td>\n",
       "      <td>20.979076</td>\n",
       "    </tr>\n",
       "    <tr>\n",
       "      <td>min</td>\n",
       "      <td>49.000000</td>\n",
       "    </tr>\n",
       "    <tr>\n",
       "      <td>5%</td>\n",
       "      <td>97.000000</td>\n",
       "    </tr>\n",
       "    <tr>\n",
       "      <td>50%</td>\n",
       "      <td>135.000000</td>\n",
       "    </tr>\n",
       "    <tr>\n",
       "      <td>95%</td>\n",
       "      <td>165.000000</td>\n",
       "    </tr>\n",
       "    <tr>\n",
       "      <td>max</td>\n",
       "      <td>165.000000</td>\n",
       "    </tr>\n",
       "  </tbody>\n",
       "</table>\n",
       "</div>"
      ],
      "text/plain": [
       "       Passengers Boarded\n",
       "count         4137.000000\n",
       "mean           133.998308\n",
       "std             20.979076\n",
       "min             49.000000\n",
       "5%              97.000000\n",
       "50%            135.000000\n",
       "95%            165.000000\n",
       "max            165.000000"
      ]
     },
     "execution_count": 80,
     "metadata": {},
     "output_type": "execute_result"
    }
   ],
   "source": [
    "nso_passenger=df2[df2['Stock Out Occurred']==0][['Passengers Boarded']]\n",
    "nso_passenger.describe(percentiles=[.05, .5, .95])"
   ]
  },
  {
   "cell_type": "code",
   "execution_count": 81,
   "metadata": {
    "scrolled": true
   },
   "outputs": [
    {
     "data": {
      "text/plain": [
       "<matplotlib.axes._subplots.AxesSubplot at 0x1a2815aed0>"
      ]
     },
     "execution_count": 81,
     "metadata": {},
     "output_type": "execute_result"
    },
    {
     "data": {
      "image/png": "[encoded data removed]",
      "text/plain": [
       "<Figure size 432x288 with 1 Axes>"
      ]
     },
     "metadata": {
      "needs_background": "light"
     },
     "output_type": "display_data"
    }
   ],
   "source": [
    "sns.distplot(nso_passenger, kde=False)"
   ]
  },
  {
   "cell_type": "markdown",
   "metadata": {},
   "source": [
    "# 3.ESTIMATING DEMAND"
   ]
  },
  {
   "cell_type": "markdown",
   "metadata": {},
   "source": [
    "## Model 1- Predict \"Stock Out Sales\""
   ]
  },
  {
   "cell_type": "code",
   "execution_count": 82,
   "metadata": {},
   "outputs": [],
   "source": [
    "from sklearn.linear_model import LogisticRegression\n",
    "from sklearn.model_selection import train_test_split,cross_val_score, KFold\n",
    "from sklearn.preprocessing import StandardScaler\n",
    "from sklearn.metrics import accuracy_score, confusion_matrix\n",
    "import statsmodels.api as sm"
   ]
  },
  {
   "cell_type": "code",
   "execution_count": 83,
   "metadata": {},
   "outputs": [],
   "source": [
    "def process_train(model,X):\n",
    "    ss=StandardScaler()\n",
    "    X_sc=ss.fit_transform(X)\n",
    "#     print(X_sc)\n",
    "    model.fit(X_sc,y_train)\n",
    "    crv=cross_val_score(model,X_sc,y_train).mean().round(4)\n",
    "    return(crv)"
   ]
  },
  {
   "cell_type": "code",
   "execution_count": 84,
   "metadata": {},
   "outputs": [],
   "source": [
    "def process_test(model,X_test):\n",
    "    ss=StandardScaler()\n",
    "    X_test_sc=ss.fit_transform(X_test)\n",
    "    ms=model.score(X_test_sc,y_test).round(4)\n",
    "    return ms"
   ]
  },
  {
   "cell_type": "code",
   "execution_count": 85,
   "metadata": {},
   "outputs": [],
   "source": [
    "def coefficients(model,X_train):\n",
    "    x=pd.DataFrame(model.coef_.round(4),columns=X_train.columns).T\n",
    "    x=x.rename(columns={0:'coefficient'})\n",
    "    return x"
   ]
  },
  {
   "cell_type": "code",
   "execution_count": 86,
   "metadata": {},
   "outputs": [],
   "source": [
    "def summary(model):\n",
    "    model=sm.Logit(y_train,X_train)\n",
    "    result=model.fit()\n",
    "    print(result.summary())"
   ]
  },
  {
   "cell_type": "code",
   "execution_count": 619,
   "metadata": {},
   "outputs": [
    {
     "data": {
      "text/html": [
       "<div>\n",
       "<style scoped>\n",
       "    .dataframe tbody tr th:only-of-type {\n",
       "        vertical-align: middle;\n",
       "    }\n",
       "\n",
       "    .dataframe tbody tr th {\n",
       "        vertical-align: top;\n",
       "    }\n",
       "\n",
       "    .dataframe thead th {\n",
       "        text-align: right;\n",
       "    }\n",
       "</style>\n",
       "<table border=\"1\" class=\"dataframe\">\n",
       "  <thead>\n",
       "    <tr style=\"text-align: right;\">\n",
       "      <th></th>\n",
       "      <th>Dptr Hour</th>\n",
       "      <th>Length of Flight (Hrs)</th>\n",
       "      <th>Day of Week</th>\n",
       "      <th>Passengers Boarded</th>\n",
       "      <th>Stock Out Occurred</th>\n",
       "      <th>Cheese Platters Sold</th>\n",
       "      <th>Week Part</th>\n",
       "      <th>Hour Class</th>\n",
       "      <th>Unsold Cheese Platters</th>\n",
       "    </tr>\n",
       "  </thead>\n",
       "  <tbody>\n",
       "    <tr>\n",
       "      <td>0</td>\n",
       "      <td>8</td>\n",
       "      <td>1</td>\n",
       "      <td>2</td>\n",
       "      <td>144</td>\n",
       "      <td>0</td>\n",
       "      <td>18</td>\n",
       "      <td>Weekday</td>\n",
       "      <td>midday</td>\n",
       "      <td>2</td>\n",
       "    </tr>\n",
       "    <tr>\n",
       "      <td>1</td>\n",
       "      <td>5</td>\n",
       "      <td>3</td>\n",
       "      <td>1</td>\n",
       "      <td>152</td>\n",
       "      <td>0</td>\n",
       "      <td>15</td>\n",
       "      <td>Weekday</td>\n",
       "      <td>early</td>\n",
       "      <td>5</td>\n",
       "    </tr>\n",
       "    <tr>\n",
       "      <td>2</td>\n",
       "      <td>4</td>\n",
       "      <td>2</td>\n",
       "      <td>4</td>\n",
       "      <td>150</td>\n",
       "      <td>0</td>\n",
       "      <td>16</td>\n",
       "      <td>Weekday</td>\n",
       "      <td>early</td>\n",
       "      <td>4</td>\n",
       "    </tr>\n",
       "    <tr>\n",
       "      <td>3</td>\n",
       "      <td>6</td>\n",
       "      <td>2</td>\n",
       "      <td>4</td>\n",
       "      <td>131</td>\n",
       "      <td>0</td>\n",
       "      <td>13</td>\n",
       "      <td>Weekday</td>\n",
       "      <td>early</td>\n",
       "      <td>7</td>\n",
       "    </tr>\n",
       "    <tr>\n",
       "      <td>4</td>\n",
       "      <td>5</td>\n",
       "      <td>6</td>\n",
       "      <td>4</td>\n",
       "      <td>164</td>\n",
       "      <td>0</td>\n",
       "      <td>18</td>\n",
       "      <td>Weekday</td>\n",
       "      <td>early</td>\n",
       "      <td>2</td>\n",
       "    </tr>\n",
       "  </tbody>\n",
       "</table>\n",
       "</div>"
      ],
      "text/plain": [
       "  Dptr Hour  Length of Flight (Hrs) Day of Week  Passengers Boarded  \\\n",
       "0         8                       1           2                 144   \n",
       "1         5                       3           1                 152   \n",
       "2         4                       2           4                 150   \n",
       "3         6                       2           4                 131   \n",
       "4         5                       6           4                 164   \n",
       "\n",
       "   Stock Out Occurred  Cheese Platters Sold Week Part Hour Class  \\\n",
       "0                   0                    18   Weekday     midday   \n",
       "1                   0                    15   Weekday      early   \n",
       "2                   0                    16   Weekday      early   \n",
       "3                   0                    13   Weekday      early   \n",
       "4                   0                    18   Weekday      early   \n",
       "\n",
       "   Unsold Cheese Platters  \n",
       "0                       2  \n",
       "1                       5  \n",
       "2                       4  \n",
       "3                       7  \n",
       "4                       2  "
      ]
     },
     "execution_count": 619,
     "metadata": {},
     "output_type": "execute_result"
    }
   ],
   "source": [
    "df4=df2\n",
    "df4.head()"
   ]
  },
  {
   "cell_type": "code",
   "execution_count": 88,
   "metadata": {},
   "outputs": [],
   "source": [
    "time_class_dict={ 'early':[0, 7], 'midday':[8, 19],'night':[20,24]}\n",
    "\n",
    "def time_class_maker(value, time_class_dict=time_class_dict):\n",
    "        for k, v in time_class_dict.items():\n",
    "            if (value>=v[0] and value<=v[1]):\n",
    "                return(k)\n",
    "            elif value=='NaN':\n",
    "                return('unknown')# if time is null so it will return to string as 'unknown'"
   ]
  },
  {
   "cell_type": "code",
   "execution_count": 89,
   "metadata": {},
   "outputs": [],
   "source": [
    "df4['Hour Class']=df4['Dptr Hour'].map(lambda x: time_class_maker(x))"
   ]
  },
  {
   "cell_type": "code",
   "execution_count": 90,
   "metadata": {},
   "outputs": [],
   "source": [
    "# convert numeric features to string format\n",
    "df4['Dptr Hour']=df4['Dptr Hour'].astype(str)\n",
    "df4['Day of Week']=df4['Day of Week'].astype(str)"
   ]
  },
  {
   "cell_type": "code",
   "execution_count": 91,
   "metadata": {},
   "outputs": [
    {
     "data": {
      "text/html": [
       "<div>\n",
       "<style scoped>\n",
       "    .dataframe tbody tr th:only-of-type {\n",
       "        vertical-align: middle;\n",
       "    }\n",
       "\n",
       "    .dataframe tbody tr th {\n",
       "        vertical-align: top;\n",
       "    }\n",
       "\n",
       "    .dataframe thead th {\n",
       "        text-align: right;\n",
       "    }\n",
       "</style>\n",
       "<table border=\"1\" class=\"dataframe\">\n",
       "  <thead>\n",
       "    <tr style=\"text-align: right;\">\n",
       "      <th></th>\n",
       "      <th>Dptr Hour</th>\n",
       "      <th>Length of Flight (Hrs)</th>\n",
       "      <th>Day of Week</th>\n",
       "      <th>Passengers Boarded</th>\n",
       "      <th>Stock Out Occurred</th>\n",
       "      <th>Cheese Platters Sold</th>\n",
       "      <th>Week Part</th>\n",
       "      <th>Hour Class</th>\n",
       "    </tr>\n",
       "  </thead>\n",
       "  <tbody>\n",
       "    <tr>\n",
       "      <td>0</td>\n",
       "      <td>8</td>\n",
       "      <td>1</td>\n",
       "      <td>2</td>\n",
       "      <td>144</td>\n",
       "      <td>0</td>\n",
       "      <td>18</td>\n",
       "      <td>Weekday</td>\n",
       "      <td>midday</td>\n",
       "    </tr>\n",
       "    <tr>\n",
       "      <td>1</td>\n",
       "      <td>5</td>\n",
       "      <td>3</td>\n",
       "      <td>1</td>\n",
       "      <td>152</td>\n",
       "      <td>0</td>\n",
       "      <td>15</td>\n",
       "      <td>Weekday</td>\n",
       "      <td>early</td>\n",
       "    </tr>\n",
       "    <tr>\n",
       "      <td>2</td>\n",
       "      <td>4</td>\n",
       "      <td>2</td>\n",
       "      <td>4</td>\n",
       "      <td>150</td>\n",
       "      <td>0</td>\n",
       "      <td>16</td>\n",
       "      <td>Weekday</td>\n",
       "      <td>early</td>\n",
       "    </tr>\n",
       "    <tr>\n",
       "      <td>3</td>\n",
       "      <td>6</td>\n",
       "      <td>2</td>\n",
       "      <td>4</td>\n",
       "      <td>131</td>\n",
       "      <td>0</td>\n",
       "      <td>13</td>\n",
       "      <td>Weekday</td>\n",
       "      <td>early</td>\n",
       "    </tr>\n",
       "    <tr>\n",
       "      <td>4</td>\n",
       "      <td>5</td>\n",
       "      <td>6</td>\n",
       "      <td>4</td>\n",
       "      <td>164</td>\n",
       "      <td>0</td>\n",
       "      <td>18</td>\n",
       "      <td>Weekday</td>\n",
       "      <td>early</td>\n",
       "    </tr>\n",
       "  </tbody>\n",
       "</table>\n",
       "</div>"
      ],
      "text/plain": [
       "  Dptr Hour  Length of Flight (Hrs) Day of Week  Passengers Boarded  \\\n",
       "0         8                       1           2                 144   \n",
       "1         5                       3           1                 152   \n",
       "2         4                       2           4                 150   \n",
       "3         6                       2           4                 131   \n",
       "4         5                       6           4                 164   \n",
       "\n",
       "   Stock Out Occurred  Cheese Platters Sold Week Part Hour Class  \n",
       "0                   0                    18   Weekday     midday  \n",
       "1                   0                    15   Weekday      early  \n",
       "2                   0                    16   Weekday      early  \n",
       "3                   0                    13   Weekday      early  \n",
       "4                   0                    18   Weekday      early  "
      ]
     },
     "execution_count": 91,
     "metadata": {},
     "output_type": "execute_result"
    }
   ],
   "source": [
    "df4.head()"
   ]
  },
  {
   "cell_type": "code",
   "execution_count": 92,
   "metadata": {},
   "outputs": [
    {
     "data": {
      "text/plain": [
       "Dptr Hour                 object\n",
       "Length of Flight (Hrs)     int64\n",
       "Day of Week               object\n",
       "Passengers Boarded         int64\n",
       "Stock Out Occurred         int64\n",
       "Cheese Platters Sold       int64\n",
       "Week Part                 object\n",
       "Hour Class                object\n",
       "dtype: object"
      ]
     },
     "execution_count": 92,
     "metadata": {},
     "output_type": "execute_result"
    }
   ],
   "source": [
    "df4.dtypes"
   ]
  },
  {
   "cell_type": "raw",
   "metadata": {},
   "source": [
    "target: 'Stock Out Occurred'\n",
    "categoric features:  'Week Part','Hour Class '\n",
    "numeric fetaures: 'Length of Flight (Hrs)','Passengers Boarded'\n",
    "    \n",
    "??? :'Cheese Platters Sold',\n",
    "not used: 'Dptr Hour',  'Day of Week',"
   ]
  },
  {
   "cell_type": "code",
   "execution_count": 620,
   "metadata": {},
   "outputs": [
    {
     "data": {
      "text/html": [
       "<div>\n",
       "<style scoped>\n",
       "    .dataframe tbody tr th:only-of-type {\n",
       "        vertical-align: middle;\n",
       "    }\n",
       "\n",
       "    .dataframe tbody tr th {\n",
       "        vertical-align: top;\n",
       "    }\n",
       "\n",
       "    .dataframe thead th {\n",
       "        text-align: right;\n",
       "    }\n",
       "</style>\n",
       "<table border=\"1\" class=\"dataframe\">\n",
       "  <thead>\n",
       "    <tr style=\"text-align: right;\">\n",
       "      <th></th>\n",
       "      <th>Length of Flight (Hrs)</th>\n",
       "      <th>Passengers Boarded</th>\n",
       "      <th>Stock Out Occurred</th>\n",
       "      <th>Week Part_Weekday</th>\n",
       "      <th>Week Part_Weekend</th>\n",
       "      <th>Hour Class_early</th>\n",
       "      <th>Hour Class_midday</th>\n",
       "      <th>Hour Class_night</th>\n",
       "    </tr>\n",
       "  </thead>\n",
       "  <tbody>\n",
       "    <tr>\n",
       "      <td>0</td>\n",
       "      <td>1</td>\n",
       "      <td>144</td>\n",
       "      <td>0</td>\n",
       "      <td>1</td>\n",
       "      <td>0</td>\n",
       "      <td>0</td>\n",
       "      <td>1</td>\n",
       "      <td>0</td>\n",
       "    </tr>\n",
       "    <tr>\n",
       "      <td>1</td>\n",
       "      <td>3</td>\n",
       "      <td>152</td>\n",
       "      <td>0</td>\n",
       "      <td>1</td>\n",
       "      <td>0</td>\n",
       "      <td>1</td>\n",
       "      <td>0</td>\n",
       "      <td>0</td>\n",
       "    </tr>\n",
       "    <tr>\n",
       "      <td>2</td>\n",
       "      <td>2</td>\n",
       "      <td>150</td>\n",
       "      <td>0</td>\n",
       "      <td>1</td>\n",
       "      <td>0</td>\n",
       "      <td>1</td>\n",
       "      <td>0</td>\n",
       "      <td>0</td>\n",
       "    </tr>\n",
       "    <tr>\n",
       "      <td>3</td>\n",
       "      <td>2</td>\n",
       "      <td>131</td>\n",
       "      <td>0</td>\n",
       "      <td>1</td>\n",
       "      <td>0</td>\n",
       "      <td>1</td>\n",
       "      <td>0</td>\n",
       "      <td>0</td>\n",
       "    </tr>\n",
       "    <tr>\n",
       "      <td>4</td>\n",
       "      <td>6</td>\n",
       "      <td>164</td>\n",
       "      <td>0</td>\n",
       "      <td>1</td>\n",
       "      <td>0</td>\n",
       "      <td>1</td>\n",
       "      <td>0</td>\n",
       "      <td>0</td>\n",
       "    </tr>\n",
       "  </tbody>\n",
       "</table>\n",
       "</div>"
      ],
      "text/plain": [
       "   Length of Flight (Hrs)  Passengers Boarded  Stock Out Occurred  \\\n",
       "0                       1                 144                   0   \n",
       "1                       3                 152                   0   \n",
       "2                       2                 150                   0   \n",
       "3                       2                 131                   0   \n",
       "4                       6                 164                   0   \n",
       "\n",
       "   Week Part_Weekday  Week Part_Weekend  Hour Class_early  Hour Class_midday  \\\n",
       "0                  1                  0                 0                  1   \n",
       "1                  1                  0                 1                  0   \n",
       "2                  1                  0                 1                  0   \n",
       "3                  1                  0                 1                  0   \n",
       "4                  1                  0                 1                  0   \n",
       "\n",
       "   Hour Class_night  \n",
       "0                 0  \n",
       "1                 0  \n",
       "2                 0  \n",
       "3                 0  \n",
       "4                 0  "
      ]
     },
     "execution_count": 620,
     "metadata": {},
     "output_type": "execute_result"
    }
   ],
   "source": [
    "df4=df4[['Week Part','Hour Class','Length of Flight (Hrs)',\n",
    "       'Passengers Boarded','Stock Out Occurred' ,]] #'Cheese Platters Sold'\n",
    "df4=pd.get_dummies(df4)\n",
    "df4.head()"
   ]
  },
  {
   "cell_type": "code",
   "execution_count": 621,
   "metadata": {},
   "outputs": [],
   "source": [
    "features=['Length of Flight (Hrs)','Passengers Boarded','Week Part_Weekday','Hour Class_night','Hour Class_midday']\n",
    "X=df4[features]\n",
    "y=df4['Stock Out Occurred']#'Cheese Platters Sold'"
   ]
  },
  {
   "cell_type": "code",
   "execution_count": 622,
   "metadata": {},
   "outputs": [
    {
     "name": "stdout",
     "output_type": "stream",
     "text": [
      "Warning: Maximum number of iterations has been exceeded.\n",
      "         Current function value: 0.402311\n",
      "         Iterations: 35\n",
      "                           Logit Regression Results                           \n",
      "==============================================================================\n",
      "Dep. Variable:     Stock Out Occurred   No. Observations:                 3750\n",
      "Model:                          Logit   Df Residuals:                     3745\n",
      "Method:                           MLE   Df Model:                            4\n",
      "Date:                Sun, 22 Mar 2020   Pseudo R-squ.:                  0.1252\n",
      "Time:                        01:48:17   Log-Likelihood:                -1508.7\n",
      "converged:                      False   LL-Null:                       -1724.6\n",
      "Covariance Type:            nonrobust   LLR p-value:                 3.784e-92\n",
      "==========================================================================================\n",
      "                             coef    std err          z      P>|z|      [0.025      0.975]\n",
      "------------------------------------------------------------------------------------------\n",
      "Length of Flight (Hrs)    -0.1657      0.025     -6.557      0.000      -0.215      -0.116\n",
      "Passengers Boarded        -0.0116      0.001    -12.536      0.000      -0.013      -0.010\n",
      "Week Part_Weekday         -0.1834      0.095     -1.925      0.054      -0.370       0.003\n",
      "Hour Class_night         -35.5072   5.82e+06   -6.1e-06      1.000   -1.14e+07    1.14e+07\n",
      "Hour Class_midday          1.7256      0.108     16.043      0.000       1.515       1.936\n",
      "==========================================================================================\n",
      "\n",
      "Possibly complete quasi-separation: A fraction 0.20 of observations can be\n",
      "perfectly predicted. This might indicate that there is complete\n",
      "quasi-separation. In this case some parameters will not be identified.\n"
     ]
    }
   ],
   "source": [
    "X_train,X_test, y_train, y_test=train_test_split(X,y, test_size=0.25, random_state=42, stratify=y)\n",
    "\n",
    "model=sm.Logit(y_train,X_train)\n",
    "result=model.fit()\n",
    "print(result.summary())"
   ]
  },
  {
   "cell_type": "code",
   "execution_count": 623,
   "metadata": {
    "scrolled": true
   },
   "outputs": [
    {
     "name": "stdout",
     "output_type": "stream",
     "text": [
      "Optimization terminated successfully.\n",
      "         Current function value: 0.417824\n",
      "         Iterations 7\n",
      "                           Logit Regression Results                           \n",
      "==============================================================================\n",
      "Dep. Variable:     Stock Out Occurred   No. Observations:                 3750\n",
      "Model:                          Logit   Df Residuals:                     3746\n",
      "Method:                           MLE   Df Model:                            3\n",
      "Date:                Sun, 22 Mar 2020   Pseudo R-squ.:                 0.09145\n",
      "Time:                        01:48:28   Log-Likelihood:                -1566.8\n",
      "converged:                       True   LL-Null:                       -1724.6\n",
      "Covariance Type:            nonrobust   LLR p-value:                 4.563e-68\n",
      "==========================================================================================\n",
      "                             coef    std err          z      P>|z|      [0.025      0.975]\n",
      "------------------------------------------------------------------------------------------\n",
      "Length of Flight (Hrs)    -0.1790      0.025     -7.121      0.000      -0.228      -0.130\n",
      "Passengers Boarded        -0.0146      0.001    -15.976      0.000      -0.016      -0.013\n",
      "Week Part_Weekday         -0.2248      0.095     -2.379      0.017      -0.410      -0.040\n",
      "Hour Class_midday          2.2022      0.105     20.912      0.000       1.996       2.409\n",
      "==========================================================================================\n"
     ]
    }
   ],
   "source": [
    "features=['Length of Flight (Hrs)','Passengers Boarded','Week Part_Weekday','Hour Class_midday']#,'Hour Class_night'\n",
    "X=df4[features]\n",
    "y=df4['Stock Out Occurred']\n",
    "\n",
    "X_train,X_test, y_train, y_test=train_test_split(X,y, test_size=0.25, random_state=42, stratify=y)\n",
    "\n",
    "logit_model=sm.Logit(y_train,X_train)\n",
    "result=logit_model.fit()\n",
    "print(result.summary())"
   ]
  },
  {
   "cell_type": "code",
   "execution_count": 624,
   "metadata": {},
   "outputs": [
    {
     "name": "stdout",
     "output_type": "stream",
     "text": [
      "Optimization terminated successfully.\n",
      "         Current function value: 0.425554\n",
      "         Iterations 7\n"
     ]
    }
   ],
   "source": [
    "logit_model=sm.Logit(y_test,X_test)\n",
    "result2=logit_model.fit()\n",
    "# print(result2.summary())"
   ]
  },
  {
   "cell_type": "code",
   "execution_count": 625,
   "metadata": {},
   "outputs": [
    {
     "name": "stdout",
     "output_type": "stream",
     "text": [
      "Length of Flight (Hrs)  0.8392\n",
      "Passengers Boarded  0.9862\n",
      "Week Part_Weekday  0.7578\n",
      "Hour Class_midday  7.947\n"
     ]
    }
   ],
   "source": [
    "print('Length of Flight (Hrs) ',np.exp(-0.1753).round(4)) \n",
    "print('Passengers Boarded ',np.exp(-0.0139).round(4))  \n",
    "print('Week Part_Weekday ',np.exp(-0.2773).round(4)) \n",
    "print('Hour Class_midday ',np.exp(2.0728).round(4)) \n",
    "# print(np.exp(0)) # For Weekend Part_Weekda or Hour Class_early"
   ]
  },
  {
   "cell_type": "code",
   "execution_count": 626,
   "metadata": {},
   "outputs": [
    {
     "data": {
      "text/plain": [
       "array([[2905.,  198.],\n",
       "       [ 647.,    0.]])"
      ]
     },
     "execution_count": 626,
     "metadata": {},
     "output_type": "execute_result"
    }
   ],
   "source": [
    "r1=result.pred_table() # train confusion matrix\n",
    "r1"
   ]
  },
  {
   "cell_type": "code",
   "execution_count": 627,
   "metadata": {},
   "outputs": [
    {
     "data": {
      "text/plain": [
       "array([[982.,  52.],\n",
       "       [216.,   0.]])"
      ]
     },
     "execution_count": 627,
     "metadata": {},
     "output_type": "execute_result"
    }
   ],
   "source": [
    "r2=result2.pred_table() # test confusion matrix\n",
    "r2"
   ]
  },
  {
   "cell_type": "code",
   "execution_count": 628,
   "metadata": {},
   "outputs": [
    {
     "name": "stdout",
     "output_type": "stream",
     "text": [
      "train score:  0.7747\n",
      "test score:  0.7856\n"
     ]
    }
   ],
   "source": [
    "print('train score: ',accuracy_score(y_train, result.predict().round()).round(4))\n",
    "print('test score: ',accuracy_score(y_test, result2.predict().round()).round(4))"
   ]
  },
  {
   "cell_type": "markdown",
   "metadata": {},
   "source": [
    "##### linear model library"
   ]
  },
  {
   "cell_type": "code",
   "execution_count": 629,
   "metadata": {},
   "outputs": [
    {
     "name": "stdout",
     "output_type": "stream",
     "text": [
      "train score: 0.968\n",
      "test score: 0.968\n"
     ]
    },
    {
     "data": {
      "text/html": [
       "<div>\n",
       "<style scoped>\n",
       "    .dataframe tbody tr th:only-of-type {\n",
       "        vertical-align: middle;\n",
       "    }\n",
       "\n",
       "    .dataframe tbody tr th {\n",
       "        vertical-align: top;\n",
       "    }\n",
       "\n",
       "    .dataframe thead th {\n",
       "        text-align: right;\n",
       "    }\n",
       "</style>\n",
       "<table border=\"1\" class=\"dataframe\">\n",
       "  <thead>\n",
       "    <tr style=\"text-align: right;\">\n",
       "      <th></th>\n",
       "      <th>coefficient</th>\n",
       "    </tr>\n",
       "  </thead>\n",
       "  <tbody>\n",
       "    <tr>\n",
       "      <td>Length of Flight (Hrs)</td>\n",
       "      <td>0.5843</td>\n",
       "    </tr>\n",
       "    <tr>\n",
       "      <td>Passengers Boarded</td>\n",
       "      <td>3.0736</td>\n",
       "    </tr>\n",
       "    <tr>\n",
       "      <td>Week Part_Weekday</td>\n",
       "      <td>0.7042</td>\n",
       "    </tr>\n",
       "    <tr>\n",
       "      <td>Hour Class_midday</td>\n",
       "      <td>2.7880</td>\n",
       "    </tr>\n",
       "  </tbody>\n",
       "</table>\n",
       "</div>"
      ],
      "text/plain": [
       "                        coefficient\n",
       "Length of Flight (Hrs)       0.5843\n",
       "Passengers Boarded           3.0736\n",
       "Week Part_Weekday            0.7042\n",
       "Hour Class_midday            2.7880"
      ]
     },
     "execution_count": 629,
     "metadata": {},
     "output_type": "execute_result"
    }
   ],
   "source": [
    "logreg_class=LogisticRegression(fit_intercept=True, penalty='l2',multi_class='multinomial', solver='newton-cg')\n",
    "\n",
    "print (f'train score: {process_train(logreg_class,X_train).round(4)}')\n",
    "print (f'test score: {process_test(logreg_class,X_test)}')\n",
    "coefficients(logreg_class,X_train)"
   ]
  },
  {
   "cell_type": "code",
   "execution_count": 630,
   "metadata": {
    "scrolled": true
   },
   "outputs": [
    {
     "data": {
      "text/plain": [
       "array([[0.58430063, 3.07355598, 0.70417914, 2.78801036]])"
      ]
     },
     "execution_count": 630,
     "metadata": {},
     "output_type": "execute_result"
    }
   ],
   "source": [
    "logreg_class.coef_"
   ]
  },
  {
   "cell_type": "code",
   "execution_count": 631,
   "metadata": {},
   "outputs": [],
   "source": [
    "def coefficients_exp(model,X_train):\n",
    "    x=pd.DataFrame(np.exp(model.coef_).round(4),columns=X_train.columns).T\n",
    "    x=x.rename(columns={0:'coefficient'})\n",
    "    return x"
   ]
  },
  {
   "cell_type": "code",
   "execution_count": 632,
   "metadata": {},
   "outputs": [
    {
     "data": {
      "text/html": [
       "<div>\n",
       "<style scoped>\n",
       "    .dataframe tbody tr th:only-of-type {\n",
       "        vertical-align: middle;\n",
       "    }\n",
       "\n",
       "    .dataframe tbody tr th {\n",
       "        vertical-align: top;\n",
       "    }\n",
       "\n",
       "    .dataframe thead th {\n",
       "        text-align: right;\n",
       "    }\n",
       "</style>\n",
       "<table border=\"1\" class=\"dataframe\">\n",
       "  <thead>\n",
       "    <tr style=\"text-align: right;\">\n",
       "      <th></th>\n",
       "      <th>coefficient</th>\n",
       "    </tr>\n",
       "  </thead>\n",
       "  <tbody>\n",
       "    <tr>\n",
       "      <td>Length of Flight (Hrs)</td>\n",
       "      <td>1.7937</td>\n",
       "    </tr>\n",
       "    <tr>\n",
       "      <td>Passengers Boarded</td>\n",
       "      <td>21.6186</td>\n",
       "    </tr>\n",
       "    <tr>\n",
       "      <td>Week Part_Weekday</td>\n",
       "      <td>2.0222</td>\n",
       "    </tr>\n",
       "    <tr>\n",
       "      <td>Hour Class_midday</td>\n",
       "      <td>16.2487</td>\n",
       "    </tr>\n",
       "  </tbody>\n",
       "</table>\n",
       "</div>"
      ],
      "text/plain": [
       "                        coefficient\n",
       "Length of Flight (Hrs)       1.7937\n",
       "Passengers Boarded          21.6186\n",
       "Week Part_Weekday            2.0222\n",
       "Hour Class_midday           16.2487"
      ]
     },
     "execution_count": 632,
     "metadata": {},
     "output_type": "execute_result"
    }
   ],
   "source": [
    "coefficients_exp(logreg_class,X_train)"
   ]
  },
  {
   "cell_type": "code",
   "execution_count": 633,
   "metadata": {},
   "outputs": [],
   "source": [
    "ss=StandardScaler()\n",
    "X_test_sc=ss.fit_transform(X_test)\n",
    "y_pred=logreg_class.predict(X_test_sc)"
   ]
  },
  {
   "cell_type": "code",
   "execution_count": 634,
   "metadata": {},
   "outputs": [
    {
     "ename": "TypeError",
     "evalue": "'numpy.ndarray' object is not callable",
     "output_type": "error",
     "traceback": [
      "\u001b[0;31m---------------------------------------------------------------------------\u001b[0m",
      "\u001b[0;31mTypeError\u001b[0m                                 Traceback (most recent call last)",
      "\u001b[0;32m<ipython-input-634-b9b801cd476e>\u001b[0m in \u001b[0;36m<module>\u001b[0;34m\u001b[0m\n\u001b[0;32m----> 1\u001b[0;31m \u001b[0mconfusion_matrix\u001b[0m\u001b[0;34m=\u001b[0m\u001b[0mconfusion_matrix\u001b[0m\u001b[0;34m(\u001b[0m\u001b[0my_test\u001b[0m\u001b[0;34m,\u001b[0m \u001b[0my_pred\u001b[0m\u001b[0;34m)\u001b[0m\u001b[0;34m\u001b[0m\u001b[0;34m\u001b[0m\u001b[0m\n\u001b[0m\u001b[1;32m      2\u001b[0m \u001b[0mprint\u001b[0m\u001b[0;34m(\u001b[0m\u001b[0mconfusion_matrix\u001b[0m\u001b[0;34m)\u001b[0m\u001b[0;34m\u001b[0m\u001b[0;34m\u001b[0m\u001b[0m\n",
      "\u001b[0;31mTypeError\u001b[0m: 'numpy.ndarray' object is not callable"
     ]
    }
   ],
   "source": [
    "confusion_matrix=confusion_matrix(y_test, y_pred)\n",
    "print(confusion_matrix)"
   ]
  },
  {
   "cell_type": "markdown",
   "metadata": {},
   "source": [
    "### Model 1B- Binomial Regression"
   ]
  },
  {
   "cell_type": "code",
   "execution_count": 108,
   "metadata": {},
   "outputs": [],
   "source": [
    "features=['Length of Flight (Hrs)','Passengers Boarded','Week Part_Weekday','Hour Class_night','Hour Class_midday']\n",
    "X=df4[features]\n",
    "y=df4['Stock Out Occurred']\n",
    "\n",
    "X_train,X_test, y_train, y_test=train_test_split(X,y, test_size=0.25, random_state=42, stratify=y)"
   ]
  },
  {
   "cell_type": "code",
   "execution_count": 109,
   "metadata": {},
   "outputs": [
    {
     "name": "stdout",
     "output_type": "stream",
     "text": [
      "                 Generalized Linear Model Regression Results                  \n",
      "==============================================================================\n",
      "Dep. Variable:     Stock Out Occurred   No. Observations:                 3750\n",
      "Model:                            GLM   Df Residuals:                     3745\n",
      "Model Family:                Binomial   Df Model:                            4\n",
      "Link Function:                  logit   Scale:                          1.0000\n",
      "Method:                          IRLS   Log-Likelihood:                -1508.7\n",
      "Date:                Sat, 21 Mar 2020   Deviance:                       3017.3\n",
      "Time:                        19:13:57   Pearson chi2:                 2.54e+03\n",
      "No. Iterations:                    25                                         \n",
      "Covariance Type:            nonrobust                                         \n",
      "==========================================================================================\n",
      "                             coef    std err          z      P>|z|      [0.025      0.975]\n",
      "------------------------------------------------------------------------------------------\n",
      "Length of Flight (Hrs)    -0.1657      0.025     -6.557      0.000      -0.215      -0.116\n",
      "Passengers Boarded        -0.0116      0.001    -12.536      0.000      -0.013      -0.010\n",
      "Week Part_Weekday         -0.1834      0.095     -1.925      0.054      -0.370       0.003\n",
      "Hour Class_night         -24.2680   1.28e+04     -0.002      0.998   -2.51e+04    2.51e+04\n",
      "Hour Class_midday          1.7256      0.108     16.043      0.000       1.515       1.936\n",
      "==========================================================================================\n"
     ]
    }
   ],
   "source": [
    "binom_model = sm.GLM(y_train, X_train, family=sm.families.Binomial())\n",
    "binom_model_results = binom_model.fit()\n",
    "print(binom_model_results.summary())"
   ]
  },
  {
   "cell_type": "code",
   "execution_count": 110,
   "metadata": {},
   "outputs": [
    {
     "name": "stdout",
     "output_type": "stream",
     "text": [
      "                 Generalized Linear Model Regression Results                  \n",
      "==============================================================================\n",
      "Dep. Variable:     Stock Out Occurred   No. Observations:                 3750\n",
      "Model:                            GLM   Df Residuals:                     3746\n",
      "Model Family:                Binomial   Df Model:                            3\n",
      "Link Function:                  logit   Scale:                          1.0000\n",
      "Method:                          IRLS   Log-Likelihood:                -1566.8\n",
      "Date:                Sat, 21 Mar 2020   Deviance:                       3133.7\n",
      "Time:                        19:13:57   Pearson chi2:                 2.73e+03\n",
      "No. Iterations:                     6                                         \n",
      "Covariance Type:            nonrobust                                         \n",
      "==========================================================================================\n",
      "                             coef    std err          z      P>|z|      [0.025      0.975]\n",
      "------------------------------------------------------------------------------------------\n",
      "Length of Flight (Hrs)    -0.1790      0.025     -7.121      0.000      -0.228      -0.130\n",
      "Passengers Boarded        -0.0146      0.001    -15.976      0.000      -0.016      -0.013\n",
      "Week Part_Weekday         -0.2248      0.095     -2.379      0.017      -0.410      -0.040\n",
      "Hour Class_midday          2.2022      0.105     20.912      0.000       1.996       2.409\n",
      "==========================================================================================\n"
     ]
    }
   ],
   "source": [
    "features=['Length of Flight (Hrs)','Passengers Boarded','Week Part_Weekday','Hour Class_midday']#,'Hour Class_night'\n",
    "X=df4[features]\n",
    "y=df4['Stock Out Occurred']\n",
    "\n",
    "X_train,X_test, y_train, y_test=train_test_split(X,y, test_size=0.25, random_state=42, stratify=y)\n",
    "\n",
    "binom_model = sm.GLM(y_train, X_train, family=sm.families.Binomial())\n",
    "binom_model_results = binom_model.fit()\n",
    "print(binom_model_results.summary())"
   ]
  },
  {
   "cell_type": "code",
   "execution_count": 111,
   "metadata": {},
   "outputs": [],
   "source": [
    "ss=StandardScaler()\n",
    "\n",
    "X_train_sc=ss.fit_transform(X_train)\n",
    "y_train_pred_binom= binom_model_results.predict(X_train_sc)\n",
    "\n",
    "X_test_sc=ss.fit_transform(X_test)\n",
    "y_test_pred_binom= binom_model_results.predict(X_test_sc)"
   ]
  },
  {
   "cell_type": "code",
   "execution_count": 112,
   "metadata": {},
   "outputs": [
    {
     "name": "stdout",
     "output_type": "stream",
     "text": [
      "train score: 0.7\n",
      "test score: 0.6904\n"
     ]
    }
   ],
   "source": [
    "print(f'train score: {accuracy_score(y_train, y_train_pred_binom.round()).round(4)}')\n",
    "print(f'test score: {accuracy_score(y_test, y_test_pred_binom.round()).round(4)}')"
   ]
  },
  {
   "cell_type": "code",
   "execution_count": 113,
   "metadata": {},
   "outputs": [
    {
     "ename": "TypeError",
     "evalue": "'numpy.ndarray' object is not callable",
     "output_type": "error",
     "traceback": [
      "\u001b[0;31m---------------------------------------------------------------------------\u001b[0m",
      "\u001b[0;31mTypeError\u001b[0m                                 Traceback (most recent call last)",
      "\u001b[0;32m<ipython-input-113-aa10f63e7fa8>\u001b[0m in \u001b[0;36m<module>\u001b[0;34m\u001b[0m\n\u001b[0;32m----> 1\u001b[0;31m \u001b[0mconfusion_matrix\u001b[0m\u001b[0;34m=\u001b[0m\u001b[0mconfusion_matrix\u001b[0m\u001b[0;34m(\u001b[0m\u001b[0my_test\u001b[0m\u001b[0;34m,\u001b[0m \u001b[0my_test_pred_binom\u001b[0m\u001b[0;34m.\u001b[0m\u001b[0mround\u001b[0m\u001b[0;34m(\u001b[0m\u001b[0;34m)\u001b[0m\u001b[0;34m)\u001b[0m\u001b[0;34m\u001b[0m\u001b[0;34m\u001b[0m\u001b[0m\n\u001b[0m\u001b[1;32m      2\u001b[0m \u001b[0mprint\u001b[0m\u001b[0;34m(\u001b[0m\u001b[0mconfusion_matrix\u001b[0m\u001b[0;34m)\u001b[0m\u001b[0;34m\u001b[0m\u001b[0;34m\u001b[0m\u001b[0m\n",
      "\u001b[0;31mTypeError\u001b[0m: 'numpy.ndarray' object is not callable"
     ]
    }
   ],
   "source": [
    "confusion_matrix=confusion_matrix(y_test, y_test_pred_binom.round())\n",
    "print(confusion_matrix)"
   ]
  },
  {
   "cell_type": "markdown",
   "metadata": {},
   "source": [
    "## Model 1C- Predict \"Almost Stock Out Sales\""
   ]
  },
  {
   "cell_type": "code",
   "execution_count": null,
   "metadata": {},
   "outputs": [],
   "source": [
    "df3=df2\n",
    "df3.head(5)"
   ]
  },
  {
   "cell_type": "code",
   "execution_count": null,
   "metadata": {},
   "outputs": [],
   "source": [
    "stock_out_class_dict={ 0:[0, 18], 1 :[19, 20]}\n",
    "\n",
    "def stock_out_class_maker(value, stock_out_class_dict=stock_out_class_dict):\n",
    "        for k, v in stock_out_class_dict.items():\n",
    "            if (value>=v[0] and value<=v[1]):\n",
    "                return(k)\n",
    "            elif value=='NaN':\n",
    "                return('unknown')# if time is null so it will return to string as 'unknown'"
   ]
  },
  {
   "cell_type": "code",
   "execution_count": null,
   "metadata": {},
   "outputs": [],
   "source": [
    "# df3['Dptr Hour']=df3['Dptr Hour'].astype(int)\n",
    "# df3['Hour Class']=df3['Dptr Hour'].map(lambda x: time_class_maker(x)) \n",
    "df3['Almost Stock Out']=df3['Cheese Platters Sold'].map(lambda x:stock_out_class_maker (x))"
   ]
  },
  {
   "cell_type": "code",
   "execution_count": null,
   "metadata": {},
   "outputs": [],
   "source": [
    "df3.dtypes"
   ]
  },
  {
   "cell_type": "code",
   "execution_count": null,
   "metadata": {},
   "outputs": [],
   "source": [
    "df3.head()"
   ]
  },
  {
   "cell_type": "code",
   "execution_count": null,
   "metadata": {},
   "outputs": [],
   "source": [
    "df3=df3[['Week Part','Hour Class','Length of Flight (Hrs)',\n",
    "       'Passengers Boarded', 'Almost Stock Out',]] \n",
    "df3=pd.get_dummies(df3)\n",
    "df3.head()"
   ]
  },
  {
   "cell_type": "code",
   "execution_count": null,
   "metadata": {},
   "outputs": [],
   "source": [
    "features=['Length of Flight (Hrs)','Passengers Boarded','Week Part_Weekday','Hour Class_night','Hour Class_midday']\n",
    "X=df3[features]\n",
    "y=df3['Almost Stock Out']\n",
    "\n",
    "X_train,X_test, y_train, y_test=train_test_split(X,y, test_size=0.25, random_state=42, stratify=y)\n",
    "\n",
    "model=sm.Logit(y_train,X_train)\n",
    "result=model.fit()\n",
    "print(result.summary())"
   ]
  },
  {
   "cell_type": "code",
   "execution_count": null,
   "metadata": {},
   "outputs": [],
   "source": [
    "print('Length of Flight (Hrs) ',np.exp(-0.1669).round(4)) \n",
    "print('Passengers Boarded ',np.exp(-0.0090).round(4))  \n",
    "print('Week Part_Weekday ',np.exp(-0.2351).round(4)) \n",
    "print('Hour Class_night ',np.exp(-1.9287).round(4)) \n",
    "print('Hour Class_midday ',np.exp(1.8944).round(4)) \n",
    "# print(np.exp(0)) # For Weekend Part_Weekda or Hour Class_early"
   ]
  },
  {
   "cell_type": "code",
   "execution_count": null,
   "metadata": {},
   "outputs": [],
   "source": [
    "logit_model=sm.Logit(y_test,X_test)\n",
    "result2=logit_model.fit()\n",
    "# print(result2.summary())"
   ]
  },
  {
   "cell_type": "code",
   "execution_count": null,
   "metadata": {},
   "outputs": [],
   "source": [
    "print('train score: ',accuracy_score(y_train, result.predict().round()).round(4))\n",
    "print('test score: ',accuracy_score(y_test, result2.predict().round()).round(4))"
   ]
  },
  {
   "cell_type": "markdown",
   "metadata": {},
   "source": [
    "## Model 2- Predict Non Stock Out Sales"
   ]
  },
  {
   "cell_type": "markdown",
   "metadata": {},
   "source": [
    "### Model 2A- Multi Linear Regression"
   ]
  },
  {
   "cell_type": "code",
   "execution_count": null,
   "metadata": {},
   "outputs": [],
   "source": [
    "from sklearn.linear_model import LinearRegression\n",
    "from scipy.stats import skew\n",
    "from sklearn.metrics import r2_score"
   ]
  },
  {
   "cell_type": "code",
   "execution_count": null,
   "metadata": {
    "scrolled": true
   },
   "outputs": [],
   "source": [
    "df5=df2[df2['Stock Out Occurred']==0]\n",
    "df5.head()"
   ]
  },
  {
   "cell_type": "code",
   "execution_count": null,
   "metadata": {},
   "outputs": [],
   "source": [
    "sns.distplot(np.log(df5['Cheese Platters Sold']), kde=False)"
   ]
  },
  {
   "cell_type": "code",
   "execution_count": null,
   "metadata": {},
   "outputs": [],
   "source": [
    "skew(df5['Cheese Platters Sold'])"
   ]
  },
  {
   "cell_type": "code",
   "execution_count": null,
   "metadata": {},
   "outputs": [],
   "source": [
    "skew(np.log(df5['Cheese Platters Sold']))"
   ]
  },
  {
   "cell_type": "code",
   "execution_count": null,
   "metadata": {},
   "outputs": [],
   "source": [
    "skew(np.sqrt(df5['Cheese Platters Sold']))"
   ]
  },
  {
   "cell_type": "markdown",
   "metadata": {},
   "source": [
    "#### Normalize the graph"
   ]
  },
  {
   "cell_type": "code",
   "execution_count": null,
   "metadata": {},
   "outputs": [],
   "source": [
    "m=max(df5['Cheese Platters Sold'])\n",
    "reflected_val=1+m-df5['Cheese Platters Sold']"
   ]
  },
  {
   "cell_type": "code",
   "execution_count": null,
   "metadata": {},
   "outputs": [],
   "source": [
    "skew(reflected_val)"
   ]
  },
  {
   "cell_type": "code",
   "execution_count": null,
   "metadata": {},
   "outputs": [],
   "source": [
    "skew(np.log(reflected_val))"
   ]
  },
  {
   "cell_type": "code",
   "execution_count": null,
   "metadata": {},
   "outputs": [],
   "source": [
    "skew(np.sqrt(reflected_val))"
   ]
  },
  {
   "cell_type": "code",
   "execution_count": null,
   "metadata": {
    "scrolled": true
   },
   "outputs": [],
   "source": [
    "sns.distplot(reflected_val, kde=False)"
   ]
  },
  {
   "cell_type": "code",
   "execution_count": null,
   "metadata": {},
   "outputs": [],
   "source": [
    "sns.distplot(np.sqrt(reflected_val), kde=False)"
   ]
  },
  {
   "cell_type": "code",
   "execution_count": null,
   "metadata": {
    "scrolled": true
   },
   "outputs": [],
   "source": [
    "df5.head()"
   ]
  },
  {
   "cell_type": "markdown",
   "metadata": {},
   "source": [
    "target: 'Cheese Platters Sold'\n",
    "categoric features:  'Week Part','Hour Class '\n",
    "numeric fetaures: 'Length of Flight (Hrs)','Passengers Boarded'\n",
    "    \n",
    "??? :'Stock Out Occurred'\n",
    "not used: 'Dptr Hour',  'Day of Week',"
   ]
  },
  {
   "cell_type": "code",
   "execution_count": null,
   "metadata": {},
   "outputs": [],
   "source": [
    "df5=df5[['Week Part','Hour Class','Length of Flight (Hrs)',\n",
    "       'Passengers Boarded', 'Cheese Platters Sold']] #\n",
    "df5=pd.get_dummies(df5)\n",
    "df5.head()"
   ]
  },
  {
   "cell_type": "code",
   "execution_count": null,
   "metadata": {},
   "outputs": [],
   "source": [
    "features=['Length of Flight (Hrs)','Passengers Boarded','Week Part_Weekday','Hour Class_night','Hour Class_midday']#,'Week Part_Weekend','Hour Class_early'\n",
    "X=df5[features]\n",
    "y=df5['Cheese Platters Sold']\n",
    "# y=np.sqrt(df5['Cheese Platters Sold'])"
   ]
  },
  {
   "cell_type": "code",
   "execution_count": null,
   "metadata": {},
   "outputs": [],
   "source": [
    "X_train,X_test, y_train, y_test=train_test_split(X,y, test_size=0.25, random_state=42)\n",
    "\n",
    "model=sm.OLS(y_train,X_train)\n",
    "result=model.fit()\n",
    "print(result.summary())"
   ]
  },
  {
   "cell_type": "code",
   "execution_count": null,
   "metadata": {},
   "outputs": [],
   "source": [
    "features=['Length of Flight (Hrs)','Passengers Boarded','Week Part_Weekday','Hour Class_midday']#,'Week Part_Weekend','Hour Class_early','Hour Class_night'\n",
    "X=df5[features]\n",
    "y=df5['Cheese Platters Sold']\n",
    "\n",
    "X_train,X_test, y_train, y_test=train_test_split(X,y, test_size=0.25, random_state=42)\n",
    "\n",
    "model=sm.OLS(y_train,X_train)\n",
    "result=model.fit()\n",
    "print(result.summary())"
   ]
  },
  {
   "cell_type": "code",
   "execution_count": null,
   "metadata": {},
   "outputs": [],
   "source": [
    "model=sm.OLS(y_test,X_test)\n",
    "result2=model.fit()\n",
    "# print(result2.summary())"
   ]
  },
  {
   "cell_type": "code",
   "execution_count": null,
   "metadata": {},
   "outputs": [],
   "source": [
    "print('train score: ',r2_score(y_train, result.predict()).round(4))\n",
    "print('test score: ',r2_score(y_test, result2.predict()).round(4))"
   ]
  },
  {
   "cell_type": "markdown",
   "metadata": {},
   "source": [
    "### linear regresssion in Sklearn Library"
   ]
  },
  {
   "cell_type": "code",
   "execution_count": null,
   "metadata": {},
   "outputs": [],
   "source": [
    "linModel=LinearRegression(fit_intercept=True)\n",
    "\n",
    "print (f'train score: {process_train(linModel,X_train).round(4)}')\n",
    "print (f'test score: {process_test(linModel,X_test)}')"
   ]
  },
  {
   "cell_type": "code",
   "execution_count": null,
   "metadata": {
    "scrolled": true
   },
   "outputs": [],
   "source": [
    "x=pd.DataFrame(linModel.coef_.round(2), index=X_train.columns)\n",
    "x=x.rename(columns={0:'coefficient'})\n",
    "x"
   ]
  },
  {
   "cell_type": "code",
   "execution_count": null,
   "metadata": {},
   "outputs": [],
   "source": [
    "linModel.intercept_"
   ]
  },
  {
   "cell_type": "code",
   "execution_count": null,
   "metadata": {},
   "outputs": [],
   "source": [
    "ss=StandardScaler()\n",
    "X_test_sc=ss.fit_transform(X_test)\n",
    "\n",
    "x=pd.DataFrame(columns=[linModel.predict(X_test_sc).round(), y_test]).T\n",
    "# x.rename(columns={'':'predict','Cheese Platters Sold':'y_test'}, inplace=True)\n",
    "x"
   ]
  },
  {
   "cell_type": "code",
   "execution_count": null,
   "metadata": {},
   "outputs": [],
   "source": [
    "plt.figure(figsize=(15,7))\n",
    "\n",
    "plt.scatter(result2.predict(),y_test, c='k')\n",
    "plt.xlabel('predicted sales')\n",
    "plt.ylabel('actual sales')\n",
    "plt.title(' Q-Q PLOT (Actual versus Predicted Sales)')\n",
    "\n",
    "plt.plot( [0, np.max(linModel.predict(X_test_sc))], [0, np.max(linModel.predict(X_test_sc))], c = 'r')"
   ]
  },
  {
   "cell_type": "markdown",
   "metadata": {},
   "source": [
    "### Model 2B- Poisson Regression "
   ]
  },
  {
   "cell_type": "code",
   "execution_count": 635,
   "metadata": {
    "scrolled": true
   },
   "outputs": [
    {
     "data": {
      "text/html": [
       "<div>\n",
       "<style scoped>\n",
       "    .dataframe tbody tr th:only-of-type {\n",
       "        vertical-align: middle;\n",
       "    }\n",
       "\n",
       "    .dataframe tbody tr th {\n",
       "        vertical-align: top;\n",
       "    }\n",
       "\n",
       "    .dataframe thead th {\n",
       "        text-align: right;\n",
       "    }\n",
       "</style>\n",
       "<table border=\"1\" class=\"dataframe\">\n",
       "  <thead>\n",
       "    <tr style=\"text-align: right;\">\n",
       "      <th></th>\n",
       "      <th>Dptr Hour</th>\n",
       "      <th>Length of Flight (Hrs)</th>\n",
       "      <th>Day of Week</th>\n",
       "      <th>Passengers Boarded</th>\n",
       "      <th>Stock Out Occurred</th>\n",
       "      <th>Cheese Platters Sold</th>\n",
       "      <th>Week Part</th>\n",
       "      <th>Hour Class</th>\n",
       "      <th>Unsold Cheese Platters</th>\n",
       "    </tr>\n",
       "  </thead>\n",
       "  <tbody>\n",
       "    <tr>\n",
       "      <td>0</td>\n",
       "      <td>8</td>\n",
       "      <td>1</td>\n",
       "      <td>2</td>\n",
       "      <td>144</td>\n",
       "      <td>0</td>\n",
       "      <td>18</td>\n",
       "      <td>Weekday</td>\n",
       "      <td>midday</td>\n",
       "      <td>2</td>\n",
       "    </tr>\n",
       "    <tr>\n",
       "      <td>1</td>\n",
       "      <td>5</td>\n",
       "      <td>3</td>\n",
       "      <td>1</td>\n",
       "      <td>152</td>\n",
       "      <td>0</td>\n",
       "      <td>15</td>\n",
       "      <td>Weekday</td>\n",
       "      <td>early</td>\n",
       "      <td>5</td>\n",
       "    </tr>\n",
       "    <tr>\n",
       "      <td>2</td>\n",
       "      <td>4</td>\n",
       "      <td>2</td>\n",
       "      <td>4</td>\n",
       "      <td>150</td>\n",
       "      <td>0</td>\n",
       "      <td>16</td>\n",
       "      <td>Weekday</td>\n",
       "      <td>early</td>\n",
       "      <td>4</td>\n",
       "    </tr>\n",
       "    <tr>\n",
       "      <td>3</td>\n",
       "      <td>6</td>\n",
       "      <td>2</td>\n",
       "      <td>4</td>\n",
       "      <td>131</td>\n",
       "      <td>0</td>\n",
       "      <td>13</td>\n",
       "      <td>Weekday</td>\n",
       "      <td>early</td>\n",
       "      <td>7</td>\n",
       "    </tr>\n",
       "    <tr>\n",
       "      <td>4</td>\n",
       "      <td>5</td>\n",
       "      <td>6</td>\n",
       "      <td>4</td>\n",
       "      <td>164</td>\n",
       "      <td>0</td>\n",
       "      <td>18</td>\n",
       "      <td>Weekday</td>\n",
       "      <td>early</td>\n",
       "      <td>2</td>\n",
       "    </tr>\n",
       "  </tbody>\n",
       "</table>\n",
       "</div>"
      ],
      "text/plain": [
       "  Dptr Hour  Length of Flight (Hrs) Day of Week  Passengers Boarded  \\\n",
       "0         8                       1           2                 144   \n",
       "1         5                       3           1                 152   \n",
       "2         4                       2           4                 150   \n",
       "3         6                       2           4                 131   \n",
       "4         5                       6           4                 164   \n",
       "\n",
       "   Stock Out Occurred  Cheese Platters Sold Week Part Hour Class  \\\n",
       "0                   0                    18   Weekday     midday   \n",
       "1                   0                    15   Weekday      early   \n",
       "2                   0                    16   Weekday      early   \n",
       "3                   0                    13   Weekday      early   \n",
       "4                   0                    18   Weekday      early   \n",
       "\n",
       "   Unsold Cheese Platters  \n",
       "0                       2  \n",
       "1                       5  \n",
       "2                       4  \n",
       "3                       7  \n",
       "4                       2  "
      ]
     },
     "execution_count": 635,
     "metadata": {},
     "output_type": "execute_result"
    }
   ],
   "source": [
    "# df6=df2[df2['Stock Out Occurred']==0]\n",
    "df6=df2\n",
    "df6.head()"
   ]
  },
  {
   "cell_type": "code",
   "execution_count": 636,
   "metadata": {},
   "outputs": [
    {
     "data": {
      "text/html": [
       "<div>\n",
       "<style scoped>\n",
       "    .dataframe tbody tr th:only-of-type {\n",
       "        vertical-align: middle;\n",
       "    }\n",
       "\n",
       "    .dataframe tbody tr th {\n",
       "        vertical-align: top;\n",
       "    }\n",
       "\n",
       "    .dataframe thead th {\n",
       "        text-align: right;\n",
       "    }\n",
       "</style>\n",
       "<table border=\"1\" class=\"dataframe\">\n",
       "  <thead>\n",
       "    <tr style=\"text-align: right;\">\n",
       "      <th></th>\n",
       "      <th>Length of Flight (Hrs)</th>\n",
       "      <th>Passengers Boarded</th>\n",
       "      <th>Cheese Platters Sold</th>\n",
       "      <th>Week Part_Weekday</th>\n",
       "      <th>Week Part_Weekend</th>\n",
       "      <th>Hour Class_early</th>\n",
       "      <th>Hour Class_midday</th>\n",
       "      <th>Hour Class_night</th>\n",
       "    </tr>\n",
       "  </thead>\n",
       "  <tbody>\n",
       "    <tr>\n",
       "      <td>0</td>\n",
       "      <td>1</td>\n",
       "      <td>144</td>\n",
       "      <td>18</td>\n",
       "      <td>1</td>\n",
       "      <td>0</td>\n",
       "      <td>0</td>\n",
       "      <td>1</td>\n",
       "      <td>0</td>\n",
       "    </tr>\n",
       "    <tr>\n",
       "      <td>1</td>\n",
       "      <td>3</td>\n",
       "      <td>152</td>\n",
       "      <td>15</td>\n",
       "      <td>1</td>\n",
       "      <td>0</td>\n",
       "      <td>1</td>\n",
       "      <td>0</td>\n",
       "      <td>0</td>\n",
       "    </tr>\n",
       "    <tr>\n",
       "      <td>2</td>\n",
       "      <td>2</td>\n",
       "      <td>150</td>\n",
       "      <td>16</td>\n",
       "      <td>1</td>\n",
       "      <td>0</td>\n",
       "      <td>1</td>\n",
       "      <td>0</td>\n",
       "      <td>0</td>\n",
       "    </tr>\n",
       "    <tr>\n",
       "      <td>3</td>\n",
       "      <td>2</td>\n",
       "      <td>131</td>\n",
       "      <td>13</td>\n",
       "      <td>1</td>\n",
       "      <td>0</td>\n",
       "      <td>1</td>\n",
       "      <td>0</td>\n",
       "      <td>0</td>\n",
       "    </tr>\n",
       "    <tr>\n",
       "      <td>4</td>\n",
       "      <td>6</td>\n",
       "      <td>164</td>\n",
       "      <td>18</td>\n",
       "      <td>1</td>\n",
       "      <td>0</td>\n",
       "      <td>1</td>\n",
       "      <td>0</td>\n",
       "      <td>0</td>\n",
       "    </tr>\n",
       "  </tbody>\n",
       "</table>\n",
       "</div>"
      ],
      "text/plain": [
       "   Length of Flight (Hrs)  Passengers Boarded  Cheese Platters Sold  \\\n",
       "0                       1                 144                    18   \n",
       "1                       3                 152                    15   \n",
       "2                       2                 150                    16   \n",
       "3                       2                 131                    13   \n",
       "4                       6                 164                    18   \n",
       "\n",
       "   Week Part_Weekday  Week Part_Weekend  Hour Class_early  Hour Class_midday  \\\n",
       "0                  1                  0                 0                  1   \n",
       "1                  1                  0                 1                  0   \n",
       "2                  1                  0                 1                  0   \n",
       "3                  1                  0                 1                  0   \n",
       "4                  1                  0                 1                  0   \n",
       "\n",
       "   Hour Class_night  \n",
       "0                 0  \n",
       "1                 0  \n",
       "2                 0  \n",
       "3                 0  \n",
       "4                 0  "
      ]
     },
     "execution_count": 636,
     "metadata": {},
     "output_type": "execute_result"
    }
   ],
   "source": [
    "df6=df6[['Week Part','Hour Class','Length of Flight (Hrs)',\n",
    "       'Passengers Boarded', 'Cheese Platters Sold']] #\n",
    "df6=pd.get_dummies(df6)\n",
    "df6.head()"
   ]
  },
  {
   "cell_type": "code",
   "execution_count": 637,
   "metadata": {},
   "outputs": [],
   "source": [
    "features=['Length of Flight (Hrs)','Passengers Boarded','Week Part_Weekday','Hour Class_night','Hour Class_midday']#,'Week Part_Weekend','Hour Class_early'\n",
    "X=df6[features]\n",
    "y=df6['Cheese Platters Sold']\n",
    "\n",
    "X=sm.add_constant(X)\n",
    "\n",
    "X_train,X_test, y_train, y_test=train_test_split(X,y, test_size=0.80, random_state=42)"
   ]
  },
  {
   "cell_type": "code",
   "execution_count": 434,
   "metadata": {},
   "outputs": [],
   "source": [
    "# exog, endog = sm.add_constant(x), y\n",
    "# mod = sm.GLM(endog, exog,\n",
    "#              family=sm.families.Poisson(link=sm.families.links.log))\n",
    "# res = mod.fit()"
   ]
  },
  {
   "cell_type": "code",
   "execution_count": 638,
   "metadata": {},
   "outputs": [
    {
     "name": "stdout",
     "output_type": "stream",
     "text": [
      "                  Generalized Linear Model Regression Results                   \n",
      "================================================================================\n",
      "Dep. Variable:     Cheese Platters Sold   No. Observations:                 1000\n",
      "Model:                              GLM   Df Residuals:                      994\n",
      "Model Family:                   Poisson   Df Model:                            5\n",
      "Link Function:                      log   Scale:                          1.0000\n",
      "Method:                            IRLS   Log-Likelihood:                -2319.7\n",
      "Date:                  Sun, 22 Mar 2020   Deviance:                       47.046\n",
      "Time:                          01:50:22   Pearson chi2:                     46.7\n",
      "No. Iterations:                       4                                         \n",
      "Covariance Type:              nonrobust                                         \n",
      "==========================================================================================\n",
      "                             coef    std err          z      P>|z|      [0.025      0.975]\n",
      "------------------------------------------------------------------------------------------\n",
      "const                      1.5673      0.060     25.968      0.000       1.449       1.686\n",
      "Length of Flight (Hrs)     0.0139      0.005      3.022      0.003       0.005       0.023\n",
      "Passengers Boarded         0.0070      0.000     18.456      0.000       0.006       0.008\n",
      "Week Part_Weekday          0.0697      0.018      3.966      0.000       0.035       0.104\n",
      "Hour Class_night           0.0012      0.024      0.051      0.959      -0.046       0.048\n",
      "Hour Class_midday          0.2356      0.019     12.487      0.000       0.199       0.273\n",
      "==========================================================================================\n"
     ]
    }
   ],
   "source": [
    "#Using the statsmodels GLM class, train the Poisson regression model on the training data set.\n",
    "\n",
    "poisson_training_results = sm.GLM(y_train, X_train, family=sm.families.Poisson()).fit() #Poisson\n",
    "\n",
    "#Print the training summary.\n",
    "print(poisson_training_results.summary())"
   ]
  },
  {
   "cell_type": "code",
   "execution_count": 639,
   "metadata": {},
   "outputs": [],
   "source": [
    "poisson_train_predictions = poisson_training_results.get_prediction(X_train)\n",
    "predictions_summary_frame = poisson_train_predictions.summary_frame()\n",
    "y_train_pred_poisson=predictions_summary_frame['mean']\n",
    "\n",
    "#Make some predictions on the test data set.\n",
    "poisson_test_predictions = poisson_training_results.get_prediction(X_test)\n",
    "predictions_summary_frame2 = poisson_test_predictions.summary_frame()\n",
    "y_test_pred_poisson=predictions_summary_frame2['mean']\n",
    "# print(predictions_summary_frame)"
   ]
  },
  {
   "cell_type": "code",
   "execution_count": 641,
   "metadata": {},
   "outputs": [
    {
     "name": "stdout",
     "output_type": "stream",
     "text": [
      "                  Generalized Linear Model Regression Results                   \n",
      "================================================================================\n",
      "Dep. Variable:     Cheese Platters Sold   No. Observations:                 1000\n",
      "Model:                              GLM   Df Residuals:                      995\n",
      "Model Family:                   Poisson   Df Model:                            4\n",
      "Link Function:                      log   Scale:                          1.0000\n",
      "Method:                            IRLS   Log-Likelihood:                -2319.7\n",
      "Date:                  Sun, 22 Mar 2020   Deviance:                       47.049\n",
      "Time:                          01:51:07   Pearson chi2:                     46.8\n",
      "No. Iterations:                       4                                         \n",
      "Covariance Type:              nonrobust                                         \n",
      "==========================================================================================\n",
      "                             coef    std err          z      P>|z|      [0.025      0.975]\n",
      "------------------------------------------------------------------------------------------\n",
      "const                      1.5677      0.060     26.195      0.000       1.450       1.685\n",
      "Length of Flight (Hrs)     0.0139      0.005      3.022      0.003       0.005       0.023\n",
      "Passengers Boarded         0.0070      0.000     18.478      0.000       0.006       0.008\n",
      "Week Part_Weekday          0.0697      0.018      3.968      0.000       0.035       0.104\n",
      "Hour Class_midday          0.2351      0.016     14.651      0.000       0.204       0.267\n",
      "==========================================================================================\n"
     ]
    }
   ],
   "source": [
    "features=['Length of Flight (Hrs)','Passengers Boarded','Week Part_Weekday','Hour Class_midday']#,'Week Part_Weekend','Hour Class_early','Hour Class_night'\n",
    "X=df6[features]\n",
    "y=df6['Cheese Platters Sold']\n",
    "\n",
    "X=sm.add_constant(X)\n",
    "\n",
    "X_train,X_test, y_train, y_test=train_test_split(X,y, test_size=0.80, random_state=42)\n",
    "\n",
    "#Using the statsmodels GLM class, train the Poisson regression model on the training data set.\n",
    "poisson_training_results = sm.GLM(y_train, X_train, family=sm.families.Poisson()).fit() #Poisson\n",
    "\n",
    "#Print the training summary.\n",
    "print(poisson_training_results.summary())"
   ]
  },
  {
   "cell_type": "code",
   "execution_count": 645,
   "metadata": {
    "scrolled": false
   },
   "outputs": [
    {
     "name": "stdout",
     "output_type": "stream",
     "text": [
      "min predict value: 8.0\n",
      "max predict value: 23.0\n"
     ]
    },
    {
     "data": {
      "image/png": "[encoded data removed]",
      "text/plain": [
       "<Figure size 648x648 with 1 Axes>"
      ]
     },
     "metadata": {
      "needs_background": "light"
     },
     "output_type": "display_data"
    }
   ],
   "source": [
    "plt.figure(figsize=(9,9))\n",
    "\n",
    "plt.scatter(y_test_pred_poisson,y_test, c='k')\n",
    "plt.xlabel('predicted sales')\n",
    "plt.ylabel('actual sales')\n",
    "plt.title(' Q-Q PLOT (Actual versus Predicted Sales)')\n",
    "\n",
    "plt.plot( [0, np.max(y_test_pred_poisson)], [0, np.max(y_test_pred_poisson)], c = 'r')\n",
    "\n",
    "print('min predict value:', np.round(y_test_pred_poisson.min()))\n",
    "print('max predict value:', np.round( y_test_pred_poisson.max()))"
   ]
  },
  {
   "cell_type": "code",
   "execution_count": 646,
   "metadata": {},
   "outputs": [
    {
     "data": {
      "text/plain": [
       "[<matplotlib.lines.Line2D at 0x1c3939c450>]"
      ]
     },
     "execution_count": 646,
     "metadata": {},
     "output_type": "execute_result"
    },
    {
     "data": {
      "image/png": "[encoded data removed]",
      "text/plain": [
       "<Figure size 648x648 with 1 Axes>"
      ]
     },
     "metadata": {
      "needs_background": "light"
     },
     "output_type": "display_data"
    }
   ],
   "source": [
    "x=pd.DataFrame(data=[y_test.values,y_test_pred_poisson.values]).T\n",
    "x=x.rename(columns={0:'actual', 1:'predictions'})\n",
    "x2=x.groupby(['actual']).mean().round()\n",
    "\n",
    "plt.figure(figsize=(9,9))\n",
    "\n",
    "plt.scatter(x2['predictions'],x2.index, c='k')\n",
    "plt.xlabel('average of predicted sales')\n",
    "plt.ylabel('actual sales')\n",
    "plt.title(' Q-Q PLOT (Actual versus Average of Predicted Sales)')\n",
    "\n",
    "plt.plot( [0, np.max(y_test_pred_poisson)], [0, np.max(y_test_pred_poisson)], c = 'r')"
   ]
  },
  {
   "cell_type": "code",
   "execution_count": 454,
   "metadata": {},
   "outputs": [],
   "source": [
    "# plt.figure(figsize=(9,9))\n",
    "\n",
    "# plt.bar(x2['predictions'],x2.index, c='k')\n",
    "# plt.xlabel('average of predicted sales')\n",
    "# plt.ylabel('actual sales')\n",
    "# plt.title(' Q-Q PLOT (Actual versus Average of Predicted Sales)')\n",
    "\n",
    "# plt.plot( [0, np.max(y_test_pred_poisson)], [0, np.max(y_test_pred_poisson)], c = 'r')"
   ]
  },
  {
   "cell_type": "code",
   "execution_count": 443,
   "metadata": {},
   "outputs": [],
   "source": [
    "# list(range(5,31))"
   ]
  },
  {
   "cell_type": "code",
   "execution_count": 444,
   "metadata": {},
   "outputs": [],
   "source": [
    "# x2"
   ]
  },
  {
   "cell_type": "markdown",
   "metadata": {},
   "source": [
    "### Model 2C- Tweedie Regression "
   ]
  },
  {
   "cell_type": "code",
   "execution_count": 647,
   "metadata": {},
   "outputs": [
    {
     "data": {
      "text/html": [
       "<div>\n",
       "<style scoped>\n",
       "    .dataframe tbody tr th:only-of-type {\n",
       "        vertical-align: middle;\n",
       "    }\n",
       "\n",
       "    .dataframe tbody tr th {\n",
       "        vertical-align: top;\n",
       "    }\n",
       "\n",
       "    .dataframe thead th {\n",
       "        text-align: right;\n",
       "    }\n",
       "</style>\n",
       "<table border=\"1\" class=\"dataframe\">\n",
       "  <thead>\n",
       "    <tr style=\"text-align: right;\">\n",
       "      <th></th>\n",
       "      <th>Dptr Hour</th>\n",
       "      <th>Length of Flight (Hrs)</th>\n",
       "      <th>Day of Week</th>\n",
       "      <th>Passengers Boarded</th>\n",
       "      <th>Stock Out Occurred</th>\n",
       "      <th>Cheese Platters Sold</th>\n",
       "      <th>Week Part</th>\n",
       "      <th>Hour Class</th>\n",
       "      <th>Unsold Cheese Platters</th>\n",
       "    </tr>\n",
       "  </thead>\n",
       "  <tbody>\n",
       "    <tr>\n",
       "      <td>0</td>\n",
       "      <td>8</td>\n",
       "      <td>1</td>\n",
       "      <td>2</td>\n",
       "      <td>144</td>\n",
       "      <td>0</td>\n",
       "      <td>18</td>\n",
       "      <td>Weekday</td>\n",
       "      <td>midday</td>\n",
       "      <td>2</td>\n",
       "    </tr>\n",
       "    <tr>\n",
       "      <td>1</td>\n",
       "      <td>5</td>\n",
       "      <td>3</td>\n",
       "      <td>1</td>\n",
       "      <td>152</td>\n",
       "      <td>0</td>\n",
       "      <td>15</td>\n",
       "      <td>Weekday</td>\n",
       "      <td>early</td>\n",
       "      <td>5</td>\n",
       "    </tr>\n",
       "    <tr>\n",
       "      <td>2</td>\n",
       "      <td>4</td>\n",
       "      <td>2</td>\n",
       "      <td>4</td>\n",
       "      <td>150</td>\n",
       "      <td>0</td>\n",
       "      <td>16</td>\n",
       "      <td>Weekday</td>\n",
       "      <td>early</td>\n",
       "      <td>4</td>\n",
       "    </tr>\n",
       "    <tr>\n",
       "      <td>3</td>\n",
       "      <td>6</td>\n",
       "      <td>2</td>\n",
       "      <td>4</td>\n",
       "      <td>131</td>\n",
       "      <td>0</td>\n",
       "      <td>13</td>\n",
       "      <td>Weekday</td>\n",
       "      <td>early</td>\n",
       "      <td>7</td>\n",
       "    </tr>\n",
       "    <tr>\n",
       "      <td>4</td>\n",
       "      <td>5</td>\n",
       "      <td>6</td>\n",
       "      <td>4</td>\n",
       "      <td>164</td>\n",
       "      <td>0</td>\n",
       "      <td>18</td>\n",
       "      <td>Weekday</td>\n",
       "      <td>early</td>\n",
       "      <td>2</td>\n",
       "    </tr>\n",
       "  </tbody>\n",
       "</table>\n",
       "</div>"
      ],
      "text/plain": [
       "  Dptr Hour  Length of Flight (Hrs) Day of Week  Passengers Boarded  \\\n",
       "0         8                       1           2                 144   \n",
       "1         5                       3           1                 152   \n",
       "2         4                       2           4                 150   \n",
       "3         6                       2           4                 131   \n",
       "4         5                       6           4                 164   \n",
       "\n",
       "   Stock Out Occurred  Cheese Platters Sold Week Part Hour Class  \\\n",
       "0                   0                    18   Weekday     midday   \n",
       "1                   0                    15   Weekday      early   \n",
       "2                   0                    16   Weekday      early   \n",
       "3                   0                    13   Weekday      early   \n",
       "4                   0                    18   Weekday      early   \n",
       "\n",
       "   Unsold Cheese Platters  \n",
       "0                       2  \n",
       "1                       5  \n",
       "2                       4  \n",
       "3                       7  \n",
       "4                       2  "
      ]
     },
     "execution_count": 647,
     "metadata": {},
     "output_type": "execute_result"
    }
   ],
   "source": [
    "df7=df2\n",
    "df7['Unsold Cheese Platters']=20-df7['Cheese Platters Sold']\n",
    "df7.head()"
   ]
  },
  {
   "cell_type": "code",
   "execution_count": 648,
   "metadata": {},
   "outputs": [
    {
     "data": {
      "text/html": [
       "<div>\n",
       "<style scoped>\n",
       "    .dataframe tbody tr th:only-of-type {\n",
       "        vertical-align: middle;\n",
       "    }\n",
       "\n",
       "    .dataframe tbody tr th {\n",
       "        vertical-align: top;\n",
       "    }\n",
       "\n",
       "    .dataframe thead th {\n",
       "        text-align: right;\n",
       "    }\n",
       "</style>\n",
       "<table border=\"1\" class=\"dataframe\">\n",
       "  <thead>\n",
       "    <tr style=\"text-align: right;\">\n",
       "      <th></th>\n",
       "      <th>Length of Flight (Hrs)</th>\n",
       "      <th>Passengers Boarded</th>\n",
       "      <th>Unsold Cheese Platters</th>\n",
       "      <th>Week Part_Weekday</th>\n",
       "      <th>Week Part_Weekend</th>\n",
       "      <th>Hour Class_early</th>\n",
       "      <th>Hour Class_midday</th>\n",
       "      <th>Hour Class_night</th>\n",
       "    </tr>\n",
       "  </thead>\n",
       "  <tbody>\n",
       "    <tr>\n",
       "      <td>0</td>\n",
       "      <td>1</td>\n",
       "      <td>144</td>\n",
       "      <td>2</td>\n",
       "      <td>1</td>\n",
       "      <td>0</td>\n",
       "      <td>0</td>\n",
       "      <td>1</td>\n",
       "      <td>0</td>\n",
       "    </tr>\n",
       "    <tr>\n",
       "      <td>1</td>\n",
       "      <td>3</td>\n",
       "      <td>152</td>\n",
       "      <td>5</td>\n",
       "      <td>1</td>\n",
       "      <td>0</td>\n",
       "      <td>1</td>\n",
       "      <td>0</td>\n",
       "      <td>0</td>\n",
       "    </tr>\n",
       "    <tr>\n",
       "      <td>2</td>\n",
       "      <td>2</td>\n",
       "      <td>150</td>\n",
       "      <td>4</td>\n",
       "      <td>1</td>\n",
       "      <td>0</td>\n",
       "      <td>1</td>\n",
       "      <td>0</td>\n",
       "      <td>0</td>\n",
       "    </tr>\n",
       "    <tr>\n",
       "      <td>3</td>\n",
       "      <td>2</td>\n",
       "      <td>131</td>\n",
       "      <td>7</td>\n",
       "      <td>1</td>\n",
       "      <td>0</td>\n",
       "      <td>1</td>\n",
       "      <td>0</td>\n",
       "      <td>0</td>\n",
       "    </tr>\n",
       "    <tr>\n",
       "      <td>4</td>\n",
       "      <td>6</td>\n",
       "      <td>164</td>\n",
       "      <td>2</td>\n",
       "      <td>1</td>\n",
       "      <td>0</td>\n",
       "      <td>1</td>\n",
       "      <td>0</td>\n",
       "      <td>0</td>\n",
       "    </tr>\n",
       "  </tbody>\n",
       "</table>\n",
       "</div>"
      ],
      "text/plain": [
       "   Length of Flight (Hrs)  Passengers Boarded  Unsold Cheese Platters  \\\n",
       "0                       1                 144                       2   \n",
       "1                       3                 152                       5   \n",
       "2                       2                 150                       4   \n",
       "3                       2                 131                       7   \n",
       "4                       6                 164                       2   \n",
       "\n",
       "   Week Part_Weekday  Week Part_Weekend  Hour Class_early  Hour Class_midday  \\\n",
       "0                  1                  0                 0                  1   \n",
       "1                  1                  0                 1                  0   \n",
       "2                  1                  0                 1                  0   \n",
       "3                  1                  0                 1                  0   \n",
       "4                  1                  0                 1                  0   \n",
       "\n",
       "   Hour Class_night  \n",
       "0                 0  \n",
       "1                 0  \n",
       "2                 0  \n",
       "3                 0  \n",
       "4                 0  "
      ]
     },
     "execution_count": 648,
     "metadata": {},
     "output_type": "execute_result"
    }
   ],
   "source": [
    "df7=df7[['Week Part','Hour Class','Length of Flight (Hrs)',\n",
    "       'Passengers Boarded', 'Unsold Cheese Platters']] \n",
    "df7=pd.get_dummies(df7)\n",
    "df7.head()"
   ]
  },
  {
   "cell_type": "code",
   "execution_count": 649,
   "metadata": {},
   "outputs": [],
   "source": [
    "features=['Length of Flight (Hrs)','Passengers Boarded','Week Part_Weekday','Hour Class_night','Hour Class_midday']#,'Week Part_Weekend','Hour Class_early'\n",
    "X=df7[features]\n",
    "y=df7['Unsold Cheese Platters']\n",
    "\n",
    "X=sm.add_constant(X)\n",
    "\n",
    "X_train,X_test, y_train, y_test=train_test_split(X,y, test_size=0.80, random_state=42)"
   ]
  },
  {
   "cell_type": "code",
   "execution_count": 650,
   "metadata": {},
   "outputs": [
    {
     "name": "stdout",
     "output_type": "stream",
     "text": [
      "                   Generalized Linear Model Regression Results                    \n",
      "==================================================================================\n",
      "Dep. Variable:     Unsold Cheese Platters   No. Observations:                 1000\n",
      "Model:                                GLM   Df Residuals:                      994\n",
      "Model Family:                     Tweedie   Df Model:                            5\n",
      "Link Function:                        log   Scale:                         0.56167\n",
      "Method:                              IRLS   Log-Likelihood:                    nan\n",
      "Date:                    Sun, 22 Mar 2020   Deviance:                       783.82\n",
      "Time:                            01:54:25   Pearson chi2:                     558.\n",
      "No. Iterations:                         7                                         \n",
      "Covariance Type:                nonrobust                                         \n",
      "==========================================================================================\n",
      "                             coef    std err          z      P>|z|      [0.025      0.975]\n",
      "------------------------------------------------------------------------------------------\n",
      "const                      5.0166      0.069     72.951      0.000       4.882       5.151\n",
      "Length of Flight (Hrs)    -0.0583      0.007     -8.438      0.000      -0.072      -0.045\n",
      "Passengers Boarded        -0.0218      0.000    -46.988      0.000      -0.023      -0.021\n",
      "Week Part_Weekday         -0.2367      0.025     -9.544      0.000      -0.285      -0.188\n",
      "Hour Class_night           0.0074      0.028      0.262      0.793      -0.048       0.063\n",
      "Hour Class_midday         -0.9224      0.028    -32.631      0.000      -0.978      -0.867\n",
      "==========================================================================================\n"
     ]
    }
   ],
   "source": [
    "#Using the statsmodels GLM class, train the Poisson regression model on the training data set.\n",
    "poisson_training_results = sm.GLM(y_train, X_train, family=sm.families.Tweedie()).fit() #Poisson\n",
    "\n",
    "#Print the training summary.\n",
    "print(poisson_training_results.summary())"
   ]
  },
  {
   "cell_type": "code",
   "execution_count": 651,
   "metadata": {},
   "outputs": [
    {
     "name": "stdout",
     "output_type": "stream",
     "text": [
      "                   Generalized Linear Model Regression Results                    \n",
      "==================================================================================\n",
      "Dep. Variable:     Unsold Cheese Platters   No. Observations:                 1000\n",
      "Model:                                GLM   Df Residuals:                      995\n",
      "Model Family:                     Tweedie   Df Model:                            4\n",
      "Link Function:                        log   Scale:                         0.56117\n",
      "Method:                              IRLS   Log-Likelihood:                    nan\n",
      "Date:                    Sun, 22 Mar 2020   Deviance:                       783.86\n",
      "Time:                            01:54:34   Pearson chi2:                     558.\n",
      "No. Iterations:                         7                                         \n",
      "Covariance Type:                nonrobust                                         \n",
      "==========================================================================================\n",
      "                             coef    std err          z      P>|z|      [0.025      0.975]\n",
      "------------------------------------------------------------------------------------------\n",
      "const                      5.0192      0.068     73.801      0.000       4.886       5.153\n",
      "Length of Flight (Hrs)    -0.0584      0.007     -8.461      0.000      -0.072      -0.045\n",
      "Passengers Boarded        -0.0218      0.000    -47.047      0.000      -0.023      -0.021\n",
      "Week Part_Weekday         -0.2369      0.025     -9.562      0.000      -0.285      -0.188\n",
      "Hour Class_midday         -0.9254      0.026    -35.768      0.000      -0.976      -0.875\n",
      "==========================================================================================\n"
     ]
    }
   ],
   "source": [
    "features=['Length of Flight (Hrs)','Passengers Boarded','Week Part_Weekday','Hour Class_midday']#,'Week Part_Weekend','Hour Class_early','Hour Class_night'\n",
    "X=df7[features]\n",
    "y=df7['Unsold Cheese Platters']\n",
    "\n",
    "X=sm.add_constant(X)\n",
    "\n",
    "X_train,X_test, y_train, y_test=train_test_split(X,y, test_size=0.80, random_state=42)\n",
    "\n",
    "#Using the statsmodels GLM class, train the Poisson regression model on the training data set.\n",
    "poisson_training_results = sm.GLM(y_train, X_train, family=sm.families.Tweedie()).fit() #Poisson\n",
    "\n",
    "#Print the training summary.\n",
    "print(poisson_training_results.summary())"
   ]
  },
  {
   "cell_type": "code",
   "execution_count": 652,
   "metadata": {},
   "outputs": [],
   "source": [
    "#Make some predictions on the test data set.\n",
    "poisson_test_predictions = poisson_training_results.get_prediction(X_test)\n",
    "predictions_summary_frame2 = poisson_test_predictions.summary_frame()\n",
    "y_test_pred_poisson=predictions_summary_frame2['mean']\n",
    "# print(predictions_summary_frame)"
   ]
  },
  {
   "cell_type": "code",
   "execution_count": 654,
   "metadata": {},
   "outputs": [
    {
     "name": "stdout",
     "output_type": "stream",
     "text": [
      "min predict value: 1.0\n",
      "max predict value: 30.0\n"
     ]
    },
    {
     "data": {
      "image/png": "[encoded data removed]",
      "text/plain": [
       "<Figure size 648x648 with 1 Axes>"
      ]
     },
     "metadata": {
      "needs_background": "light"
     },
     "output_type": "display_data"
    }
   ],
   "source": [
    "plt.figure(figsize=(9,9))\n",
    "\n",
    "plt.scatter(y_test_pred_poisson,y_test, c='k')\n",
    "plt.xlabel('predicted Unsold Platters')\n",
    "plt.ylabel('actual Unsold Platters')\n",
    "plt.title(' Q-Q PLOT (Actual Unsold versus Predicted Unsold Platters)')\n",
    "\n",
    "plt.plot( [0, np.max(y_test_pred_poisson)], [0, np.max(y_test_pred_poisson)], c = 'r')\n",
    "\n",
    "print('min predict value:', np.round(y_test_pred_poisson.min()))\n",
    "print('max predict value:', np.round( y_test_pred_poisson.max()))"
   ]
  },
  {
   "cell_type": "code",
   "execution_count": 655,
   "metadata": {},
   "outputs": [],
   "source": [
    "y_test_pred_poisson=20-y_test_pred_poisson\n",
    "y_test=20-y_test"
   ]
  },
  {
   "cell_type": "code",
   "execution_count": 656,
   "metadata": {},
   "outputs": [
    {
     "name": "stdout",
     "output_type": "stream",
     "text": [
      "min predict value: -10.0\n",
      "max predict value: 19.0\n"
     ]
    },
    {
     "data": {
      "image/png": "[encoded data removed]",
      "text/plain": [
       "<Figure size 648x648 with 1 Axes>"
      ]
     },
     "metadata": {
      "needs_background": "light"
     },
     "output_type": "display_data"
    }
   ],
   "source": [
    "plt.figure(figsize=(9,9))\n",
    "\n",
    "plt.scatter(y_test_pred_poisson,y_test, c='k')\n",
    "plt.xlabel('predicted sales')\n",
    "plt.ylabel('actual sales')\n",
    "plt.title(' Q-Q PLOT (Actual versus Predicted Sales)')\n",
    "\n",
    "plt.plot( [0, np.max(y_test_pred_poisson)], [0, np.max(y_test_pred_poisson)], c = 'r')\n",
    "\n",
    "print('min predict value:', np.round(y_test_pred_poisson.min()))\n",
    "print('max predict value:', np.round( y_test_pred_poisson.max()))"
   ]
  },
  {
   "cell_type": "code",
   "execution_count": 657,
   "metadata": {},
   "outputs": [
    {
     "data": {
      "text/plain": [
       "[<matplotlib.lines.Line2D at 0x1c3b3fc810>]"
      ]
     },
     "execution_count": 657,
     "metadata": {},
     "output_type": "execute_result"
    },
    {
     "data": {
      "image/png": "[encoded data removed]",
      "text/plain": [
       "<Figure size 648x648 with 1 Axes>"
      ]
     },
     "metadata": {
      "needs_background": "light"
     },
     "output_type": "display_data"
    }
   ],
   "source": [
    "x=pd.DataFrame(data=[y_test.values,y_test_pred_poisson.values]).T\n",
    "x=x.rename(columns={0:'actual', 1:'predictions'})\n",
    "x2=x.groupby(['actual']).mean().round()\n",
    "\n",
    "plt.figure(figsize=(9,9))\n",
    "\n",
    "plt.scatter(x2['predictions'],x2.index, c='k')\n",
    "plt.xlabel('average of predicted sales')\n",
    "plt.ylabel('actual sales')\n",
    "plt.title(' Q-Q PLOT (Actual versus Average of Predicted Sales)')\n",
    "\n",
    "plt.plot( [0, np.max(y_test_pred_poisson)], [0, np.max(y_test_pred_poisson)], c = 'r')"
   ]
  },
  {
   "cell_type": "markdown",
   "metadata": {},
   "source": [
    "### Model 2D- ZeroInflatedPoisson Regression"
   ]
  },
  {
   "cell_type": "code",
   "execution_count": 658,
   "metadata": {},
   "outputs": [],
   "source": [
    "from statsmodels.discrete.count_model import ZeroInflatedPoisson"
   ]
  },
  {
   "cell_type": "code",
   "execution_count": 659,
   "metadata": {},
   "outputs": [
    {
     "data": {
      "text/html": [
       "<div>\n",
       "<style scoped>\n",
       "    .dataframe tbody tr th:only-of-type {\n",
       "        vertical-align: middle;\n",
       "    }\n",
       "\n",
       "    .dataframe tbody tr th {\n",
       "        vertical-align: top;\n",
       "    }\n",
       "\n",
       "    .dataframe thead th {\n",
       "        text-align: right;\n",
       "    }\n",
       "</style>\n",
       "<table border=\"1\" class=\"dataframe\">\n",
       "  <thead>\n",
       "    <tr style=\"text-align: right;\">\n",
       "      <th></th>\n",
       "      <th>Dptr Hour</th>\n",
       "      <th>Length of Flight (Hrs)</th>\n",
       "      <th>Day of Week</th>\n",
       "      <th>Passengers Boarded</th>\n",
       "      <th>Stock Out Occurred</th>\n",
       "      <th>Cheese Platters Sold</th>\n",
       "      <th>Week Part</th>\n",
       "      <th>Hour Class</th>\n",
       "      <th>Unsold Cheese Platters</th>\n",
       "    </tr>\n",
       "  </thead>\n",
       "  <tbody>\n",
       "    <tr>\n",
       "      <td>0</td>\n",
       "      <td>8</td>\n",
       "      <td>1</td>\n",
       "      <td>2</td>\n",
       "      <td>144</td>\n",
       "      <td>0</td>\n",
       "      <td>18</td>\n",
       "      <td>Weekday</td>\n",
       "      <td>midday</td>\n",
       "      <td>2</td>\n",
       "    </tr>\n",
       "    <tr>\n",
       "      <td>1</td>\n",
       "      <td>5</td>\n",
       "      <td>3</td>\n",
       "      <td>1</td>\n",
       "      <td>152</td>\n",
       "      <td>0</td>\n",
       "      <td>15</td>\n",
       "      <td>Weekday</td>\n",
       "      <td>early</td>\n",
       "      <td>5</td>\n",
       "    </tr>\n",
       "    <tr>\n",
       "      <td>2</td>\n",
       "      <td>4</td>\n",
       "      <td>2</td>\n",
       "      <td>4</td>\n",
       "      <td>150</td>\n",
       "      <td>0</td>\n",
       "      <td>16</td>\n",
       "      <td>Weekday</td>\n",
       "      <td>early</td>\n",
       "      <td>4</td>\n",
       "    </tr>\n",
       "    <tr>\n",
       "      <td>3</td>\n",
       "      <td>6</td>\n",
       "      <td>2</td>\n",
       "      <td>4</td>\n",
       "      <td>131</td>\n",
       "      <td>0</td>\n",
       "      <td>13</td>\n",
       "      <td>Weekday</td>\n",
       "      <td>early</td>\n",
       "      <td>7</td>\n",
       "    </tr>\n",
       "    <tr>\n",
       "      <td>4</td>\n",
       "      <td>5</td>\n",
       "      <td>6</td>\n",
       "      <td>4</td>\n",
       "      <td>164</td>\n",
       "      <td>0</td>\n",
       "      <td>18</td>\n",
       "      <td>Weekday</td>\n",
       "      <td>early</td>\n",
       "      <td>2</td>\n",
       "    </tr>\n",
       "  </tbody>\n",
       "</table>\n",
       "</div>"
      ],
      "text/plain": [
       "  Dptr Hour  Length of Flight (Hrs) Day of Week  Passengers Boarded  \\\n",
       "0         8                       1           2                 144   \n",
       "1         5                       3           1                 152   \n",
       "2         4                       2           4                 150   \n",
       "3         6                       2           4                 131   \n",
       "4         5                       6           4                 164   \n",
       "\n",
       "   Stock Out Occurred  Cheese Platters Sold Week Part Hour Class  \\\n",
       "0                   0                    18   Weekday     midday   \n",
       "1                   0                    15   Weekday      early   \n",
       "2                   0                    16   Weekday      early   \n",
       "3                   0                    13   Weekday      early   \n",
       "4                   0                    18   Weekday      early   \n",
       "\n",
       "   Unsold Cheese Platters  \n",
       "0                       2  \n",
       "1                       5  \n",
       "2                       4  \n",
       "3                       7  \n",
       "4                       2  "
      ]
     },
     "execution_count": 659,
     "metadata": {},
     "output_type": "execute_result"
    }
   ],
   "source": [
    "df8=df2\n",
    "df8['Unsold Cheese Platters']=20-df8['Cheese Platters Sold']\n",
    "df8.head()"
   ]
  },
  {
   "cell_type": "code",
   "execution_count": 660,
   "metadata": {},
   "outputs": [
    {
     "data": {
      "text/html": [
       "<div>\n",
       "<style scoped>\n",
       "    .dataframe tbody tr th:only-of-type {\n",
       "        vertical-align: middle;\n",
       "    }\n",
       "\n",
       "    .dataframe tbody tr th {\n",
       "        vertical-align: top;\n",
       "    }\n",
       "\n",
       "    .dataframe thead th {\n",
       "        text-align: right;\n",
       "    }\n",
       "</style>\n",
       "<table border=\"1\" class=\"dataframe\">\n",
       "  <thead>\n",
       "    <tr style=\"text-align: right;\">\n",
       "      <th></th>\n",
       "      <th>Length of Flight (Hrs)</th>\n",
       "      <th>Passengers Boarded</th>\n",
       "      <th>Unsold Cheese Platters</th>\n",
       "      <th>Week Part_Weekday</th>\n",
       "      <th>Week Part_Weekend</th>\n",
       "      <th>Hour Class_early</th>\n",
       "      <th>Hour Class_midday</th>\n",
       "      <th>Hour Class_night</th>\n",
       "    </tr>\n",
       "  </thead>\n",
       "  <tbody>\n",
       "    <tr>\n",
       "      <td>0</td>\n",
       "      <td>1</td>\n",
       "      <td>144</td>\n",
       "      <td>2</td>\n",
       "      <td>1</td>\n",
       "      <td>0</td>\n",
       "      <td>0</td>\n",
       "      <td>1</td>\n",
       "      <td>0</td>\n",
       "    </tr>\n",
       "    <tr>\n",
       "      <td>1</td>\n",
       "      <td>3</td>\n",
       "      <td>152</td>\n",
       "      <td>5</td>\n",
       "      <td>1</td>\n",
       "      <td>0</td>\n",
       "      <td>1</td>\n",
       "      <td>0</td>\n",
       "      <td>0</td>\n",
       "    </tr>\n",
       "    <tr>\n",
       "      <td>2</td>\n",
       "      <td>2</td>\n",
       "      <td>150</td>\n",
       "      <td>4</td>\n",
       "      <td>1</td>\n",
       "      <td>0</td>\n",
       "      <td>1</td>\n",
       "      <td>0</td>\n",
       "      <td>0</td>\n",
       "    </tr>\n",
       "    <tr>\n",
       "      <td>3</td>\n",
       "      <td>2</td>\n",
       "      <td>131</td>\n",
       "      <td>7</td>\n",
       "      <td>1</td>\n",
       "      <td>0</td>\n",
       "      <td>1</td>\n",
       "      <td>0</td>\n",
       "      <td>0</td>\n",
       "    </tr>\n",
       "    <tr>\n",
       "      <td>4</td>\n",
       "      <td>6</td>\n",
       "      <td>164</td>\n",
       "      <td>2</td>\n",
       "      <td>1</td>\n",
       "      <td>0</td>\n",
       "      <td>1</td>\n",
       "      <td>0</td>\n",
       "      <td>0</td>\n",
       "    </tr>\n",
       "  </tbody>\n",
       "</table>\n",
       "</div>"
      ],
      "text/plain": [
       "   Length of Flight (Hrs)  Passengers Boarded  Unsold Cheese Platters  \\\n",
       "0                       1                 144                       2   \n",
       "1                       3                 152                       5   \n",
       "2                       2                 150                       4   \n",
       "3                       2                 131                       7   \n",
       "4                       6                 164                       2   \n",
       "\n",
       "   Week Part_Weekday  Week Part_Weekend  Hour Class_early  Hour Class_midday  \\\n",
       "0                  1                  0                 0                  1   \n",
       "1                  1                  0                 1                  0   \n",
       "2                  1                  0                 1                  0   \n",
       "3                  1                  0                 1                  0   \n",
       "4                  1                  0                 1                  0   \n",
       "\n",
       "   Hour Class_night  \n",
       "0                 0  \n",
       "1                 0  \n",
       "2                 0  \n",
       "3                 0  \n",
       "4                 0  "
      ]
     },
     "execution_count": 660,
     "metadata": {},
     "output_type": "execute_result"
    }
   ],
   "source": [
    "df8=df8[['Week Part','Hour Class','Length of Flight (Hrs)',\n",
    "       'Passengers Boarded', 'Unsold Cheese Platters']] #\n",
    "df8=pd.get_dummies(df8)\n",
    "df8.head()"
   ]
  },
  {
   "cell_type": "code",
   "execution_count": 661,
   "metadata": {},
   "outputs": [
    {
     "name": "stdout",
     "output_type": "stream",
     "text": [
      "Optimization terminated successfully.\n",
      "         Current function value: 2.810909\n",
      "         Iterations: 14\n",
      "         Function evaluations: 21\n",
      "         Gradient evaluations: 21\n"
     ]
    }
   ],
   "source": [
    "features=['Length of Flight (Hrs)','Passengers Boarded','Week Part_Weekday','Hour Class_night','Hour Class_midday']#,'Week Part_Weekend','Hour Class_early'\n",
    "X=df8[features]\n",
    "y=df8['Unsold Cheese Platters']\n",
    "\n",
    "X_train,X_test, y_train, y_test=train_test_split(X,y, test_size=0.20, random_state=42)\n",
    "\n",
    "clf = ZeroInflatedPoisson(endog = y_train,exog = X_train).fit()\n",
    "clf_predict=clf.predict(X_test, exog_infl=len(X_test))"
   ]
  },
  {
   "cell_type": "code",
   "execution_count": 662,
   "metadata": {},
   "outputs": [
    {
     "data": {
      "text/html": [
       "<table class=\"simpletable\">\n",
       "<caption>ZeroInflatedPoisson Regression Results</caption>\n",
       "<tr>\n",
       "  <th>Dep. Variable:</th>   <td>Unsold Cheese Platters</td> <th>  No. Observations:  </th>  <td>  4000</td> \n",
       "</tr>\n",
       "<tr>\n",
       "  <th>Model:</th>             <td>ZeroInflatedPoisson</td>  <th>  Df Residuals:      </th>  <td>  3995</td> \n",
       "</tr>\n",
       "<tr>\n",
       "  <th>Method:</th>                    <td>MLE</td>          <th>  Df Model:          </th>  <td>     4</td> \n",
       "</tr>\n",
       "<tr>\n",
       "  <th>Date:</th>               <td>Sun, 22 Mar 2020</td>    <th>  Pseudo R-squ.:     </th>  <td>-0.1698</td>\n",
       "</tr>\n",
       "<tr>\n",
       "  <th>Time:</th>                   <td>01:56:42</td>        <th>  Log-Likelihood:    </th> <td> -11244.</td>\n",
       "</tr>\n",
       "<tr>\n",
       "  <th>converged:</th>                <td>True</td>          <th>  LL-Null:           </th> <td> -9611.7</td>\n",
       "</tr>\n",
       "<tr>\n",
       "  <th>Covariance Type:</th>        <td>nonrobust</td>       <th>  LLR p-value:       </th>  <td> 1.000</td> \n",
       "</tr>\n",
       "</table>\n",
       "<table class=\"simpletable\">\n",
       "<tr>\n",
       "             <td></td>               <th>coef</th>     <th>std err</th>      <th>z</th>      <th>P>|z|</th>  <th>[0.025</th>    <th>0.975]</th>  \n",
       "</tr>\n",
       "<tr>\n",
       "  <th>inflate_const</th>          <td>   -1.6072</td> <td>    0.043</td> <td>  -36.993</td> <td> 0.000</td> <td>   -1.692</td> <td>   -1.522</td>\n",
       "</tr>\n",
       "<tr>\n",
       "  <th>Length of Flight (Hrs)</th> <td>    0.0682</td> <td>    0.005</td> <td>   14.681</td> <td> 0.000</td> <td>    0.059</td> <td>    0.077</td>\n",
       "</tr>\n",
       "<tr>\n",
       "  <th>Passengers Boarded</th>     <td>    0.0087</td> <td>    0.000</td> <td>   53.089</td> <td> 0.000</td> <td>    0.008</td> <td>    0.009</td>\n",
       "</tr>\n",
       "<tr>\n",
       "  <th>Week Part_Weekday</th>      <td>    0.1323</td> <td>    0.018</td> <td>    7.358</td> <td> 0.000</td> <td>    0.097</td> <td>    0.167</td>\n",
       "</tr>\n",
       "<tr>\n",
       "  <th>Hour Class_night</th>       <td>    0.1687</td> <td>    0.019</td> <td>    8.730</td> <td> 0.000</td> <td>    0.131</td> <td>    0.207</td>\n",
       "</tr>\n",
       "<tr>\n",
       "  <th>Hour Class_midday</th>      <td>   -0.1432</td> <td>    0.020</td> <td>   -7.319</td> <td> 0.000</td> <td>   -0.182</td> <td>   -0.105</td>\n",
       "</tr>\n",
       "</table>"
      ],
      "text/plain": [
       "<class 'statsmodels.iolib.summary.Summary'>\n",
       "\"\"\"\n",
       "                      ZeroInflatedPoisson Regression Results                      \n",
       "==================================================================================\n",
       "Dep. Variable:     Unsold Cheese Platters   No. Observations:                 4000\n",
       "Model:                ZeroInflatedPoisson   Df Residuals:                     3995\n",
       "Method:                               MLE   Df Model:                            4\n",
       "Date:                    Sun, 22 Mar 2020   Pseudo R-squ.:                 -0.1698\n",
       "Time:                            01:56:42   Log-Likelihood:                -11244.\n",
       "converged:                           True   LL-Null:                       -9611.7\n",
       "Covariance Type:                nonrobust   LLR p-value:                     1.000\n",
       "==========================================================================================\n",
       "                             coef    std err          z      P>|z|      [0.025      0.975]\n",
       "------------------------------------------------------------------------------------------\n",
       "inflate_const             -1.6072      0.043    -36.993      0.000      -1.692      -1.522\n",
       "Length of Flight (Hrs)     0.0682      0.005     14.681      0.000       0.059       0.077\n",
       "Passengers Boarded         0.0087      0.000     53.089      0.000       0.008       0.009\n",
       "Week Part_Weekday          0.1323      0.018      7.358      0.000       0.097       0.167\n",
       "Hour Class_night           0.1687      0.019      8.730      0.000       0.131       0.207\n",
       "Hour Class_midday         -0.1432      0.020     -7.319      0.000      -0.182      -0.105\n",
       "==========================================================================================\n",
       "\"\"\""
      ]
     },
     "execution_count": 662,
     "metadata": {},
     "output_type": "execute_result"
    }
   ],
   "source": [
    "clf.summary()"
   ]
  },
  {
   "cell_type": "code",
   "execution_count": 663,
   "metadata": {},
   "outputs": [
    {
     "name": "stdout",
     "output_type": "stream",
     "text": [
      "min predict value: 2.0\n",
      "max predict value: 9.0\n"
     ]
    },
    {
     "data": {
      "image/png": "[encoded data removed]",
      "text/plain": [
       "<Figure size 648x648 with 1 Axes>"
      ]
     },
     "metadata": {
      "needs_background": "light"
     },
     "output_type": "display_data"
    }
   ],
   "source": [
    "plt.figure(figsize=(9,9))\n",
    "\n",
    "plt.scatter(clf_predict,y_test, c='k')\n",
    "plt.xlabel('predicted Unsold Platters')\n",
    "plt.ylabel('actual Unsold Platters')\n",
    "plt.title(' Q-Q PLOT (Actual Unsold versus Predicted Unsold Platters)')\n",
    "\n",
    "plt.plot( [0, 9], [0, 14], c = 'r')\n",
    "\n",
    "print('min predict value:', np.round(clf_predict.min()))\n",
    "print('max predict value:', np.round(clf_predict.max()))"
   ]
  },
  {
   "cell_type": "code",
   "execution_count": 664,
   "metadata": {},
   "outputs": [],
   "source": [
    "clf_predict=20-clf_predict\n",
    "y_test=20-y_test"
   ]
  },
  {
   "cell_type": "code",
   "execution_count": 665,
   "metadata": {},
   "outputs": [
    {
     "name": "stdout",
     "output_type": "stream",
     "text": [
      "min predict value: 11.0\n",
      "max predict value: 18.0\n"
     ]
    },
    {
     "data": {
      "image/png": "[encoded data removed]",
      "text/plain": [
       "<Figure size 648x648 with 1 Axes>"
      ]
     },
     "metadata": {
      "needs_background": "light"
     },
     "output_type": "display_data"
    }
   ],
   "source": [
    "plt.figure(figsize=(9,9))\n",
    "\n",
    "plt.scatter(clf_predict,y_test, c='k')\n",
    "plt.xlabel('predicted Sales')\n",
    "plt.ylabel('actual Sales')\n",
    "plt.title(' Q-Q PLOT (Actual versus Predicted Sales)')\n",
    "\n",
    "plt.plot( [0, 18], [0, 20], c = 'r')\n",
    "\n",
    "print('min predict value:', np.round(clf_predict.min()))\n",
    "print('max predict value:', np.round(clf_predict.max()))"
   ]
  },
  {
   "cell_type": "code",
   "execution_count": null,
   "metadata": {},
   "outputs": [],
   "source": []
  }
 ],
 "metadata": {
  "kernelspec": {
   "display_name": "Python 3",
   "language": "python",
   "name": "python3"
  },
  "language_info": {
   "codemirror_mode": {
    "name": "ipython",
    "version": 3
   },
   "file_extension": ".py",
   "mimetype": "text/x-python",
   "name": "python",
   "nbconvert_exporter": "python",
   "pygments_lexer": "ipython3",
   "version": "3.7.4"
  }
 },
 "nbformat": 4,
 "nbformat_minor": 2
}
